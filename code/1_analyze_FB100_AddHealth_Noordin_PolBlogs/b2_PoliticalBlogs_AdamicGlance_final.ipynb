{
 "cells": [
  {
   "cell_type": "markdown",
   "metadata": {},
   "source": [
    "1/27/2018\n",
    "\n",
    "\n",
    "# Political blogs analysis\n",
    "\n",
    "## Summary\n",
    "Analysis of Adamic/Glance political blogs in terms of homophily/monophily + political prediction. Code organization assumes working directory is notebook folder location.\n"
   ]
  },
  {
   "cell_type": "code",
   "execution_count": 1,
   "metadata": {
    "collapsed": false
   },
   "outputs": [
    {
     "name": "stderr",
     "output_type": "stream",
     "text": [
      "/usr/local/lib/python2.7/site-packages/matplotlib/__init__.py:872: UserWarning: axes.color_cycle is deprecated and replaced with axes.prop_cycle; please use the latter.\n",
      "  warnings.warn(self.msg_depr % (key, alt_key))\n",
      "/Users/kristen/anaconda/lib/python2.7/site-packages/statsmodels/compat/pandas.py:56: FutureWarning: The pandas.core.datetools module is deprecated and will be removed in a future version. Please use the pandas.tseries module instead.\n",
      "  from pandas.core import datetools\n",
      "/Users/kristen/anaconda/lib/python2.7/site-packages/sklearn/cross_validation.py:44: DeprecationWarning: This module was deprecated in version 0.18 in favor of the model_selection module into which all the refactored classes and functions are moved. Also note that the interface of the new CV iterators are different from that of this module. This module will be removed in 0.20.\n",
      "  \"This module will be removed in 0.20.\", DeprecationWarning)\n"
     ]
    }
   ],
   "source": [
    "## implemented LINK with solver='lbfgs'\n",
    "from __future__ import division\n",
    "from matplotlib.backends.backend_pdf import PdfPages\n",
    "import os\n",
    "\n",
    "## relevant libraries\n",
    "execfile('../functions/python_libraries.py')\n",
    "\n",
    "## data file-path directories\n",
    "execfile('../functions/define_paths.py')\n",
    "\n",
    "## processing datasets\n",
    "execfile('../functions/create_adjacency_matrix.py') \n",
    "execfile('../functions/create_directed_adjacency_matrix.py')\n",
    "\n",
    "execfile('../functions/compute_homophily.py')\n",
    "execfile('../functions/compute_monophily.py')\n",
    "execfile('../functions/compute_homophily_p_value.py')\n",
    "## updated\n",
    "execfile('../functions/compute_chi_square.py')\n",
    "\n",
    "execfile('../functions/parsing.py')\n",
    "execfile('../functions/mixing.py')\n",
    "\n",
    "## code for gender prediction \n",
    "execfile('../functions/LINK.py')\n",
    "execfile('../functions/majority_vote.py')\n",
    "execfile('../functions/ZGL.py')\n",
    "execfile('../functions/benchmark_classifier.py')\n",
    "execfile('../functions/SI_functions/majority_vote_modified_SI.py')\n",
    "\n",
    "## gender preference distribution\n",
    "execfile('../functions/compute_null_distribution.py')"
   ]
  },
  {
   "cell_type": "markdown",
   "metadata": {},
   "source": [
    "# Load Political Blogs dataset\n",
    "* downloaded dataset from Newman site: http://www-personal.umich.edu/~mejn/netdata/\n",
    "* dataset description: Political blogs: A directed network of hyperlinks between weblogs on US politics, recorded in 2005 by Adamic and Glance. Please cite L. A. Adamic and N. Glance, \"The political blogosphere and the 2004 US Election\", in Proceedings of the WWW-2005 Workshop on the Weblogging Ecosystem (2005). Thanks to Lada Adamic for permission to post these data on this web site.\n",
    "* note that I've manually added \"multigraph 1\" into the header so networkx can recognize.\n",
    "* https://www.cise.ufl.edu/research/sparse/matrices/Newman/polblogs -- our #s match these numbers\n",
    "* and our #s also match these #s: http://moreno.ss.uci.edu/data.html#blogs"
   ]
  },
  {
   "cell_type": "code",
   "execution_count": 2,
   "metadata": {
    "collapsed": true
   },
   "outputs": [],
   "source": [
    "## set node attributes \n",
    "## error: https://groups.google.com/forum/#!topic/networkx-discuss/kF2sbuLjGwY\n",
    "## per Aric's comment -- I added \"multigraph 1\" in the header.\n",
    "nw_polblogs = nx.read_gml(pol_blogs_file_path + './data/polblogs_newman/polblogs.gml')"
   ]
  },
  {
   "cell_type": "markdown",
   "metadata": {},
   "source": [
    "### set-up network, largest connected component, ignore NA nodes, etc. like with FB100 and Add Health data processing"
   ]
  },
  {
   "cell_type": "code",
   "execution_count": 3,
   "metadata": {
    "collapsed": true
   },
   "outputs": [],
   "source": [
    "(values_undirected,adj) = create_adj_membership(nw_polblogs.to_undirected(reciprocal=False),\n",
    "                              nx.get_node_attributes(nw_polblogs, 'value'),\n",
    "                              None,\n",
    "                              'yes',\n",
    "                               0,\n",
    "                                None,\n",
    "                          'gender')"
   ]
  },
  {
   "cell_type": "code",
   "execution_count": 4,
   "metadata": {
    "collapsed": false
   },
   "outputs": [
    {
     "name": "stdout",
     "output_type": "stream",
     "text": [
      "(1222, 1222)\n"
     ]
    }
   ],
   "source": [
    "print np.shape(adj)"
   ]
  },
  {
   "cell_type": "markdown",
   "metadata": {},
   "source": [
    "## Versions of the Network to Work With:\n",
    "for main paper, we work with undirected, unweighted network; and create out- and in-directed versions of NW for SI.\n"
   ]
  },
  {
   "cell_type": "code",
   "execution_count": 5,
   "metadata": {
    "collapsed": false
   },
   "outputs": [
    {
     "name": "stdout",
     "output_type": "stream",
     "text": [
      "(1033, 1033)\n"
     ]
    }
   ],
   "source": [
    "## 2. out-directed; unweighted\n",
    "(pol_out, adj_out) = create_directed_adj_membership(nw_polblogs,\n",
    "                              nx.get_node_attributes(nw_polblogs, 'value'),\n",
    "                              None,\n",
    "                              'yes',\n",
    "                               0,\n",
    "                               'out',\n",
    "                               'gender')\n",
    "pol_out = np.array(map(np.int,pol_out))\n",
    "adj_out = (adj_out>=1)+0\n",
    "print np.shape(adj_out)"
   ]
  },
  {
   "cell_type": "code",
   "execution_count": 6,
   "metadata": {
    "collapsed": false
   },
   "outputs": [
    {
     "name": "stdout",
     "output_type": "stream",
     "text": [
      "(976, 976)\n"
     ]
    }
   ],
   "source": [
    "## 3. in-directed; unweighted\n",
    "(pol_in, adj_in) = create_directed_adj_membership(nw_polblogs,\n",
    "                              nx.get_node_attributes(nw_polblogs, 'value'),\n",
    "                              None,\n",
    "                              'yes',\n",
    "                               0,\n",
    "                               'in',\n",
    "                               'gender')\n",
    "pol_in = np.array(map(np.int,pol_in))\n",
    "adj_in = (adj_in>=1)+0\n",
    "print np.shape(adj_in)"
   ]
  },
  {
   "cell_type": "markdown",
   "metadata": {},
   "source": [
    "## Compute Homophily and Monophily Values"
   ]
  },
  {
   "cell_type": "code",
   "execution_count": 7,
   "metadata": {
    "collapsed": false
   },
   "outputs": [
    {
     "name": "stdout",
     "output_type": "stream",
     "text": [
      "[0 1]\n",
      "586\n",
      "636\n"
     ]
    }
   ],
   "source": [
    "print np.unique(values_undirected)\n",
    "print np.sum(values_undirected==0)\n",
    "print np.sum(values_undirected==1)\n",
    "#0 (left or liberal)\n",
    "#  1 (right or conservative)\n",
    "F_fb_label = 0\n",
    "M_fb_label = 1"
   ]
  },
  {
   "cell_type": "markdown",
   "metadata": {},
   "source": [
    "# homophily"
   ]
  },
  {
   "cell_type": "markdown",
   "metadata": {},
   "source": [
    "#### homophily on undirected:"
   ]
  },
  {
   "cell_type": "code",
   "execution_count": 8,
   "metadata": {
    "collapsed": true
   },
   "outputs": [],
   "source": [
    "homophily_political =  homophily_index_Jackson_alternative(adj,\n",
    "                                                           values_undirected) # observed homophily"
   ]
  },
  {
   "cell_type": "code",
   "execution_count": 9,
   "metadata": {
    "collapsed": false
   },
   "outputs": [
    {
     "data": {
      "text/plain": [
       "[0.90260740923380389, 0.90887068866074516]"
      ]
     },
     "execution_count": 9,
     "metadata": {},
     "output_type": "execute_result"
    }
   ],
   "source": [
    "homophily_political"
   ]
  },
  {
   "cell_type": "code",
   "execution_count": 10,
   "metadata": {
    "collapsed": false
   },
   "outputs": [
    {
     "name": "stdout",
     "output_type": "stream",
     "text": [
      "0.479541734861\n",
      "0.520458265139\n"
     ]
    }
   ],
   "source": [
    "print np.mean(values_undirected==0)\n",
    "print np.mean(values_undirected==1)"
   ]
  },
  {
   "cell_type": "code",
   "execution_count": 11,
   "metadata": {
    "collapsed": false
   },
   "outputs": [
    {
     "name": "stdout",
     "output_type": "stream",
     "text": [
      "[[ 0.]\n",
      " [ 0.]]\n"
     ]
    }
   ],
   "source": [
    "print homophily_intercept_p_value(adj,\n",
    "                         values_undirected)"
   ]
  },
  {
   "cell_type": "markdown",
   "metadata": {},
   "source": [
    "#### homophily on out-directed:"
   ]
  },
  {
   "cell_type": "code",
   "execution_count": 12,
   "metadata": {
    "collapsed": false
   },
   "outputs": [
    {
     "name": "stdout",
     "output_type": "stream",
     "text": [
      "[0.9269863994273444, 0.90999330805264333]\n"
     ]
    }
   ],
   "source": [
    "homophily_political_out =  homophily_index_Jackson_alternative(adj_out, \n",
    "                                                           pol_out) # observed homophily\n",
    "print homophily_political_out"
   ]
  },
  {
   "cell_type": "markdown",
   "metadata": {},
   "source": [
    "#### homophily on in-directed"
   ]
  },
  {
   "cell_type": "code",
   "execution_count": 13,
   "metadata": {
    "collapsed": false
   },
   "outputs": [
    {
     "name": "stdout",
     "output_type": "stream",
     "text": [
      "[0.90551839464882944, 0.9256216696269981]\n"
     ]
    }
   ],
   "source": [
    "homophily_political_in =  homophily_index_Jackson_alternative(adj_in, \n",
    "                                                           pol_in) # observed homophily\n",
    "print homophily_political_in"
   ]
  },
  {
   "cell_type": "markdown",
   "metadata": {},
   "source": [
    "# monophily\n",
    "\n"
   ]
  },
  {
   "cell_type": "markdown",
   "metadata": {},
   "source": [
    "#### monophily on undirected:"
   ]
  },
  {
   "cell_type": "code",
   "execution_count": 14,
   "metadata": {
    "collapsed": false
   },
   "outputs": [
    {
     "name": "stdout",
     "output_type": "stream",
     "text": [
      "[0.23068324233380158, 0.18690770001432608]\n"
     ]
    }
   ],
   "source": [
    "monophily_political = monophily_index_overdispersion_Williams(adj, \n",
    "                                                              values_undirected)\n",
    "print monophily_political ## check the possible range of values here"
   ]
  },
  {
   "cell_type": "code",
   "execution_count": 15,
   "metadata": {
    "collapsed": false
   },
   "outputs": [
    {
     "name": "stdout",
     "output_type": "stream",
     "text": [
      "[0.0, 0.0]\n"
     ]
    }
   ],
   "source": [
    "## check p-value\n",
    "## compute with p-values\n",
    "print compute_chi_square_statistic(adj, values_undirected)"
   ]
  },
  {
   "cell_type": "markdown",
   "metadata": {},
   "source": [
    "#### monophily on out-directed:"
   ]
  },
  {
   "cell_type": "code",
   "execution_count": 16,
   "metadata": {
    "collapsed": false
   },
   "outputs": [
    {
     "name": "stdout",
     "output_type": "stream",
     "text": [
      "[0.24245094931031005, 0.18729321159959025]\n"
     ]
    }
   ],
   "source": [
    "monophily_political_out = monophily_index_overdispersion_Williams(adj_out, \n",
    "                                                              pol_out)\n",
    "print monophily_political_out"
   ]
  },
  {
   "cell_type": "code",
   "execution_count": 17,
   "metadata": {
    "collapsed": false
   },
   "outputs": [
    {
     "name": "stdout",
     "output_type": "stream",
     "text": [
      "[0.0, 0.0]\n"
     ]
    }
   ],
   "source": [
    "print compute_chi_square_statistic(adj_out, pol_out)"
   ]
  },
  {
   "cell_type": "markdown",
   "metadata": {},
   "source": [
    "#### monophily on in-directed:"
   ]
  },
  {
   "cell_type": "code",
   "execution_count": 18,
   "metadata": {
    "collapsed": false
   },
   "outputs": [
    {
     "name": "stdout",
     "output_type": "stream",
     "text": [
      "[0.25487497016641913, 0.13122892264726063]\n"
     ]
    }
   ],
   "source": [
    "monophily_political_in = monophily_index_overdispersion_Williams(adj_in, \n",
    "                                                              pol_in)\n",
    "print monophily_political_in"
   ]
  },
  {
   "cell_type": "code",
   "execution_count": 19,
   "metadata": {
    "collapsed": false
   },
   "outputs": [
    {
     "name": "stdout",
     "output_type": "stream",
     "text": [
      "0.902607409234\n",
      "0.902607409234\n",
      "\n",
      "0.908870688661\n",
      "0.908870688661\n"
     ]
    }
   ],
   "source": [
    "#F\n",
    "in_F_degree = adj[values_undirected==F_fb_label,] * np.matrix((values_undirected==F_fb_label)+0).T\n",
    "total_F_degree = np.sum(adj[values_undirected==F_fb_label,] ,1)\n",
    "h_F = np.mean(in_F_degree)/np.mean(total_F_degree)\n",
    "print h_F\n",
    "print homophily_political[0]\n",
    "print ''\n",
    "#M\n",
    "in_M_degree = adj[values_undirected==M_fb_label,] * np.matrix((values_undirected==M_fb_label)+0).T\n",
    "total_M_degree = np.sum(adj[values_undirected==M_fb_label,] ,1)\n",
    "h_M = np.mean(in_M_degree)/np.mean(total_M_degree)\n",
    "print h_M\n",
    "print homophily_political[1]\n"
   ]
  },
  {
   "cell_type": "code",
   "execution_count": 20,
   "metadata": {
    "collapsed": true
   },
   "outputs": [],
   "source": [
    "n_iter = 100000\n",
    "d_iF = map(np.int,np.array(total_F_degree.T)[0])\n",
    "\n",
    "mc_F = []\n",
    "for j in range(n_iter):\n",
    "    mc_F.append( np.random.binomial(n=map(np.int,np.array(total_F_degree.T)[0]), p=h_F)/d_iF)\n",
    "    \n",
    "mc_F_final = np.array(mc_F).flatten()\n",
    "\n",
    "total_M_degree = np.sum(adj[values_undirected==M_fb_label,] ,1)\n",
    "d_iM = map(np.int,np.array(total_M_degree.T)[0])\n",
    "\n",
    "\n",
    "mc_M = []\n",
    "for j in range(n_iter):\n",
    "    mc_M.append( np.random.binomial(n=map(np.int,np.array(total_M_degree.T)[0]), p=h_M)/d_iM)\n",
    "    \n",
    "mc_M_final = np.array(mc_M).flatten()"
   ]
  },
  {
   "cell_type": "code",
   "execution_count": 21,
   "metadata": {
    "collapsed": false
   },
   "outputs": [
    {
     "data": {
      "image/png": "[encoded data removed]",
      "text/plain": [
       "<matplotlib.figure.Figure at 0x12fc40390>"
      ]
     },
     "metadata": {},
     "output_type": "display_data"
    }
   ],
   "source": [
    "alpha_empirical = 0.4\n",
    "y_max = 20\n",
    "%matplotlib inline\n",
    "nbins = 35\n",
    "f, (ax1, ax2) = plt.subplots(1, 2, \n",
    "                             sharey=False, sharex=False,\n",
    "                            figsize=(8, 3))\n",
    "plt.setp(ax1, \n",
    "         xticks=[0,0.25, 0.5, 0.75, 1], \n",
    "         xticklabels=['0', '0.25', '0.50', '0.75', '1'])\n",
    "ax1.set_xticks([0,0.25, 0.5, 0.75, 1])\n",
    "ax1.minorticks_on()\n",
    "ax1.tick_params('both', length=4, width=1, which='major', left=1, bottom=1, top=0, right=0)\n",
    "\n",
    "\n",
    "ax1.hist(in_F_degree/total_F_degree,\n",
    "         bins = np.linspace(0,1,nbins),\n",
    "         normed = True,\n",
    "         edgecolor = 'white',\n",
    "         color='red',\n",
    "         alpha=0.25)\n",
    "\n",
    "ax1.hist(mc_F_final,\n",
    "         bins = np.linspace(0,1,nbins),\n",
    "         normed = True,\n",
    "         edgecolor = 'red',histtype='step',\n",
    "         color='white',alpha=1,lw=1.5)\n",
    "\n",
    "ax1.set_ylabel('Normalized Frequency')\n",
    "ax1.set_xlabel('Proportion of $in$-class neighbors, $d_{i,\\\\mathrm{in}}/d_i$')\n",
    "ax1.spines[\"right\"].set_visible(False)\n",
    "ax1.spines[\"top\"].set_visible(False)\n",
    "ax1.set_ylim(0,y_max)\n",
    "ax1.set_xlim(0,1.01)\n",
    "\n",
    "ax2.set_ylim(0,y_max)\n",
    "ax2.set_xlim(0,1.01)\n",
    "plt.setp(ax2, xticks=[0,0.25, 0.5, 0.75, 1], xticklabels=['0', '0.25', '0.50', '0.75', '1'])\n",
    "ax2.set_xticks([0,0.25, 0.5, 0.75, 1])\n",
    "ax2.minorticks_on()\n",
    "ax2.tick_params('both', length=4, width=1, which='major', left=1, bottom=1, top=0, right=0)\n",
    "\n",
    "ax2.hist(in_M_degree/total_M_degree,\n",
    "         bins = np.linspace(0,1,nbins),\n",
    "         normed = True,\n",
    "         edgecolor = 'white',\n",
    "        color='black',alpha=0.25)\n",
    "ax2.hist(mc_M_final,\n",
    "         bins = np.linspace(0,1,nbins),\n",
    "         normed = True,\n",
    "         edgecolor = 'black',histtype='step',\n",
    "        color='white',alpha=1,lw=1.5)\n",
    "ax2.spines[\"right\"].set_visible(False)\n",
    "ax2.spines[\"top\"].set_visible(False)\n",
    "ax2.set_xlabel('Proportion of $in$-class Neighbors, $d_{i,\\\\mathrm{in}}/d_i$')\n",
    "ax2.set_ylabel('Normalized Frequency')\n",
    "\n",
    "ax1.annotate('Liberal Null', xy=(0.05,19), \n",
    "                 color='red', alpha=1, size=12)\n",
    "ax1.annotate('Liberal Empirical', xy=(0.05,17.8), \n",
    "                 color='red', alpha=alpha_empirical, size=12)\n",
    "ax2.annotate('Conservative Null', xy=(0.05,19), \n",
    "                 color='black', alpha=1, size=12)\n",
    "ax2.annotate('Conservative Empirical', xy=(0.05,17.8), \n",
    "                 color='black', alpha=alpha_empirical, size=12)\n",
    "plt.tight_layout()\n",
    "pp = PdfPages('../../figures/pol_blogs_proportion_degree_same_on_undirected.pdf')\n",
    "pp.savefig()\n",
    "pp.close()"
   ]
  },
  {
   "cell_type": "code",
   "execution_count": null,
   "metadata": {
    "collapsed": true
   },
   "outputs": [],
   "source": []
  },
  {
   "cell_type": "markdown",
   "metadata": {},
   "source": [
    "# %changeAUC@khop Plot"
   ]
  },
  {
   "cell_type": "code",
   "execution_count": 22,
   "metadata": {
    "collapsed": true
   },
   "outputs": [],
   "source": [
    "k_hop = np.array([1,2,3,4,5])\n",
    "class_values = np.unique(values_undirected)"
   ]
  },
  {
   "cell_type": "code",
   "execution_count": 23,
   "metadata": {
    "collapsed": false
   },
   "outputs": [
    {
     "name": "stdout",
     "output_type": "stream",
     "text": [
      "1\n",
      "2\n",
      "3\n",
      "4\n",
      "5\n"
     ]
    }
   ],
   "source": [
    "auc_array = []\n",
    "for k in k_hop:  \n",
    "    print k\n",
    "    adj_amherst_k= np.matrix(adj)**k\n",
    "    adj_amherst_k[range(adj_amherst_k.shape[0]),range(adj_amherst_k.shape[0])]=0 ## remove self-loops\n",
    "                              \n",
    "    mv_g1 = (adj_amherst_k[values_undirected==class_values[0],:] * np.matrix((values_undirected==class_values[0])+0).T)/np.sum(adj_amherst_k[values_undirected==class_values[0],:],1)\n",
    "    mv_g2 = (adj_amherst_k[values_undirected==class_values[1],:] * np.matrix((values_undirected==class_values[1])+0).T)/np.sum(adj_amherst_k[values_undirected==class_values[1],:],1)\n",
    "    proportion_majority_same = np.mean(np.concatenate((np.array(mv_g1).T[0]>np.mean(values_undirected==class_values[0]),\n",
    "                                                                       np.array(mv_g2).T[0]>np.mean(values_undirected==class_values[1]))))\n",
    "\n",
    "    y_score = np.array(np.concatenate((1-mv_g1,mv_g2))).T[0]\n",
    "    y_test = np.concatenate((np.repeat(class_values[0],len(mv_g1)),\n",
    "                                             np.repeat(class_values[1],len(mv_g2))))\n",
    "\n",
    "    auc_score = sklearn.metrics.roc_auc_score(label_binarize(y_test, np.unique(y_test)),\n",
    "                                    y_score)\n",
    "    auc_array.append(auc_score)"
   ]
  },
  {
   "cell_type": "code",
   "execution_count": 24,
   "metadata": {
    "collapsed": false
   },
   "outputs": [
    {
     "name": "stdout",
     "output_type": "stream",
     "text": [
      "[0.96794840835426199, 0.97408746002103586, 0.97275795822869038, 0.97254062292055732, 0.9725245240088437]\n"
     ]
    }
   ],
   "source": [
    "print auc_array"
   ]
  },
  {
   "cell_type": "code",
   "execution_count": 25,
   "metadata": {
    "collapsed": false
   },
   "outputs": [
    {
     "data": {
      "image/png": "[encoded data removed]",
      "text/plain": [
       "<matplotlib.figure.Figure at 0x16b12c350>"
      ]
     },
     "metadata": {},
     "output_type": "display_data"
    }
   ],
   "source": [
    "%matplotlib inline\n",
    "from matplotlib.ticker import FixedLocator,LinearLocator,MultipleLocator, FormatStrFormatter\n",
    "\n",
    "fig = plt.figure()\n",
    "seaborn.set_style(style='white')\n",
    "from mpl_toolkits.axes_grid1 import Grid\n",
    "grid = Grid(fig, rect=111, nrows_ncols=(1,1),\n",
    "            axes_pad=0.1, label_mode='L')\n",
    "for i in range(4):\n",
    "    if i == 0:\n",
    "        grid[i].xaxis.set_major_locator(FixedLocator([1,2,3,4,5]))\n",
    "        grid[i].yaxis.set_major_locator(FixedLocator([0.3,0.4, 0.5,0.6,0.7,0.8,0.9,1]))\n",
    "\n",
    "        grid[i].plot(k_hop,\n",
    "           auc_array, color = 'black')\n",
    "        grid[i].scatter(k_hop,\n",
    "           auc_array, color = 'black')\n",
    "\n",
    "        grid[i].set_xlim(0.9,5.1)\n",
    "        grid[i].set_ylim(0.25,1.01)\n",
    "\n",
    "        grid[i].spines['right'].set_visible(False)\n",
    "        grid[i].spines['top'].set_visible(False)\n",
    "        grid[i].tick_params(axis='both', which='major', labelsize=13)\n",
    "        grid[i].tick_params(axis='both', which='minor', labelsize=13)\n",
    "        grid[i].set_xlabel('Neighborhood Distance from Ego Node')\n",
    "        grid[i].set_ylabel('AUC at Neighborhood Distance')\n",
    "\n",
    "grid[0].set_xticks([1,2,3,4,5])\n",
    "grid[0].set_yticks([ 0.3,0.4, 0.5,0.6,0.7,0.8,0.9,1])\n",
    "\n",
    "\n",
    "grid[0].minorticks_on()\n",
    "grid[0].tick_params('both', length=4, width=1, which='major', left=1, bottom=1, top=0, right=0)\n",
    "pp = PdfPages('../../figures/khop_vs_AUC_pol_blogs_NHB_figure_python.pdf')\n",
    "pp.savefig()\n",
    "pp.close()\n",
    "plt.show()\n"
   ]
  },
  {
   "cell_type": "markdown",
   "metadata": {},
   "source": [
    "# Prediction Set-Up\n",
    "Link, 1-hop MV, 2-hop MV, ZGL"
   ]
  },
  {
   "cell_type": "markdown",
   "metadata": {},
   "source": [
    "## LINK Logistic Regression"
   ]
  },
  {
   "cell_type": "code",
   "execution_count": 26,
   "metadata": {
    "collapsed": true
   },
   "outputs": [],
   "source": [
    "percent_initially_unlabelled = [0.95,0.9,0.8,0.7,0.6,0.5,0.4,0.3,0.2,0.1,0.05,0.01]\n",
    "percent_initially_labelled = np.subtract(1, percent_initially_unlabelled)"
   ]
  },
  {
   "cell_type": "code",
   "execution_count": 27,
   "metadata": {
    "collapsed": true
   },
   "outputs": [],
   "source": [
    "n_iter = 100"
   ]
  },
  {
   "cell_type": "code",
   "execution_count": 28,
   "metadata": {
    "collapsed": true
   },
   "outputs": [],
   "source": [
    "from sklearn.metrics import f1_score"
   ]
  },
  {
   "cell_type": "code",
   "execution_count": 29,
   "metadata": {
    "collapsed": false
   },
   "outputs": [
    {
     "name": "stdout",
     "output_type": "stream",
     "text": [
      "0.95\n",
      "0.9\n",
      "0.8\n",
      "0.7\n",
      "0.6\n",
      "0.5\n",
      "0.4\n",
      "0.3\n",
      "0.2\n",
      "0.1\n",
      "0.05\n",
      "0.01\n"
     ]
    }
   ],
   "source": [
    "(mean_accuracy_amherst, se_accuracy_amherst, \n",
    " mean_micro_auc_amherst, se_micro_auc_amherst, \n",
    " mean_wt_auc_amherst_lbfgs, se_wt_auc_amherst) = LINK(percent_initially_unlabelled, ## note: mean_se_model assumes a vector of x% initially labeled\n",
    "                                                              np.array(values_undirected), ## gender labels \n",
    "                                                              adj,#nx.adj_matrix(nw_polblogs_undirected,\n",
    "                                                                           #nodelist = nw_polblogs_undirected.nodes()).todense(),#np.array(nx.adj_matrix(nw_polblogs_undirected).todense()), ## adjacency matrix\n",
    "                                                              clf = linear_model.LogisticRegression(penalty='l2',\n",
    "                                                                                                    fit_intercept = False,\n",
    "                                                                                                    solver='lbfgs',\n",
    "                                                                                                    C=1),num_iter=n_iter)"
   ]
  },
  {
   "cell_type": "markdown",
   "metadata": {},
   "source": [
    "## Baseline Classifier"
   ]
  },
  {
   "cell_type": "code",
   "execution_count": 30,
   "metadata": {
    "collapsed": false
   },
   "outputs": [
    {
     "name": "stdout",
     "output_type": "stream",
     "text": [
      "0.95\n",
      "0.9\n",
      "0.8\n",
      "0.7\n",
      "0.6\n",
      "0.5\n",
      "0.4\n",
      "0.3\n",
      "0.2\n",
      "0.1\n",
      "0.05\n",
      "0.01\n"
     ]
    }
   ],
   "source": [
    "(mean_wt_auc_baseline_amherst, se_wt_auc_baseline_amherst) = random_classifier(adj,#np.array(nx.adj_matrix(nw_polblogs_undirected,\n",
    "                                                                              #                      nodelist = nw_polblogs_undirected.nodes()).todense()),\n",
    "                                                                             np.array(values_undirected),\n",
    "                                                                            percent_initially_unlabelled,\n",
    "                                                                             num_iter=n_iter)"
   ]
  },
  {
   "cell_type": "markdown",
   "metadata": {},
   "source": [
    "## 1-hop MV"
   ]
  },
  {
   "cell_type": "code",
   "execution_count": 31,
   "metadata": {
    "collapsed": false
   },
   "outputs": [
    {
     "name": "stdout",
     "output_type": "stream",
     "text": [
      "0.95\n",
      "0.9\n",
      "0.8\n",
      "0.7\n",
      "0.6\n",
      "0.5\n",
      "0.4\n",
      "0.3\n",
      "0.2\n",
      "0.1\n",
      "0.05\n",
      "0.01\n"
     ]
    },
    {
     "name": "stderr",
     "output_type": "stream",
     "text": [
      "/Users/kristen/anaconda/lib/python2.7/site-packages/ipykernel/__main__.py:41: RuntimeWarning: invalid value encountered in true_divide\n"
     ]
    }
   ],
   "source": [
    "(mean_accuracy_mv_amherst, se_accuracy_mv_amherst, \n",
    " mean_micro_auc_mv_amherst, se_micro_auc_mv_amherst, \n",
    " mean_wt_auc_mv_amherst, se_wt_auc_mv_amherst) =majority_vote_modified(percent_initially_unlabelled,  \n",
    "                                                                np.array(values_undirected), \n",
    "                                                                adj,#np.array(nx.adj_matrix(nw_polblogs_undirected,\n",
    "                                                                                      #nodelist = nw_polblogs_undirected.nodes()).todense()),#nx.adj_matrix(nw_polblogs_undirected).todense(), \n",
    "                                                                       num_iter=n_iter)"
   ]
  },
  {
   "cell_type": "code",
   "execution_count": 32,
   "metadata": {
    "collapsed": false
   },
   "outputs": [
    {
     "name": "stdout",
     "output_type": "stream",
     "text": [
      "0.95\n",
      "0.9\n",
      "0.8\n",
      "0.7\n",
      "0.6\n",
      "0.5\n",
      "0.4\n",
      "0.3\n",
      "0.2\n",
      "0.1\n",
      "0.05\n",
      "0.01\n"
     ]
    },
    {
     "name": "stderr",
     "output_type": "stream",
     "text": [
      "/Users/kristen/anaconda/lib/python2.7/site-packages/ipykernel/__main__.py:41: RuntimeWarning: invalid value encountered in true_divide\n"
     ]
    }
   ],
   "source": [
    "## SI figures\n",
    "(mean_accuracy_mv_amherst_SI, se_accuracy_mv_amherst_SI, \n",
    " mean_micro_auc_mv_amherst_SI, se_micro_auc_mv_amherst_SI, \n",
    " mean_wt_auc_mv_amherst_SI, se_wt_auc_mv_amherst_SI,\n",
    " mean_accuracy_mv_amherstF_SI, se_accuracy_mv_amherstF_SI,\n",
    " mean_accuracy_mv_amherstM_SI, se_accuracy_mv_amherstM_SI) =majority_vote_modified_SI(percent_initially_unlabelled,  \n",
    "                                                                np.array(values_undirected), \n",
    "                                                                adj, \n",
    "                                                                       num_iter=n_iter)"
   ]
  },
  {
   "cell_type": "markdown",
   "metadata": {},
   "source": [
    "## 2-hop MV"
   ]
  },
  {
   "cell_type": "code",
   "execution_count": 33,
   "metadata": {
    "collapsed": true
   },
   "outputs": [],
   "source": [
    "adj_amherst2 = np.matrix(adj)**2\n",
    "adj_amherst2[range(adj_amherst2.shape[0]),range(adj_amherst2.shape[0])]=0 ## remove self-loops"
   ]
  },
  {
   "cell_type": "code",
   "execution_count": 34,
   "metadata": {
    "collapsed": false
   },
   "outputs": [
    {
     "name": "stdout",
     "output_type": "stream",
     "text": [
      "0.95\n",
      "0.9\n",
      "0.8\n",
      "0.7\n",
      "0.6\n",
      "0.5\n",
      "0.4\n",
      "0.3\n",
      "0.2\n",
      "0.1\n",
      "0.05\n",
      "0.01\n"
     ]
    },
    {
     "name": "stderr",
     "output_type": "stream",
     "text": [
      "/Users/kristen/anaconda/lib/python2.7/site-packages/ipykernel/__main__.py:41: RuntimeWarning: invalid value encountered in true_divide\n"
     ]
    }
   ],
   "source": [
    "(mean_accuracy_mv2_amherst2, se_accuracy_mv2_amherst2, \n",
    " mean_micro_auc_mv2_amherst2,se_micro_auc_mv2_amherst2, \n",
    " mean_wt_auc_mv2_amherst2,se_wt_auc_mv2_amherst2) =majority_vote_modified(percent_initially_unlabelled,  \n",
    "                                                                np.array(values_undirected), \n",
    "                                                                adj_amherst2,#np.array(adj_amherst2), \n",
    "                                                                num_iter=n_iter)\n"
   ]
  },
  {
   "cell_type": "code",
   "execution_count": 35,
   "metadata": {
    "collapsed": false
   },
   "outputs": [
    {
     "name": "stdout",
     "output_type": "stream",
     "text": [
      "0.95\n",
      "0.9\n",
      "0.8\n",
      "0.7\n",
      "0.6\n",
      "0.5\n",
      "0.4\n",
      "0.3\n",
      "0.2\n",
      "0.1\n",
      "0.05\n",
      "0.01\n"
     ]
    },
    {
     "name": "stderr",
     "output_type": "stream",
     "text": [
      "/Users/kristen/anaconda/lib/python2.7/site-packages/ipykernel/__main__.py:41: RuntimeWarning: invalid value encountered in true_divide\n"
     ]
    }
   ],
   "source": [
    "## SI figures\n",
    "(mean_accuracy_mv2_amherst_SI, se_accuracy_mv2_amherst_SI, \n",
    " mean_micro_auc_mv2_amherst_SI, se_micro_auc_mv2_amherst_SI, \n",
    " mean_wt_auc_mv2_amherst_SI, se_wt_auc_mv2_amherst_SI,\n",
    " mean_accuracy_mv2_amherstF_SI, se_accuracy_mv2_amherstF_SI,\n",
    " mean_accuracy_mv2_amherstM_SI, se_accuracy_mv2_amherstM_SI) = majority_vote_modified_SI(percent_initially_unlabelled,  \n",
    "                                                                np.array(values_undirected), \n",
    "                                                                np.array(adj_amherst2), \n",
    "                                                                       num_iter=n_iter)\n",
    "\n"
   ]
  },
  {
   "cell_type": "markdown",
   "metadata": {},
   "source": [
    "## ZGL"
   ]
  },
  {
   "cell_type": "code",
   "execution_count": 36,
   "metadata": {
    "collapsed": false
   },
   "outputs": [
    {
     "name": "stdout",
     "output_type": "stream",
     "text": [
      "0.95\n",
      "0.9\n",
      "0.8\n",
      "0.7\n",
      "0.6\n",
      "0.5\n",
      "0.4\n",
      "0.3\n",
      "0.2\n",
      "0.1\n",
      "0.05\n",
      "0.01\n"
     ]
    }
   ],
   "source": [
    "(mean_accuracy_zgl_amherst, se_accuracy_zgl_amherst, \n",
    " mean_micro_auc_zgl_amherst, se_micro_auc_zgl_amherst, \n",
    " mean_wt_auc_zgl_amherst, se_wt_auc_zgl_amherst) = ZGL_finalized(adj,\n",
    "                                    np.array(values_undirected),percent_initially_unlabelled, \n",
    "                                    num_iter=n_iter)"
   ]
  },
  {
   "cell_type": "code",
   "execution_count": 37,
   "metadata": {
    "collapsed": false
   },
   "outputs": [
    {
     "data": {
      "image/png": "[encoded data removed]",
      "text/plain": [
       "<matplotlib.figure.Figure at 0x12022f5d0>"
      ]
     },
     "metadata": {},
     "output_type": "display_data"
    }
   ],
   "source": [
    "%matplotlib inline\n",
    "from matplotlib.ticker import FixedLocator,LinearLocator,MultipleLocator, FormatStrFormatter\n",
    "\n",
    "fig = plt.figure()\n",
    "seaborn.set_style(style='white')\n",
    "from mpl_toolkits.axes_grid1 import Grid\n",
    "grid = Grid(fig, rect=111, nrows_ncols=(1,1),\n",
    "            axes_pad=0.1, label_mode='L')\n",
    "for i in range(4):\n",
    "    if i == 0:\n",
    "        grid[i].xaxis.set_major_locator(FixedLocator([0,25,50,75,100]))\n",
    "        grid[i].yaxis.set_major_locator(FixedLocator([0.4, 0.5,0.6,0.7,0.8,0.9,1.2]))\n",
    "\n",
    "        grid[i].errorbar(percent_initially_labelled*100, mean_wt_auc_amherst_lbfgs, \n",
    "            yerr=se_wt_auc_amherst, fmt='--o', capthick=2,\n",
    "            alpha=1, elinewidth=3, color='black')\n",
    "        grid[i].errorbar(percent_initially_labelled*100, mean_wt_auc_zgl_amherst,\n",
    "            yerr=se_wt_auc_zgl_amherst, fmt='--o', capthick=2,\n",
    "            alpha=1, elinewidth=3, color='orange')\n",
    "        grid[i].errorbar(percent_initially_labelled*100, mean_wt_auc_mv_amherst,\n",
    "            yerr=se_wt_auc_mv_amherst, fmt='--o', capthick=2,\n",
    "            alpha=1, elinewidth=3, color='red')\n",
    "        grid[i].errorbar(percent_initially_labelled*100, mean_wt_auc_mv2_amherst2, \n",
    "            yerr=se_wt_auc_mv2_amherst2, fmt='--o', capthick=2,\n",
    "                alpha=1, elinewidth=3, color='maroon')\n",
    "        \n",
    "        grid[i].errorbar(percent_initially_labelled*100, mean_wt_auc_baseline_amherst, \n",
    "            yerr=se_wt_auc_baseline_amherst, fmt='--o', capthick=2,\n",
    "           alpha=1, elinewidth=3, color='gray')\n",
    "        \n",
    "        grid[i].set_ylim(0.3,1.5)\n",
    "        grid[i].set_xlim(-0.01,105)\n",
    "        grid[i].set_ylim(0.25,1.03)\n",
    "\n",
    "        grid[i].spines['right'].set_visible(False)\n",
    "        grid[i].spines['top'].set_visible(False)\n",
    "        grid[i].tick_params(axis='both', which='major', labelsize=13)\n",
    "        grid[i].tick_params(axis='both', which='minor', labelsize=13)\n",
    "        grid[i].set_xlabel('Percent of Nodes Initially Labeled')\n",
    "        grid[i].set_ylabel('AUC')\n",
    "\n",
    "grid[0].set_xticks([0,25, 50, 75, 100])\n",
    "grid[0].set_yticks([0.3, 0.4, 0.5,0.6,0.7,0.8,0.9,1])#,1.05])\n",
    "grid[0].minorticks_on()\n",
    "grid[0].tick_params('both', length=4, width=1, which='major', left=1, bottom=1, top=0, right=0)\n",
    "pp = PdfPages('../../figures/pol_blogs_link_2hop_1hop.pdf')\n",
    "pp.savefig()\n",
    "pp.close()"
   ]
  },
  {
   "cell_type": "code",
   "execution_count": 40,
   "metadata": {
    "collapsed": false
   },
   "outputs": [
    {
     "data": {
      "image/png": "[encoded data removed]",
      "text/plain": [
       "<matplotlib.figure.Figure at 0x11b2ead10>"
      ]
     },
     "metadata": {},
     "output_type": "display_data"
    }
   ],
   "source": [
    "%matplotlib inline\n",
    "from matplotlib.ticker import FixedLocator,LinearLocator,MultipleLocator, FormatStrFormatter\n",
    "\n",
    "fig = plt.figure(figsize=(6.69291/2,2.5), dpi = 300)\n",
    "text_size = 8\n",
    "axis_text = 8\n",
    "tick_label_size = 7\n",
    "msize = 5\n",
    "pad = 0\n",
    "seaborn.set_style(style='white')\n",
    "from mpl_toolkits.axes_grid1 import Grid\n",
    "grid = Grid(fig, rect=111, nrows_ncols=(1,1),\n",
    "            axes_pad=1, label_mode='L')\n",
    "for i in range(4):\n",
    "    if i == 0:\n",
    "        grid[i].xaxis.set_major_locator(FixedLocator([0,25,50,75,100]))\n",
    "        grid[i].yaxis.set_major_locator(FixedLocator([0.4, 0.5,0.6,0.7,0.8,0.9,1.2]))\n",
    "\n",
    "        grid[i].errorbar(percent_initially_labelled*100, mean_wt_auc_amherst_lbfgs, \n",
    "            yerr=se_wt_auc_amherst, fmt='--o', capthick=2,\n",
    "            alpha=1, elinewidth=3, color='black', markersize=msize)\n",
    "        grid[i].errorbar(percent_initially_labelled*100, mean_wt_auc_zgl_amherst,\n",
    "            yerr=se_wt_auc_zgl_amherst, fmt='--o', capthick=2,\n",
    "            alpha=1, elinewidth=3, color='orange', markersize=msize)\n",
    "        grid[i].errorbar(percent_initially_labelled*100, mean_wt_auc_mv_amherst,\n",
    "            yerr=se_wt_auc_mv_amherst, fmt='--o', capthick=2,\n",
    "            alpha=1, elinewidth=3, color='red', markersize=msize)\n",
    "        grid[i].errorbar(percent_initially_labelled*100, mean_wt_auc_mv2_amherst2, \n",
    "            yerr=se_wt_auc_mv2_amherst2, fmt='--o', capthick=2,\n",
    "                alpha=1, elinewidth=3, color='maroon', markersize=msize)\n",
    "        \n",
    "        grid[i].errorbar(percent_initially_labelled*100, mean_wt_auc_baseline_amherst, \n",
    "            yerr=se_wt_auc_baseline_amherst, fmt='--o', capthick=2,\n",
    "           alpha=1, elinewidth=3, color='gray', markersize=msize)\n",
    "        \n",
    "        grid[i].set_ylim(0.25,1.05)\n",
    "        grid[i].set_xlim(0,102)\n",
    "        grid[i].spines['right'].set_visible(False)\n",
    "        grid[i].spines['top'].set_visible(False)\n",
    "        grid[i].spines[\"left\"].set_linewidth(0.75)\n",
    "        grid[i].spines[\"bottom\"].set_linewidth(0.75)\n",
    "        #grid[i].tick_params('both', length=2, width=0.5, which='major', \n",
    "        #        pad = 3.5,labelsize = axis_text)\n",
    "        grid[i].tick_params(axis='both', which='major', labelsize=axis_text,\n",
    "                           length = 0.1,\n",
    "                           width = 0.5)\n",
    "        grid[i].tick_params(axis='both', which='minor', labelsize=axis_text)\n",
    "        grid[i].set_xlabel('Percent of Nodes Initially Labeled', size = axis_text,labelpad = pad)\n",
    "        grid[i].set_ylabel('AUC', size = axis_text,labelpad = pad)\n",
    "\n",
    "grid[0].set_xticks([0,25, 50, 75, 100])\n",
    "grid[0].set_yticks([0.3, 0.4, 0.5,0.6,0.7,0.8,0.9,1])\n",
    "grid[0].minorticks_on()\n",
    "grid[0].tick_params('both', length=4, width=1, which='major', left=1, bottom=1, top=0, right=0)\n",
    "plt.tight_layout()\n",
    "pp = PdfPages('../../figures/pol_blogs_link_2hop_1hop_NHB.pdf')\n",
    "pp.savefig(dpi = 300)\n",
    "pp.close()"
   ]
  },
  {
   "cell_type": "code",
   "execution_count": 41,
   "metadata": {
    "collapsed": false
   },
   "outputs": [
    {
     "data": {
      "image/png": "[encoded data removed]",
      "text/plain": [
       "<matplotlib.figure.Figure at 0x168c3ef10>"
      ]
     },
     "metadata": {},
     "output_type": "display_data"
    }
   ],
   "source": [
    "%matplotlib inline\n",
    "from matplotlib.ticker import FixedLocator,LinearLocator,MultipleLocator, FormatStrFormatter\n",
    "\n",
    "fig = plt.figure(figsize=(6.69291/2,2.5), dpi = 300)\n",
    "text_size = 8\n",
    "axis_text = 8\n",
    "tick_label_size = 7\n",
    "msize = 5\n",
    "pad = 0\n",
    "seaborn.set_style(style='white')\n",
    "from mpl_toolkits.axes_grid1 import Grid\n",
    "grid = Grid(fig, rect=111, nrows_ncols=(1,1),\n",
    "            axes_pad=1, label_mode='L')\n",
    "for i in range(4):\n",
    "    if i == 0:\n",
    "        grid[i].xaxis.set_major_locator(FixedLocator([0,25,50,75,100]))\n",
    "        grid[i].yaxis.set_major_locator(FixedLocator([0.4, 0.5,0.6,0.7,0.8,0.9,1.2]))\n",
    "\n",
    "        grid[i].errorbar(percent_initially_labelled*100, mean_wt_auc_amherst_lbfgs, \n",
    "            yerr=se_wt_auc_amherst, fmt='--o', capthick=2,\n",
    "            alpha=1, elinewidth=3, color='black', markersize=msize)\n",
    "        grid[i].errorbar(percent_initially_labelled*100, mean_wt_auc_zgl_amherst,\n",
    "            yerr=se_wt_auc_zgl_amherst, fmt='--o', capthick=2,\n",
    "            alpha=1, elinewidth=3, color='orange', markersize=msize)\n",
    "        grid[i].errorbar(percent_initially_labelled*100, mean_wt_auc_mv_amherst,\n",
    "            yerr=se_wt_auc_mv_amherst, fmt='--o', capthick=2,\n",
    "            alpha=1, elinewidth=3, color='red', markersize=msize)\n",
    "        grid[i].errorbar(percent_initially_labelled*100, mean_wt_auc_mv2_amherst2, \n",
    "            yerr=se_wt_auc_mv2_amherst2, fmt='--o', capthick=2,\n",
    "                alpha=1, elinewidth=3, color='maroon', markersize=msize)\n",
    "        \n",
    "        grid[i].errorbar(percent_initially_labelled*100, mean_wt_auc_baseline_amherst, \n",
    "            yerr=se_wt_auc_baseline_amherst, fmt='--o', capthick=2,\n",
    "           alpha=1, elinewidth=3, color='gray', markersize=msize)\n",
    "        \n",
    "        grid[i].set_ylim(0.25,1.05)\n",
    "        grid[i].set_xlim(0,102)\n",
    "        grid[i].spines['right'].set_visible(False)\n",
    "        grid[i].spines['top'].set_visible(False)\n",
    "        grid[i].spines[\"left\"].set_linewidth(0.75)\n",
    "        grid[i].spines[\"bottom\"].set_linewidth(0.75)\n",
    "        #grid[i].tick_params('both', length=2, width=0.5, which='major', \n",
    "        #        pad = 3.5,labelsize = axis_text)\n",
    "        grid[i].tick_params(axis='both', which='major', labelsize=axis_text,\n",
    "                           length = 0.1,\n",
    "                           width = 0.5)\n",
    "        grid[i].tick_params(axis='both', which='minor', labelsize=axis_text)\n",
    "        grid[i].set_xlabel('Percent of Nodes Initially Labeled', size = axis_text,labelpad = pad)\n",
    "        grid[i].set_ylabel('AUC', size = axis_text,labelpad = pad)\n",
    "\n",
    "grid[0].set_xticks([0,25, 50, 75, 100])\n",
    "grid[0].set_yticks([0.3, 0.4, 0.5,0.6,0.7,0.8,0.9,1])\n",
    "grid[0].minorticks_on()\n",
    "grid[0].set_title('Political Blogs', size = text_size)\n",
    "\n",
    "\n",
    "grid[0].tick_params('both', length=4, width=1, which='major', left=1, bottom=1, top=0, right=0)\n",
    "plt.tight_layout()\n",
    "pp = PdfPages('../../figures/pol_blogs_link_2hop_1hop_NHB_title.pdf')\n",
    "pp.savefig(dpi = 300)\n",
    "pp.close()"
   ]
  },
  {
   "cell_type": "code",
   "execution_count": null,
   "metadata": {
    "collapsed": true
   },
   "outputs": [],
   "source": []
  },
  {
   "cell_type": "code",
   "execution_count": null,
   "metadata": {
    "collapsed": true
   },
   "outputs": [],
   "source": []
  },
  {
   "cell_type": "code",
   "execution_count": null,
   "metadata": {
    "collapsed": true
   },
   "outputs": [],
   "source": []
  },
  {
   "cell_type": "code",
   "execution_count": null,
   "metadata": {
    "collapsed": true
   },
   "outputs": [],
   "source": []
  },
  {
   "cell_type": "code",
   "execution_count": null,
   "metadata": {
    "collapsed": true
   },
   "outputs": [],
   "source": []
  },
  {
   "cell_type": "code",
   "execution_count": 38,
   "metadata": {
    "collapsed": false
   },
   "outputs": [
    {
     "data": {
      "image/png": "[encoded data removed]",
      "text/plain": [
       "<matplotlib.figure.Figure at 0x11ec55d10>"
      ]
     },
     "metadata": {},
     "output_type": "display_data"
    }
   ],
   "source": [
    "%matplotlib inline\n",
    "from matplotlib.ticker import FixedLocator,LinearLocator,MultipleLocator, FormatStrFormatter\n",
    "\n",
    "fig = plt.figure()\n",
    "seaborn.set_style(style='white')\n",
    "from mpl_toolkits.axes_grid1 import Grid\n",
    "grid = Grid(fig, rect=111, nrows_ncols=(1,1),\n",
    "            axes_pad=0.1, label_mode='L')\n",
    "for i in range(4):\n",
    "    if i == 0:\n",
    "        grid[i].xaxis.set_major_locator(FixedLocator([0,25,50,75,100]))\n",
    "        grid[i].yaxis.set_major_locator(FixedLocator([0.4, 0.5,0.6,0.7,0.8,0.9,1]))\n",
    "\n",
    "        #grid[i].errorbar(percent_initially_labelled*100, mean_accuracy_amherst, \n",
    "        #    yerr=se_accuracy_amherst, fmt='--o', capthick=2,\n",
    "        #    alpha=0.6, elinewidth=3, color='black')\n",
    "\n",
    "        grid[i].errorbar(percent_initially_labelled*100, mean_accuracy_mv_amherst,\n",
    "            yerr=se_accuracy_mv_amherst, fmt='--o', capthick=2,\n",
    "            alpha=0.6, elinewidth=3, color='red')\n",
    "        grid[i].errorbar(percent_initially_labelled*100, mean_accuracy_mv2_amherst2, \n",
    "            yerr=se_accuracy_mv2_amherst2, fmt='--o', capthick=2,\n",
    "                alpha=0.6, elinewidth=3, color='maroon')\n",
    "        \n",
    "        #grid[i].errorbar(percent_initially_labelled*100, mean_wt_auc_baseline_amherst, \n",
    "        #    yerr=se_wt_auc_baseline_amherst, fmt='--o', capthick=2,\n",
    "        #   alpha=0.6, elinewidth=3, color='gray')\n",
    "        \n",
    "        grid[i].set_ylim(0.3,1.1)\n",
    "        grid[i].set_xlim(0,101)\n",
    "        #grid[i].set_xlim(0,10)\n",
    "        #grid[i].annotate('LINK', xy=(3, 0.77), \n",
    "        #         color='black', alpha=1, size=12)\n",
    "        grid[i].annotate('2-hop MV', xy=(3, 0.99), \n",
    "                 color='maroon', alpha=1, size=12)\n",
    "        grid[i].annotate('1-hop MV', xy=(3, 0.96), \n",
    "                 color='red', alpha=1, size=12)\n",
    "        \n",
    "        #grid[i].annotate('ZGL', xy=(3, 0.90), \n",
    "        #         color='orange', alpha=1, size=12)\n",
    "        #grid[i].annotate('Baseline', xy=(3, 0.68), \n",
    "        #         color='gray', alpha=1, size=12)\n",
    "        grid[i].set_ylim(0.49,1.01)\n",
    "        #grid[i].set_xlim(0,100)\n",
    "        grid[i].spines['right'].set_visible(False)\n",
    "        grid[i].spines['top'].set_visible(False)\n",
    "        grid[i].tick_params(axis='both', which='major', labelsize=13)\n",
    "        grid[i].tick_params(axis='both', which='minor', labelsize=13)\n",
    "        grid[i].set_xlabel('Percent of Nodes Initially Labeled')\n",
    "        grid[i].set_ylabel('Accuracy')\n",
    "        grid[i].set_title('Political Blogs, undirected')\n",
    "\n",
    "#plt.setp(ax1, xticks=[0,25, 50, 75, 100], xticklabels=['0', '25', '50', '75', '100'])\n",
    "grid[0].set_xticks([0,25, 50, 75, 100])\n",
    "grid[0].set_yticks([ 0.4, 0.5,0.6,0.7,0.8,0.9,1])\n",
    "\n",
    "\n",
    "grid[0].minorticks_on()\n",
    "grid[0].tick_params('both', length=4, width=1, which='major', left=1, bottom=1, top=0, right=0)\n",
    "\n",
    "pp = PdfPages('../../figures/pol_blogs_link_2hop_1hop_accuracy_niter_'+str(n_iter)+'.pdf')\n",
    "pp.savefig()\n",
    "pp.close()"
   ]
  },
  {
   "cell_type": "code",
   "execution_count": null,
   "metadata": {
    "collapsed": true
   },
   "outputs": [],
   "source": []
  }
 ],
 "metadata": {
  "kernelspec": {
   "display_name": "Python 2",
   "language": "python",
   "name": "python2"
  },
  "language_info": {
   "codemirror_mode": {
    "name": "ipython",
    "version": 2
   },
   "file_extension": ".py",
   "mimetype": "text/x-python",
   "name": "python",
   "nbconvert_exporter": "python",
   "pygments_lexer": "ipython2",
   "version": "2.7.12"
  }
 },
 "nbformat": 4,
 "nbformat_minor": 2
}
