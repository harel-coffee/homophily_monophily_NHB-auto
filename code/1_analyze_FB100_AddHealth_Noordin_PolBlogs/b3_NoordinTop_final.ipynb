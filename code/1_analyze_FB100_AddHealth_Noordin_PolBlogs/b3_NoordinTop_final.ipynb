{
 "cells": [
  {
   "cell_type": "markdown",
   "metadata": {},
   "source": [
    "12/12/2017\n",
    "\n",
    "# Noordin Top analysis\n",
    "\n",
    "## Summary\n",
    "This notebook sets-up the Noordin dataset (where edges can be defined in different ways such as educational colleagues, communication ties, kinship ties, business & finance affiliation, etc.) -- and the aim is to predict the \"Noordin's Network\" binary attribute -- as described here: https://www.dropbox.com/s/knq19mjbnu4wxnh/Noordin%20Subset%20Codebook.pdf?dl=0\n",
    "\n",
    "Predicting: \"8) Noordin’s Network: An individual is considered a member of Noordin’s splinter group (Tanzim Qaedat al-Jihad – Organization for the Basis of Jihad), as opposed to simply being linked, if the individual knowingly participated in a Noordin-led operation during any stage, he or she is explicitly stated as a member of Noordin’s inner circle, and/or he or she is tied to Noordin through kinship or friendship. 0. Non-member 1. Member\"\n",
    "\n",
    "Code organization assumes working directory is notebook folder location."
   ]
  },
  {
   "cell_type": "code",
   "execution_count": 13,
   "metadata": {},
   "outputs": [],
   "source": [
    "## implemented LINK with solver='lbfgs'\n",
    "from __future__ import division\n",
    "from matplotlib.backends.backend_pdf import PdfPages\n",
    "import os\n",
    "import openpyxl as px\n",
    "\n",
    "## relevant libraries\n",
    "execfile('../functions/python_libraries.py')\n",
    "\n",
    "## processing datasets\n",
    "execfile('../functions/create_adjacency_matrix.py') \n",
    "execfile('../functions/create_directed_adjacency_matrix.py')\n",
    "execfile('../functions/compute_homophily.py')\n",
    "execfile('../functions/compute_homophily_p_value.py')\n",
    "execfile('../functions/compute_monophily.py')\n",
    "execfile('../functions/compute_chi_square.py')\n",
    "execfile('../functions/parsing.py')\n",
    "execfile('../functions/mixing.py')\n",
    "\n",
    "## code for gender prediction \n",
    "execfile('../functions/LINK_finalized.py')\n",
    "execfile('../functions/majority_vote.py')\n",
    "execfile('../functions/majority_vote_modified.py')\n",
    "execfile('../functions/benchmark_classifier.py')\n",
    "execfile('../functions/ZGL.py')\n",
    "execfile('../functions/SI_functions/majority_vote_modified_SI.py')\n",
    "\n",
    "## gender preference distribution\n",
    "execfile('../functions/compute_null_distribution.py')"
   ]
  },
  {
   "cell_type": "code",
   "execution_count": 14,
   "metadata": {},
   "outputs": [
    {
     "name": "stdout",
     "output_type": "stream",
     "text": [
      "2.7.13\n",
      "1.14.0\n"
     ]
    }
   ],
   "source": [
    "import platform\n",
    "print platform.python_version()\n",
    "print np.__version__"
   ]
  },
  {
   "cell_type": "markdown",
   "metadata": {},
   "source": [
    "## set data directory paths"
   ]
  },
  {
   "cell_type": "code",
   "execution_count": 15,
   "metadata": {
    "collapsed": true
   },
   "outputs": [],
   "source": [
    "noordin_file_path = '/Users/kristen/Dropbox/gender_graph_data/noordin/'\n",
    "noordin_file_path = '/Users/jugander/Dropbox/research/GenderGraph/noordin/'"
   ]
  },
  {
   "cell_type": "markdown",
   "metadata": {},
   "source": [
    "# The Noordin Top Terrorist Network\n",
    "* set-up Noordin member prediction with different link types for relationships such as classmates, business affiliation, communication, etc.\n",
    "* dataset obtained: https://sites.google.com/site/sfeverton18/research/appendix-1"
   ]
  },
  {
   "cell_type": "markdown",
   "metadata": {},
   "source": [
    "### communication network"
   ]
  },
  {
   "cell_type": "code",
   "execution_count": 17,
   "metadata": {},
   "outputs": [],
   "source": [
    "edge_type = '3 Communications'\n",
    "communication_nw_tmp = pd.read_excel(noordin_file_path + 'Noordin Subset.xlsx', \n",
    "                                     sheetname = edge_type)"
   ]
  },
  {
   "cell_type": "code",
   "execution_count": 18,
   "metadata": {},
   "outputs": [
    {
     "data": {
      "text/plain": [
       "(79, 79)"
      ]
     },
     "execution_count": 18,
     "metadata": {},
     "output_type": "execute_result"
    }
   ],
   "source": [
    "np.shape(communication_nw_tmp)"
   ]
  },
  {
   "cell_type": "code",
   "execution_count": 19,
   "metadata": {},
   "outputs": [],
   "source": [
    "noordin_communication_nw = nx.from_numpy_matrix(np.matrix(communication_nw_tmp))"
   ]
  },
  {
   "cell_type": "code",
   "execution_count": 20,
   "metadata": {},
   "outputs": [],
   "source": [
    "## import noordin member attribute\n",
    "attribute_df = pd.read_excel(noordin_file_path +'Noordin Subset.xlsx', \n",
    "                            sheetname ='13 Attributes' )\n"
   ]
  },
  {
   "cell_type": "markdown",
   "metadata": {},
   "source": [
    "### rename node IDs with person name"
   ]
  },
  {
   "cell_type": "code",
   "execution_count": 21,
   "metadata": {},
   "outputs": [],
   "source": [
    "remap_nodes = create_dict(range(len(np.array(communication_nw_tmp.index))),\n",
    "                          np.array(communication_nw_tmp.index))\n",
    "H=nx.relabel_nodes(noordin_communication_nw,remap_nodes)"
   ]
  },
  {
   "cell_type": "code",
   "execution_count": 22,
   "metadata": {},
   "outputs": [],
   "source": [
    "## spot-check the node ordering\n",
    "names_in_H = []\n",
    "for j in range(len(H.nodes())):\n",
    "    names_in_H.append( H.nodes(data = True)[j][0])\n",
    "    "
   ]
  },
  {
   "cell_type": "markdown",
   "metadata": {},
   "source": [
    "### add attribute value for individual name and indicator for whether member of Noordin's network"
   ]
  },
  {
   "cell_type": "code",
   "execution_count": 23,
   "metadata": {
    "collapsed": true
   },
   "outputs": [],
   "source": [
    "#from collections import OrderedDict\n",
    "def create_dict(key, obj):\n",
    "    return(dict([(key[i], obj[i]) for i in range(len(key)) ]))"
   ]
  },
  {
   "cell_type": "code",
   "execution_count": 24,
   "metadata": {},
   "outputs": [
    {
     "name": "stdout",
     "output_type": "stream",
     "text": [
      "\n",
      "[u'Abu Dujanah' u'Abu Fida' u'Achmad Hasan' u'Adung' u'Agus Ahmad'\n",
      " u'Ahmad Rofiq Ridho' u'Ali Ghufron' u'Anif Solchanudin' u'Apuy'\n",
      " u'Asmar Latin Sani' u'Azhari Husin' u'Baharudin Soleh' u'Chandra'\n",
      " u'Cholily' u'Dani Chandra' u'Enceng Kurnia' u'Hambali' u'Hari Kuncoro'\n",
      " u'Heri Golun' u'Heri Sigu Samboja' u'Imam Bukhori' u'Iqbal Huseini'\n",
      " u'Irun Hidayat' u'Ismail' u'Iwan Dharmawan' u'Jabir' u'Joko Triharmanto'\n",
      " u'Joni Achmad Fauzan' u'Misno' u'Mohamed Ihsan' u'Mohamed Rais'\n",
      " u'Munfiatun' u'Noordin Mohammed Top' u'Purnama Putra' u'Qotadah'\n",
      " u'Salik Firdaus' u'Sardona Siliwangi' u'Son Hadi' u'Subur Sugiarto'\n",
      " u'Suramto' u'Tohir' u'Toni Togar' u'Ubeid' u'Umar' u'Umar Patek' u'Urwah'\n",
      " u'Usman bin Sef']\n"
     ]
    }
   ],
   "source": [
    "node_noordin = create_dict(np.array(attribute_df['Noordin\\'s Network'].index),\n",
    "                           np.array(attribute_df['Noordin\\'s Network']))\n",
    "print ''\n",
    "## verify list of Noordin Top members\n",
    "print np.sort(np.array(node_noordin.keys())[np.array(node_noordin.values())==1])"
   ]
  },
  {
   "cell_type": "code",
   "execution_count": 25,
   "metadata": {},
   "outputs": [],
   "source": [
    "(noordin, adj)=create_adj_membership(graph=H, \n",
    "                              dictionary=node_noordin,  \n",
    "                              val_to_drop=999,\n",
    "                              delete_na_cols='yes', \n",
    "                              diagonal=0, \n",
    "                              directed_type=None, \n",
    "                              attribute='noordin')"
   ]
  },
  {
   "cell_type": "code",
   "execution_count": 26,
   "metadata": {
    "collapsed": true
   },
   "outputs": [],
   "source": [
    "adj_amherst2= np.matrix(adj)**2\n",
    "adj_amherst2[range(adj_amherst2.shape[0]),range(adj_amherst2.shape[0])]=0 ## remove self-loops"
   ]
  },
  {
   "cell_type": "markdown",
   "metadata": {},
   "source": [
    "# %same@khop Plot\n",
    "for k=1,2,...,5"
   ]
  },
  {
   "cell_type": "code",
   "execution_count": 27,
   "metadata": {},
   "outputs": [],
   "source": [
    "class_values = np.sort(np.unique(noordin))\n",
    "k_hop = np.array([1,2,3,4,5])\n"
   ]
  },
  {
   "cell_type": "code",
   "execution_count": 28,
   "metadata": {},
   "outputs": [
    {
     "name": "stdout",
     "output_type": "stream",
     "text": [
      "1\n",
      "2\n",
      "3\n",
      "4\n",
      "5\n"
     ]
    }
   ],
   "source": [
    "prop_same_array = []\n",
    "for k in k_hop:  \n",
    "    print k\n",
    "    adj_amherst_k= np.matrix(adj)**k\n",
    "    adj_amherst_k[range(adj_amherst_k.shape[0]),range(adj_amherst_k.shape[0])]=0 ## remove self-loops\n",
    "                              \n",
    "    mv_g1 = (adj_amherst_k[noordin==class_values[0],:] * np.matrix((noordin==class_values[0])+0).T)/np.sum(adj_amherst_k[noordin==class_values[0],:],1)\n",
    "    mv_g2 = (adj_amherst_k[noordin==class_values[1],:] * np.matrix((noordin==class_values[1])+0).T)/np.sum(adj_amherst_k[noordin==class_values[1],:],1)\n",
    "    proportion_majority_same = np.mean(np.concatenate((np.array(mv_g1).T[0]>np.mean(noordin==class_values[0]),\n",
    "                                                                       np.array(mv_g2).T[0]>np.mean(noordin==class_values[1]))))\n",
    "    prop_same_array.append( proportion_majority_same)\n",
    "\n"
   ]
  },
  {
   "cell_type": "code",
   "execution_count": 29,
   "metadata": {},
   "outputs": [
    {
     "data": {
      "text/plain": [
       "[0.8918918918918919,\n",
       " 0.7567567567567568,\n",
       " 0.6756756756756757,\n",
       " 0.6621621621621622,\n",
       " 0.6351351351351351]"
      ]
     },
     "execution_count": 29,
     "metadata": {},
     "output_type": "execute_result"
    }
   ],
   "source": [
    "prop_same_array"
   ]
  },
  {
   "cell_type": "code",
   "execution_count": null,
   "metadata": {
    "collapsed": true
   },
   "outputs": [],
   "source": []
  },
  {
   "cell_type": "code",
   "execution_count": 30,
   "metadata": {},
   "outputs": [
    {
     "name": "stdout",
     "output_type": "stream",
     "text": [
      "1\n",
      "2\n",
      "3\n",
      "4\n",
      "5\n"
     ]
    }
   ],
   "source": [
    "auc_array = []\n",
    "for k in k_hop:  \n",
    "    print k\n",
    "    adj_amherst_k= np.matrix(adj)**k\n",
    "    adj_amherst_k[range(adj_amherst_k.shape[0]),range(adj_amherst_k.shape[0])]=0 ## remove self-loops\n",
    "                              \n",
    "    mv_g1 = (adj_amherst_k[noordin==class_values[0],:] * np.matrix((noordin==class_values[0])+0).T)/np.sum(adj_amherst_k[noordin==class_values[0],:],1)\n",
    "    mv_g2 = (adj_amherst_k[noordin==class_values[1],:] * np.matrix((noordin==class_values[1])+0).T)/np.sum(adj_amherst_k[noordin==class_values[1],:],1)\n",
    "    proportion_majority_same = np.mean(np.concatenate((np.array(mv_g1).T[0]>np.mean(noordin==class_values[0]),\n",
    "                                                                       np.array(mv_g2).T[0]>np.mean(noordin==class_values[1]))))\n",
    "\n",
    "    y_score = np.array(np.concatenate((1-mv_g1,mv_g2))).T[0]\n",
    "    y_test = np.concatenate((np.repeat(class_values[0],len(mv_g1)),\n",
    "                                             np.repeat(class_values[1],len(mv_g2))))\n",
    "\n",
    "    auc_score = sklearn.metrics.roc_auc_score(label_binarize(y_test, np.unique(y_test)),\n",
    "                                    y_score)\n",
    "    auc_array.append(auc_score)"
   ]
  },
  {
   "cell_type": "code",
   "execution_count": 31,
   "metadata": {},
   "outputs": [
    {
     "data": {
      "image/png": "[encoded data removed]",
      "text/plain": [
       "<matplotlib.figure.Figure at 0x10cf79a10>"
      ]
     },
     "metadata": {},
     "output_type": "display_data"
    }
   ],
   "source": [
    "%matplotlib inline\n",
    "from matplotlib.ticker import FixedLocator,LinearLocator,MultipleLocator, FormatStrFormatter\n",
    "\n",
    "fig = plt.figure()\n",
    "seaborn.set_style(style='white')\n",
    "from mpl_toolkits.axes_grid1 import Grid\n",
    "grid = Grid(fig, rect=111, nrows_ncols=(1,1),\n",
    "            axes_pad=0.1, label_mode='L')\n",
    "for i in range(4):\n",
    "    if i == 0:\n",
    "        grid[i].xaxis.set_major_locator(FixedLocator([1,2,3,4,5]))\n",
    "        grid[i].yaxis.set_major_locator(FixedLocator([0.3,0.4, 0.5,0.6,0.7,0.8,0.9,1]))\n",
    "\n",
    "        grid[i].plot(k_hop,\n",
    "           auc_array, color = 'black')\n",
    "        grid[i].scatter(k_hop,\n",
    "           auc_array, color = 'black')\n",
    "\n",
    "        grid[i].set_xlim(0.9,5.1)\n",
    "        grid[i].set_ylim(0.25,1.01)\n",
    "\n",
    "        grid[i].spines['right'].set_visible(False)\n",
    "        grid[i].spines['top'].set_visible(False)\n",
    "        grid[i].tick_params(axis='both', which='major', labelsize=13)\n",
    "        grid[i].tick_params(axis='both', which='minor', labelsize=13)\n",
    "        grid[i].set_xlabel('Neighborhood Distance from Ego Node')\n",
    "        grid[i].set_ylabel('AUC at Neighborhood Distance')\n",
    "\n",
    "grid[0].set_xticks([1,2,3,4,5])\n",
    "grid[0].set_yticks([ 0.3,0.4, 0.5,0.6,0.7,0.8,0.9,1])\n",
    "\n",
    "\n",
    "grid[0].minorticks_on()\n",
    "grid[0].tick_params('both', length=4, width=1, which='major', left=1, bottom=1, top=0, right=0)\n",
    "pp = PdfPages('../../figures/khop_vs_raw_AUC_noordin_NHB_figure_python.pdf')\n",
    "pp.savefig()\n",
    "pp.close()\n",
    "plt.show()\n"
   ]
  },
  {
   "cell_type": "markdown",
   "metadata": {},
   "source": [
    "## baseline homophily \n",
    "ie relative class proportions"
   ]
  },
  {
   "cell_type": "code",
   "execution_count": 32,
   "metadata": {},
   "outputs": [
    {
     "name": "stdout",
     "output_type": "stream",
     "text": [
      "0.36486486486486486\n",
      "0.6351351351351351\n"
     ]
    }
   ],
   "source": [
    "print np.mean(noordin==0)\n",
    "print np.mean(noordin==1)"
   ]
  },
  {
   "cell_type": "code",
   "execution_count": 33,
   "metadata": {},
   "outputs": [
    {
     "name": "stdout",
     "output_type": "stream",
     "text": [
      "27\n",
      "47\n"
     ]
    }
   ],
   "source": [
    "print np.sum(noordin==0)\n",
    "print np.sum(noordin==1)"
   ]
  },
  {
   "cell_type": "markdown",
   "metadata": {},
   "source": [
    "## homophily index for: non-member ( == 0) and member ( == 1)"
   ]
  },
  {
   "cell_type": "code",
   "execution_count": 34,
   "metadata": {},
   "outputs": [
    {
     "name": "stdout",
     "output_type": "stream",
     "text": [
      "0.36486486486486486\n",
      "27\n",
      "0.6351351351351351\n",
      "47\n",
      "\n",
      "[0.5454545454545455, 0.891640866873065]\n"
     ]
    }
   ],
   "source": [
    "print np.mean(noordin==0)\n",
    "print np.sum(noordin==0)\n",
    "print np.mean(noordin==1)\n",
    "print np.sum(noordin==1)\n",
    "print ''\n",
    "h = homophily_index_Jackson_alternative(adj,\n",
    "                                   noordin)\n",
    "print h"
   ]
  },
  {
   "cell_type": "markdown",
   "metadata": {},
   "source": [
    "#### homophily p-values"
   ]
  },
  {
   "cell_type": "code",
   "execution_count": 35,
   "metadata": {},
   "outputs": [
    {
     "name": "stdout",
     "output_type": "stream",
     "text": [
      "[0.54545455]\n",
      "[0.89164087]\n"
     ]
    }
   ],
   "source": [
    "## quick spot-check\n",
    "print np.exp(homophily_intercept(adj,\n",
    "                         noordin)[0])/(1+np.exp(homophily_intercept(adj,\n",
    "                         noordin)[0]))\n",
    "print np.exp(homophily_intercept(adj,\n",
    "                         noordin)[1])/(1+np.exp(homophily_intercept(adj,\n",
    "                         noordin)[1]))"
   ]
  },
  {
   "cell_type": "code",
   "execution_count": 36,
   "metadata": {},
   "outputs": [
    {
     "name": "stdout",
     "output_type": "stream",
     "text": [
      "[[4.25671393e-01]\n",
      " [5.29993219e-32]]\n"
     ]
    }
   ],
   "source": [
    "print homophily_intercept_p_value(adj,\n",
    "                         noordin)"
   ]
  },
  {
   "cell_type": "markdown",
   "metadata": {},
   "source": [
    "## monophily index for: non-member ( == 0) and member ( == 1)"
   ]
  },
  {
   "cell_type": "code",
   "execution_count": 38,
   "metadata": {},
   "outputs": [
    {
     "name": "stdout",
     "output_type": "stream",
     "text": [
      "[0.0, 0.016793862633199]\n"
     ]
    }
   ],
   "source": [
    "m = monophily_index_overdispersion_Williams(adj,\n",
    "                                       noordin)\n",
    "print m"
   ]
  },
  {
   "cell_type": "markdown",
   "metadata": {},
   "source": [
    "#### determine significance of overdispersion"
   ]
  },
  {
   "cell_type": "code",
   "execution_count": 39,
   "metadata": {},
   "outputs": [
    {
     "name": "stdout",
     "output_type": "stream",
     "text": [
      "[0.7897156148368175, 0.3085587968795772]\n"
     ]
    }
   ],
   "source": [
    "## compute with p-values\n",
    "print compute_chi_square_statistic(adj, noordin)"
   ]
  },
  {
   "cell_type": "code",
   "execution_count": 40,
   "metadata": {},
   "outputs": [
    {
     "name": "stdout",
     "output_type": "stream",
     "text": [
      "27\n",
      "47\n"
     ]
    }
   ],
   "source": [
    "print np.sum(noordin == 0)\n",
    "print np.sum(noordin == 1)\n"
   ]
  },
  {
   "cell_type": "code",
   "execution_count": 41,
   "metadata": {},
   "outputs": [],
   "source": [
    "deg_same_0 = adj[noordin ==0,:] * np.matrix(noordin==0).T\n",
    "total_0 = np.sum(adj[noordin ==0,:],1)\n",
    "deg_same_1 = adj[noordin ==1,:] * np.matrix(noordin==1).T\n",
    "total_1 = np.sum(adj[noordin ==1,:],1)"
   ]
  },
  {
   "cell_type": "code",
   "execution_count": 42,
   "metadata": {
    "collapsed": true
   },
   "outputs": [],
   "source": [
    "n_iter = 100000\n",
    "d_iF = map(np.int,np.array(total_0))\n",
    "\n",
    "mc_F = []\n",
    "for j in range(n_iter):\n",
    "    mc_F.append( np.random.binomial(n=map(np.int,np.array(total_0)), p=h[0])/d_iF)\n",
    "    \n",
    "mc_F_final = np.array(mc_F).flatten()\n",
    "\n",
    "\n",
    "d_iM = map(np.int,np.array(total_1))\n",
    "mc_M = []\n",
    "for j in range(n_iter):\n",
    "    mc_M.append( np.random.binomial(n=map(np.int,np.array(total_1)), p=h[1])/d_iM)\n",
    "    \n",
    "mc_M_final = np.array(mc_M).flatten()"
   ]
  },
  {
   "cell_type": "code",
   "execution_count": 43,
   "metadata": {},
   "outputs": [
    {
     "data": {
      "image/png": "[encoded data removed]",
      "text/plain": [
       "<matplotlib.figure.Figure at 0x10cf3eb10>"
      ]
     },
     "metadata": {},
     "output_type": "display_data"
    }
   ],
   "source": [
    "alpha_empirical = 0.4\n",
    "\n",
    "%matplotlib inline\n",
    "nbins = 25\n",
    "f, (ax1, ax2) = plt.subplots(1, 2, \n",
    "                             sharey=False, sharex=False,\n",
    "                            figsize=(8, 3))\n",
    "plt.setp(ax1, xticks=[0,0.25, 0.5, 0.75, 1], xticklabels=['0', '0.25', '0.50', '0.75', '1'])\n",
    "ax1.set_xticks([0,0.25, 0.5, 0.75, 1])\n",
    "ax1.minorticks_on()\n",
    "ax1.tick_params('both', length=4, width=1, which='major', left=1, bottom=1, top=0, right=0)\n",
    "\n",
    "\n",
    "ax1.hist(deg_same_0/total_0,\n",
    "         bins = np.linspace(0,1,nbins),\n",
    "         normed = True,\n",
    "         edgecolor = 'white',\n",
    "        color='red',alpha=0.25)\n",
    "\n",
    "ax1.hist(mc_F_final,\n",
    "         bins = np.linspace(0,1,nbins),\n",
    "         normed = True,\n",
    "         edgecolor = 'red',histtype='step',\n",
    "        color='white',alpha=1,lw=1.5)\n",
    "\n",
    "ax1.set_ylabel('Normalized Frequency')\n",
    "ax1.set_xlabel('Proportion of $in$-class neighbors, $d_{i,\\\\mathrm{in}}/d_i$')\n",
    "ax1.spines[\"right\"].set_visible(False)\n",
    "ax1.spines[\"top\"].set_visible(False)\n",
    "ax1.set_ylim(0,16)\n",
    "\n",
    "ax1.set_xlim(0,1.01)\n",
    "#ax1.set_title('Non-Noordin')\n",
    "\n",
    "\n",
    "ax2.set_ylim(0,16)\n",
    "ax2.set_xlim(0,1.01)\n",
    "plt.setp(ax2, xticks=[0,0.25, 0.5, 0.75, 1], xticklabels=['0', '0.25', '0.50', '0.75', '1'])\n",
    "ax2.set_xticks([0,0.25, 0.5, 0.75, 1])\n",
    "ax2.minorticks_on()\n",
    "ax2.tick_params('both', length=4, width=1, which='major', left=1, bottom=1, top=0, right=0)\n",
    "\n",
    "\n",
    "ax2.hist(deg_same_1/total_1,\n",
    "         bins = np.linspace(0,1,nbins),\n",
    "         normed = True,\n",
    "         edgecolor = 'white',\n",
    "        color='black',alpha=0.25)\n",
    "ax2.hist(mc_M_final,\n",
    "         bins = np.linspace(0,1,nbins),\n",
    "         normed = True,\n",
    "         edgecolor = 'black',histtype='step',\n",
    "        color='white',alpha=1,lw=1.5)\n",
    "ax2.spines[\"right\"].set_visible(False)\n",
    "ax2.spines[\"top\"].set_visible(False)\n",
    "ax2.set_xlabel('Proportion of $in$-class Neighbors, $d_{i,\\\\mathrm{in}}/d_i$')\n",
    "ax2.set_ylabel('Normalized Frequency')\n",
    "#ax2.set_title('Noordin')\n",
    "\n",
    "\n",
    "ax1.annotate('Non-Noordin Null', xy=(0.05,7.9), \n",
    "                 color='red', alpha=1, size=12)\n",
    "ax1.annotate('Non-Noordin Empirical', xy=(0.05,7), \n",
    "                 color='red', alpha=alpha_empirical, size=12)\n",
    "#ax1.annotate('\\phi='+np.str(m[0]), xy=(0.05,6.5), \n",
    "#                 color='red', size=12)\n",
    "ax2.annotate('Noordin Null', xy=(0.05,7.9), \n",
    "                 color='black', alpha=1, size=12)\n",
    "ax2.annotate('Noordin Empirical', xy=(0.05,7), \n",
    "                 color='black', alpha=alpha_empirical, size=12)\n",
    "#ax2.annotate('\\phi='+np.str(m[1]), xy=(0.05,6.5), \n",
    "#                 color='black',  size=12)\n",
    "plt.tight_layout()\n",
    "pp = PdfPages( '../../figures/noordin_degree_same.pdf')\n",
    "pp.savefig()\n",
    "pp.close()"
   ]
  },
  {
   "cell_type": "markdown",
   "metadata": {},
   "source": [
    "## prediction set-up"
   ]
  },
  {
   "cell_type": "code",
   "execution_count": 44,
   "metadata": {
    "collapsed": true
   },
   "outputs": [],
   "source": [
    "percent_initially_unlabelled = [0.9,0.8,0.7,0.6,0.5,0.4,0.3,0.2,0.1]\n",
    "percent_initially_labelled = np.subtract(1, percent_initially_unlabelled)"
   ]
  },
  {
   "cell_type": "code",
   "execution_count": 45,
   "metadata": {
    "collapsed": true
   },
   "outputs": [],
   "source": [
    "n_iter = 100"
   ]
  },
  {
   "cell_type": "code",
   "execution_count": 46,
   "metadata": {
    "collapsed": true
   },
   "outputs": [],
   "source": [
    "from sklearn.model_selection import StratifiedKFold\n",
    "from sklearn.model_selection import StratifiedShuffleSplit\n",
    "from sklearn.model_selection import LeaveOneOut"
   ]
  },
  {
   "cell_type": "code",
   "execution_count": 47,
   "metadata": {},
   "outputs": [
    {
     "name": "stdout",
     "output_type": "stream",
     "text": [
      "0.9\n",
      "0.8\n",
      "0.7\n",
      "0.6\n",
      "0.5\n",
      "0.4\n",
      "0.3\n",
      "0.2\n",
      "0.1\n"
     ]
    }
   ],
   "source": [
    "(mean_accuracy_amherst, se_accuracy_amherst, \n",
    " mean_micro_auc_amherst, se_micro_auc_amherst, \n",
    " mean_wt_auc_amherst_lbfgs, se_wt_auc_amherst) = LINK(percent_initially_unlabelled, ## note: mean_se_model assumes a vector of x% initially labeled\n",
    "                                                              np.array(noordin), ## gender labels \n",
    "                                                              adj,#np.matrix(adj), ## adjacency matrix\n",
    "                                                              clf = linear_model.LogisticRegression(penalty='l2',\n",
    "                                                                                                    solver='lbfgs',\n",
    "                                                                                                    C=1)\n",
    "                                                                                                    ,num_iter=n_iter,\n",
    "                                                                                                cv_setup= 'stratified')"
   ]
  },
  {
   "cell_type": "code",
   "execution_count": 48,
   "metadata": {},
   "outputs": [
    {
     "name": "stdout",
     "output_type": "stream",
     "text": [
      "0.9\n"
     ]
    },
    {
     "name": "stderr",
     "output_type": "stream",
     "text": [
      "/Users/jugander/anaconda3/envs/ipykernel_py2/lib/python2.7/site-packages/ipykernel_launcher.py:41: RuntimeWarning: invalid value encountered in true_divide\n"
     ]
    },
    {
     "name": "stdout",
     "output_type": "stream",
     "text": [
      "0.8\n",
      "0.7\n",
      "0.6\n",
      "0.5\n",
      "0.4\n",
      "0.3\n",
      "0.2\n",
      "0.1\n"
     ]
    }
   ],
   "source": [
    "(mean_accuracy_mv_amherst, se_accuracy_mv_amherst, \n",
    " mean_micro_auc_mv_amherst, se_micro_auc_mv_amherst, \n",
    " mean_wt_auc_mv_amherst, se_wt_auc_mv_amherst) = majority_vote_modified(percent_initially_unlabelled,  \n",
    "                                                                np.array(noordin), \n",
    "                                                                adj,#np.array(adj), \n",
    "                                                                       num_iter=n_iter,\n",
    "                                                                      cv_setup= 'stratified')\n"
   ]
  },
  {
   "cell_type": "code",
   "execution_count": 49,
   "metadata": {},
   "outputs": [
    {
     "name": "stdout",
     "output_type": "stream",
     "text": [
      "0.9\n"
     ]
    },
    {
     "name": "stderr",
     "output_type": "stream",
     "text": [
      "/Users/jugander/anaconda3/envs/ipykernel_py2/lib/python2.7/site-packages/ipykernel_launcher.py:41: RuntimeWarning: invalid value encountered in true_divide\n"
     ]
    },
    {
     "name": "stdout",
     "output_type": "stream",
     "text": [
      "0.8\n",
      "0.7\n",
      "0.6\n",
      "0.5\n",
      "0.4\n",
      "0.3\n",
      "0.2\n",
      "0.1\n"
     ]
    }
   ],
   "source": [
    "## SI figures\n",
    "(mean_accuracy_mv_amherst_SI, se_accuracy_mv_amherst_SI, \n",
    " mean_micro_auc_mv_amherst_SI, se_micro_auc_mv_amherst_SI, \n",
    " mean_wt_auc_mv_amherst_SI, se_wt_auc_mv_amherst_SI,\n",
    " mean_accuracy_mv_amherstF_SI, se_accuracy_mv_amherstF_SI,\n",
    " mean_accuracy_mv_amherstM_SI, se_accuracy_mv_amherstM_SI) = majority_vote_modified_SI(percent_initially_unlabelled,  \n",
    "                                                                np.array(noordin), \n",
    "                                                                adj, \n",
    "                                                                       num_iter=n_iter,\n",
    "                                                                                    cv_setup='stratified')"
   ]
  },
  {
   "cell_type": "code",
   "execution_count": 50,
   "metadata": {},
   "outputs": [
    {
     "name": "stdout",
     "output_type": "stream",
     "text": [
      "0.9\n"
     ]
    },
    {
     "name": "stderr",
     "output_type": "stream",
     "text": [
      "/Users/jugander/anaconda3/envs/ipykernel_py2/lib/python2.7/site-packages/ipykernel_launcher.py:41: RuntimeWarning: invalid value encountered in true_divide\n"
     ]
    },
    {
     "name": "stdout",
     "output_type": "stream",
     "text": [
      "0.8\n",
      "0.7\n",
      "0.6\n",
      "0.5\n",
      "0.4\n",
      "0.3\n"
     ]
    },
    {
     "name": "stderr",
     "output_type": "stream",
     "text": [
      "/Users/jugander/anaconda3/envs/ipykernel_py2/lib/python2.7/site-packages/sklearn/metrics/classification.py:1135: UndefinedMetricWarning: F-score is ill-defined and being set to 0.0 in labels with no predicted samples.\n",
      "  'precision', 'predicted', average, warn_for)\n"
     ]
    },
    {
     "name": "stdout",
     "output_type": "stream",
     "text": [
      "0.2\n",
      "0.1\n"
     ]
    }
   ],
   "source": [
    "(mean_accuracy_mv2_amherst2, se_accuracy_mv2_amherst2, \n",
    " mean_micro_auc_mv2_amherst2,se_micro_auc_mv2_amherst2, \n",
    " mean_wt_auc_mv2_amherst2,se_wt_auc_mv2_amherst2) =majority_vote_modified(percent_initially_unlabelled,  \n",
    "                                                                np.array(noordin), \n",
    "                                                                np.array(adj_amherst2),#np.array(adj_amherst2), \n",
    "                                                                num_iter=n_iter,\n",
    "                                                                           cv_setup= 'stratified')\n"
   ]
  },
  {
   "cell_type": "code",
   "execution_count": 52,
   "metadata": {},
   "outputs": [
    {
     "name": "stdout",
     "output_type": "stream",
     "text": [
      "0.9\n"
     ]
    },
    {
     "name": "stderr",
     "output_type": "stream",
     "text": [
      "/Users/jugander/anaconda3/envs/ipykernel_py2/lib/python2.7/site-packages/ipykernel_launcher.py:41: RuntimeWarning: invalid value encountered in true_divide\n"
     ]
    },
    {
     "name": "stdout",
     "output_type": "stream",
     "text": [
      "0.8\n",
      "0.7\n",
      "0.6\n",
      "0.5\n",
      "0.4\n",
      "0.3\n",
      "0.2\n",
      "0.1\n"
     ]
    }
   ],
   "source": [
    "## SI figures\n",
    "(mean_accuracy_mv2_amherst_SI, se_accuracy_mv2_amherst_SI, \n",
    " mean_micro_auc_mv2_amherst_SI, se_micro_auc_mv2_amherst_SI, \n",
    " mean_wt_auc_mv2_amherst_SI, se_wt_auc_mv2_amherst_SI,\n",
    " mean_accuracy_mv2_amherstF_SI, se_accuracy_mv2_amherstF_SI,\n",
    " mean_accuracy_mv2_amherstM_SI, se_accuracy_mv2_amherstM_SI) = majority_vote_modified_SI(percent_initially_unlabelled,  \n",
    "                                                                np.array(noordin), \n",
    "                                                                np.array(adj_amherst2), \n",
    "                                                                       num_iter=n_iter,\n",
    "                                                                cv_setup = 'stratified')\n",
    "\n"
   ]
  },
  {
   "cell_type": "code",
   "execution_count": 53,
   "metadata": {},
   "outputs": [
    {
     "name": "stdout",
     "output_type": "stream",
     "text": [
      "0.9\n",
      "0.8\n",
      "0.7\n",
      "0.6\n",
      "0.5\n",
      "0.4\n",
      "0.3\n",
      "0.2\n",
      "0.1\n"
     ]
    }
   ],
   "source": [
    "(mean_wt_auc_baseline_amherst, se_wt_auc_baseline_amherst) = random_classifier(np.array(adj),\n",
    "                                                                             np.array(noordin),\n",
    "                                                                            percent_initially_unlabelled,\n",
    "                                                                             num_iter=n_iter,\n",
    "                                                                             cv_setup = 'stratified')"
   ]
  },
  {
   "cell_type": "code",
   "execution_count": 54,
   "metadata": {},
   "outputs": [
    {
     "name": "stdout",
     "output_type": "stream",
     "text": [
      "0.9\n",
      "0.8\n",
      "0.7\n",
      "0.6\n",
      "0.5\n",
      "0.4\n",
      "0.3\n",
      "0.2\n",
      "0.1\n"
     ]
    }
   ],
   "source": [
    "(mean_accuracy_zgl_amherst, se_accuracy_zgl_amherst, \n",
    "mean_micro_auc_zgl_amherst, se_micro_auc_zgl_amherst, \n",
    "mean_wt_auc_zgl_amherst, se_wt_auc_zgl_amherst) = ZGL_finalized(np.array(adj),#np.array(adj),\n",
    "                                    np.array(noordin),percent_initially_unlabelled, \n",
    "                                    num_iter=n_iter,\n",
    "                                        cv_setup = 'stratified')"
   ]
  },
  {
   "cell_type": "code",
   "execution_count": 55,
   "metadata": {},
   "outputs": [
    {
     "data": {
      "image/png": "[encoded data removed]",
      "text/plain": [
       "<matplotlib.figure.Figure at 0x11583b590>"
      ]
     },
     "metadata": {},
     "output_type": "display_data"
    }
   ],
   "source": [
    "%matplotlib inline\n",
    "from matplotlib.ticker import FixedLocator,LinearLocator,MultipleLocator, FormatStrFormatter\n",
    "\n",
    "fig = plt.figure()\n",
    "seaborn.set_style(style='white')\n",
    "from mpl_toolkits.axes_grid1 import Grid\n",
    "grid = Grid(fig, rect=111, nrows_ncols=(1,1),\n",
    "            axes_pad=0.1, label_mode='L')\n",
    "for i in range(4):\n",
    "    if i == 0:\n",
    "        grid[i].xaxis.set_major_locator(FixedLocator([0,25,50,75,100]))\n",
    "        grid[i].yaxis.set_major_locator(FixedLocator([0.4, 0.5,0.6,0.7,0.8,0.9,1]))\n",
    "\n",
    "        \n",
    "        \n",
    "        grid[i].errorbar(percent_initially_labelled*100, mean_wt_auc_amherst_lbfgs,\n",
    "            yerr=se_wt_auc_amherst, fmt='--o', capthick=2,\n",
    "            alpha=1, elinewidth=3, color='black')\n",
    "        \n",
    "        grid[i].errorbar(percent_initially_labelled*100, mean_wt_auc_zgl_amherst,\n",
    "            yerr=se_wt_auc_zgl_amherst, fmt='--o', capthick=2,\n",
    "            alpha=1, elinewidth=3, color='orange')\n",
    "        grid[i].errorbar(percent_initially_labelled*100, mean_wt_auc_mv_amherst,\n",
    "            yerr=se_wt_auc_mv_amherst, fmt='--o', capthick=2,\n",
    "            alpha=1, elinewidth=3, color='red')\n",
    "        grid[i].errorbar(percent_initially_labelled*100, mean_wt_auc_mv2_amherst2, \n",
    "            yerr=se_wt_auc_mv2_amherst2, fmt='--o', capthick=2,\n",
    "                alpha=1, elinewidth=3, color='maroon')\n",
    "        \n",
    "        grid[i].errorbar(percent_initially_labelled*100, mean_wt_auc_baseline_amherst, \n",
    "            yerr=se_wt_auc_baseline_amherst, fmt='--o', capthick=2,\n",
    "           alpha=1, elinewidth=3, color='gray')\n",
    "        \n",
    "        \n",
    "        grid[i].set_ylim(0.3,1.1)\n",
    "        grid[i].set_xlim(0,101)\n",
    "        #grid[i].annotate('LINK', xy=(3, 0.99), \n",
    "        #         color='black', alpha=1, size=12)\n",
    "        #grid[i].annotate('2-hop MV', xy=(3, 0.96), \n",
    "        #         color='maroon', alpha=1, size=12)\n",
    "        #grid[i].annotate('1-hop MV', xy=(3, 0.93), \n",
    "        #         color='red', alpha=1, size=12)\n",
    "        #grid[i].annotate('ZGL', xy=(3, 0.9), \n",
    "        #         color='orange', alpha=1, size=12)\n",
    "        #grid[i].annotate('Baseline', xy=(3, 0.87), \n",
    "        #         color='gray', alpha=1, size=12)\n",
    "        grid[i].set_ylim(0.25,1.03)\n",
    "        grid[i].set_xlim(0,100)\n",
    "        grid[i].spines['right'].set_visible(False)\n",
    "        grid[i].spines['top'].set_visible(False)\n",
    "        grid[i].tick_params(axis='both', which='major', labelsize=13)\n",
    "        grid[i].tick_params(axis='both', which='minor', labelsize=13)\n",
    "        grid[i].set_xlabel('Percent of Nodes Initially Labeled')\n",
    "        grid[i].set_ylabel('AUC')\n",
    "\n",
    "#plt.setp(ax1, xticks=[0,25, 50, 75, 100], xticklabels=['0', '25', '50', '75', '100'])\n",
    "grid[0].set_xticks([0,25, 50, 75, 100])\n",
    "grid[0].set_yticks([0.3, 0.4, 0.5,0.6,0.7,0.8,0.9,1])\n",
    "\n",
    "\n",
    "grid[0].minorticks_on()\n",
    "grid[0].tick_params('both', length=4, width=1, which='major', left=1, bottom=1, top=0, right=0)\n",
    "#plt.show()\n",
    "pp = PdfPages('../../figures/noordin_2hop_vs_1hop.pdf')\n",
    "\n",
    "pp.savefig()\n",
    "pp.close()"
   ]
  }
 ],
 "metadata": {
  "kernelspec": {
   "display_name": "Python 2",
   "language": "python",
   "name": "python2"
  },
  "language_info": {
   "codemirror_mode": {
    "name": "ipython",
    "version": 2
   },
   "file_extension": ".py",
   "mimetype": "text/x-python",
   "name": "python",
   "nbconvert_exporter": "python",
   "pygments_lexer": "ipython2",
   "version": "2.7.13"
  }
 },
 "nbformat": 4,
 "nbformat_minor": 2
}
