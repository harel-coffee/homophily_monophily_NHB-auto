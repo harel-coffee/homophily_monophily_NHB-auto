{
 "cells": [
  {
   "cell_type": "code",
   "execution_count": 2,
   "metadata": {
    "collapsed": false
   },
   "outputs": [],
   "source": [
    "## implemented LINK with solver='lbfgs'\n",
    "from __future__ import division\n",
    "from matplotlib.backends.backend_pdf import PdfPages\n",
    "import os\n",
    "\n",
    "## relevant libraries\n",
    "execfile('../functions/python_libraries.py')\n",
    "\n",
    "## processing datasets\n",
    "execfile('../functions/create_adjacency_matrix.py') \n",
    "execfile('../functions/create_directed_adjacency_matrix.py')\n",
    "\n",
    "\n",
    "execfile('../functions/parsing.py')\n",
    "execfile('../functions/mixing.py')\n",
    "\n",
    "## code for gender prediction \n",
    "execfile('../functions/LINK.py')\n",
    "execfile('../functions/majority_vote.py')\n",
    "\n",
    "execfile('../functions/ZGL.py')\n",
    "execfile('../functions/benchmark_classifier.py')\n",
    "execfile('../functions/SI_functions/LINK_finalized_coeff.py')\n",
    "\n",
    "## gender preference distribution\n",
    "execfile('../functions/compute_null_distribution.py')"
   ]
  },
  {
   "cell_type": "code",
   "execution_count": 3,
   "metadata": {
    "collapsed": false
   },
   "outputs": [
    {
     "name": "stdout",
     "output_type": "stream",
     "text": [
      "Amherst41\n"
     ]
    }
   ],
   "source": [
    "## load Amherst only\n",
    "\n",
    "## filename where relevant FB100 data is stored\n",
    "fb100_file = '/Users/kristen/Dropbox/gender_graph_data/FB_processing_pipeline/data/0_original/'\n",
    "\n",
    "\n",
    "for f in listdir(fb100_file):\n",
    "    if f.endswith('.mat'):\n",
    "        tag = f.replace('.mat', '')\n",
    "        if (tag == 'Amherst41'):\n",
    "            print tag\n",
    "            input_file = path_join(fb100_file, f)\n",
    "            A, metadata = parse_fb100_mat_file(input_file)\n",
    "\n",
    "            adj_matrix_tmp = A.todense()\n",
    "            gender_y_tmp = metadata[:,1] #gender\n",
    "                \n",
    "            gender_dict = create_dict(range(len(gender_y_tmp)), gender_y_tmp)\n",
    "                \n",
    "            (gender_y, adj_matrix_gender) = create_adj_membership(\n",
    "                                    nx.from_numpy_matrix(adj_matrix_tmp), # graph\n",
    "                                                           gender_dict,   # dictionary\n",
    "                                                           0,             # val_to_drop, gender = 0 is missing\n",
    "                                                           'yes',         # delete_na_cols, ie completely remove NA nodes from graph\n",
    "                                                           0,             # diagonal\n",
    "                                                           None,          # directed_type\n",
    "                                                           'gender')      # gender\n",
    "            \n",
    "            gender_y = np.array(map(np.int,gender_y)) ## need np.int for machine precisions reasons"
   ]
  },
  {
   "cell_type": "code",
   "execution_count": 4,
   "metadata": {
    "collapsed": true
   },
   "outputs": [],
   "source": [
    "F_fb_label = 1\n",
    "M_fb_label = 2"
   ]
  },
  {
   "cell_type": "code",
   "execution_count": 5,
   "metadata": {
    "collapsed": false
   },
   "outputs": [],
   "source": [
    "prop_class_2 =(adj_matrix_gender * np.matrix(gender_y==2).T)/(np.sum(adj_matrix_gender,1))"
   ]
  },
  {
   "cell_type": "code",
   "execution_count": 6,
   "metadata": {
    "collapsed": true
   },
   "outputs": [],
   "source": [
    "percent_initially_unlabelled = [0.1]#[0.99,0.95,0.9,0.8,0.7,0.6,0.5,0.4,0.3,0.2,0.1,0.05,0.01]\n",
    "percent_initially_labelled = np.subtract(1, percent_initially_unlabelled)"
   ]
  },
  {
   "cell_type": "code",
   "execution_count": 7,
   "metadata": {
    "collapsed": true
   },
   "outputs": [],
   "source": [
    "n_iter = 1"
   ]
  },
  {
   "cell_type": "code",
   "execution_count": 8,
   "metadata": {
    "collapsed": false
   },
   "outputs": [
    {
     "name": "stdout",
     "output_type": "stream",
     "text": [
      "0.1\n"
     ]
    }
   ],
   "source": [
    "coef= LINK_coeff(percent_initially_unlabelled, ## note: mean_se_model assumes a vector of x% initially labeled\n",
    "                                                              np.array(gender_y), ## gender labels \n",
    "                                                              np.matrix(adj_matrix_gender), ## adjacency matrix\n",
    "                                                              clf = linear_model.LogisticRegression(penalty='l2',C=10e20,\n",
    "                                                                                                   solver='lbfgs'),num_iter=n_iter) \n",
    "\n",
    "\n"
   ]
  },
  {
   "cell_type": "code",
   "execution_count": 9,
   "metadata": {
    "collapsed": false
   },
   "outputs": [
    {
     "data": {
      "text/plain": [
       "array([ -3.07410785,  -5.36700368,   8.51785953, ...,   4.53199931,\n",
       "        -0.54351984,  13.05801042])"
      ]
     },
     "execution_count": 9,
     "metadata": {},
     "output_type": "execute_result"
    }
   ],
   "source": [
    "coef"
   ]
  },
  {
   "cell_type": "code",
   "execution_count": 10,
   "metadata": {
    "collapsed": false
   },
   "outputs": [
    {
     "data": {
      "image/png": "[encoded data removed]",
      "text/plain": [
       "<matplotlib.figure.Figure at 0x118748950>"
      ]
     },
     "metadata": {},
     "output_type": "display_data"
    }
   ],
   "source": [
    "%matplotlib inline\n",
    "ax = plt.subplot(111)\n",
    "alpha_parameter = 0.5\n",
    "binBoundaries=np.linspace(-40,40,num=45)\n",
    "\n",
    "ax.hist(coef[gender_y==2], color='black', #alpha=0.1,\n",
    "        bins=binBoundaries, \n",
    "                     normed = True,\n",
    "                     alpha = alpha_parameter, label='empirical',\n",
    "                    edgecolor = 'white')\n",
    "\n",
    "ax.hist(coef[gender_y==1], color='red', #alpha=0.1,\n",
    "        bins=binBoundaries, \n",
    "                     normed = True,\n",
    "                     alpha = alpha_parameter, label='empirical',\n",
    "                    edgecolor = 'white')\n",
    "plt.xlabel(r'$\\beta_j$ coefficient')\n",
    "plt.ylabel('Normalized Frequency')\n",
    "plt.title('Amherst College')\n",
    "ax.spines['top'].set_visible(False)\n",
    "ax.spines['right'].set_visible(False)\n",
    "ax.annotate('Female', xy=(-37, 0.06), \n",
    "                 color='red', alpha=1, size=12)\n",
    "\n",
    "ax.annotate('Male', xy=(-37, 0.065), \n",
    "                 color='black', alpha=1, size=12)\n",
    "\n",
    "\n",
    "pp = PdfPages('../../figures/Amherst_College_Butterfly_histogram.pdf')\n",
    "pp.savefig()\n",
    "pp.close()"
   ]
  },
  {
   "cell_type": "code",
   "execution_count": null,
   "metadata": {
    "collapsed": true
   },
   "outputs": [],
   "source": []
  }
 ],
 "metadata": {
  "kernelspec": {
   "display_name": "Python 2",
   "language": "python",
   "name": "python2"
  },
  "language_info": {
   "codemirror_mode": {
    "name": "ipython",
    "version": 2
   },
   "file_extension": ".py",
   "mimetype": "text/x-python",
   "name": "python",
   "nbconvert_exporter": "python",
   "pygments_lexer": "ipython2",
   "version": "2.7.12"
  }
 },
 "nbformat": 4,
 "nbformat_minor": 2
}
