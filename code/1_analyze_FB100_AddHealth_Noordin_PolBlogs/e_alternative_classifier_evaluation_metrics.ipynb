{
 "cells": [
  {
   "cell_type": "markdown",
   "metadata": {
    "collapsed": true
   },
   "source": [
    "1/27/2018\n",
    "\n",
    "# Additional Evaluations\n",
    "\n",
    "## Summary\n",
    "This notebook contains model evaluation work and \"robustness checks\" demonstrating 2-hop >> 1-hop performance. Notebook run for Amherst and for MIT, considering additional metrics like precision, recall, etc. Code organization assumes working directory is notebook folder location.\n"
   ]
  },
  {
   "cell_type": "code",
   "execution_count": 1,
   "metadata": {
    "collapsed": false
   },
   "outputs": [
    {
     "name": "stderr",
     "output_type": "stream",
     "text": [
      "/usr/local/lib/python2.7/site-packages/matplotlib/__init__.py:872: UserWarning: axes.color_cycle is deprecated and replaced with axes.prop_cycle; please use the latter.\n",
      "  warnings.warn(self.msg_depr % (key, alt_key))\n",
      "/Users/kristen/anaconda/lib/python2.7/site-packages/statsmodels/compat/pandas.py:56: FutureWarning: The pandas.core.datetools module is deprecated and will be removed in a future version. Please use the pandas.tseries module instead.\n",
      "  from pandas.core import datetools\n",
      "/Users/kristen/anaconda/lib/python2.7/site-packages/sklearn/cross_validation.py:44: DeprecationWarning: This module was deprecated in version 0.18 in favor of the model_selection module into which all the refactored classes and functions are moved. Also note that the interface of the new CV iterators are different from that of this module. This module will be removed in 0.20.\n",
      "  \"This module will be removed in 0.20.\", DeprecationWarning)\n"
     ]
    }
   ],
   "source": [
    "## implemented LINK with solver='lbfgs'\n",
    "from __future__ import division\n",
    "from matplotlib.backends.backend_pdf import PdfPages\n",
    "import os\n",
    "\n",
    "## relevant libraries\n",
    "execfile('../functions/python_libraries.py')\n",
    "\n",
    "## data file-paths\n",
    "execfile('../functions/define_paths.py')\n",
    "\n",
    "## processing datasets\n",
    "execfile('../functions/create_adjacency_matrix.py') \n",
    "execfile('../functions/create_directed_adjacency_matrix.py')\n",
    "execfile('../functions/compute_homophily.py')\n",
    "execfile('../functions/compute_monophily.py')\n",
    "\n",
    "\n",
    "execfile('../functions/parsing.py')\n",
    "execfile('../functions/mixing.py')\n",
    "\n",
    "## code for gender prediction \n",
    "execfile('../functions/LINK.py')\n",
    "execfile('../functions/majority_vote.py')\n",
    "\n",
    "\n",
    "execfile('../functions/benchmark_classifier.py')\n",
    "\n",
    "## gender preference distribution\n",
    "execfile('../functions/compute_null_distribution.py')"
   ]
  },
  {
   "cell_type": "markdown",
   "metadata": {},
   "source": [
    "# Alternative Evaluation Metrics\n",
    "MIT8 and Amherst41"
   ]
  },
  {
   "cell_type": "code",
   "execution_count": 2,
   "metadata": {
    "collapsed": false
   },
   "outputs": [
    {
     "name": "stdout",
     "output_type": "stream",
     "text": [
      "Amherst41\n"
     ]
    }
   ],
   "source": [
    "for f in listdir(fb100_file):\n",
    "    if f.endswith('.mat'):\n",
    "        tag = f.replace('.mat', '')\n",
    "        school = 'Amherst41'  # 'Amherst41' 'MIT8' # we report results for MIT8 and Amherst41\n",
    "        if (tag==school):\n",
    "            print tag\n",
    "            input_file = path_join(fb100_file, f)\n",
    "            A, metadata = parse_fb100_mat_file(input_file)\n",
    "\n",
    "            adj_matrix_tmp = A.todense()\n",
    "            gender_y_tmp = metadata[:,1] #gender\n",
    "                \n",
    "            gender_dict = create_dict(range(len(gender_y_tmp)), gender_y_tmp)\n",
    "                \n",
    "            (gender_y, adj_matrix_gender) = create_adj_membership(\n",
    "                                    nx.from_numpy_matrix(adj_matrix_tmp), # graph\n",
    "                                                           gender_dict,   # dictionary\n",
    "                                                           0,             # val_to_drop, gender = 0 is missing\n",
    "                                                           'yes',         # delete_na_cols, ie completely remove NA nodes from graph\n",
    "                                                           0,             # diagonal\n",
    "                                                           None,          # directed_type\n",
    "                                                           'gender')      # gender\n",
    "            \n",
    "            gender_y = np.array(map(np.int,gender_y)) ## need np.int for machine precisions reasons"
   ]
  },
  {
   "cell_type": "code",
   "execution_count": 3,
   "metadata": {
    "collapsed": true
   },
   "outputs": [],
   "source": [
    "F_fb_label = 1\n",
    "M_fb_label = 2"
   ]
  },
  {
   "cell_type": "code",
   "execution_count": 4,
   "metadata": {
    "collapsed": false
   },
   "outputs": [
    {
     "name": "stdout",
     "output_type": "stream",
     "text": [
      "2032\n",
      "1015\n",
      "1017\n"
     ]
    }
   ],
   "source": [
    "print len(gender_y)\n",
    "print np.sum(gender_y == 1)\n",
    "print np.sum(gender_y == 2)"
   ]
  },
  {
   "cell_type": "code",
   "execution_count": 5,
   "metadata": {
    "collapsed": true
   },
   "outputs": [],
   "source": [
    "#F\n",
    "in_F_degree = adj_matrix_gender[gender_y==F_fb_label,] * np.matrix((gender_y==F_fb_label)+0).T\n",
    "total_F_degree = np.sum(adj_matrix_gender[gender_y==F_fb_label,] ,1)\n",
    "h_F = np.mean(in_F_degree)/np.mean(total_F_degree)\n",
    "\n",
    "#M\n",
    "in_M_degree = adj_matrix_gender[gender_y==M_fb_label,] * np.matrix((gender_y==M_fb_label)+0).T\n",
    "total_M_degree = np.sum(adj_matrix_gender[gender_y==M_fb_label,] ,1)\n",
    "h_M = np.mean(in_M_degree)/np.mean(total_M_degree)"
   ]
  },
  {
   "cell_type": "code",
   "execution_count": 6,
   "metadata": {
    "collapsed": false
   },
   "outputs": [
    {
     "name": "stdout",
     "output_type": "stream",
     "text": [
      "0.0481429355646\n",
      "\n",
      "0.01161896606\n"
     ]
    }
   ],
   "source": [
    "print h_F - np.mean(gender_y==F_fb_label)\n",
    "print ''\n",
    "print h_M - np.mean(gender_y==M_fb_label)"
   ]
  },
  {
   "cell_type": "code",
   "execution_count": 7,
   "metadata": {
    "collapsed": false
   },
   "outputs": [
    {
     "name": "stdout",
     "output_type": "stream",
     "text": [
      "[0.03776731811765727, 0.040642558345226544]\n"
     ]
    }
   ],
   "source": [
    "print monophily_index_overdispersion_Williams(adj_matrix_gender, gender_y)"
   ]
  },
  {
   "cell_type": "code",
   "execution_count": 8,
   "metadata": {
    "collapsed": false
   },
   "outputs": [
    {
     "name": "stdout",
     "output_type": "stream",
     "text": [
      "[1 2]\n"
     ]
    }
   ],
   "source": [
    "class_values = np.unique(gender_y)\n",
    "print class_values"
   ]
  },
  {
   "cell_type": "markdown",
   "metadata": {},
   "source": [
    "## Examine Precision and Recall"
   ]
  },
  {
   "cell_type": "code",
   "execution_count": 9,
   "metadata": {
    "collapsed": true
   },
   "outputs": [],
   "source": [
    "from sklearn.metrics import precision_recall_curve\n",
    "import matplotlib.pyplot as plt\n",
    "from sklearn.metrics import confusion_matrix"
   ]
  },
  {
   "cell_type": "code",
   "execution_count": 10,
   "metadata": {
    "collapsed": true
   },
   "outputs": [],
   "source": [
    "## rerun here for k=1 and then k=2\n",
    "k=2 # 1 2\n",
    "adj_amherst_k= np.matrix(adj_matrix_gender)**k\n",
    "adj_amherst_k[range(adj_amherst_k.shape[0]),range(adj_amherst_k.shape[0])]=0 ## remove self-loops\n",
    "                    \n",
    "nonzero_idx1 = np.array((np.sum(adj_amherst_k[gender_y==class_values[0],:],1)!=0).T)[0]\n",
    "nonzero_idx2 = np.array((np.sum(adj_amherst_k[gender_y==class_values[1],:],1)!=0).T)[0]\n",
    "mv_g1 = (adj_amherst_k[gender_y==class_values[0],:] * np.matrix((gender_y==class_values[0])+0).T)[nonzero_idx1]/np.sum(adj_amherst_k[gender_y==class_values[0],:],1)[nonzero_idx1]\n",
    "mv_g2 = (adj_amherst_k[gender_y==class_values[1],:] * np.matrix((gender_y==class_values[1])+0).T)[nonzero_idx2]/np.sum(adj_amherst_k[gender_y==class_values[1],:],1)[nonzero_idx2]\n",
    "\n",
    "y_score = np.array(np.concatenate((1-mv_g1,mv_g2))).T[0]\n",
    "\n",
    "y_test = np.concatenate((np.repeat(class_values[0],len(mv_g1)),\n",
    "                     np.repeat(class_values[1],len(mv_g2))))                    "
   ]
  },
  {
   "cell_type": "code",
   "execution_count": 11,
   "metadata": {
    "collapsed": false
   },
   "outputs": [
    {
     "name": "stdout",
     "output_type": "stream",
     "text": [
      "(858, 157, 554, 463)\n"
     ]
    }
   ],
   "source": [
    "tn, fp, fn, tp =confusion_matrix(label_binarize(y_test,np.unique(y_test)), \n",
    "                 (y_score>(np.mean(gender_y==2)))+0).ravel()\n",
    "print (tn, fp, fn, tp)"
   ]
  },
  {
   "cell_type": "code",
   "execution_count": 12,
   "metadata": {
    "collapsed": false
   },
   "outputs": [
    {
     "data": {
      "image/png": "[encoded data removed]",
      "text/plain": [
       "<matplotlib.figure.Figure at 0x117d08190>"
      ]
     },
     "metadata": {},
     "output_type": "display_data"
    }
   ],
   "source": [
    "precision2, recall2, thresholds2 = precision_recall_curve(label_binarize(y_test, np.unique(y_test)), \n",
    "                                              y_score)\n",
    "from sklearn.metrics import average_precision_score\n",
    "average_precision2 = average_precision_score(label_binarize(y_test, np.unique(y_test)), \n",
    "                                            y_score)\n",
    "%matplotlib inline\n",
    "plt.step(recall2, precision2, color='b', alpha=0.2,\n",
    "         where='post')\n",
    "plt.fill_between(recall2, precision2, step='post', alpha=0.2,\n",
    "                 color='b')\n",
    "\n",
    "\n",
    "plt.xlabel('Recall')\n",
    "plt.ylabel('Precision')\n",
    "plt.ylim([0.0, 1.05])\n",
    "plt.xlim([0.0, 1.0])\n",
    "plt.title(str(k)+'hop:' + str(k)+ '-class Precision-Recall curve: AP={0:0.2f}'.format(\n",
    "          average_precision2))\n",
    "plt.show()"
   ]
  },
  {
   "cell_type": "code",
   "execution_count": 13,
   "metadata": {
    "collapsed": true
   },
   "outputs": [],
   "source": [
    "from sklearn.metrics import roc_curve"
   ]
  },
  {
   "cell_type": "code",
   "execution_count": 14,
   "metadata": {
    "collapsed": false
   },
   "outputs": [
    {
     "name": "stdout",
     "output_type": "stream",
     "text": [
      "848\n",
      "848\n"
     ]
    }
   ],
   "source": [
    "fpr, tpr, thresholds = roc_curve(label_binarize(y_test, np.unique(y_test)), \n",
    "                                 y_score)#, \n",
    "                                 #pos_label=1)\n",
    "print len(fpr)\n",
    "print len(thresholds)"
   ]
  },
  {
   "cell_type": "code",
   "execution_count": 15,
   "metadata": {
    "collapsed": true
   },
   "outputs": [],
   "source": [
    "if k == 1:\n",
    "    %matplotlib inline\n",
    "    ax = plt.subplot(111)\n",
    "    ax.axvline(np.mean(gender_y==2),\n",
    "              color='gray',\n",
    "              alpha=0.8)\n",
    "    ax.annotate('accuracy threshold', xy=(np.mean(gender_y==2)+0.17, 0.85), \n",
    "                     color='gray', alpha=1, size=12)\n",
    "\n",
    "    ax.scatter(1-thresholds, fpr,\n",
    "               color='blue', alpha = 0.2)\n",
    "    ax.annotate('FPR', xy=(0.1, 0.85), \n",
    "                     color='blue', alpha=1, size=12)\n",
    "    ax.scatter(1-thresholds, tpr,\n",
    "               color='red', alpha = 0.2)\n",
    "    ax.annotate('TPR', xy=(0.1, 0.9), \n",
    "                     color='red', alpha=1, size=12)\n",
    "    ax.set_xlabel('Classifier Threshold Cutoff')\n",
    "    ax.set_ylabel('Performance Metric')\n",
    "    ax.set_title(school+ ', ' + str(k)+'-MV')\n",
    "\n",
    "    ax.set_ylim([-0.01, 1.01])\n",
    "    #ax.set_xlim([-1.01, 1.51])\n",
    "    ax.set_xlim([-0.51, 1.01])\n",
    "\n",
    "\n",
    "    ax.spines['right'].set_visible(False)\n",
    "    ax.spines['top'].set_visible(False)\n",
    "    pp = PdfPages('../../figures/' + school +'_tpr_fpr_k'+str(k)+'.pdf')\n",
    "    pp.savefig()\n",
    "    pp.close()\n",
    "    #plt.show()"
   ]
  },
  {
   "cell_type": "code",
   "execution_count": 16,
   "metadata": {
    "collapsed": false
   },
   "outputs": [
    {
     "data": {
      "image/png": "[encoded data removed]",
      "text/plain": [
       "<matplotlib.figure.Figure at 0x117d55790>"
      ]
     },
     "metadata": {},
     "output_type": "display_data"
    }
   ],
   "source": [
    "if k==2:\n",
    "    %matplotlib inline\n",
    "    ax = plt.subplot(111)\n",
    "    ax.axvline(np.mean(gender_y==2),\n",
    "              color='gray',\n",
    "              alpha=0.8)\n",
    "    ax.annotate('accuracy threshold', xy=(np.mean(gender_y==2)+0.09, 0.85), \n",
    "                     color='gray', alpha=1, size=12)\n",
    "\n",
    "    ax.scatter(1-thresholds, fpr,\n",
    "               color='blue', alpha = 0.2)\n",
    "    ax.annotate('FPR', xy=(0.1, 0.85), \n",
    "                     color='blue', alpha=1, size=12)\n",
    "    ax.scatter(1-thresholds, tpr,\n",
    "               color='red', alpha = 0.2)\n",
    "    ax.annotate('TPR', xy=(0.1, 0.9), \n",
    "                     color='red', alpha=1, size=12)\n",
    "    ax.set_xlabel('Classifier Threshold Cutoff')\n",
    "    ax.set_ylabel('Performance Metric')\n",
    "    ax.set_title(school+ ', ' + str(k)+'-MV')\n",
    "\n",
    "    ax.set_ylim([-0.01, 1.01])\n",
    "    ax.set_xlim([-0.51, 1.01])\n",
    "    ax.spines['right'].set_visible(False)\n",
    "    ax.spines['top'].set_visible(False)\n",
    "    pp = PdfPages('../../figures/' + school +'_tpr_fpr_k'+str(k)+'.pdf')\n",
    "    pp.savefig()\n",
    "    pp.close()\n",
    "    #plt.show()"
   ]
  },
  {
   "cell_type": "markdown",
   "metadata": {},
   "source": [
    "### Alterntatively report F1-score"
   ]
  },
  {
   "cell_type": "code",
   "execution_count": 17,
   "metadata": {
    "collapsed": false
   },
   "outputs": [
    {
     "name": "stdout",
     "output_type": "stream",
     "text": [
      "0.567600487211\n"
     ]
    }
   ],
   "source": [
    "print sklearn.metrics.f1_score(label_binarize(y_test, np.unique(y_test)), \n",
    "                               np.array(y_score>0.5)+0, #labels=None, pos_label=1, \n",
    "                               average='binary', sample_weight=None)"
   ]
  },
  {
   "cell_type": "code",
   "execution_count": 18,
   "metadata": {
    "collapsed": true
   },
   "outputs": [],
   "source": [
    "## rerun above part so that precision2, recall2 correspond with k=2\n",
    "k=1\n",
    "adj_amherst_k= np.matrix(adj_matrix_gender)**k\n",
    "adj_amherst_k[range(adj_amherst_k.shape[0]),range(adj_amherst_k.shape[0])]=0 ## remove self-loops\n",
    "                    \n",
    "nonzero_idx1 = np.array((np.sum(adj_amherst_k[gender_y==class_values[0],:],1)!=0).T)[0]\n",
    "nonzero_idx2 = np.array((np.sum(adj_amherst_k[gender_y==class_values[1],:],1)!=0).T)[0]\n",
    "mv_g1 = (adj_amherst_k[gender_y==class_values[0],:] * np.matrix((gender_y==class_values[0])+0).T)[nonzero_idx1]/np.sum(adj_amherst_k[gender_y==class_values[0],:],1)[nonzero_idx1]\n",
    "mv_g2 = (adj_amherst_k[gender_y==class_values[1],:] * np.matrix((gender_y==class_values[1])+0).T)[nonzero_idx2]/np.sum(adj_amherst_k[gender_y==class_values[1],:],1)[nonzero_idx2]\n",
    "\n",
    "y_score = np.array(np.concatenate((1-mv_g1,mv_g2))).T[0]\n",
    "\n",
    "y_test = np.concatenate((np.repeat(class_values[0],len(mv_g1)),\n",
    "                     np.repeat(class_values[1],len(mv_g2))))                    "
   ]
  },
  {
   "cell_type": "code",
   "execution_count": 19,
   "metadata": {
    "collapsed": false
   },
   "outputs": [
    {
     "name": "stdout",
     "output_type": "stream",
     "text": [
      "727 288 499 518\n"
     ]
    }
   ],
   "source": [
    "tn, fp, fn, tp =confusion_matrix(label_binarize(y_test,np.unique(y_test)), \n",
    "                 (y_score>(np.mean(gender_y==2)))+0).ravel()\n",
    "print tn, fp, fn, tp "
   ]
  },
  {
   "cell_type": "code",
   "execution_count": 20,
   "metadata": {
    "collapsed": false
   },
   "outputs": [
    {
     "data": {
      "text/plain": [
       "<matplotlib.text.Text at 0x117e70fd0>"
      ]
     },
     "execution_count": 20,
     "metadata": {},
     "output_type": "execute_result"
    },
    {
     "data": {
      "image/png": "[encoded data removed]",
      "text/plain": [
       "<matplotlib.figure.Figure at 0x115f54b90>"
      ]
     },
     "metadata": {},
     "output_type": "display_data"
    }
   ],
   "source": [
    "precision, recall, thresholds = precision_recall_curve(label_binarize(y_test, np.unique(y_test)), \n",
    "                                              y_score)\n",
    "from sklearn.metrics import average_precision_score\n",
    "average_precision = average_precision_score(label_binarize(y_test, np.unique(y_test)), \n",
    "                                            y_score)\n",
    "\n",
    "plt.step(recall, precision, color='r', alpha=0.2,\n",
    "         where='post')\n",
    "plt.fill_between(recall, precision, step='post', alpha=0.2,\n",
    "                 color='r')\n",
    "\n",
    "plt.xlabel('Recall')\n",
    "plt.ylabel('Precision')\n",
    "plt.ylim([0.0, 1.05])\n",
    "plt.xlim([0.0, 1.0])\n",
    "plt.title('1hop: 2-class Precision-Recall curve: AP={0:0.2f}'.format(\n",
    "          average_precision))"
   ]
  },
  {
   "cell_type": "markdown",
   "metadata": {},
   "source": [
    "### Alterntatively report F1-score"
   ]
  },
  {
   "cell_type": "code",
   "execution_count": 21,
   "metadata": {
    "collapsed": false
   },
   "outputs": [
    {
     "name": "stdout",
     "output_type": "stream",
     "text": [
      "0.568294020845\n"
     ]
    }
   ],
   "source": [
    "print sklearn.metrics.f1_score(label_binarize(y_test, np.unique(y_test)), \n",
    "                               np.array(y_score>0.5)+0, #labels=None, pos_label=1, \n",
    "                               average='binary', sample_weight=None)"
   ]
  },
  {
   "cell_type": "code",
   "execution_count": 22,
   "metadata": {
    "collapsed": false
   },
   "outputs": [
    {
     "data": {
      "image/png": "[encoded data removed]",
      "text/plain": [
       "<matplotlib.figure.Figure at 0x1062de790>"
      ]
     },
     "metadata": {},
     "output_type": "display_data"
    }
   ],
   "source": [
    "plt.step(recall2, precision2, color='b', alpha=0.8,\n",
    "         where='post')\n",
    "plt.fill_between(recall2, precision2, step='post', alpha=0.8,\n",
    "                 color='b')\n",
    "plt.text(0.8,0.95,'2-hopMV',color = 'b')\n",
    "\n",
    "\n",
    "plt.step(recall, precision, color='r', alpha=0.8,\n",
    "         where='post')\n",
    "plt.fill_between(recall, precision, step='post', alpha=0.8,\n",
    "                 color='red')\n",
    "\n",
    "plt.text(0.8,0.9,'1-hopMV',color = 'red')\n",
    "ax.spines['right'].set_visible(False)\n",
    "ax.spines['top'].set_visible(False)\n",
    "plt.xlabel('Recall')\n",
    "plt.ylabel('Precision')\n",
    "plt.ylim([0.0, 1.05])\n",
    "plt.xlim([0.0, 1.0])\n",
    "#plt.show()\n",
    "pp = PdfPages('../../figures/' + school +'_precision_recall.pdf')\n",
    "pp.savefig()\n",
    "pp.close()"
   ]
  },
  {
   "cell_type": "code",
   "execution_count": 23,
   "metadata": {
    "collapsed": true
   },
   "outputs": [],
   "source": [
    "px1 = precision[0:len(precision)-1]\n",
    "rx1 = recall[0:len(recall)-1]\n",
    "\n",
    "px2 = precision2[0:len(precision2)-1]\n",
    "rx2 = recall2[0:len(recall2)-1]\n"
   ]
  },
  {
   "cell_type": "code",
   "execution_count": 24,
   "metadata": {
    "collapsed": true
   },
   "outputs": [],
   "source": [
    "idx2 = np.array(range(0,len(rx2), 100))\n",
    "idx = np.array(range(0,len(rx1), 100))"
   ]
  },
  {
   "cell_type": "code",
   "execution_count": 25,
   "metadata": {
    "collapsed": false
   },
   "outputs": [
    {
     "data": {
      "text/plain": [
       "0.50049212598425197"
      ]
     },
     "execution_count": 25,
     "metadata": {},
     "output_type": "execute_result"
    }
   ],
   "source": [
    "np.mean(gender_y==2)"
   ]
  },
  {
   "cell_type": "code",
   "execution_count": 26,
   "metadata": {
    "collapsed": false
   },
   "outputs": [
    {
     "name": "stdout",
     "output_type": "stream",
     "text": [
      "1\n",
      "1\n"
     ]
    }
   ],
   "source": [
    "if school == 'Amherst41':\n",
    "    idx_accuracy = np.array(thresholds==0.5)#np.mean(gender_y==2))\n",
    "    print np.sum(idx_accuracy)\n",
    "    idx_accuracy2 = np.array(thresholds2==0.5)#np.mean(gender_y==2))\n",
    "    print np.sum(idx_accuracy2)\n",
    "if school == 'MIT8':\n",
    "    idx_accuracy = np.array(thresholds==0.6)#np.mean(gender_y==2))\n",
    "    print np.sum(idx_accuracy)\n",
    "    idx_accuracy2 = np.array(thresholds2==0.6)#np.mean(gender_y==2))\n",
    "    print np.sum(idx_accuracy2)\n"
   ]
  },
  {
   "cell_type": "code",
   "execution_count": 27,
   "metadata": {
    "collapsed": false
   },
   "outputs": [
    {
     "data": {
      "image/png": "[encoded data removed]",
      "text/plain": [
       "<matplotlib.figure.Figure at 0x11f2e9050>"
      ]
     },
     "metadata": {},
     "output_type": "display_data"
    }
   ],
   "source": [
    "\n",
    "%matplotlib inline\n",
    "ax = plt.subplot(111)\n",
    "ax.step(recall2, precision2, color='b', alpha=0.1,\n",
    "         where='post')\n",
    "ax.fill_between(recall2, precision2, step='post', alpha=0.8,\n",
    "                 color='b')\n",
    "ax.text(0.8,1,'2-hopMV',color = 'b')\n",
    "ax.text(0.8,0.9,'Accuracy',color = 'black')\n",
    "ax.scatter(0.78,0.91, color = 'black',s=42, alpha = 1)\n",
    "\n",
    "\n",
    "\n",
    "ax.step(recall, precision, color='r', alpha=0.1,\n",
    "         where='post')\n",
    "ax.fill_between(recall, precision, step='post', alpha=0.8,\n",
    "                 color='red')\n",
    "\n",
    "ax.scatter(rx2[idx_accuracy2], px2[idx_accuracy2], color = 'black',s=42, alpha = 1)\n",
    "ax.scatter(rx1[idx_accuracy], px1[idx_accuracy], color = 'black', s=42, alpha = 1)\n",
    "\n",
    "\n",
    "ax.text(0.8,0.95,'1-hopMV',color = 'red')\n",
    "ax.spines['right'].set_visible(False)\n",
    "ax.spines['top'].set_visible(False)\n",
    "ax.set_xlabel('Recall')\n",
    "ax.set_ylabel('Precision')\n",
    "ax.set_ylim([0.0, 1.05])\n",
    "ax.set_xlim([0.0, 1.0])\n",
    "ax.set_title(school)\n",
    "\n",
    "#plt.show()\n",
    "pp = PdfPages('../../figures/' + school +'_precision_recall.pdf')\n",
    "pp.savefig()\n",
    "pp.close()"
   ]
  },
  {
   "cell_type": "code",
   "execution_count": null,
   "metadata": {
    "collapsed": true
   },
   "outputs": [],
   "source": []
  }
 ],
 "metadata": {
  "kernelspec": {
   "display_name": "Python 2",
   "language": "python",
   "name": "python2"
  },
  "language_info": {
   "codemirror_mode": {
    "name": "ipython",
    "version": 2
   },
   "file_extension": ".py",
   "mimetype": "text/x-python",
   "name": "python",
   "nbconvert_exporter": "python",
   "pygments_lexer": "ipython2",
   "version": "2.7.12"
  }
 },
 "nbformat": 4,
 "nbformat_minor": 2
}
