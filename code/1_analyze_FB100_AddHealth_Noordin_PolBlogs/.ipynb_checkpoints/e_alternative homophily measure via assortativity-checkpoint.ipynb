{
 "cells": [
  {
   "cell_type": "markdown",
   "metadata": {},
   "source": [
    "12/27/2017\n",
    "\n",
    "\n",
    "# Summary\n",
    "\n",
    "Compare homophily vs. assortativity. Code organization assumes working directory is notebook folder location."
   ]
  },
  {
   "cell_type": "code",
   "execution_count": 1,
   "metadata": {
    "collapsed": false
   },
   "outputs": [
    {
     "name": "stderr",
     "output_type": "stream",
     "text": [
      "/usr/local/lib/python2.7/site-packages/matplotlib/__init__.py:872: UserWarning: axes.color_cycle is deprecated and replaced with axes.prop_cycle; please use the latter.\n",
      "  warnings.warn(self.msg_depr % (key, alt_key))\n",
      "/Users/kristen/anaconda/lib/python2.7/site-packages/statsmodels/compat/pandas.py:56: FutureWarning: The pandas.core.datetools module is deprecated and will be removed in a future version. Please use the pandas.tseries module instead.\n",
      "  from pandas.core import datetools\n",
      "/Users/kristen/anaconda/lib/python2.7/site-packages/sklearn/cross_validation.py:44: DeprecationWarning: This module was deprecated in version 0.18 in favor of the model_selection module into which all the refactored classes and functions are moved. Also note that the interface of the new CV iterators are different from that of this module. This module will be removed in 0.20.\n",
      "  \"This module will be removed in 0.20.\", DeprecationWarning)\n"
     ]
    },
    {
     "ename": "IOError",
     "evalue": "[Errno 2] No such file or directory: '../functions/compute_monophily_beta_binom.py'",
     "output_type": "error",
     "traceback": [
      "\u001b[0;31m---------------------------------------------------------------------------\u001b[0m",
      "\u001b[0;31mIOError\u001b[0m                                   Traceback (most recent call last)",
      "\u001b[0;32m<ipython-input-1-23b6b8e65348>\u001b[0m in \u001b[0;36m<module>\u001b[0;34m()\u001b[0m\n\u001b[1;32m     15\u001b[0m \u001b[0;34m\u001b[0m\u001b[0m\n\u001b[1;32m     16\u001b[0m \u001b[0;31m## updated\u001b[0m\u001b[0;34m\u001b[0m\u001b[0;34m\u001b[0m\u001b[0m\n\u001b[0;32m---> 17\u001b[0;31m \u001b[0mexecfile\u001b[0m\u001b[0;34m(\u001b[0m\u001b[0;34m'../functions/compute_monophily_beta_binom.py'\u001b[0m\u001b[0;34m)\u001b[0m\u001b[0;34m\u001b[0m\u001b[0m\n\u001b[0m\u001b[1;32m     18\u001b[0m \u001b[0mexecfile\u001b[0m\u001b[0;34m(\u001b[0m\u001b[0;34m'../functions/compute_chi_square.py'\u001b[0m\u001b[0;34m)\u001b[0m\u001b[0;34m\u001b[0m\u001b[0m\n\u001b[1;32m     19\u001b[0m \u001b[0;34m\u001b[0m\u001b[0m\n",
      "\u001b[0;31mIOError\u001b[0m: [Errno 2] No such file or directory: '../functions/compute_monophily_beta_binom.py'"
     ]
    }
   ],
   "source": [
    "## implemented LINK with solver='lbfgs'\n",
    "from __future__ import division\n",
    "from matplotlib.backends.backend_pdf import PdfPages\n",
    "import os\n",
    "\n",
    "## relevant libraries\n",
    "execfile('../functions/python_libraries.py')\n",
    "\n",
    "## processing datasets\n",
    "execfile('../functions/create_adjacency_matrix.py') \n",
    "execfile('../functions/create_directed_adjacency_matrix.py')\n",
    "\n",
    "execfile('../functions/compute_homophily.py')\n",
    "execfile('../functions/compute_monophily.py')\n",
    "\n",
    "## updated\n",
    "execfile('../functions/compute_chi_square.py')\n",
    "execfile('../functions/parsing.py')\n",
    "execfile('../functions/mixing.py')\n",
    "\n",
    "## code for gender prediction \n",
    "execfile('../functions/LINK_finalized.py')\n",
    "execfile('../functions/majority_vote.py')\n",
    "execfile('../functions/ZGL.py')\n",
    "execfile('../functions/benchmark_classifier.py')\n",
    "\n",
    "## gender preference distribution\n",
    "execfile('../functions/compute_null_distribution.py')"
   ]
  },
  {
   "cell_type": "markdown",
   "metadata": {},
   "source": [
    "# Amherst"
   ]
  },
  {
   "cell_type": "code",
   "execution_count": 2,
   "metadata": {
    "collapsed": false
   },
   "outputs": [
    {
     "name": "stdout",
     "output_type": "stream",
     "text": [
      "Amherst41\n"
     ]
    }
   ],
   "source": [
    "## load Amherst only\n",
    "\n",
    "## filename where relevant FB100 data is stored\n",
    "fb100_file = '/Users/kristen/Dropbox/gender_graph_data/FB_processing_pipeline/data/0_original/'\n",
    "\n",
    "\n",
    "for f in listdir(fb100_file):\n",
    "    if f.endswith('.mat'):\n",
    "        tag = f.replace('.mat', '')\n",
    "        if (tag == 'Amherst41'):\n",
    "            print tag\n",
    "            input_file = path_join(fb100_file, f)\n",
    "            A, metadata = parse_fb100_mat_file(input_file)\n",
    "\n",
    "            adj_matrix_tmp = A.todense()\n",
    "            gender_y_tmp = metadata[:,1] #gender\n",
    "                \n",
    "            gender_dict = create_dict(range(len(gender_y_tmp)), gender_y_tmp)\n",
    "                \n",
    "            (gender_y, adj_matrix_gender) = create_adj_membership(\n",
    "                                    nx.from_numpy_matrix(adj_matrix_tmp), # graph\n",
    "                                                           gender_dict,   # dictionary\n",
    "                                                           0,             # val_to_drop, gender = 0 is missing\n",
    "                                                           'yes',         # delete_na_cols, ie completely remove NA nodes from graph\n",
    "                                                           0,             # diagonal\n",
    "                                                           None,          # directed_type\n",
    "                                                           'gender')      # gender\n",
    "            \n",
    "            gender_y = np.array(map(np.int,gender_y)) ## need np.int for machine precisions reasons"
   ]
  },
  {
   "cell_type": "code",
   "execution_count": 23,
   "metadata": {
    "collapsed": true
   },
   "outputs": [],
   "source": [
    "adj_amherst2= np.matrix(adj_matrix_gender)**2\n",
    "adj_amherst2[range(adj_amherst2.shape[0]),range(adj_amherst2.shape[0])]=0 ## remove self-loops"
   ]
  },
  {
   "cell_type": "code",
   "execution_count": 24,
   "metadata": {
    "collapsed": true
   },
   "outputs": [],
   "source": [
    "gender_dict_nx = create_dict(range(len(gender_y)), gender_y)"
   ]
  },
  {
   "cell_type": "markdown",
   "metadata": {},
   "source": [
    "## 1-hop"
   ]
  },
  {
   "cell_type": "code",
   "execution_count": 25,
   "metadata": {
    "collapsed": false
   },
   "outputs": [],
   "source": [
    "G = nx.from_numpy_matrix(adj_matrix_gender) "
   ]
  },
  {
   "cell_type": "code",
   "execution_count": 26,
   "metadata": {
    "collapsed": true
   },
   "outputs": [],
   "source": [
    "nx.set_node_attributes(G, 'gender', gender_dict_nx)"
   ]
  },
  {
   "cell_type": "code",
   "execution_count": 27,
   "metadata": {
    "collapsed": false
   },
   "outputs": [],
   "source": [
    "#nx.get_node_attributes(G,'gender') ## just quick spot-check"
   ]
  },
  {
   "cell_type": "code",
   "execution_count": null,
   "metadata": {
    "collapsed": true
   },
   "outputs": [],
   "source": []
  },
  {
   "cell_type": "code",
   "execution_count": 28,
   "metadata": {
    "collapsed": false
   },
   "outputs": [
    {
     "data": {
      "text/plain": [
       "0.05976190162463944"
      ]
     },
     "execution_count": 28,
     "metadata": {},
     "output_type": "execute_result"
    }
   ],
   "source": [
    "nx.attribute_assortativity_coefficient(G, 'gender')"
   ]
  },
  {
   "cell_type": "code",
   "execution_count": 33,
   "metadata": {
    "collapsed": false
   },
   "outputs": [],
   "source": [
    "node_ids_M = np.array(nx.get_node_attributes(G,'gender').keys())[np.array(nx.get_node_attributes(G,'gender').keys())==2]\n",
    "node_ids_F = np.array(nx.get_node_attributes(G,'gender').keys())[np.array(nx.get_node_attributes(G,'gender').keys())==1]\n",
    "\n"
   ]
  },
  {
   "cell_type": "code",
   "execution_count": 36,
   "metadata": {
    "collapsed": false
   },
   "outputs": [
    {
     "name": "stdout",
     "output_type": "stream",
     "text": [
      "0.0\n",
      "0.0\n"
     ]
    }
   ],
   "source": [
    "print nx.attribute_assortativity_coefficient(G, 'gender', nodes = node_ids_M)\n",
    "print nx.attribute_assortativity_coefficient(G, 'gender', nodes = node_ids_F)"
   ]
  },
  {
   "cell_type": "code",
   "execution_count": 38,
   "metadata": {
    "collapsed": false
   },
   "outputs": [
    {
     "name": "stdout",
     "output_type": "stream",
     "text": [
      "[0.54765080958033996, 0.5121110920442995]\n"
     ]
    }
   ],
   "source": [
    "## Confirm: is weighted average of homophily index same as bias in %same across all nodes?\n",
    "print homophily_index_Jackson_alternative(adj_matrix_gender,\n",
    "                                         gender_y)\n",
    "h_F, h_M = homophily_index_Jackson_alternative(adj_matrix_gender,\n",
    "                                         gender_y)"
   ]
  },
  {
   "cell_type": "code",
   "execution_count": 40,
   "metadata": {
    "collapsed": false
   },
   "outputs": [
    {
     "name": "stdout",
     "output_type": "stream",
     "text": [
      "0.529863460794\n"
     ]
    }
   ],
   "source": [
    "print h_F*np.mean(gender_y==1)+h_M*np.mean(gender_y==2)"
   ]
  },
  {
   "cell_type": "code",
   "execution_count": null,
   "metadata": {
    "collapsed": true
   },
   "outputs": [],
   "source": []
  },
  {
   "cell_type": "code",
   "execution_count": null,
   "metadata": {
    "collapsed": true
   },
   "outputs": [],
   "source": []
  },
  {
   "cell_type": "code",
   "execution_count": null,
   "metadata": {
    "collapsed": true
   },
   "outputs": [],
   "source": []
  },
  {
   "cell_type": "code",
   "execution_count": null,
   "metadata": {
    "collapsed": true
   },
   "outputs": [],
   "source": []
  },
  {
   "cell_type": "markdown",
   "metadata": {},
   "source": [
    "## 2-hop"
   ]
  },
  {
   "cell_type": "markdown",
   "metadata": {},
   "source": [
    "### multigraph version"
   ]
  },
  {
   "cell_type": "code",
   "execution_count": 9,
   "metadata": {
    "collapsed": true
   },
   "outputs": [],
   "source": [
    "G2 = nx.from_numpy_matrix(adj_amherst2, \n",
    "                          create_using = nx.MultiGraph())"
   ]
  },
  {
   "cell_type": "code",
   "execution_count": 10,
   "metadata": {
    "collapsed": false
   },
   "outputs": [
    {
     "name": "stdout",
     "output_type": "stream",
     "text": [
      "<class 'networkx.classes.multigraph.MultiGraph'>\n"
     ]
    }
   ],
   "source": [
    "print type(G2)"
   ]
  },
  {
   "cell_type": "code",
   "execution_count": 11,
   "metadata": {
    "collapsed": false
   },
   "outputs": [],
   "source": [
    "nx.set_node_attributes(G2, 'gender', gender_dict_nx)"
   ]
  },
  {
   "cell_type": "code",
   "execution_count": 12,
   "metadata": {
    "collapsed": false
   },
   "outputs": [
    {
     "data": {
      "text/plain": [
       "0.008345159086842512"
      ]
     },
     "execution_count": 12,
     "metadata": {},
     "output_type": "execute_result"
    }
   ],
   "source": [
    "nx.attribute_assortativity_coefficient(G2, 'gender')"
   ]
  },
  {
   "cell_type": "markdown",
   "metadata": {},
   "source": [
    "### unweighted version"
   ]
  },
  {
   "cell_type": "code",
   "execution_count": 13,
   "metadata": {
    "collapsed": false
   },
   "outputs": [
    {
     "data": {
      "text/plain": [
       "0.008345159086842512"
      ]
     },
     "execution_count": 13,
     "metadata": {},
     "output_type": "execute_result"
    }
   ],
   "source": [
    "## versus non-multi\n",
    "G2_unweighted = nx.from_numpy_matrix(adj_amherst2)\n",
    "nx.set_node_attributes(G2_unweighted, 'gender', gender_dict_nx)\n",
    "nx.attribute_assortativity_coefficient(G2_unweighted, 'gender')"
   ]
  },
  {
   "cell_type": "code",
   "execution_count": null,
   "metadata": {
    "collapsed": true
   },
   "outputs": [],
   "source": []
  },
  {
   "cell_type": "code",
   "execution_count": 14,
   "metadata": {
    "collapsed": true
   },
   "outputs": [],
   "source": [
    "#Hm. \n",
    "#How much of a pain would it be to pull the graphs into R? \n",
    "#https://cran.r-project.org/web/packages/assortnet/assortnet.pdf\n",
    "\n",
    "\n",
    "#Graph-tool vaguely looks like it might support weighted computations: \n",
    "#https://graph-tool.skewed.de/static/doc/correlations.html#graph_tool.correlations.assortativity"
   ]
  },
  {
   "cell_type": "code",
   "execution_count": null,
   "metadata": {
    "collapsed": true
   },
   "outputs": [],
   "source": []
  },
  {
   "cell_type": "code",
   "execution_count": null,
   "metadata": {
    "collapsed": true
   },
   "outputs": [],
   "source": []
  },
  {
   "cell_type": "markdown",
   "metadata": {},
   "source": [
    "## Alternative way to measure assortativity in R"
   ]
  },
  {
   "cell_type": "code",
   "execution_count": 15,
   "metadata": {
    "collapsed": true
   },
   "outputs": [],
   "source": [
    "from __future__ import division\n",
    "import rpy2.robjects\n",
    "import rpy2.robjects.numpy2ri\n",
    "import rpy2.robjects as ro\n",
    "rpy2.robjects.numpy2ri.activate()"
   ]
  },
  {
   "cell_type": "code",
   "execution_count": 16,
   "metadata": {
    "collapsed": false
   },
   "outputs": [],
   "source": [
    "rpy2.robjects.r('''\n",
    "    library(assortnet)\n",
    "    assortativity_weighted <- function(graph, types){\n",
    "    #print(class(graph))\n",
    "    #print(graph)\n",
    "    #print(types)\n",
    "    assortment.discrete(graph, types, weighted = TRUE)$r\n",
    "    }\n",
    "    ''')\n",
    "r_fxn_assortativity_weighted = rpy2.robjects.r['assortativity_weighted']"
   ]
  },
  {
   "cell_type": "code",
   "execution_count": 17,
   "metadata": {
    "collapsed": true
   },
   "outputs": [],
   "source": [
    "rpy2.robjects.r('''\n",
    "    library(assortnet)\n",
    "    assortativity_unweighted <- function(graph, types){\n",
    "    #print(class(graph))\n",
    "    #print(graph)\n",
    "    #print(types)\n",
    "    assortment.discrete(graph, types, weighted = FALSE)$r\n",
    "    }\n",
    "    ''')\n",
    "r_fxn_assortativity_unweighted = rpy2.robjects.r['assortativity_unweighted']"
   ]
  },
  {
   "cell_type": "code",
   "execution_count": 18,
   "metadata": {
    "collapsed": false
   },
   "outputs": [
    {
     "data": {
      "text/plain": [
       "2032"
      ]
     },
     "execution_count": 18,
     "metadata": {},
     "output_type": "execute_result"
    }
   ],
   "source": [
    "nr,nc = adj_matrix_gender.shape\n",
    "nr"
   ]
  },
  {
   "cell_type": "code",
   "execution_count": 19,
   "metadata": {
    "collapsed": false
   },
   "outputs": [
    {
     "data": {
      "text/plain": [
       "R object with classes: ('array',) mapped to:\n",
       "<Array - Python:0x190d4ab00 / R:0x119118e00>\n",
       "[       2,        1,        1, ...,        2,        2,        2]"
      ]
     },
     "execution_count": 19,
     "metadata": {},
     "output_type": "execute_result"
    }
   ],
   "source": [
    "r_adj = ro.r.matrix(np.array(adj_matrix_gender), nrow = nr, ncol=nc)\n",
    "ro.r.assign(\"r_adj\", r_adj)\n",
    "r_gender = ro.r.array(np.array(gender_y))\n",
    "ro.r.assign(\"r_gender\", r_gender)"
   ]
  },
  {
   "cell_type": "markdown",
   "metadata": {},
   "source": [
    "### 1-hop version"
   ]
  },
  {
   "cell_type": "code",
   "execution_count": 20,
   "metadata": {
    "collapsed": false
   },
   "outputs": [
    {
     "name": "stdout",
     "output_type": "stream",
     "text": [
      "[1] 0.0597619\n",
      "\n",
      "[1] 0.0597619\n",
      "\n"
     ]
    }
   ],
   "source": [
    "print r_fxn_assortativity_weighted(r_adj, r_gender) # weighted = TRUE\n",
    "print r_fxn_assortativity_unweighted(r_adj, r_gender) # weighted = FALSE"
   ]
  },
  {
   "cell_type": "markdown",
   "metadata": {},
   "source": [
    "### 2-hop version"
   ]
  },
  {
   "cell_type": "code",
   "execution_count": 21,
   "metadata": {
    "collapsed": false
   },
   "outputs": [
    {
     "data": {
      "text/plain": [
       "R object with classes: ('array',) mapped to:\n",
       "<Array - Python:0x1b63f7b00 / R:0x126ab7200>\n",
       "[       2,        1,        1, ...,        2,        2,        2]"
      ]
     },
     "execution_count": 21,
     "metadata": {},
     "output_type": "execute_result"
    }
   ],
   "source": [
    "r_adj = ro.r.matrix(np.array(adj_amherst2), nrow = nr, ncol=nc)\n",
    "ro.r.assign(\"r_adj\", r_adj)\n",
    "r_gender = ro.r.array(np.array(gender_y))\n",
    "ro.r.assign(\"r_gender\", r_gender)"
   ]
  },
  {
   "cell_type": "code",
   "execution_count": 22,
   "metadata": {
    "collapsed": false
   },
   "outputs": [
    {
     "name": "stdout",
     "output_type": "stream",
     "text": [
      "[1] 0.03206003\n",
      "\n",
      "[1] 0.008345159\n",
      "\n"
     ]
    }
   ],
   "source": [
    "print r_fxn_assortativity_weighted(r_adj, r_gender) # weighted = TRUE\n",
    "print r_fxn_assortativity_unweighted(r_adj, r_gender) # weighted = FALSE"
   ]
  },
  {
   "cell_type": "code",
   "execution_count": null,
   "metadata": {
    "collapsed": true
   },
   "outputs": [],
   "source": []
  },
  {
   "cell_type": "code",
   "execution_count": null,
   "metadata": {
    "collapsed": true
   },
   "outputs": [],
   "source": []
  }
 ],
 "metadata": {
  "kernelspec": {
   "display_name": "Python 2",
   "language": "python",
   "name": "python2"
  },
  "language_info": {
   "codemirror_mode": {
    "name": "ipython",
    "version": 2
   },
   "file_extension": ".py",
   "mimetype": "text/x-python",
   "name": "python",
   "nbconvert_exporter": "python",
   "pygments_lexer": "ipython2",
   "version": "2.7.12"
  }
 },
 "nbformat": 4,
 "nbformat_minor": 2
}
