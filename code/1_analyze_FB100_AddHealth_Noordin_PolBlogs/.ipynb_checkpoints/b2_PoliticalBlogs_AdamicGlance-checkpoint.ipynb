{
 "cells": [
  {
   "cell_type": "markdown",
   "metadata": {},
   "source": [
    "11/14/2017\n",
    "\n",
    "\n",
    "# Summary\n",
    "Analysis of Adamic/Glance political blogs in terms of homophily/monophily + political prediction."
   ]
  },
  {
   "cell_type": "code",
   "execution_count": 42,
   "metadata": {
    "collapsed": false
   },
   "outputs": [],
   "source": [
    "## implemented LINK with solver='lbfgs'\n",
    "from __future__ import division\n",
    "from matplotlib.backends.backend_pdf import PdfPages\n",
    "import os\n",
    "\n",
    "os.chdir('/Users/kristen/Dropbox/gender_graph_data/manuscript/nature_hb/gender_graph_final_code_NatureHB/code/')\n",
    "os.getcwd()\n",
    "## relevant libraries\n",
    "execfile('./functions/python_libraries.py')\n",
    "\n",
    "## processing datasets\n",
    "execfile('./functions/create_adjacency_matrix.py') \n",
    "execfile('./functions/create_directed_adjacency_matrix.py')\n",
    "\n",
    "execfile('./functions/compute_homophily.py')\n",
    "execfile('./functions/compute_monophily.py')\n",
    "\n",
    "## updated\n",
    "execfile('./functions/compute_monophily_beta_binom.py')\n",
    "execfile('./functions/compute_chi_square.py')\n",
    "\n",
    "\n",
    "\n",
    "execfile('./functions/parsing.py')\n",
    "execfile('./functions/mixing.py')\n",
    "\n",
    "## code for gender prediction \n",
    "execfile('./functions/LINK_finalized.py')\n",
    "execfile('./functions/majority_vote.py')\n",
    "execfile('./functions/ZGL.py')\n",
    "execfile('./functions/benchmark_classifier.py')\n",
    "\n",
    "## gender preference distribution\n",
    "execfile('./functions/compute_null_distribution.py')"
   ]
  },
  {
   "cell_type": "code",
   "execution_count": null,
   "metadata": {
    "collapsed": true
   },
   "outputs": [],
   "source": []
  },
  {
   "cell_type": "markdown",
   "metadata": {},
   "source": [
    "# Load Political Blogs dataset\n",
    "* downloaded dataset from Newman site: http://www-personal.umich.edu/~mejn/netdata/\n",
    "* dataset description: Political blogs: A directed network of hyperlinks between weblogs on US politics, recorded in 2005 by Adamic and Glance. Please cite L. A. Adamic and N. Glance, \"The political blogosphere and the 2004 US Election\", in Proceedings of the WWW-2005 Workshop on the Weblogging Ecosystem (2005). Thanks to Lada Adamic for permission to post these data on this web site.\n",
    "* note that I've manually added \"multigraph 1\" into the header so networkx can recognize.\n",
    "* https://www.cise.ufl.edu/research/sparse/matrices/Newman/polblogs -- our #s match these numbers\n",
    "* and our #s also match these #s: http://moreno.ss.uci.edu/data.html#blogs"
   ]
  },
  {
   "cell_type": "code",
   "execution_count": 43,
   "metadata": {
    "collapsed": true
   },
   "outputs": [],
   "source": [
    "os.chdir('/Users/kristen/Dropbox/gender_graph_data/manuscript/nature_hb/3_nature_hb_running_list_of_revisions_post_may_2017/')"
   ]
  },
  {
   "cell_type": "code",
   "execution_count": 44,
   "metadata": {
    "collapsed": false
   },
   "outputs": [],
   "source": [
    "## set node attributes \n",
    "## error: https://groups.google.com/forum/#!topic/networkx-discuss/kF2sbuLjGwY\n",
    "## per Aric's comment -- I added \"multigraph 1\" in the header.\n",
    "nw_polblogs = nx.read_gml('./data/polblogs_newman/polblogs.gml')"
   ]
  },
  {
   "cell_type": "code",
   "execution_count": 45,
   "metadata": {
    "collapsed": false
   },
   "outputs": [
    {
     "name": "stdout",
     "output_type": "stream",
     "text": [
      "266\n",
      "266\n",
      "425\n",
      "500\n",
      "1224.0\n"
     ]
    }
   ],
   "source": [
    "## spot-checking\n",
    "test = nx.Graph(nw_polblogs)\n",
    "print np.sum((np.array((test.degree().values()))==0)+0)\n",
    "print np.sum((np.array((nw_polblogs.degree().values()))==0)+0)\n",
    "print np.sum((np.array((nw_polblogs.out_degree().values()))==0)+0)\n",
    "print np.sum((np.array((nw_polblogs.in_degree().values()))==0)+0)\n",
    "print np.mean(np.array(nw_polblogs.degree().values())>0) * len(nw_polblogs)"
   ]
  },
  {
   "cell_type": "markdown",
   "metadata": {},
   "source": [
    "### set-up network, largest connected component, ignore NA nodes, etc. like with FB100 and Add Health data processing"
   ]
  },
  {
   "cell_type": "code",
   "execution_count": 46,
   "metadata": {
    "collapsed": false
   },
   "outputs": [],
   "source": [
    "(values_undirected,adj) = create_adj_membership(nw_polblogs.to_undirected(reciprocal=False),\n",
    "                              nx.get_node_attributes(nw_polblogs, 'value'),\n",
    "                              None,\n",
    "                              'yes',\n",
    "                               0,\n",
    "                                None,\n",
    "                          'gender')"
   ]
  },
  {
   "cell_type": "code",
   "execution_count": 47,
   "metadata": {
    "collapsed": false
   },
   "outputs": [
    {
     "data": {
      "text/plain": [
       "0.0"
      ]
     },
     "execution_count": 47,
     "metadata": {},
     "output_type": "execute_result"
    }
   ],
   "source": [
    "np.mean(np.sum(adj,1)==0) # just quick spot-check we should have no degree 0 nodes"
   ]
  },
  {
   "cell_type": "code",
   "execution_count": 48,
   "metadata": {
    "collapsed": false
   },
   "outputs": [
    {
     "name": "stdout",
     "output_type": "stream",
     "text": [
      "(1222, 1222)\n"
     ]
    }
   ],
   "source": [
    "print np.shape(adj)"
   ]
  },
  {
   "cell_type": "code",
   "execution_count": null,
   "metadata": {
    "collapsed": true
   },
   "outputs": [],
   "source": []
  },
  {
   "cell_type": "markdown",
   "metadata": {},
   "source": [
    "## Versions of the Network to Work With:\n",
    "for main paper, we work with undirected, unweighted network; and create out- and in-directed versions of NW for SI.\n"
   ]
  },
  {
   "cell_type": "code",
   "execution_count": 49,
   "metadata": {
    "collapsed": false
   },
   "outputs": [
    {
     "name": "stdout",
     "output_type": "stream",
     "text": [
      "(1033, 1033)\n"
     ]
    }
   ],
   "source": [
    "## 2. out-directed; unweighted\n",
    "(pol_out, adj_out) = create_directed_adj_membership(nw_polblogs,\n",
    "                              nx.get_node_attributes(nw_polblogs, 'value'),\n",
    "                              None,\n",
    "                              'yes',\n",
    "                               0,\n",
    "                               'out',\n",
    "                               'gender')\n",
    "pol_out = np.array(map(np.int,pol_out))\n",
    "adj_out = (adj_out>=1)+0\n",
    "print np.shape(adj_out)"
   ]
  },
  {
   "cell_type": "code",
   "execution_count": null,
   "metadata": {
    "collapsed": true
   },
   "outputs": [],
   "source": []
  },
  {
   "cell_type": "code",
   "execution_count": 50,
   "metadata": {
    "collapsed": false
   },
   "outputs": [
    {
     "name": "stdout",
     "output_type": "stream",
     "text": [
      "(976, 976)\n"
     ]
    }
   ],
   "source": [
    "## 3. in-directed; unweighted\n",
    "(pol_in, adj_in) = create_directed_adj_membership(nw_polblogs,\n",
    "                              nx.get_node_attributes(nw_polblogs, 'value'),\n",
    "                              None,\n",
    "                              'yes',\n",
    "                               0,\n",
    "                               'in',\n",
    "                               'gender')\n",
    "pol_in = np.array(map(np.int,pol_in))\n",
    "adj_in = (adj_in>=1)+0\n",
    "print np.shape(adj_in)"
   ]
  },
  {
   "cell_type": "code",
   "execution_count": null,
   "metadata": {
    "collapsed": true
   },
   "outputs": [],
   "source": []
  },
  {
   "cell_type": "markdown",
   "metadata": {},
   "source": [
    "## Compute Homophily and Monophily Values"
   ]
  },
  {
   "cell_type": "code",
   "execution_count": 51,
   "metadata": {
    "collapsed": false
   },
   "outputs": [
    {
     "name": "stdout",
     "output_type": "stream",
     "text": [
      "[0 1]\n"
     ]
    }
   ],
   "source": [
    "print np.unique(values_undirected)\n",
    "F_fb_label = 0\n",
    "M_fb_label = 1"
   ]
  },
  {
   "cell_type": "markdown",
   "metadata": {},
   "source": [
    "# homophily"
   ]
  },
  {
   "cell_type": "markdown",
   "metadata": {},
   "source": [
    "#### homophily on undirected:"
   ]
  },
  {
   "cell_type": "code",
   "execution_count": 52,
   "metadata": {
    "collapsed": true
   },
   "outputs": [],
   "source": [
    "homophily_political =  homophily_index_Jackson_alternative(adj,\n",
    "                                                           values_undirected) # observed homophily"
   ]
  },
  {
   "cell_type": "code",
   "execution_count": 53,
   "metadata": {
    "collapsed": false
   },
   "outputs": [
    {
     "data": {
      "text/plain": [
       "[0.90260740923380389, 0.90887068866074516]"
      ]
     },
     "execution_count": 53,
     "metadata": {},
     "output_type": "execute_result"
    }
   ],
   "source": [
    "homophily_political"
   ]
  },
  {
   "cell_type": "code",
   "execution_count": 54,
   "metadata": {
    "collapsed": false
   },
   "outputs": [
    {
     "name": "stdout",
     "output_type": "stream",
     "text": [
      "[ 0.8867808   0.91615003]\n"
     ]
    }
   ],
   "source": [
    "## versus beta-binomial estimates of homophily\n",
    "b0 = np.array(map(np.exp,homophily_index_beta_bin(adj,\n",
    "                        values_undirected)))\n",
    "print b0/(1+b0)"
   ]
  },
  {
   "cell_type": "code",
   "execution_count": null,
   "metadata": {
    "collapsed": true
   },
   "outputs": [],
   "source": []
  },
  {
   "cell_type": "code",
   "execution_count": null,
   "metadata": {
    "collapsed": true
   },
   "outputs": [],
   "source": []
  },
  {
   "cell_type": "markdown",
   "metadata": {},
   "source": [
    "#### homophily on out-directed:"
   ]
  },
  {
   "cell_type": "code",
   "execution_count": 55,
   "metadata": {
    "collapsed": false
   },
   "outputs": [
    {
     "name": "stdout",
     "output_type": "stream",
     "text": [
      "[0.9269863994273444, 0.90999330805264333]\n"
     ]
    }
   ],
   "source": [
    "homophily_political_out =  homophily_index_Jackson_alternative(adj_out, \n",
    "                                                           pol_out) # observed homophily\n",
    "print homophily_political_out"
   ]
  },
  {
   "cell_type": "code",
   "execution_count": 56,
   "metadata": {
    "collapsed": false
   },
   "outputs": [
    {
     "name": "stdout",
     "output_type": "stream",
     "text": [
      "[ 0.90984578  0.90907082]\n"
     ]
    }
   ],
   "source": [
    "## versus beta-binomial estimates of homophily\n",
    "b0 = np.array(map(np.exp,homophily_index_beta_bin(adj_out,\n",
    "                        pol_out)))\n",
    "print b0/(1+b0)"
   ]
  },
  {
   "cell_type": "code",
   "execution_count": null,
   "metadata": {
    "collapsed": true
   },
   "outputs": [],
   "source": []
  },
  {
   "cell_type": "code",
   "execution_count": null,
   "metadata": {
    "collapsed": true
   },
   "outputs": [],
   "source": []
  },
  {
   "cell_type": "markdown",
   "metadata": {},
   "source": [
    "#### homophily on in-directed"
   ]
  },
  {
   "cell_type": "code",
   "execution_count": 57,
   "metadata": {
    "collapsed": false
   },
   "outputs": [
    {
     "name": "stdout",
     "output_type": "stream",
     "text": [
      "[0.90551839464882944, 0.9256216696269981]\n"
     ]
    }
   ],
   "source": [
    "homophily_political_in =  homophily_index_Jackson_alternative(adj_in, \n",
    "                                                           pol_in) # observed homophily\n",
    "print homophily_political_in"
   ]
  },
  {
   "cell_type": "code",
   "execution_count": 58,
   "metadata": {
    "collapsed": false
   },
   "outputs": [
    {
     "name": "stdout",
     "output_type": "stream",
     "text": [
      "[ 0.89991036  0.9464187 ]\n"
     ]
    }
   ],
   "source": [
    "## versus beta-binomial estimates of homophily\n",
    "b0 = np.array(map(np.exp,homophily_index_beta_bin(adj_in,\n",
    "                        pol_in)))\n",
    "print b0/(1+b0)"
   ]
  },
  {
   "cell_type": "code",
   "execution_count": null,
   "metadata": {
    "collapsed": true
   },
   "outputs": [],
   "source": []
  },
  {
   "cell_type": "code",
   "execution_count": null,
   "metadata": {
    "collapsed": true
   },
   "outputs": [],
   "source": []
  },
  {
   "cell_type": "code",
   "execution_count": null,
   "metadata": {
    "collapsed": true
   },
   "outputs": [],
   "source": []
  },
  {
   "cell_type": "markdown",
   "metadata": {},
   "source": [
    "# monophily\n",
    "\n"
   ]
  },
  {
   "cell_type": "markdown",
   "metadata": {},
   "source": [
    "#### monophily on undirected:"
   ]
  },
  {
   "cell_type": "code",
   "execution_count": 59,
   "metadata": {
    "collapsed": false
   },
   "outputs": [
    {
     "name": "stdout",
     "output_type": "stream",
     "text": [
      "[0.23068324233380158, 0.18690770001432608]\n"
     ]
    }
   ],
   "source": [
    "monophily_political = monophily_index_overdispersion_Williams(adj, \n",
    "                                                              values_undirected)\n",
    "print monophily_political ## check the possible range of values here"
   ]
  },
  {
   "cell_type": "markdown",
   "metadata": {},
   "source": [
    "#### determine significance of overdispersion"
   ]
  },
  {
   "cell_type": "code",
   "execution_count": 60,
   "metadata": {
    "collapsed": false
   },
   "outputs": [
    {
     "name": "stdout",
     "output_type": "stream",
     "text": [
      "[0.0, 0.0]\n"
     ]
    }
   ],
   "source": [
    "## check p-value\n",
    "## compute with p-values\n",
    "print compute_chi_square_statistic(adj, values_undirected)"
   ]
  },
  {
   "cell_type": "code",
   "execution_count": 61,
   "metadata": {
    "collapsed": false
   },
   "outputs": [
    {
     "name": "stdout",
     "output_type": "stream",
     "text": [
      "[0.1548024239711555, 0.11173300915465852]\n"
     ]
    }
   ],
   "source": [
    "## new: beta-binomial monophily measure\n",
    "monophily_political_beta_binom = monophily_index_beta_bin(adj,\n",
    "                                                         values_undirected)\n",
    "print monophily_political_beta_binom"
   ]
  },
  {
   "cell_type": "code",
   "execution_count": null,
   "metadata": {
    "collapsed": true
   },
   "outputs": [],
   "source": []
  },
  {
   "cell_type": "code",
   "execution_count": null,
   "metadata": {
    "collapsed": true
   },
   "outputs": [],
   "source": []
  },
  {
   "cell_type": "markdown",
   "metadata": {},
   "source": [
    "#### monophily on out-directed:"
   ]
  },
  {
   "cell_type": "code",
   "execution_count": 62,
   "metadata": {
    "collapsed": false
   },
   "outputs": [
    {
     "name": "stdout",
     "output_type": "stream",
     "text": [
      "[0.24245094931031005, 0.18729321159959025]\n"
     ]
    }
   ],
   "source": [
    "monophily_political_out = monophily_index_overdispersion_Williams(adj_out, \n",
    "                                                              pol_out)\n",
    "print monophily_political_out"
   ]
  },
  {
   "cell_type": "code",
   "execution_count": 63,
   "metadata": {
    "collapsed": false
   },
   "outputs": [
    {
     "name": "stdout",
     "output_type": "stream",
     "text": [
      "[0.1814383969576272, 0.13808552182955358]\n"
     ]
    }
   ],
   "source": [
    "## new: beta-binomial monophily measure\n",
    "monophily_political_beta_binom_out = monophily_index_beta_bin(adj_out,\n",
    "                                                         pol_out)\n",
    "print monophily_political_beta_binom_out"
   ]
  },
  {
   "cell_type": "code",
   "execution_count": null,
   "metadata": {
    "collapsed": true
   },
   "outputs": [],
   "source": []
  },
  {
   "cell_type": "markdown",
   "metadata": {},
   "source": [
    "#### monophily on in-directed:"
   ]
  },
  {
   "cell_type": "code",
   "execution_count": 64,
   "metadata": {
    "collapsed": false
   },
   "outputs": [
    {
     "name": "stdout",
     "output_type": "stream",
     "text": [
      "[0.25487497016641913, 0.13122892264726063]\n"
     ]
    }
   ],
   "source": [
    "monophily_political_in = monophily_index_overdispersion_Williams(adj_in, \n",
    "                                                              pol_in)\n",
    "print monophily_political_in"
   ]
  },
  {
   "cell_type": "code",
   "execution_count": 65,
   "metadata": {
    "collapsed": false
   },
   "outputs": [
    {
     "name": "stdout",
     "output_type": "stream",
     "text": [
      "[0.19087389361747012, 0.09137635530415934]\n"
     ]
    }
   ],
   "source": [
    "monophily_political_beta_binom_in = monophily_index_beta_bin(adj_in, \n",
    "                                                              pol_in)\n",
    "print monophily_political_beta_binom_in"
   ]
  },
  {
   "cell_type": "code",
   "execution_count": null,
   "metadata": {
    "collapsed": true
   },
   "outputs": [],
   "source": []
  },
  {
   "cell_type": "code",
   "execution_count": null,
   "metadata": {
    "collapsed": true
   },
   "outputs": [],
   "source": []
  },
  {
   "cell_type": "code",
   "execution_count": 66,
   "metadata": {
    "collapsed": false
   },
   "outputs": [
    {
     "name": "stdout",
     "output_type": "stream",
     "text": [
      "0.902607409234\n",
      "0.902607409234\n",
      "\n",
      "0.908870688661\n",
      "0.908870688661\n"
     ]
    }
   ],
   "source": [
    "#F\n",
    "in_F_degree = adj[values_undirected==F_fb_label,] * np.matrix((values_undirected==F_fb_label)+0).T\n",
    "total_F_degree = np.sum(adj[values_undirected==F_fb_label,] ,1)\n",
    "h_F = np.mean(in_F_degree)/np.mean(total_F_degree)\n",
    "print h_F\n",
    "print homophily_political[0]\n",
    "print ''\n",
    "#M\n",
    "in_M_degree = adj[values_undirected==M_fb_label,] * np.matrix((values_undirected==M_fb_label)+0).T\n",
    "total_M_degree = np.sum(adj[values_undirected==M_fb_label,] ,1)\n",
    "h_M = np.mean(in_M_degree)/np.mean(total_M_degree)\n",
    "print h_M\n",
    "print homophily_political[1]\n"
   ]
  },
  {
   "cell_type": "code",
   "execution_count": 67,
   "metadata": {
    "collapsed": false
   },
   "outputs": [],
   "source": [
    "n_iter = 100000\n",
    "d_iF = map(np.int,np.array(total_F_degree.T)[0])\n",
    "\n",
    "mc_F = []\n",
    "for j in range(n_iter):\n",
    "    mc_F.append( np.random.binomial(n=map(np.int,np.array(total_F_degree.T)[0]), p=h_F)/d_iF)\n",
    "    \n",
    "mc_F_final = np.array(mc_F).flatten()\n",
    "\n",
    "total_M_degree = np.sum(adj[values_undirected==M_fb_label,] ,1)\n",
    "d_iM = map(np.int,np.array(total_M_degree.T)[0])\n",
    "\n",
    "\n",
    "mc_M = []\n",
    "for j in range(n_iter):\n",
    "    mc_M.append( np.random.binomial(n=map(np.int,np.array(total_M_degree.T)[0]), p=h_M)/d_iM)\n",
    "    \n",
    "mc_M_final = np.array(mc_M).flatten()"
   ]
  },
  {
   "cell_type": "code",
   "execution_count": 68,
   "metadata": {
    "collapsed": true
   },
   "outputs": [],
   "source": [
    "output_dir = '/Users/kristen/Dropbox/gender_graph_data/manuscript/nature_hb/gender_graph_final_code_NatureHB/figures/'"
   ]
  },
  {
   "cell_type": "code",
   "execution_count": 69,
   "metadata": {
    "collapsed": false
   },
   "outputs": [
    {
     "data": {
      "image/png": "[encoded data removed]",
      "text/plain": [
       "<matplotlib.figure.Figure at 0x119c10050>"
      ]
     },
     "metadata": {},
     "output_type": "display_data"
    }
   ],
   "source": [
    "alpha_empirical = 0.4\n",
    "y_max = 20\n",
    "%matplotlib inline\n",
    "nbins = 35\n",
    "f, (ax1, ax2) = plt.subplots(1, 2, \n",
    "                             sharey=False, sharex=False,\n",
    "                            figsize=(8, 3))\n",
    "plt.setp(ax1, \n",
    "         xticks=[0,0.25, 0.5, 0.75, 1], \n",
    "         xticklabels=['0', '0.25', '0.50', '0.75', '1'])\n",
    "ax1.set_xticks([0,0.25, 0.5, 0.75, 1])\n",
    "ax1.minorticks_on()\n",
    "ax1.tick_params('both', length=4, width=1, which='major', left=1, bottom=1, top=0, right=0)\n",
    "\n",
    "\n",
    "ax1.hist(in_F_degree/total_F_degree,\n",
    "         bins = np.linspace(0,1,nbins),\n",
    "         normed = True,\n",
    "         edgecolor = 'white',\n",
    "        color='red',\n",
    "         alpha=0.25)\n",
    "\n",
    "ax1.hist(mc_F_final,\n",
    "         bins = np.linspace(0,1,nbins),\n",
    "         normed = True,\n",
    "         edgecolor = 'red',histtype='step',\n",
    "        color='white',alpha=1,lw=1.5)\n",
    "\n",
    "\n",
    "ax1.set_ylabel('Normalized Frequency')\n",
    "ax1.set_xlabel('Proportion of $in$-class neighbors, $d_{i,\\\\mathrm{in}}/d_i$')\n",
    "ax1.spines[\"right\"].set_visible(False)\n",
    "ax1.spines[\"top\"].set_visible(False)\n",
    "ax1.set_ylim(0,y_max)\n",
    "ax1.set_xlim(0,1.01)\n",
    "\n",
    "\n",
    "\n",
    "ax2.set_ylim(0,y_max)\n",
    "ax2.set_xlim(0,1.01)\n",
    "plt.setp(ax2, xticks=[0,0.25, 0.5, 0.75, 1], xticklabels=['0', '0.25', '0.50', '0.75', '1'])\n",
    "ax2.set_xticks([0,0.25, 0.5, 0.75, 1])\n",
    "ax2.minorticks_on()\n",
    "ax2.tick_params('both', length=4, width=1, which='major', left=1, bottom=1, top=0, right=0)\n",
    "\n",
    "\n",
    "ax2.hist(in_M_degree/total_M_degree,\n",
    "         bins = np.linspace(0,1,nbins),\n",
    "         normed = True,\n",
    "         edgecolor = 'white',\n",
    "        color='black',alpha=0.25)\n",
    "ax2.hist(mc_M_final,\n",
    "         bins = np.linspace(0,1,nbins),\n",
    "         normed = True,\n",
    "         edgecolor = 'black',histtype='step',\n",
    "        color='white',alpha=1,lw=1.5)\n",
    "ax2.spines[\"right\"].set_visible(False)\n",
    "ax2.spines[\"top\"].set_visible(False)\n",
    "ax2.set_xlabel('Proportion of $in$-class Neighbors, $d_{i,\\\\mathrm{in}}/d_i$')\n",
    "ax2.set_ylabel('Normalized Frequency')\n",
    "\n",
    "ax1.annotate('Liberal Null', xy=(0.05,19), \n",
    "                 color='red', alpha=1, size=12)\n",
    "ax1.annotate('Liberal Empirical', xy=(0.05,17.8), \n",
    "                 color='red', alpha=alpha_empirical, size=12)\n",
    "ax2.annotate('Conservative Null', xy=(0.05,19), \n",
    "                 color='black', alpha=1, size=12)\n",
    "ax2.annotate('Conservative Empirical', xy=(0.05,17.8), \n",
    "                 color='black', alpha=alpha_empirical, size=12)\n",
    "plt.tight_layout()\n",
    "pp = PdfPages(output_dir+'/pol_blogs_proportion_degree_same_on_undirected.pdf')\n",
    "pp.savefig()\n",
    "pp.close()\n"
   ]
  },
  {
   "cell_type": "code",
   "execution_count": null,
   "metadata": {
    "collapsed": true
   },
   "outputs": [],
   "source": []
  },
  {
   "cell_type": "code",
   "execution_count": null,
   "metadata": {
    "collapsed": true
   },
   "outputs": [],
   "source": []
  },
  {
   "cell_type": "markdown",
   "metadata": {},
   "source": [
    "# %changeAUC@khop Plot"
   ]
  },
  {
   "cell_type": "code",
   "execution_count": 21,
   "metadata": {
    "collapsed": false
   },
   "outputs": [],
   "source": [
    "k_hop = np.array([1,2,3,4,5])\n",
    "class_values = np.unique(values_undirected)"
   ]
  },
  {
   "cell_type": "code",
   "execution_count": 22,
   "metadata": {
    "collapsed": false
   },
   "outputs": [
    {
     "name": "stdout",
     "output_type": "stream",
     "text": [
      "1\n",
      "2\n",
      "3\n",
      "4\n",
      "5\n"
     ]
    }
   ],
   "source": [
    "auc_array = []\n",
    "for k in k_hop:  \n",
    "    print k\n",
    "    adj_amherst_k= np.matrix(adj)**k\n",
    "    adj_amherst_k[range(adj_amherst_k.shape[0]),range(adj_amherst_k.shape[0])]=0 ## remove self-loops\n",
    "                              \n",
    "    mv_g1 = (adj_amherst_k[values_undirected==class_values[0],:] * np.matrix((values_undirected==class_values[0])+0).T)/np.sum(adj_amherst_k[values_undirected==class_values[0],:],1)\n",
    "    mv_g2 = (adj_amherst_k[values_undirected==class_values[1],:] * np.matrix((values_undirected==class_values[1])+0).T)/np.sum(adj_amherst_k[values_undirected==class_values[1],:],1)\n",
    "    proportion_majority_same = np.mean(np.concatenate((np.array(mv_g1).T[0]>np.mean(values_undirected==class_values[0]),\n",
    "                                                                       np.array(mv_g2).T[0]>np.mean(values_undirected==class_values[1]))))\n",
    "\n",
    "    y_score = np.array(np.concatenate((1-mv_g1,mv_g2))).T[0]\n",
    "    y_test = np.concatenate((np.repeat(class_values[0],len(mv_g1)),\n",
    "                                             np.repeat(class_values[1],len(mv_g2))))\n",
    "\n",
    "    auc_score = sklearn.metrics.roc_auc_score(label_binarize(y_test, np.unique(y_test)),\n",
    "                                    y_score)\n",
    "    auc_array.append(auc_score)"
   ]
  },
  {
   "cell_type": "code",
   "execution_count": 23,
   "metadata": {
    "collapsed": false
   },
   "outputs": [
    {
     "name": "stdout",
     "output_type": "stream",
     "text": [
      "[0.96794840835426199, 0.97408746002103586, 0.97275795822869038, 0.97254062292055732, 0.9725245240088437]\n"
     ]
    }
   ],
   "source": [
    "print auc_array"
   ]
  },
  {
   "cell_type": "code",
   "execution_count": 25,
   "metadata": {
    "collapsed": true
   },
   "outputs": [],
   "source": [
    "output_dir = '/Users/kristen/Dropbox/gender_graph_data/manuscript/nature_hb/gender_graph_final_code_NatureHB/figures/'"
   ]
  },
  {
   "cell_type": "code",
   "execution_count": 40,
   "metadata": {
    "collapsed": false
   },
   "outputs": [
    {
     "data": {
      "image/png": "[encoded data removed]",
      "text/plain": [
       "<matplotlib.figure.Figure at 0x12f586190>"
      ]
     },
     "metadata": {},
     "output_type": "display_data"
    }
   ],
   "source": [
    "%matplotlib inline\n",
    "ax = plt.subplot(111)\n",
    "ax.plot(k_hop,\n",
    "           (auc_array-auc_array[0])/auc_array[0]*100, color = 'black')\n",
    "\n",
    "\n",
    "ax.scatter(k_hop,\n",
    "           (auc_array-auc_array[0])/auc_array[0]*100, color = 'black')\n",
    "\n",
    "ax.set_xlabel('neighborhood distance')\n",
    "ax.set_ylabel('% change in AUC')\n",
    "\n",
    "ax.set_xlim(0.9,5.1)\n",
    "ax.spines['right'].set_visible(False)\n",
    "ax.spines['top'].set_visible(False)\n",
    "#plt.ylim(0.99,1.01)\n",
    "#plt.show()\n",
    "#ax.set_ylim(-35,5)\n",
    "ax.set_ylim(-6,6)\n",
    "\n",
    "\n",
    "ax.set_title('Political Blogs')\n",
    "\n",
    "pp = PdfPages(output_dir+'/khop_vs_AUC_pol_blogs_NHB_figure_python.pdf')\n",
    "pp.savefig()\n",
    "pp.close()\n",
    "\n",
    "\n"
   ]
  },
  {
   "cell_type": "code",
   "execution_count": null,
   "metadata": {
    "collapsed": true
   },
   "outputs": [],
   "source": []
  },
  {
   "cell_type": "code",
   "execution_count": null,
   "metadata": {
    "collapsed": true
   },
   "outputs": [],
   "source": []
  },
  {
   "cell_type": "code",
   "execution_count": null,
   "metadata": {
    "collapsed": true
   },
   "outputs": [],
   "source": []
  },
  {
   "cell_type": "markdown",
   "metadata": {},
   "source": [
    "# %same@khop Plot\n",
    "for k=1,2,...,5"
   ]
  },
  {
   "cell_type": "code",
   "execution_count": 31,
   "metadata": {
    "collapsed": true
   },
   "outputs": [],
   "source": [
    "k_hop = np.array([1,2,3,4,5])\n",
    "class_values = np.unique(values_undirected)"
   ]
  },
  {
   "cell_type": "code",
   "execution_count": 32,
   "metadata": {
    "collapsed": false
   },
   "outputs": [
    {
     "name": "stdout",
     "output_type": "stream",
     "text": [
      "1\n",
      "2\n",
      "3\n",
      "4\n",
      "5\n"
     ]
    }
   ],
   "source": [
    "prop_same_array = []\n",
    "for k in k_hop:  \n",
    "    print k\n",
    "    adj_amherst_k= np.matrix(adj)**k\n",
    "    adj_amherst_k[range(adj_amherst_k.shape[0]),range(adj_amherst_k.shape[0])]=0 ## remove self-loops\n",
    "                              \n",
    "    mv_g1 = (adj_amherst_k[values_undirected==class_values[0],:] * np.matrix((values_undirected==class_values[0])+0).T)/np.sum(adj_amherst_k[values_undirected==class_values[0],:],1)\n",
    "    mv_g2 = (adj_amherst_k[values_undirected==class_values[1],:] * np.matrix((values_undirected==class_values[1])+0).T)/np.sum(adj_amherst_k[values_undirected==class_values[1],:],1)\n",
    "    proportion_majority_same = np.mean(np.concatenate((np.array(mv_g1).T[0]>np.mean(values_undirected==class_values[0]),\n",
    "                                                                       np.array(mv_g2).T[0]>np.mean(values_undirected==class_values[1]))))\n",
    "    prop_same_array.append( proportion_majority_same)\n"
   ]
  },
  {
   "cell_type": "code",
   "execution_count": 33,
   "metadata": {
    "collapsed": false
   },
   "outputs": [
    {
     "name": "stdout",
     "output_type": "stream",
     "text": [
      "[1 2 3 4 5]\n",
      "[0.9549918166939444, 0.95335515548281502, 0.95417348608837971, 0.95171849427168576, 0.94844517184942712]\n"
     ]
    }
   ],
   "source": [
    "print k_hop\n",
    "print prop_same_array"
   ]
  },
  {
   "cell_type": "code",
   "execution_count": 34,
   "metadata": {
    "collapsed": false
   },
   "outputs": [
    {
     "data": {
      "text/plain": [
       "[0.9549918166939444,\n",
       " 0.95335515548281502,\n",
       " 0.95417348608837971,\n",
       " 0.95171849427168576,\n",
       " 0.94844517184942712]"
      ]
     },
     "execution_count": 34,
     "metadata": {},
     "output_type": "execute_result"
    }
   ],
   "source": [
    "prop_same_array"
   ]
  },
  {
   "cell_type": "code",
   "execution_count": 35,
   "metadata": {
    "collapsed": false
   },
   "outputs": [
    {
     "data": {
      "image/png": "[encoded data removed]",
      "text/plain": [
       "<matplotlib.figure.Figure at 0x11a22de10>"
      ]
     },
     "metadata": {},
     "output_type": "display_data"
    }
   ],
   "source": [
    "%matplotlib inline\n",
    "plt.plot(k_hop,\n",
    "           prop_same_array/prop_same_array[0], color = 'black')\n",
    "\n",
    "\n",
    "plt.scatter(k_hop,\n",
    "           prop_same_array/prop_same_array[0], color = 'black')\n",
    "\n",
    "plt.xlabel('k-hop')\n",
    "plt.ylabel('%same@k/%same@1')\n",
    "plt.xlim(0.9,5.1)\n",
    "plt.ylim(0.99,1.01)\n",
    "#plt.show()\n",
    "pp = PdfPages(output_dir+'/pol_blogs_%same@kplot.pdf')\n",
    "pp.savefig()\n",
    "pp.close()\n"
   ]
  },
  {
   "cell_type": "code",
   "execution_count": 36,
   "metadata": {
    "collapsed": false
   },
   "outputs": [
    {
     "name": "stdout",
     "output_type": "stream",
     "text": [
      "1\n",
      "2\n",
      "3\n",
      "4\n",
      "5\n"
     ]
    },
    {
     "data": {
      "image/png": "[encoded data removed]",
      "text/plain": [
       "<matplotlib.figure.Figure at 0x16c730810>"
      ]
     },
     "metadata": {},
     "output_type": "display_data"
    },
    {
     "name": "stdout",
     "output_type": "stream",
     "text": [
      "1\n",
      "2\n",
      "3\n",
      "4\n",
      "5\n"
     ]
    },
    {
     "data": {
      "image/png": "[encoded data removed]",
      "text/plain": [
       "<matplotlib.figure.Figure at 0x119cb3b50>"
      ]
     },
     "metadata": {},
     "output_type": "display_data"
    },
    {
     "name": "stdout",
     "output_type": "stream",
     "text": [
      "1\n",
      "2\n",
      "3\n",
      "4\n",
      "5\n"
     ]
    },
    {
     "data": {
      "image/png": "[encoded data removed]",
      "text/plain": [
       "<matplotlib.figure.Figure at 0x1212f6490>"
      ]
     },
     "metadata": {},
     "output_type": "display_data"
    },
    {
     "name": "stdout",
     "output_type": "stream",
     "text": [
      "1\n",
      "2\n",
      "3\n",
      "4\n",
      "5\n"
     ]
    },
    {
     "data": {
      "image/png": "[encoded data removed]",
      "text/plain": [
       "<matplotlib.figure.Figure at 0x115381b50>"
      ]
     },
     "metadata": {},
     "output_type": "display_data"
    },
    {
     "name": "stdout",
     "output_type": "stream",
     "text": [
      "1\n",
      "2\n",
      "3\n",
      "4\n",
      "5\n"
     ]
    },
    {
     "data": {
      "image/png": "[encoded data removed]",
      "text/plain": [
       "<matplotlib.figure.Figure at 0x121224e90>"
      ]
     },
     "metadata": {},
     "output_type": "display_data"
    }
   ],
   "source": [
    "degree = np.array([1,5,10,100,300])\n",
    "for j in range(len(degree)):\n",
    "    d1 = np.array(np.sum(adj,1)[values_undirected==class_values[0]] <= degree[j]).T[0]\n",
    "    d2 = np.array(np.sum(adj,1)[values_undirected==class_values[1]] <= degree[j]).T[0]\n",
    "    d = np.array(np.sum(adj,1)<= degree[j]).T[0]\n",
    "\n",
    "    prop_same_array = []\n",
    "\n",
    "\n",
    "    for k in k_hop:  \n",
    "        print k\n",
    "        adj_amherst_k= np.matrix(adj)**k\n",
    "        adj_amherst_k[range(adj_amherst_k.shape[0]),range(adj_amherst_k.shape[0])]=0 ## remove self-loops\n",
    "\n",
    "        mv_g1 = (adj_amherst_k[values_undirected==class_values[0],:] * np.matrix((values_undirected==class_values[0])+0).T)/np.sum(adj_amherst_k[values_undirected==class_values[0],:],1)\n",
    "        mv_g2 = (adj_amherst_k[values_undirected==class_values[1],:] * np.matrix((values_undirected==class_values[1])+0).T)/np.sum(adj_amherst_k[values_undirected==class_values[1],:],1)\n",
    "        proportion_majority_same = np.mean(np.concatenate((np.array(mv_g1).T[0][d1]>np.mean(values_undirected==class_values[0]),\n",
    "                                                                           np.array(mv_g2).T[0][d2]>np.mean(values_undirected==class_values[1]))))\n",
    "        prop_same_array.append( proportion_majority_same)\n",
    "\n",
    "    %matplotlib inline\n",
    "    plt.plot(k_hop,\n",
    "                   prop_same_array/prop_same_array[0], color = 'black')\n",
    "\n",
    "\n",
    "    plt.scatter(k_hop,\n",
    "                   prop_same_array/prop_same_array[0], color = 'black')\n",
    "\n",
    "    plt.xlabel('k-hop')\n",
    "    plt.ylabel('%same@k/%same@1')\n",
    "    plt.title('with degree <= ' + str(degree[j]))\n",
    "    plt.xlim(0.9,5.1)\n",
    "    #plt.ylim(0.99,1.01)\n",
    "    plt.show()"
   ]
  },
  {
   "cell_type": "code",
   "execution_count": 37,
   "metadata": {
    "collapsed": false
   },
   "outputs": [
    {
     "name": "stdout",
     "output_type": "stream",
     "text": [
      "1\n",
      "2\n",
      "3\n",
      "4\n",
      "5\n"
     ]
    },
    {
     "data": {
      "image/png": "[encoded data removed]",
      "text/plain": [
       "<matplotlib.figure.Figure at 0x1193ee550>"
      ]
     },
     "metadata": {},
     "output_type": "display_data"
    },
    {
     "name": "stdout",
     "output_type": "stream",
     "text": [
      "1\n",
      "2\n",
      "3\n",
      "4\n",
      "5\n"
     ]
    },
    {
     "ename": "KeyboardInterrupt",
     "evalue": "",
     "output_type": "error",
     "traceback": [
      "\u001b[0;31m---------------------------------------------------------------------------\u001b[0m",
      "\u001b[0;31mKeyboardInterrupt\u001b[0m                         Traceback (most recent call last)",
      "\u001b[0;32m<ipython-input-37-1dfb4b7527f4>\u001b[0m in \u001b[0;36m<module>\u001b[0;34m()\u001b[0m\n\u001b[1;32m     10\u001b[0m     \u001b[0;32mfor\u001b[0m \u001b[0mk\u001b[0m \u001b[0;32min\u001b[0m \u001b[0mk_hop\u001b[0m\u001b[0;34m:\u001b[0m\u001b[0;34m\u001b[0m\u001b[0m\n\u001b[1;32m     11\u001b[0m         \u001b[0;32mprint\u001b[0m \u001b[0mk\u001b[0m\u001b[0;34m\u001b[0m\u001b[0m\n\u001b[0;32m---> 12\u001b[0;31m         \u001b[0madj_amherst_k\u001b[0m\u001b[0;34m=\u001b[0m \u001b[0mnp\u001b[0m\u001b[0;34m.\u001b[0m\u001b[0mmatrix\u001b[0m\u001b[0;34m(\u001b[0m\u001b[0madj\u001b[0m\u001b[0;34m)\u001b[0m\u001b[0;34m**\u001b[0m\u001b[0mk\u001b[0m\u001b[0;34m\u001b[0m\u001b[0m\n\u001b[0m\u001b[1;32m     13\u001b[0m         \u001b[0madj_amherst_k\u001b[0m\u001b[0;34m[\u001b[0m\u001b[0mrange\u001b[0m\u001b[0;34m(\u001b[0m\u001b[0madj_amherst_k\u001b[0m\u001b[0;34m.\u001b[0m\u001b[0mshape\u001b[0m\u001b[0;34m[\u001b[0m\u001b[0;36m0\u001b[0m\u001b[0;34m]\u001b[0m\u001b[0;34m)\u001b[0m\u001b[0;34m,\u001b[0m\u001b[0mrange\u001b[0m\u001b[0;34m(\u001b[0m\u001b[0madj_amherst_k\u001b[0m\u001b[0;34m.\u001b[0m\u001b[0mshape\u001b[0m\u001b[0;34m[\u001b[0m\u001b[0;36m0\u001b[0m\u001b[0;34m]\u001b[0m\u001b[0;34m)\u001b[0m\u001b[0;34m]\u001b[0m\u001b[0;34m=\u001b[0m\u001b[0;36m0\u001b[0m \u001b[0;31m## remove self-loops\u001b[0m\u001b[0;34m\u001b[0m\u001b[0m\n\u001b[1;32m     14\u001b[0m \u001b[0;34m\u001b[0m\u001b[0m\n",
      "\u001b[0;32m/Users/kristen/anaconda/lib/python2.7/site-packages/numpy/matrixlib/defmatrix.pyc\u001b[0m in \u001b[0;36m__pow__\u001b[0;34m(self, other)\u001b[0m\n\u001b[1;32m    320\u001b[0m \u001b[0;34m\u001b[0m\u001b[0m\n\u001b[1;32m    321\u001b[0m     \u001b[0;32mdef\u001b[0m \u001b[0m__pow__\u001b[0m\u001b[0;34m(\u001b[0m\u001b[0mself\u001b[0m\u001b[0;34m,\u001b[0m \u001b[0mother\u001b[0m\u001b[0;34m)\u001b[0m\u001b[0;34m:\u001b[0m\u001b[0;34m\u001b[0m\u001b[0m\n\u001b[0;32m--> 322\u001b[0;31m         \u001b[0;32mreturn\u001b[0m \u001b[0mmatrix_power\u001b[0m\u001b[0;34m(\u001b[0m\u001b[0mself\u001b[0m\u001b[0;34m,\u001b[0m \u001b[0mother\u001b[0m\u001b[0;34m)\u001b[0m\u001b[0;34m\u001b[0m\u001b[0m\n\u001b[0m\u001b[1;32m    323\u001b[0m \u001b[0;34m\u001b[0m\u001b[0m\n\u001b[1;32m    324\u001b[0m     \u001b[0;32mdef\u001b[0m \u001b[0m__ipow__\u001b[0m\u001b[0;34m(\u001b[0m\u001b[0mself\u001b[0m\u001b[0;34m,\u001b[0m \u001b[0mother\u001b[0m\u001b[0;34m)\u001b[0m\u001b[0;34m:\u001b[0m\u001b[0;34m\u001b[0m\u001b[0m\n",
      "\u001b[0;32m/Users/kristen/anaconda/lib/python2.7/site-packages/numpy/matrixlib/defmatrix.pyc\u001b[0m in \u001b[0;36mmatrix_power\u001b[0;34m(M, n)\u001b[0m\n\u001b[1;32m    168\u001b[0m         \u001b[0mZ\u001b[0m \u001b[0;34m=\u001b[0m \u001b[0mN\u001b[0m\u001b[0;34m.\u001b[0m\u001b[0mdot\u001b[0m\u001b[0;34m(\u001b[0m\u001b[0mZ\u001b[0m\u001b[0;34m,\u001b[0m \u001b[0mZ\u001b[0m\u001b[0;34m)\u001b[0m\u001b[0;34m\u001b[0m\u001b[0m\n\u001b[1;32m    169\u001b[0m         \u001b[0;32mif\u001b[0m \u001b[0mbeta\u001b[0m\u001b[0;34m[\u001b[0m\u001b[0mt\u001b[0m\u001b[0;34m-\u001b[0m\u001b[0mk\u001b[0m\u001b[0;34m-\u001b[0m\u001b[0;36m1\u001b[0m\u001b[0;34m]\u001b[0m \u001b[0;34m==\u001b[0m \u001b[0;34m'1'\u001b[0m\u001b[0;34m:\u001b[0m\u001b[0;34m\u001b[0m\u001b[0m\n\u001b[0;32m--> 170\u001b[0;31m             \u001b[0mresult\u001b[0m \u001b[0;34m=\u001b[0m \u001b[0mN\u001b[0m\u001b[0;34m.\u001b[0m\u001b[0mdot\u001b[0m\u001b[0;34m(\u001b[0m\u001b[0mresult\u001b[0m\u001b[0;34m,\u001b[0m \u001b[0mZ\u001b[0m\u001b[0;34m)\u001b[0m\u001b[0;34m\u001b[0m\u001b[0m\n\u001b[0m\u001b[1;32m    171\u001b[0m     \u001b[0;32mreturn\u001b[0m \u001b[0mresult\u001b[0m\u001b[0;34m\u001b[0m\u001b[0m\n\u001b[1;32m    172\u001b[0m \u001b[0;34m\u001b[0m\u001b[0m\n",
      "\u001b[0;31mKeyboardInterrupt\u001b[0m: "
     ]
    }
   ],
   "source": [
    "degree = np.array([1,5,10])\n",
    "for j in range(len(degree)):\n",
    "    d1 = np.array(np.sum(adj,1)[values_undirected==class_values[0]] > degree[j]).T[0]\n",
    "    d2 = np.array(np.sum(adj,1)[values_undirected==class_values[1]] > degree[j]).T[0]\n",
    "    d = np.array(np.sum(adj,1) > degree[j]).T[0]\n",
    "\n",
    "    prop_same_array = []\n",
    "\n",
    "\n",
    "    for k in k_hop:  \n",
    "        print k\n",
    "        adj_amherst_k= np.matrix(adj)**k\n",
    "        adj_amherst_k[range(adj_amherst_k.shape[0]),range(adj_amherst_k.shape[0])]=0 ## remove self-loops\n",
    "\n",
    "        mv_g1 = (adj_amherst_k[values_undirected==class_values[0],:] * np.matrix((values_undirected==class_values[0])+0).T)/np.sum(adj_amherst_k[values_undirected==class_values[0],:],1)\n",
    "        mv_g2 = (adj_amherst_k[values_undirected==class_values[1],:] * np.matrix((values_undirected==class_values[1])+0).T)/np.sum(adj_amherst_k[values_undirected==class_values[1],:],1)\n",
    "        proportion_majority_same = np.mean(np.concatenate((np.array(mv_g1).T[0][d1]>np.mean(values_undirected==class_values[0]),\n",
    "                                                                           np.array(mv_g2).T[0][d2]>np.mean(values_undirected==class_values[1]))))\n",
    "        prop_same_array.append( proportion_majority_same)\n",
    "\n",
    "    %matplotlib inline\n",
    "    plt.plot(k_hop,\n",
    "                   prop_same_array/prop_same_array[0], color = 'black')\n",
    "\n",
    "\n",
    "    plt.scatter(k_hop,\n",
    "                   prop_same_array/prop_same_array[0], color = 'black')\n",
    "\n",
    "    plt.xlabel('k-hop')\n",
    "    plt.ylabel('%same@k/%same@1')\n",
    "    plt.title('with degree > ' + str(degree[j]))\n",
    "    plt.xlim(0.9,5.1)\n",
    "    #plt.ylim(0.99,1.01)\n",
    "    plt.show()"
   ]
  },
  {
   "cell_type": "code",
   "execution_count": null,
   "metadata": {
    "collapsed": true
   },
   "outputs": [],
   "source": []
  },
  {
   "cell_type": "code",
   "execution_count": null,
   "metadata": {
    "collapsed": true
   },
   "outputs": [],
   "source": []
  },
  {
   "cell_type": "markdown",
   "metadata": {},
   "source": [
    "### breakdown plots for 1-hop and 2-hop"
   ]
  },
  {
   "cell_type": "code",
   "execution_count": 38,
   "metadata": {
    "collapsed": true
   },
   "outputs": [],
   "source": [
    "## 1-hop\n",
    "adj_amherst_k= np.matrix(adj)**1\n",
    "adj_amherst_k[range(adj_amherst_k.shape[0]),range(adj_amherst_k.shape[0])]=0 ## remove self-loops\n",
    "                              \n",
    "mv1_g1 = (adj_amherst_k[values_undirected==class_values[0],:] * np.matrix((values_undirected==class_values[0])+0).T)/np.sum(adj_amherst_k[values_undirected==class_values[0],:],1)\n",
    "mv1_g2 = (adj_amherst_k[values_undirected==class_values[1],:] * np.matrix((values_undirected==class_values[1])+0).T)/np.sum(adj_amherst_k[values_undirected==class_values[1],:],1)\n",
    "\n",
    "## 2-hop\n",
    "adj_amherst_k= np.matrix(adj)**2\n",
    "adj_amherst_k[range(adj_amherst_k.shape[0]),range(adj_amherst_k.shape[0])]=0 ## remove self-loops\n",
    "                              \n",
    "mv2_g1 = (adj_amherst_k[values_undirected==class_values[0],:] * np.matrix((values_undirected==class_values[0])+0).T)/np.sum(adj_amherst_k[values_undirected==class_values[0],:],1)\n",
    "mv2_g2 = (adj_amherst_k[values_undirected==class_values[1],:] * np.matrix((values_undirected==class_values[1])+0).T)/np.sum(adj_amherst_k[values_undirected==class_values[1],:],1)"
   ]
  },
  {
   "cell_type": "code",
   "execution_count": 39,
   "metadata": {
    "collapsed": false
   },
   "outputs": [
    {
     "data": {
      "image/png": "[encoded data removed]",
      "text/plain": [
       "<matplotlib.figure.Figure at 0x121f1a310>"
      ]
     },
     "metadata": {},
     "output_type": "display_data"
    }
   ],
   "source": [
    "%matplotlib inline\n",
    "plt.scatter(np.array(mv1_g1).T[0],\n",
    "           np.array(mv2_g1).T[0],\n",
    "           alpha = 0.2,\n",
    "           color = 'purple')\n",
    "plt.xlabel('proportion same, 1-hop')\n",
    "plt.ylabel('proportion same, 2-hop')\n",
    "lims = [\n",
    "    np.min([0, 0]),  # min of both axes\n",
    "    np.max([1, 1]),  # max of both axes\n",
    "]\n",
    "\n",
    "\n",
    "plt.axvline(np.mean(values_undirected==class_values[0]), color = 'purple')\n",
    "plt.text(0.1,0.9, np.str(np.mean(np.array(mv1_g1).T[0]<np.mean(values_undirected==class_values[0]))), color = 'purple')\n",
    "plt.text(0.7,0.9, np.str(np.mean(np.array(mv1_g1).T[0]>np.mean(values_undirected==class_values[0]))), color = 'purple')\n",
    "\n",
    "plt.xlim((-0.01,1.01))\n",
    "plt.ylim((-0.01,1.01))\n",
    "plt.title(\"Pol. Blogs, political == \"+str(class_values[0]))\n",
    "plt.show()"
   ]
  },
  {
   "cell_type": "code",
   "execution_count": 40,
   "metadata": {
    "collapsed": false
   },
   "outputs": [
    {
     "data": {
      "image/png": "[encoded data removed]",
      "text/plain": [
       "<matplotlib.figure.Figure at 0x11f310510>"
      ]
     },
     "metadata": {},
     "output_type": "display_data"
    }
   ],
   "source": [
    "\n",
    "\n",
    "%matplotlib inline\n",
    "plt.scatter(np.array(mv1_g2).T[0],\n",
    "           np.array(mv2_g2).T[0],\n",
    "           alpha = 0.2,\n",
    "           color = 'orange')\n",
    "plt.xlabel('proportion same, 1-hop')\n",
    "plt.ylabel('proportion same, 2-hop')\n",
    "lims = [\n",
    "    np.min([0, 0]),  # min of both axes\n",
    "    np.max([1, 1]),  # max of both axes\n",
    "]\n",
    "\n",
    "# now plot both limits against eachother\n",
    "#plt.plot(lims, lims, 'k-', alpha=0.75, zorder=0, color = 'red')\n",
    "plt.axvline(np.mean(values_undirected==class_values[1]), color = 'orange')\n",
    "plt.text(0.1,0.9, np.str(np.mean(np.array(mv1_g2).T[0]<np.mean(values_undirected==class_values[1]))), color = 'orange')\n",
    "plt.text(0.7,0.9, np.str(np.mean(np.array(mv1_g2).T[0]>np.mean(values_undirected==class_values[1]))), color = 'orange')\n",
    "\n",
    "plt.xlim((-0.01,1.01))\n",
    "plt.ylim((-0.01,1.01))\n",
    "plt.title(\"Pol. Blogs, political == \"+str(class_values[1]))\n",
    "plt.show()"
   ]
  },
  {
   "cell_type": "code",
   "execution_count": 41,
   "metadata": {
    "collapsed": false
   },
   "outputs": [],
   "source": [
    "wt0 =  np.sum(np.mean(values_undirected==class_values[0]))\n",
    "wt1 =  np.sum(np.mean(values_undirected==class_values[1]))"
   ]
  },
  {
   "cell_type": "code",
   "execution_count": 42,
   "metadata": {
    "collapsed": false
   },
   "outputs": [
    {
     "name": "stdout",
     "output_type": "stream",
     "text": [
      "0.954991816694\n",
      "0.969249692497\n",
      "551\n",
      "616\n",
      "1167\n"
     ]
    }
   ],
   "source": [
    "print wt0*np.mean(np.array(mv1_g1).T[0]>np.mean(values_undirected==class_values[0])) +\\\n",
    "    wt1*np.mean(np.array(mv1_g2).T[0]>np.mean(values_undirected==class_values[1]))\n",
    "    \n",
    "## compare\n",
    "print prop_same_array[0] ##okay, good these should match\n",
    "\n",
    "## just consider total counts\n",
    "print np.sum(np.array(mv1_g1).T[0]>np.mean(values_undirected==class_values[0]))\n",
    "print np.sum(np.array(mv1_g2).T[0]>np.mean(values_undirected==class_values[1]))\n",
    "print 551+616"
   ]
  },
  {
   "cell_type": "code",
   "execution_count": 43,
   "metadata": {
    "collapsed": false
   },
   "outputs": [
    {
     "data": {
      "image/png": "[encoded data removed]",
      "text/plain": [
       "<matplotlib.figure.Figure at 0x120ba9710>"
      ]
     },
     "metadata": {},
     "output_type": "display_data"
    }
   ],
   "source": [
    "%matplotlib inline\n",
    "plt.scatter(np.array(mv1_g1).T[0],\n",
    "           np.array(mv2_g1).T[0],\n",
    "           alpha = 0.2,\n",
    "           color = 'purple')\n",
    "plt.xlabel('proportion same, 1-hop')\n",
    "plt.ylabel('proportion same, 2-hop')\n",
    "lims = [\n",
    "    np.min([0, 0]),  # min of both axes\n",
    "    np.max([1, 1]),  # max of both axes\n",
    "]\n",
    "\n",
    "\n",
    "plt.axhline(np.mean(values_undirected==class_values[0]), color = 'purple')\n",
    "plt.text(0.1,0.9, np.str(np.mean(np.array(mv1_g1).T[0]>np.mean(values_undirected==class_values[0]))), color = 'purple')\n",
    "plt.text(0.1,0.1, np.str(np.mean(np.array(mv1_g1).T[0]<np.mean(values_undirected==class_values[0]))), color = 'purple')\n",
    "\n",
    "\n",
    "plt.xlim((-0.01,1.01))\n",
    "plt.ylim((-0.01,1.01))\n",
    "plt.title(\"Pol. Blogs, political == \"+str(class_values[0]))\n",
    "plt.show()"
   ]
  },
  {
   "cell_type": "code",
   "execution_count": 44,
   "metadata": {
    "collapsed": false
   },
   "outputs": [
    {
     "data": {
      "image/png": "[encoded data removed]",
      "text/plain": [
       "<matplotlib.figure.Figure at 0x11cba6250>"
      ]
     },
     "metadata": {},
     "output_type": "display_data"
    }
   ],
   "source": [
    "%matplotlib inline\n",
    "plt.scatter(np.array(mv1_g2).T[0],\n",
    "           np.array(mv2_g2).T[0],\n",
    "           alpha = 0.2,\n",
    "           color = 'orange')\n",
    "plt.xlabel('proportion same, 1-hop')\n",
    "plt.ylabel('proportion same, 2-hop')\n",
    "lims = [\n",
    "    np.min([0, 0]),  # min of both axes\n",
    "    np.max([1, 1]),  # max of both axes\n",
    "]\n",
    "\n",
    "\n",
    "plt.axhline(np.mean(values_undirected==class_values[1]), color = 'orange')\n",
    "plt.text(0.1,0.9, np.str(np.mean(np.array(mv1_g2).T[0]>np.mean(values_undirected==class_values[1]))), color = 'orange')\n",
    "plt.text(0.1,0.1, np.str(np.mean(np.array(mv1_g2).T[0]<np.mean(values_undirected==class_values[1]))), color = 'orange')\n",
    "\n",
    "\n",
    "plt.xlim((-0.01,1.01))\n",
    "plt.ylim((-0.01,1.01))\n",
    "plt.title(\"Pol. Blogs, political == \"+str(class_values[0]))\n",
    "plt.show()"
   ]
  },
  {
   "cell_type": "code",
   "execution_count": 45,
   "metadata": {
    "collapsed": false
   },
   "outputs": [
    {
     "name": "stdout",
     "output_type": "stream",
     "text": [
      "0.953355155483\n",
      "0.974169741697\n"
     ]
    }
   ],
   "source": [
    "print wt0*np.mean(np.array(mv2_g1).T[0]>np.mean(values_undirected==class_values[0])) +\\\n",
    "    wt1*np.mean(np.array(mv2_g2).T[0]>np.mean(values_undirected==class_values[1]))\n",
    "    \n",
    "## compare\n",
    "print prop_same_array[1] ##okay, good these should match"
   ]
  },
  {
   "cell_type": "code",
   "execution_count": 46,
   "metadata": {
    "collapsed": false
   },
   "outputs": [
    {
     "name": "stdout",
     "output_type": "stream",
     "text": [
      "546\n",
      "619\n",
      "1165\n"
     ]
    }
   ],
   "source": [
    "## just consider total counts\n",
    "print np.sum(np.array(mv2_g1).T[0]>np.mean(values_undirected==class_values[0]))\n",
    "print np.sum(np.array(mv2_g2).T[0]>np.mean(values_undirected==class_values[1]))\n",
    "print 546+619"
   ]
  },
  {
   "cell_type": "code",
   "execution_count": 47,
   "metadata": {
    "collapsed": false
   },
   "outputs": [
    {
     "name": "stdout",
     "output_type": "stream",
     "text": [
      "0.954991816694\n",
      "0.953355155483\n"
     ]
    }
   ],
   "source": [
    "## raw count of nodes with %-same versus total number of nodes\n",
    "## so between 1hop vs. 2hop, this comes down to a 2 node difference of 1hop having\n",
    "## 2 more nodes with %same dominating\n",
    "print 1167/len(values_undirected)\n",
    "print 1165/len(values_undirected)"
   ]
  },
  {
   "cell_type": "code",
   "execution_count": null,
   "metadata": {
    "collapsed": true
   },
   "outputs": [],
   "source": []
  },
  {
   "cell_type": "code",
   "execution_count": null,
   "metadata": {
    "collapsed": true
   },
   "outputs": [],
   "source": []
  },
  {
   "cell_type": "code",
   "execution_count": null,
   "metadata": {
    "collapsed": true
   },
   "outputs": [],
   "source": []
  },
  {
   "cell_type": "code",
   "execution_count": null,
   "metadata": {
    "collapsed": true
   },
   "outputs": [],
   "source": []
  },
  {
   "cell_type": "markdown",
   "metadata": {},
   "source": [
    "# Prediction Set-Up\n",
    "Link, 1-hop MV, 2-hop MV, ZGL"
   ]
  },
  {
   "cell_type": "markdown",
   "metadata": {},
   "source": [
    "## LINK"
   ]
  },
  {
   "cell_type": "code",
   "execution_count": 70,
   "metadata": {
    "collapsed": true
   },
   "outputs": [],
   "source": [
    "percent_initially_unlabelled = [0.95,0.9,0.8,0.7,0.6,0.5,0.4,0.3,0.2,0.1,0.05,0.01]\n",
    "percent_initially_labelled = np.subtract(1, percent_initially_unlabelled)"
   ]
  },
  {
   "cell_type": "code",
   "execution_count": 71,
   "metadata": {
    "collapsed": true
   },
   "outputs": [],
   "source": [
    "n_iter = 100"
   ]
  },
  {
   "cell_type": "code",
   "execution_count": 72,
   "metadata": {
    "collapsed": false
   },
   "outputs": [
    {
     "name": "stdout",
     "output_type": "stream",
     "text": [
      "0.95\n",
      "0.9\n",
      "0.8\n",
      "0.7\n",
      "0.6\n",
      "0.5\n",
      "0.4\n",
      "0.3\n",
      "0.2\n",
      "0.1\n",
      "0.05\n",
      "0.01\n"
     ]
    }
   ],
   "source": [
    "(mean_accuracy_amherst, se_accuracy_amherst, \n",
    " mean_micro_auc_amherst,se_micro_auc_amherst, mean_wt_auc_amherst_lbfgs,se_wt_auc_amherst)= LINK(percent_initially_unlabelled, ## note: mean_se_model assumes a vector of x% initially labeled\n",
    "                                                              np.array(values_undirected), ## gender labels \n",
    "                                                              adj,#nx.adj_matrix(nw_polblogs_undirected,\n",
    "                                                                           #nodelist = nw_polblogs_undirected.nodes()).todense(),#np.array(nx.adj_matrix(nw_polblogs_undirected).todense()), ## adjacency matrix\n",
    "                                                              clf = linear_model.LogisticRegression(penalty='l2',\n",
    "                                                                                                    fit_intercept = False,\n",
    "                                                                                                    solver='lbfgs',\n",
    "                                                                                                    C=1),num_iter=n_iter)"
   ]
  },
  {
   "cell_type": "code",
   "execution_count": 73,
   "metadata": {
    "collapsed": false
   },
   "outputs": [
    {
     "name": "stdout",
     "output_type": "stream",
     "text": [
      "0.95\n",
      "0.9\n",
      "0.8\n",
      "0.7\n",
      "0.6\n",
      "0.5\n",
      "0.4\n",
      "0.3\n",
      "0.2\n",
      "0.1\n",
      "0.05\n",
      "0.01\n"
     ]
    },
    {
     "ename": "ValueError",
     "evalue": "Only one class present in y_true. ROC AUC score is not defined in that case.",
     "output_type": "error",
     "traceback": [
      "\u001b[0;31m---------------------------------------------------------------------------\u001b[0m",
      "\u001b[0;31mValueError\u001b[0m                                Traceback (most recent call last)",
      "\u001b[0;32m<ipython-input-73-6d5d92c31b4d>\u001b[0m in \u001b[0;36m<module>\u001b[0;34m()\u001b[0m\n\u001b[1;32m      6\u001b[0m                                                                                                     \u001b[0mfit_intercept\u001b[0m \u001b[0;34m=\u001b[0m \u001b[0mFalse\u001b[0m\u001b[0;34m,\u001b[0m\u001b[0;34m\u001b[0m\u001b[0m\n\u001b[1;32m      7\u001b[0m                                                                                                     \u001b[0msolver\u001b[0m\u001b[0;34m=\u001b[0m\u001b[0;34m'lbfgs'\u001b[0m\u001b[0;34m,\u001b[0m\u001b[0;34m\u001b[0m\u001b[0m\n\u001b[0;32m----> 8\u001b[0;31m                                                                                                     C=1),num_iter=n_iter)\n\u001b[0m",
      "\u001b[0;32m./functions/LINK_finalized.py\u001b[0m in \u001b[0;36mLINK\u001b[0;34m(num_unlabeled, membership_y, feature_x, clf, num_iter, cv_setup)\u001b[0m\n",
      "\u001b[0;32m/Users/kristen/anaconda/lib/python2.7/site-packages/sklearn/metrics/ranking.pyc\u001b[0m in \u001b[0;36mroc_auc_score\u001b[0;34m(y_true, y_score, average, sample_weight)\u001b[0m\n\u001b[1;32m    258\u001b[0m     return _average_binary_score(\n\u001b[1;32m    259\u001b[0m         \u001b[0m_binary_roc_auc_score\u001b[0m\u001b[0;34m,\u001b[0m \u001b[0my_true\u001b[0m\u001b[0;34m,\u001b[0m \u001b[0my_score\u001b[0m\u001b[0;34m,\u001b[0m \u001b[0maverage\u001b[0m\u001b[0;34m,\u001b[0m\u001b[0;34m\u001b[0m\u001b[0m\n\u001b[0;32m--> 260\u001b[0;31m         sample_weight=sample_weight)\n\u001b[0m\u001b[1;32m    261\u001b[0m \u001b[0;34m\u001b[0m\u001b[0m\n\u001b[1;32m    262\u001b[0m \u001b[0;34m\u001b[0m\u001b[0m\n",
      "\u001b[0;32m/Users/kristen/anaconda/lib/python2.7/site-packages/sklearn/metrics/base.pyc\u001b[0m in \u001b[0;36m_average_binary_score\u001b[0;34m(binary_metric, y_true, y_score, average, sample_weight)\u001b[0m\n\u001b[1;32m     82\u001b[0m \u001b[0;34m\u001b[0m\u001b[0m\n\u001b[1;32m     83\u001b[0m     \u001b[0;32mif\u001b[0m \u001b[0my_type\u001b[0m \u001b[0;34m==\u001b[0m \u001b[0;34m\"binary\"\u001b[0m\u001b[0;34m:\u001b[0m\u001b[0;34m\u001b[0m\u001b[0m\n\u001b[0;32m---> 84\u001b[0;31m         \u001b[0;32mreturn\u001b[0m \u001b[0mbinary_metric\u001b[0m\u001b[0;34m(\u001b[0m\u001b[0my_true\u001b[0m\u001b[0;34m,\u001b[0m \u001b[0my_score\u001b[0m\u001b[0;34m,\u001b[0m \u001b[0msample_weight\u001b[0m\u001b[0;34m=\u001b[0m\u001b[0msample_weight\u001b[0m\u001b[0;34m)\u001b[0m\u001b[0;34m\u001b[0m\u001b[0m\n\u001b[0m\u001b[1;32m     85\u001b[0m \u001b[0;34m\u001b[0m\u001b[0m\n\u001b[1;32m     86\u001b[0m     \u001b[0mcheck_consistent_length\u001b[0m\u001b[0;34m(\u001b[0m\u001b[0my_true\u001b[0m\u001b[0;34m,\u001b[0m \u001b[0my_score\u001b[0m\u001b[0;34m,\u001b[0m \u001b[0msample_weight\u001b[0m\u001b[0;34m)\u001b[0m\u001b[0;34m\u001b[0m\u001b[0m\n",
      "\u001b[0;32m/Users/kristen/anaconda/lib/python2.7/site-packages/sklearn/metrics/ranking.pyc\u001b[0m in \u001b[0;36m_binary_roc_auc_score\u001b[0;34m(y_true, y_score, sample_weight)\u001b[0m\n\u001b[1;32m    249\u001b[0m     \u001b[0;32mdef\u001b[0m \u001b[0m_binary_roc_auc_score\u001b[0m\u001b[0;34m(\u001b[0m\u001b[0my_true\u001b[0m\u001b[0;34m,\u001b[0m \u001b[0my_score\u001b[0m\u001b[0;34m,\u001b[0m \u001b[0msample_weight\u001b[0m\u001b[0;34m=\u001b[0m\u001b[0mNone\u001b[0m\u001b[0;34m)\u001b[0m\u001b[0;34m:\u001b[0m\u001b[0;34m\u001b[0m\u001b[0m\n\u001b[1;32m    250\u001b[0m         \u001b[0;32mif\u001b[0m \u001b[0mlen\u001b[0m\u001b[0;34m(\u001b[0m\u001b[0mnp\u001b[0m\u001b[0;34m.\u001b[0m\u001b[0munique\u001b[0m\u001b[0;34m(\u001b[0m\u001b[0my_true\u001b[0m\u001b[0;34m)\u001b[0m\u001b[0;34m)\u001b[0m \u001b[0;34m!=\u001b[0m \u001b[0;36m2\u001b[0m\u001b[0;34m:\u001b[0m\u001b[0;34m\u001b[0m\u001b[0m\n\u001b[0;32m--> 251\u001b[0;31m             raise ValueError(\"Only one class present in y_true. ROC AUC score \"\n\u001b[0m\u001b[1;32m    252\u001b[0m                              \"is not defined in that case.\")\n\u001b[1;32m    253\u001b[0m \u001b[0;34m\u001b[0m\u001b[0m\n",
      "\u001b[0;31mValueError\u001b[0m: Only one class present in y_true. ROC AUC score is not defined in that case."
     ]
    }
   ],
   "source": [
    "(mean_accuracy_amherst_out, se_accuracy_amherst_out, \n",
    " mean_micro_auc_amherst_out,se_micro_auc_amherst_out, mean_wt_auc_amherst_lbfgs_out,se_wt_auc_amherst_out)= LINK(percent_initially_unlabelled, ## note: mean_se_model assumes a vector of x% initially labeled\n",
    "                                                              np.array(pol_out), ## gender labels \n",
    "                                                              np.array(adj_out), ## adjacency matrix\n",
    "                                                              clf = linear_model.LogisticRegression(penalty='l2',\n",
    "                                                                                                    fit_intercept = False,\n",
    "                                                                                                    solver='lbfgs',\n",
    "                                                                                                    C=1),num_iter=n_iter)"
   ]
  },
  {
   "cell_type": "code",
   "execution_count": null,
   "metadata": {
    "collapsed": false
   },
   "outputs": [],
   "source": [
    "(mean_accuracy_amherst_in, se_accuracy_amherst_in, \n",
    " mean_micro_auc_amherst_in,se_micro_auc_amherst_in, mean_wt_auc_amherst_lbfgs_in,se_wt_auc_amherst_in)= LINK(percent_initially_unlabelled, ## note: mean_se_model assumes a vector of x% initially labeled\n",
    "                                                              np.array(pol_in), ## gender labels \n",
    "                                                              np.array(adj_in), ## adjacency matrix\n",
    "                                                              clf = linear_model.LogisticRegression(penalty='l2',\n",
    "                                                                                                    fit_intercept = False,\n",
    "                                                                                                    solver='lbfgs',\n",
    "                                                                                                    C=1),num_iter=n_iter)"
   ]
  },
  {
   "cell_type": "code",
   "execution_count": null,
   "metadata": {
    "collapsed": false
   },
   "outputs": [],
   "source": [
    "%matplotlib inline\n",
    "from matplotlib.ticker import FixedLocator,LinearLocator,MultipleLocator, FormatStrFormatter\n",
    "fig = plt.figure()\n",
    "seaborn.set_style(style='white')\n",
    "from mpl_toolkits.axes_grid1 import Grid\n",
    "grid = Grid(fig, rect=111, nrows_ncols=(1,1),\n",
    "            axes_pad=0.1, label_mode='L')\n",
    "\n",
    "\n",
    "for i in range(4):\n",
    "    if i == 0:\n",
    "        grid[i].xaxis.set_major_locator(FixedLocator([0,25,50,75,100]))\n",
    "        grid[i].yaxis.set_major_locator(FixedLocator([0.5,0.6,0.7,0.8,0.9,1]))\n",
    "\n",
    "        grid[i].errorbar(percent_initially_labelled*100, mean_wt_auc_amherst_lbfgs, \n",
    "            yerr=se_wt_auc_amherst, fmt='--o', capthick=2,\n",
    "            alpha=0.6, elinewidth=3, color='black')\n",
    "        \n",
    "        grid[i].errorbar(percent_initially_labelled*100, mean_wt_auc_amherst_lbfgs_in, \n",
    "            yerr=se_wt_auc_amherst_in, fmt='--o', capthick=2,\n",
    "            alpha=0.6, elinewidth=3, color='red')\n",
    "        \n",
    "        grid[i].errorbar(percent_initially_labelled*100, mean_wt_auc_amherst_lbfgs_out,\n",
    "            yerr=se_wt_auc_amherst_out, fmt='--o', capthick=2,\n",
    "            alpha=0.6, elinewidth=3, color='gray')\n",
    "        \n",
    "        \n",
    "        grid[i].tick_params('both', length=4, width=1, which='major', left=1, bottom=1, top=0, right=0)\n",
    "\n",
    "\n",
    "        grid[i].set_ylim(0.4,1.1)\n",
    "        grid[i].set_xlim(0,100)\n",
    "        grid[i].annotate('LINK: in features', xy=(3, 0.83), \n",
    "                 color='gray', alpha=1, size=12)\n",
    "        grid[i].annotate('LINK: undirected features', xy=(3, 0.8), \n",
    "                 color='black', alpha=1, size=12)\n",
    "        grid[i].annotate('LINK: out features', xy=(3, 0.77), \n",
    "                 color='red', alpha=1, size=12)\n",
    "\n",
    "        grid[i].set_ylim(0.4,1.05)\n",
    "        grid[i].set_xlim(0,100)\n",
    "        grid[i].spines['right'].set_visible(False)\n",
    "        grid[i].spines['top'].set_visible(False)\n",
    "        grid[i].tick_params(axis='both', which='major', labelsize=9)\n",
    "        grid[i].tick_params(axis='both', which='minor', labelsize=9)\n",
    "\n",
    "\n",
    "fig.text(0.5, 0.9, 'Political Blog Inference - LINK', ha='center', fontsize=13)        \n",
    "fig.text(0.5, 0.01, '% of Nodes Initially Labeled', ha='center', fontsize=13)\n",
    "fig.text(0.01, 0.5, 'AUC', va='center', rotation='vertical', fontsize=13)\n",
    "pp = PdfPages(output_dir+'/pol_blogs_LINK_unweighted_in_out.pdf')\n",
    "pp.savefig()\n",
    "pp.close()"
   ]
  },
  {
   "cell_type": "code",
   "execution_count": null,
   "metadata": {
    "collapsed": true
   },
   "outputs": [],
   "source": []
  },
  {
   "cell_type": "code",
   "execution_count": null,
   "metadata": {
    "collapsed": true
   },
   "outputs": [],
   "source": []
  },
  {
   "cell_type": "markdown",
   "metadata": {},
   "source": [
    "## Baseline Classifier"
   ]
  },
  {
   "cell_type": "code",
   "execution_count": 74,
   "metadata": {
    "collapsed": false
   },
   "outputs": [
    {
     "name": "stdout",
     "output_type": "stream",
     "text": [
      "0.95\n",
      "0.9\n",
      "0.8\n",
      "0.7\n",
      "0.6\n",
      "0.5\n",
      "0.4\n",
      "0.3\n",
      "0.2\n",
      "0.1\n",
      "0.05\n",
      "0.01\n"
     ]
    }
   ],
   "source": [
    "(mean_wt_auc_baseline_amherst,se_wt_auc_baseline_amherst) = random_classifier(adj,#np.array(nx.adj_matrix(nw_polblogs_undirected,\n",
    "                                                                              #                      nodelist = nw_polblogs_undirected.nodes()).todense()),\n",
    "                                                                             np.array(values_undirected),\n",
    "                                                                            percent_initially_unlabelled,\n",
    "                                                                             num_iter=n_iter)"
   ]
  },
  {
   "cell_type": "code",
   "execution_count": null,
   "metadata": {
    "collapsed": true
   },
   "outputs": [],
   "source": []
  },
  {
   "cell_type": "code",
   "execution_count": 75,
   "metadata": {
    "collapsed": true
   },
   "outputs": [],
   "source": [
    "n_iter = 100"
   ]
  },
  {
   "cell_type": "markdown",
   "metadata": {},
   "source": [
    "## 1-hop MV"
   ]
  },
  {
   "cell_type": "code",
   "execution_count": 76,
   "metadata": {
    "collapsed": false
   },
   "outputs": [
    {
     "name": "stdout",
     "output_type": "stream",
     "text": [
      "0.95\n",
      "0.9\n",
      "0.8\n",
      "0.7\n",
      "0.6\n",
      "0.5\n",
      "0.4\n",
      "0.3\n",
      "0.2\n",
      "0.1\n",
      "0.05\n",
      "0.01\n"
     ]
    },
    {
     "name": "stderr",
     "output_type": "stream",
     "text": [
      "/Users/kristen/anaconda/lib/python2.7/site-packages/ipykernel/__main__.py:44: RuntimeWarning: invalid value encountered in true_divide\n"
     ]
    }
   ],
   "source": [
    "(mean_accuracy_mv_amherst, se_accuracy_mv_amherst, \n",
    " mean_micro_auc_mv_amherst,se_micro_auc_mv_amherst, \n",
    " mean_wt_auc_mv_amherst,se_wt_auc_mv_amherst) =majority_vote_finalized(percent_initially_unlabelled,  \n",
    "                                                                np.array(values_undirected), \n",
    "                                                                adj,#np.array(nx.adj_matrix(nw_polblogs_undirected,\n",
    "                                                                                      #nodelist = nw_polblogs_undirected.nodes()).todense()),#nx.adj_matrix(nw_polblogs_undirected).todense(), \n",
    "                                                                       num_iter=n_iter)"
   ]
  },
  {
   "cell_type": "markdown",
   "metadata": {},
   "source": [
    "## 2-hop MV"
   ]
  },
  {
   "cell_type": "code",
   "execution_count": 77,
   "metadata": {
    "collapsed": false
   },
   "outputs": [],
   "source": [
    "adj_amherst2 = np.matrix(adj)**2\n",
    "adj_amherst2[range(adj_amherst2.shape[0]),range(adj_amherst2.shape[0])]=0 ## remove self-loops"
   ]
  },
  {
   "cell_type": "code",
   "execution_count": 78,
   "metadata": {
    "collapsed": false
   },
   "outputs": [
    {
     "name": "stdout",
     "output_type": "stream",
     "text": [
      "0.95\n",
      "0.9\n",
      "0.8\n",
      "0.7\n",
      "0.6\n",
      "0.5\n",
      "0.4\n",
      "0.3\n",
      "0.2\n",
      "0.1\n",
      "0.05\n",
      "0.01\n"
     ]
    },
    {
     "name": "stderr",
     "output_type": "stream",
     "text": [
      "/Users/kristen/anaconda/lib/python2.7/site-packages/ipykernel/__main__.py:44: RuntimeWarning: invalid value encountered in true_divide\n"
     ]
    }
   ],
   "source": [
    "(mean_accuracy_mv2_amherst2, se_accuracy_mv2_amherst2, \n",
    " mean_micro_auc_mv2_amherst2,se_micro_auc_mv2_amherst2, \n",
    " mean_wt_auc_mv2_amherst2,se_wt_auc_mv2_amherst2) =majority_vote_finalized(percent_initially_unlabelled,  \n",
    "                                                                np.array(values_undirected), \n",
    "                                                                adj_amherst2,#np.array(adj_amherst2), \n",
    "                                                                num_iter=n_iter)\n"
   ]
  },
  {
   "cell_type": "markdown",
   "metadata": {},
   "source": [
    "## ZGL"
   ]
  },
  {
   "cell_type": "code",
   "execution_count": 79,
   "metadata": {
    "collapsed": false
   },
   "outputs": [
    {
     "name": "stdout",
     "output_type": "stream",
     "text": [
      "0.95\n",
      "0.9\n",
      "0.8\n",
      "0.7\n",
      "0.6\n",
      "0.5\n",
      "0.4\n",
      "0.3\n",
      "0.2\n",
      "0.1\n",
      "0.05\n",
      "0.01\n"
     ]
    }
   ],
   "source": [
    "(mean_accuracy_zgl_amherst, se_accuracy_zgl_amherst, \n",
    "mean_micro_auc_zgl_amherst,se_micro_auc_zgl_amherst, \n",
    "mean_wt_auc_zgl_amherst,se_wt_auc_zgl_amherst) =ZGL_finalized(adj,\n",
    "                                    np.array(values_undirected),percent_initially_unlabelled, \n",
    "                                    num_iter=n_iter)"
   ]
  },
  {
   "cell_type": "code",
   "execution_count": 80,
   "metadata": {
    "collapsed": false
   },
   "outputs": [
    {
     "data": {
      "image/png": "[encoded data removed]",
      "text/plain": [
       "<matplotlib.figure.Figure at 0x147756fd0>"
      ]
     },
     "metadata": {},
     "output_type": "display_data"
    }
   ],
   "source": [
    "%matplotlib inline\n",
    "from matplotlib.ticker import FixedLocator,LinearLocator,MultipleLocator, FormatStrFormatter\n",
    "\n",
    "fig = plt.figure()\n",
    "seaborn.set_style(style='white')\n",
    "from mpl_toolkits.axes_grid1 import Grid\n",
    "grid = Grid(fig, rect=111, nrows_ncols=(1,1),\n",
    "            axes_pad=0.1, label_mode='L')\n",
    "for i in range(4):\n",
    "    if i == 0:\n",
    "        grid[i].xaxis.set_major_locator(FixedLocator([0,25,50,75,100]))\n",
    "        grid[i].yaxis.set_major_locator(FixedLocator([0.4, 0.5,0.6,0.7,0.8,0.9,1.2]))\n",
    "\n",
    "        grid[i].errorbar(percent_initially_labelled*100, mean_wt_auc_amherst_lbfgs, \n",
    "            yerr=se_wt_auc_amherst, fmt='--o', capthick=2,\n",
    "            alpha=0.6, elinewidth=3, color='black')\n",
    "        grid[i].errorbar(percent_initially_labelled*100, mean_wt_auc_zgl_amherst,\n",
    "            yerr=se_wt_auc_zgl_amherst, fmt='--o', capthick=2,\n",
    "            alpha=0.6, elinewidth=3, color='orange')\n",
    "        grid[i].errorbar(percent_initially_labelled*100, mean_wt_auc_mv_amherst,\n",
    "            yerr=se_wt_auc_mv_amherst, fmt='--o', capthick=2,\n",
    "            alpha=0.6, elinewidth=3, color='red')\n",
    "        grid[i].errorbar(percent_initially_labelled*100, mean_wt_auc_mv2_amherst2, \n",
    "            yerr=se_wt_auc_mv2_amherst2, fmt='--o', capthick=2,\n",
    "                alpha=0.6, elinewidth=3, color='maroon')\n",
    "        \n",
    "        grid[i].errorbar(percent_initially_labelled*100, mean_wt_auc_baseline_amherst, \n",
    "            yerr=se_wt_auc_baseline_amherst, fmt='--o', capthick=2,\n",
    "           alpha=0.6, elinewidth=3, color='gray')\n",
    "        \n",
    "        grid[i].set_ylim(0.3,1.5)\n",
    "        grid[i].set_xlim(0,101)\n",
    "        grid[i].annotate('LINK', xy=(3, 0.76), \n",
    "                 color='black', alpha=1, size=12)\n",
    "        grid[i].annotate('2-hop MV', xy=(3, 0.73), \n",
    "                 color='maroon', alpha=1, size=12)\n",
    "        grid[i].annotate('1-hop MV', xy=(3, 0.70), \n",
    "                 color='red', alpha=1, size=12)\n",
    "        grid[i].annotate('ZGL', xy=(3, 0.67), \n",
    "                 color='orange', alpha=1, size=12)\n",
    "        grid[i].annotate('Baseline', xy=(3, 0.64), \n",
    "                 color='gray', alpha=1, size=12)\n",
    "        grid[i].set_ylim(0.49,1.01)\n",
    "        grid[i].spines['right'].set_visible(False)\n",
    "        grid[i].spines['top'].set_visible(False)\n",
    "        grid[i].tick_params(axis='both', which='major', labelsize=13)\n",
    "        grid[i].tick_params(axis='both', which='minor', labelsize=13)\n",
    "        grid[i].set_xlabel('Percent of Nodes Initially Labeled')\n",
    "        grid[i].set_ylabel('AUC')\n",
    "\n",
    "#plt.setp(ax1, xticks=[0,25, 50, 75, 100], xticklabels=['0', '25', '50', '75', '100'])\n",
    "grid[0].set_xticks([0,25, 50, 75, 100])\n",
    "grid[0].set_yticks([ 0.4, 0.5,0.6,0.7,0.8,0.9,1])#,1.05])\n",
    "\n",
    "\n",
    "grid[0].minorticks_on()\n",
    "grid[0].tick_params('both', length=4, width=1, which='major', left=1, bottom=1, top=0, right=0)\n",
    "pp = PdfPages(output_dir+'/pol_blogs_link_2hop_1hop.pdf')\n",
    "pp.savefig()\n",
    "pp.close()"
   ]
  },
  {
   "cell_type": "code",
   "execution_count": 59,
   "metadata": {
    "collapsed": false
   },
   "outputs": [
    {
     "data": {
      "image/png": "[encoded data removed]",
      "text/plain": [
       "<matplotlib.figure.Figure at 0x11b672210>"
      ]
     },
     "metadata": {},
     "output_type": "display_data"
    }
   ],
   "source": [
    "%matplotlib inline\n",
    "from matplotlib.ticker import FixedLocator,LinearLocator,MultipleLocator, FormatStrFormatter\n",
    "\n",
    "fig = plt.figure()\n",
    "seaborn.set_style(style='white')\n",
    "from mpl_toolkits.axes_grid1 import Grid\n",
    "grid = Grid(fig, rect=111, nrows_ncols=(1,1),\n",
    "            axes_pad=0.1, label_mode='L')\n",
    "for i in range(4):\n",
    "    if i == 0:\n",
    "        grid[i].xaxis.set_major_locator(FixedLocator([0,25,50,75,100]))\n",
    "        grid[i].yaxis.set_major_locator(FixedLocator([0.4, 0.5,0.6,0.7,0.8,0.9,1]))\n",
    "\n",
    "        #grid[i].errorbar(percent_initially_labelled*100, mean_accuracy_amherst, \n",
    "        #    yerr=se_accuracy_amherst, fmt='--o', capthick=2,\n",
    "        #    alpha=0.6, elinewidth=3, color='black')\n",
    "\n",
    "        grid[i].errorbar(percent_initially_labelled*100, mean_accuracy_mv_amherst,\n",
    "            yerr=se_accuracy_mv_amherst, fmt='--o', capthick=2,\n",
    "            alpha=0.6, elinewidth=3, color='red')\n",
    "        grid[i].errorbar(percent_initially_labelled*100, mean_accuracy_mv2_amherst2, \n",
    "            yerr=se_accuracy_mv2_amherst2, fmt='--o', capthick=2,\n",
    "                alpha=0.6, elinewidth=3, color='maroon')\n",
    "        \n",
    "        #grid[i].errorbar(percent_initially_labelled*100, mean_wt_auc_baseline_amherst, \n",
    "        #    yerr=se_wt_auc_baseline_amherst, fmt='--o', capthick=2,\n",
    "        #   alpha=0.6, elinewidth=3, color='gray')\n",
    "        \n",
    "        grid[i].set_ylim(0.3,1.1)\n",
    "        grid[i].set_xlim(0,101)\n",
    "        #grid[i].set_xlim(0,10)\n",
    "        #grid[i].annotate('LINK', xy=(3, 0.77), \n",
    "        #         color='black', alpha=1, size=12)\n",
    "        grid[i].annotate('2-hop MV', xy=(3, 0.99), \n",
    "                 color='maroon', alpha=1, size=12)\n",
    "        grid[i].annotate('1-hop MV', xy=(3, 0.96), \n",
    "                 color='red', alpha=1, size=12)\n",
    "        \n",
    "        #grid[i].annotate('ZGL', xy=(3, 0.90), \n",
    "        #         color='orange', alpha=1, size=12)\n",
    "        #grid[i].annotate('Baseline', xy=(3, 0.68), \n",
    "        #         color='gray', alpha=1, size=12)\n",
    "        grid[i].set_ylim(0.49,1.01)\n",
    "        #grid[i].set_xlim(0,100)\n",
    "        grid[i].spines['right'].set_visible(False)\n",
    "        grid[i].spines['top'].set_visible(False)\n",
    "        grid[i].tick_params(axis='both', which='major', labelsize=13)\n",
    "        grid[i].tick_params(axis='both', which='minor', labelsize=13)\n",
    "        grid[i].set_xlabel('Percent of Nodes Initially Labeled')\n",
    "        grid[i].set_ylabel('Accuracy')\n",
    "        grid[i].set_title('Political Blogs, undirected')\n",
    "\n",
    "#plt.setp(ax1, xticks=[0,25, 50, 75, 100], xticklabels=['0', '25', '50', '75', '100'])\n",
    "grid[0].set_xticks([0,25, 50, 75, 100])\n",
    "grid[0].set_yticks([ 0.4, 0.5,0.6,0.7,0.8,0.9,1])\n",
    "\n",
    "\n",
    "grid[0].minorticks_on()\n",
    "grid[0].tick_params('both', length=4, width=1, which='major', left=1, bottom=1, top=0, right=0)\n",
    "\n",
    "pp = PdfPages(output_dir+'/pol_blogs_link_2hop_1hop_accuracy_niter_'+str(n_iter)+'.pdf')\n",
    "pp.savefig()\n",
    "pp.close()"
   ]
  },
  {
   "cell_type": "code",
   "execution_count": null,
   "metadata": {
    "collapsed": true
   },
   "outputs": [],
   "source": []
  },
  {
   "cell_type": "code",
   "execution_count": null,
   "metadata": {
    "collapsed": true
   },
   "outputs": [],
   "source": []
  },
  {
   "cell_type": "code",
   "execution_count": null,
   "metadata": {
    "collapsed": true
   },
   "outputs": [],
   "source": []
  },
  {
   "cell_type": "code",
   "execution_count": null,
   "metadata": {
    "collapsed": true
   },
   "outputs": [],
   "source": []
  }
 ],
 "metadata": {
  "kernelspec": {
   "display_name": "Python 2",
   "language": "python",
   "name": "python2"
  },
  "language_info": {
   "codemirror_mode": {
    "name": "ipython",
    "version": 2
   },
   "file_extension": ".py",
   "mimetype": "text/x-python",
   "name": "python",
   "nbconvert_exporter": "python",
   "pygments_lexer": "ipython2",
   "version": "2.7.12"
  }
 },
 "nbformat": 4,
 "nbformat_minor": 2
}
