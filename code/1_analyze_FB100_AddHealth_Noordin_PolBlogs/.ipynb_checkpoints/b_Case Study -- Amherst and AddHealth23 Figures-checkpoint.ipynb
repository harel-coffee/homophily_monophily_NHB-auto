{
 "cells": [
  {
   "cell_type": "markdown",
   "metadata": {},
   "source": [
    "#### 5/9/2017\n",
    "\n",
    "This notebook contains the Amherst-specific figures and the Add Health School figures for School \\#23."
   ]
  },
  {
   "cell_type": "code",
   "execution_count": 1,
   "metadata": {
    "collapsed": false
   },
   "outputs": [
    {
     "name": "stderr",
     "output_type": "stream",
     "text": [
      "/Users/kristen/anaconda/lib/python2.7/site-packages/pandas/rpy/__init__.py:11: FutureWarning: The pandas.rpy module is deprecated and will be removed in a future version. We refer to external packages like rpy2. \n",
      "See here for a guide on how to port your code to rpy2: http://pandas.pydata.org/pandas-docs/stable/r_interface.html\n",
      "  FutureWarning)\n"
     ]
    }
   ],
   "source": [
    "## implemented LINK with solver='lbfgs'\n",
    "from __future__ import division\n",
    "from matplotlib.backends.backend_pdf import PdfPages\n",
    "import os\n",
    "\n",
    "os.chdir('/Users/kristen/Documents/gender_graph_code/code/0_analyze_FB100_AddHealth/')\n",
    "\n",
    "## relevant libraries\n",
    "execfile('../functions/python_libraries.py')\n",
    "\n",
    "## processing datasets\n",
    "execfile('../functions/create_adjacency_matrix.py') \n",
    "execfile('../functions/create_directed_adjacency_matrix.py')\n",
    "\n",
    "\n",
    "execfile('../functions/parsing.py')\n",
    "execfile('../functions/mixing.py')\n",
    "\n",
    "## code for gender prediction \n",
    "execfile('../functions/LINK_finalized.py')\n",
    "execfile('../functions/majority_vote.py')\n",
    "execfile('../functions/ZGL.py')\n",
    "execfile('../functions/benchmark_classifier.py')\n",
    "\n",
    "## gender preference distribution\n",
    "execfile('../functions/compute_null_distribution.py')"
   ]
  },
  {
   "cell_type": "markdown",
   "metadata": {},
   "source": [
    "## Amherst College Network from FB100"
   ]
  },
  {
   "cell_type": "code",
   "execution_count": 2,
   "metadata": {
    "collapsed": false
   },
   "outputs": [
    {
     "name": "stdout",
     "output_type": "stream",
     "text": [
      "Amherst41\n"
     ]
    }
   ],
   "source": [
    "## load Amherst only\n",
    "\n",
    "## filename where relevant FB100 data is stored\n",
    "fb100_file = '/Users/kristen/Dropbox/gender_graph_data/FB_processing_pipeline/data/0_original/'\n",
    "\n",
    "\n",
    "for f in listdir(fb100_file):\n",
    "    if f.endswith('.mat'):\n",
    "        tag = f.replace('.mat', '')\n",
    "        if (tag == 'Amherst41'):\n",
    "            print tag\n",
    "            input_file = path_join(fb100_file, f)\n",
    "            A, metadata = parse_fb100_mat_file(input_file)\n",
    "\n",
    "            adj_matrix_tmp = A.todense()\n",
    "            gender_y_tmp = metadata[:,1] #gender\n",
    "                \n",
    "            gender_dict = create_dict(range(len(gender_y_tmp)), gender_y_tmp)\n",
    "                \n",
    "            (gender_y, adj_matrix_gender) = create_adj_membership(\n",
    "                                    nx.from_numpy_matrix(adj_matrix_tmp), # graph\n",
    "                                                           gender_dict,   # dictionary\n",
    "                                                           0,             # val_to_drop, gender = 0 is missing\n",
    "                                                           'yes',         # delete_na_cols, ie completely remove NA nodes from graph\n",
    "                                                           0,             # diagonal\n",
    "                                                           None,          # directed_type\n",
    "                                                           'gender')      # gender\n",
    "            \n",
    "            gender_y = np.array(map(np.int,gender_y)) ## need np.int for machine precisions reasons"
   ]
  },
  {
   "cell_type": "code",
   "execution_count": 3,
   "metadata": {
    "collapsed": true
   },
   "outputs": [],
   "source": [
    "F_fb_label = 1\n",
    "M_fb_label = 2"
   ]
  },
  {
   "cell_type": "markdown",
   "metadata": {},
   "source": [
    "# illustrate overdispersion in Amherst"
   ]
  },
  {
   "cell_type": "code",
   "execution_count": 4,
   "metadata": {
    "collapsed": false
   },
   "outputs": [],
   "source": [
    "#F\n",
    "in_F_degree = adj_matrix_gender[gender_y==F_fb_label,] * np.matrix((gender_y==F_fb_label)+0).T\n",
    "total_F_degree = np.sum(adj_matrix_gender[gender_y==F_fb_label,] ,1)\n",
    "h_F = np.mean(in_F_degree)/np.mean(total_F_degree)\n",
    "\n",
    "#M\n",
    "in_M_degree = adj_matrix_gender[gender_y==M_fb_label,] * np.matrix((gender_y==M_fb_label)+0).T\n",
    "total_M_degree = np.sum(adj_matrix_gender[gender_y==M_fb_label,] ,1)\n",
    "h_M = np.mean(in_M_degree)/np.mean(total_M_degree)\n"
   ]
  },
  {
   "cell_type": "markdown",
   "metadata": {},
   "source": [
    "# Figure 1. Evidence of overdispersion in gender preferences on the Amherst College network."
   ]
  },
  {
   "cell_type": "markdown",
   "metadata": {
    "collapsed": true
   },
   "source": [
    "### [confirmed 100K is enough iterations]"
   ]
  },
  {
   "cell_type": "code",
   "execution_count": 5,
   "metadata": {
    "collapsed": false
   },
   "outputs": [],
   "source": [
    "n_iter = 100000\n",
    "d_iF = map(np.int,np.array(total_F_degree.T)[0])\n",
    "\n",
    "mc_F = []\n",
    "for j in range(n_iter):\n",
    "    mc_F.append( np.random.binomial(n=map(np.int,np.array(total_F_degree.T)[0]), p=h_F)/d_iF)\n",
    "    \n",
    "mc_F_final = np.array(mc_F).flatten()\n",
    "\n",
    "\n",
    "d_iM = map(np.int,np.array(total_M_degree.T)[0])\n",
    "mc_M = []\n",
    "for j in range(n_iter):\n",
    "    mc_M.append( np.random.binomial(n=map(np.int,np.array(total_M_degree.T)[0]), p=h_M)/d_iM)\n",
    "    \n",
    "mc_M_final = np.array(mc_M).flatten()"
   ]
  },
  {
   "cell_type": "code",
   "execution_count": 6,
   "metadata": {
    "collapsed": false
   },
   "outputs": [
    {
     "data": {
      "image/png": "[encoded data removed]",
      "text/plain": [
       "<matplotlib.figure.Figure at 0x111b3a710>"
      ]
     },
     "metadata": {},
     "output_type": "display_data"
    }
   ],
   "source": [
    "alpha_empirical = 0.4\n",
    "\n",
    "%matplotlib inline\n",
    "nbins = 45\n",
    "f, (ax1, ax2) = plt.subplots(1, 2, \n",
    "                             sharey=False, sharex=False,\n",
    "                            figsize=(8, 3))\n",
    "plt.setp(ax1, xticks=[0,0.25, 0.5, 0.75, 1], xticklabels=['0', '0.25', '0.50', '0.75', '1'])\n",
    "ax1.set_xticks([0,0.25, 0.5, 0.75, 1])\n",
    "ax1.minorticks_on()\n",
    "ax1.tick_params('both', length=4, width=1, which='major', left=1, bottom=1, top=0, right=0)\n",
    "\n",
    "\n",
    "ax1.hist(in_F_degree/total_F_degree,\n",
    "         bins = np.linspace(0,1,nbins),\n",
    "         normed = True,\n",
    "         edgecolor = 'white',\n",
    "        color='red',alpha=0.25)\n",
    "\n",
    "ax1.hist(mc_F_final,\n",
    "         bins = np.linspace(0,1,nbins),\n",
    "         normed = True,\n",
    "         edgecolor = 'red',histtype='step',\n",
    "        color='white',alpha=1,lw=1.5)\n",
    "\n",
    "ax1.set_ylabel('Normalized Frequency')\n",
    "ax1.set_xlabel('Proportion of $in$-class neighbors, $d_{i,\\\\mathrm{in}}/d_i$')\n",
    "ax1.spines[\"right\"].set_visible(False)\n",
    "ax1.spines[\"top\"].set_visible(False)\n",
    "ax1.set_ylim(0,8)\n",
    "ax1.set_xlim(0,1.01)\n",
    "\n",
    "ax2.set_ylim(0,8)\n",
    "ax2.set_xlim(0,1.01)\n",
    "plt.setp(ax2, xticks=[0,0.25, 0.5, 0.75, 1], xticklabels=['0', '0.25', '0.50', '0.75', '1'])\n",
    "ax2.set_xticks([0,0.25, 0.5, 0.75, 1])\n",
    "ax2.minorticks_on()\n",
    "ax2.tick_params('both', length=4, width=1, which='major', left=1, bottom=1, top=0, right=0)\n",
    "\n",
    "\n",
    "ax2.hist(in_M_degree/total_M_degree,\n",
    "         bins = np.linspace(0,1,nbins),\n",
    "         normed = True,\n",
    "         edgecolor = 'white',\n",
    "        color='black',alpha=0.25)\n",
    "ax2.hist(mc_M_final,\n",
    "         bins = np.linspace(0,1,nbins),\n",
    "         normed = True,\n",
    "         edgecolor = 'black',histtype='step',\n",
    "        color='white',alpha=1,lw=1.5)\n",
    "ax2.spines[\"right\"].set_visible(False)\n",
    "ax2.spines[\"top\"].set_visible(False)\n",
    "ax2.set_xlabel('Proportion of $in$-class Neighbors, $d_{i,\\\\mathrm{in}}/d_i$')\n",
    "ax2.set_ylabel('Normalized Frequency')\n",
    "\n",
    "ax1.annotate('Females Null', xy=(0.05,7.5), \n",
    "                 color='red', alpha=1, size=12)\n",
    "ax1.annotate('Females Empirical', xy=(0.05,7), \n",
    "                 color='red', alpha=alpha_empirical, size=12)\n",
    "ax2.annotate('Males Null', xy=(0.05,7.5), \n",
    "                 color='black', alpha=1, size=12)\n",
    "ax2.annotate('Males Empirical', xy=(0.05,7), \n",
    "                 color='black', alpha=alpha_empirical, size=12)\n",
    "plt.tight_layout()\n",
    "pp = PdfPages('../../figures/Facebook_Amherst_overdispersion_100k.pdf')\n",
    "pp.savefig()\n",
    "pp.close()"
   ]
  },
  {
   "cell_type": "code",
   "execution_count": 7,
   "metadata": {
    "collapsed": false
   },
   "outputs": [
    {
     "name": "stdout",
     "output_type": "stream",
     "text": [
      "1015\n",
      "1017\n",
      "(2032, 2032)\n"
     ]
    }
   ],
   "source": [
    "## Amherst stats\n",
    "print np.sum((gender_y==F_fb_label)+0)\n",
    "print np.sum((gender_y==M_fb_label)+0)\n",
    "print np.shape(adj_matrix_gender)"
   ]
  },
  {
   "cell_type": "markdown",
   "metadata": {},
   "source": [
    "# Figure 3A. Comparison of 1-hop versus 2-hop classifiers on Amherst College."
   ]
  },
  {
   "cell_type": "markdown",
   "metadata": {},
   "source": [
    "### LINK"
   ]
  },
  {
   "cell_type": "code",
   "execution_count": 8,
   "metadata": {
    "collapsed": true
   },
   "outputs": [],
   "source": [
    "percent_initially_unlabelled = [0.99,0.95,0.9,0.8,0.7,0.6,0.5,0.4,0.3,0.2,0.1,0.05,0.01]\n",
    "percent_initially_labelled = np.subtract(1, percent_initially_unlabelled)"
   ]
  },
  {
   "cell_type": "code",
   "execution_count": 9,
   "metadata": {
    "collapsed": false
   },
   "outputs": [
    {
     "name": "stdout",
     "output_type": "stream",
     "text": [
      "0.99\n",
      "0.95\n",
      "0.9\n",
      "0.8\n",
      "0.7\n",
      "0.6\n",
      "0.5\n",
      "0.4\n",
      "0.3\n",
      "0.2\n",
      "0.1\n",
      "0.05\n",
      "0.01\n"
     ]
    }
   ],
   "source": [
    "(mean_accuracy_amherst, se_accuracy_amherst, \n",
    " mean_micro_auc_amherst,se_micro_auc_amherst, mean_wt_auc_amherst_lbfgs,se_wt_auc_amherst)= LINK(percent_initially_unlabelled, ## note: mean_se_model assumes a vector of x% initially labeled\n",
    "                                                              np.array(gender_y), ## gender labels \n",
    "                                                              np.matrix(adj_matrix_gender), ## adjacency matrix\n",
    "                                                              clf = linear_model.LogisticRegression(penalty='l2',\n",
    "                                                                                                    solver='lbfgs',\n",
    "                                                                                                    C=10e20),num_iter=10) \n",
    "\n",
    "\n"
   ]
  },
  {
   "cell_type": "markdown",
   "metadata": {},
   "source": [
    "## 1-hop MV"
   ]
  },
  {
   "cell_type": "code",
   "execution_count": 10,
   "metadata": {
    "collapsed": false
   },
   "outputs": [
    {
     "name": "stdout",
     "output_type": "stream",
     "text": [
      "0.99\n",
      "0.95\n",
      "0.9\n",
      "0.8\n",
      "0.7\n",
      "0.6\n",
      "0.5\n",
      "0.4\n",
      "0.3\n",
      "0.2\n",
      "0.1\n",
      "0.05\n",
      "0.01\n"
     ]
    }
   ],
   "source": [
    "(mean_accuracy_mv_amherst, se_accuracy_mv_amherst, \n",
    " mean_micro_auc_mv_amherst,se_micro_auc_mv_amherst, \n",
    " mean_wt_auc_mv_amherst,se_wt_auc_mv_amherst) =majority_vote_finalized(percent_initially_unlabelled,  \n",
    "                                                                np.array(gender_y), \n",
    "                                                                np.array(adj_matrix_gender), \n",
    "                                                                       num_iter=10)\n",
    "\n"
   ]
  },
  {
   "cell_type": "markdown",
   "metadata": {},
   "source": [
    "## 2-hop MV"
   ]
  },
  {
   "cell_type": "code",
   "execution_count": 11,
   "metadata": {
    "collapsed": true
   },
   "outputs": [],
   "source": [
    "adj_amherst2= np.matrix(adj_matrix_gender)**2\n",
    "adj_amherst2[range(adj_amherst2.shape[0]),range(adj_amherst2.shape[0])]=0 ## remove self-loops"
   ]
  },
  {
   "cell_type": "code",
   "execution_count": 12,
   "metadata": {
    "collapsed": false
   },
   "outputs": [
    {
     "name": "stdout",
     "output_type": "stream",
     "text": [
      "0.99\n",
      "0.95\n",
      "0.9\n",
      "0.8\n",
      "0.7\n",
      "0.6\n",
      "0.5\n",
      "0.4\n",
      "0.3\n",
      "0.2\n",
      "0.1\n",
      "0.05\n",
      "0.01\n"
     ]
    }
   ],
   "source": [
    "(mean_accuracy_mv2_amherst2, se_accuracy_mv2_amherst2, \n",
    " mean_micro_auc_mv2_amherst2,se_micro_auc_mv2_amherst2, \n",
    " mean_wt_auc_mv2_amherst2,se_wt_auc_mv2_amherst2) =majority_vote_finalized(percent_initially_unlabelled,  \n",
    "                                                                np.array(gender_y), \n",
    "                                                                np.array(adj_amherst2), \n",
    "                                                                num_iter=10) \n",
    "\n"
   ]
  },
  {
   "cell_type": "markdown",
   "metadata": {},
   "source": [
    "## ZGL"
   ]
  },
  {
   "cell_type": "code",
   "execution_count": 13,
   "metadata": {
    "collapsed": false
   },
   "outputs": [
    {
     "name": "stdout",
     "output_type": "stream",
     "text": [
      "0.99\n",
      "0.95\n",
      "0.9\n",
      "0.8\n",
      "0.7\n",
      "0.6\n",
      "0.5\n",
      "0.4\n",
      "0.3\n",
      "0.2\n",
      "0.1\n",
      "0.05\n",
      "0.01\n"
     ]
    }
   ],
   "source": [
    "(mean_accuracy_zgl_amherst, se_accuracy_zgl_amherst, \n",
    "mean_micro_auc_zgl_amherst,se_micro_auc_zgl_amherst, \n",
    "mean_wt_auc_zgl_amherst,se_wt_auc_zgl_amherst) =ZGL_finalized(np.array(adj_matrix_gender),\n",
    "                                    np.array(gender_y),percent_initially_unlabelled, \n",
    "                                    num_iter=10)"
   ]
  },
  {
   "cell_type": "markdown",
   "metadata": {},
   "source": [
    "## Baseline Classifier"
   ]
  },
  {
   "cell_type": "code",
   "execution_count": 14,
   "metadata": {
    "collapsed": false
   },
   "outputs": [
    {
     "name": "stdout",
     "output_type": "stream",
     "text": [
      "0.99\n",
      "0.95\n",
      "0.9\n",
      "0.8\n",
      "0.7\n",
      "0.6\n",
      "0.5\n",
      "0.4\n",
      "0.3\n",
      "0.2\n",
      "0.1\n",
      "0.05\n",
      "0.01\n"
     ]
    }
   ],
   "source": [
    "(mean_wt_auc_baseline_amherst,se_wt_auc_baseline_amherst) = random_classifier(np.array(adj_matrix_gender),\n",
    "                                                                             np.array(gender_y),\n",
    "                                                                            percent_initially_unlabelled,\n",
    "                                                                             num_iter=10)"
   ]
  },
  {
   "cell_type": "code",
   "execution_count": 15,
   "metadata": {
    "collapsed": false
   },
   "outputs": [
    {
     "name": "stderr",
     "output_type": "stream",
     "text": [
      "/Users/kristen/anaconda/lib/python2.7/site-packages/matplotlib/collections.py:650: FutureWarning: elementwise comparison failed; returning scalar instead, but in the future will perform elementwise comparison\n",
      "  if self._edgecolors_original != str('face'):\n",
      "/Users/kristen/anaconda/lib/python2.7/site-packages/matplotlib/collections.py:590: FutureWarning: elementwise comparison failed; returning scalar instead, but in the future will perform elementwise comparison\n",
      "  if self._edgecolors == str('face'):\n"
     ]
    },
    {
     "data": {
      "image/png": "[encoded data removed]",
      "text/plain": [
       "<matplotlib.figure.Figure at 0x115840350>"
      ]
     },
     "metadata": {},
     "output_type": "display_data"
    }
   ],
   "source": [
    "%matplotlib inline\n",
    "from matplotlib.ticker import FixedLocator,LinearLocator,MultipleLocator, FormatStrFormatter\n",
    "\n",
    "fig = plt.figure()\n",
    "seaborn.set_style(style='white')\n",
    "from mpl_toolkits.axes_grid1 import Grid\n",
    "grid = Grid(fig, rect=111, nrows_ncols=(1,1),\n",
    "            axes_pad=0.1, label_mode='L')\n",
    "for i in range(4):\n",
    "    if i == 0:\n",
    "        grid[i].xaxis.set_major_locator(FixedLocator([0,25,50,75,100]))\n",
    "        grid[i].yaxis.set_major_locator(FixedLocator([0.4, 0.5,0.6,0.7,0.8,0.9,1]))\n",
    "\n",
    "        grid[i].errorbar(percent_initially_labelled*100, mean_wt_auc_amherst_lbfgs, \n",
    "            yerr=se_wt_auc_amherst, fmt='--o', capthick=2,\n",
    "            alpha=0.6, elinewidth=3, color='black')\n",
    "        grid[i].errorbar(percent_initially_labelled*100, mean_wt_auc_zgl_amherst,\n",
    "            yerr=se_micro_auc_zgl_amherst, fmt='--o', capthick=2,\n",
    "            alpha=0.6, elinewidth=3, color='orange')\n",
    "        grid[i].errorbar(percent_initially_labelled*100, mean_wt_auc_mv_amherst,\n",
    "            yerr=se_micro_auc_mv_amherst, fmt='--o', capthick=2,\n",
    "            alpha=0.6, elinewidth=3, color='red')\n",
    "        grid[i].errorbar(percent_initially_labelled*100, mean_wt_auc_mv2_amherst2, \n",
    "            yerr=se_micro_auc_mv2_amherst2, fmt='--o', capthick=2,\n",
    "                alpha=0.6, elinewidth=3, color='maroon')\n",
    "        \n",
    "        grid[i].errorbar(percent_initially_labelled*100, mean_wt_auc_baseline_amherst, \n",
    "            yerr=se_wt_auc_baseline_amherst, fmt='--o', capthick=2,\n",
    "           alpha=0.6, elinewidth=3, color='gray')\n",
    "        \n",
    "        grid[i].set_ylim(0.3,1.1)\n",
    "        grid[i].set_xlim(0,101)\n",
    "        grid[i].annotate('LINK', xy=(3, 0.99), \n",
    "                 color='black', alpha=1, size=12)\n",
    "        grid[i].annotate('2-hop MV', xy=(3, 0.96), \n",
    "                 color='maroon', alpha=1, size=12)\n",
    "        grid[i].annotate('1-hop MV', xy=(3, 0.93), \n",
    "                 color='red', alpha=1, size=12)\n",
    "        grid[i].annotate('ZGL', xy=(3, 0.90), \n",
    "                 color='orange', alpha=1, size=12)\n",
    "        grid[i].annotate('Baseline', xy=(3, 0.87), \n",
    "                 color='gray', alpha=1, size=12)\n",
    "        grid[i].set_ylim(0.49,1.01)\n",
    "        grid[i].set_xlim(0,100)\n",
    "        grid[i].spines['right'].set_visible(False)\n",
    "        grid[i].spines['top'].set_visible(False)\n",
    "        grid[i].tick_params(axis='both', which='major', labelsize=13)\n",
    "        grid[i].tick_params(axis='both', which='minor', labelsize=13)\n",
    "        grid[i].set_xlabel('Percent of Nodes Initially Labeled')\n",
    "        grid[i].set_ylabel('AUC')\n",
    "\n",
    "plt.setp(ax1, xticks=[0,25, 50, 75, 100], xticklabels=['0', '25', '50', '75', '100'])\n",
    "grid[0].set_xticks([0,25, 50, 75, 100])\n",
    "grid[0].set_yticks([ 0.4, 0.5,0.6,0.7,0.8,0.9,1])\n",
    "\n",
    "\n",
    "grid[0].minorticks_on()\n",
    "grid[0].tick_params('both', length=4, width=1, which='major', left=1, bottom=1, top=0, right=0)\n",
    "\n",
    "pp = PdfPages('../../figures/Amherst_College_Inference.pdf')\n",
    "pp.savefig()\n",
    "pp.close()"
   ]
  },
  {
   "cell_type": "markdown",
   "metadata": {},
   "source": [
    "## SI Figure S5/6. regularization for LINK"
   ]
  },
  {
   "cell_type": "markdown",
   "metadata": {},
   "source": [
    "### l2"
   ]
  },
  {
   "cell_type": "code",
   "execution_count": 26,
   "metadata": {
    "collapsed": false
   },
   "outputs": [
    {
     "name": "stdout",
     "output_type": "stream",
     "text": [
      "0\n",
      "1\n",
      "2\n"
     ]
    },
    {
     "data": {
      "image/png": "[encoded data removed]",
      "text/plain": [
       "<matplotlib.figure.Figure at 0x115ff4fd0>"
      ]
     },
     "metadata": {},
     "output_type": "display_data"
    }
   ],
   "source": [
    "percent_initially_unlabelled = np.array([0.9,0.5,0.1])\n",
    "percent_initially_labelled = 1-percent_initially_unlabelled\n",
    "%matplotlib inline\n",
    "f, (ax1, ax2,ax3) = plt.subplots(1, 3, \n",
    "                             sharey=False, sharex=False,\n",
    "                            figsize=(8, 3))\n",
    "C_min = -10\n",
    "for i in range(len(percent_initially_unlabelled)):\n",
    "    print i\n",
    "    k_fold = cross_validation.ShuffleSplit(len(gender_y), n_iter=1,\n",
    "                                                test_size=percent_initially_unlabelled[i],\n",
    "                                                random_state=0)\n",
    "\n",
    "    for k, (train, test) in enumerate(k_fold):\n",
    "        ## vary C values\n",
    "        C_vals = [10**x for x in range(C_min,100)]#range(-20,100)]\n",
    "\n",
    "        ## vary solver types\n",
    "        solver_type = np.array(['liblinear',\n",
    "                                   'newton-cg',\n",
    "                                   'lbfgs'])\n",
    "\n",
    "        liblinear_AUC = []\n",
    "        newton_cg_AUC = []\n",
    "        lbfgs_AUC = []\n",
    "        for j in range(len(C_vals)):\n",
    "            for m in range(len(solver_type)):\n",
    "                clf = linear_model.LogisticRegression(penalty='l2',\n",
    "                                                    C=C_vals[j],\n",
    "                                                    solver =solver_type[m])\n",
    "                clf.fit(adj_matrix_gender[train], np.ravel(gender_y[train])) # spot-check fitted on training data\n",
    "\n",
    "\n",
    "                pred = clf.predict(adj_matrix_gender[train]) # spot-check fitted on testing data\n",
    "                prob = clf.predict_proba(adj_matrix_gender[test])\n",
    "\n",
    "                if solver_type[m]=='liblinear':\n",
    "                    liblinear_AUC.append(metrics.roc_auc_score(label_binarize(gender_y[test],np.unique(gender_y)),\n",
    "                                                                    prob[:,1],average='weighted'))\n",
    "                if solver_type[m]=='newton-cg':\n",
    "                    newton_cg_AUC.append(metrics.roc_auc_score(label_binarize(gender_y[test],np.unique(gender_y)),\n",
    "                                                                    prob[:,1],average='weighted'))\n",
    "                if solver_type[m]=='lbfgs':\n",
    "                    lbfgs_AUC.append(metrics.roc_auc_score(label_binarize(gender_y[test],np.unique(gender_y)),\n",
    "                                                                    prob[:,1],average='weighted'))\n",
    "    if i==0:\n",
    "        ax1.minorticks_on()\n",
    "        ax1.tick_params('both', length=4, width=1, which='major', left=1, bottom=1, top=0, right=0)\n",
    "        ax1.set_xlabel('C, log_10')\n",
    "        ax1.scatter(range(C_min,100), liblinear_AUC, color='red')#,'.r-')\n",
    "        ax1.plot(range(C_min,100), liblinear_AUC, 'r--')\n",
    "        ax1.scatter(range(C_min,100), newton_cg_AUC, color='blue')#,'.b-')\n",
    "        ax1.plot(range(C_min,100), newton_cg_AUC, 'b--')\n",
    "        ax1.scatter(range(C_min,100), lbfgs_AUC, color='green')#,'.g-')\n",
    "        ax1.plot(range(C_min,100), lbfgs_AUC, 'g--')\n",
    "        ax1.annotate('liblinear', xy=(-15,0.90), color = 'red')\n",
    "        ax1.annotate('newton_cg', xy=(-15,0.85), color = 'blue')\n",
    "        ax1.annotate('lbfgs', xy=(-15,0.8), color = 'green')\n",
    "        ax1.spines[\"right\"].set_visible(False)\n",
    "        ax1.spines[\"top\"].set_visible(False)\n",
    "        ax1.set_title(str(percent_initially_labelled[i]*100) +'% initially labeled')\n",
    "        ax1.set_ylabel('AUC')\n",
    "        ax1.set_ylim(0.25,1)\n",
    "        ax1.set_xlim(-20,20)\n",
    "\n",
    "\n",
    "    if i==1:\n",
    "        ax2.scatter(range(C_min,100), liblinear_AUC, color='red')#,'.r-')\n",
    "        ax2.plot(range(C_min,100), liblinear_AUC, 'r--')\n",
    "        ax2.minorticks_on()\n",
    "        ax2.tick_params('both', length=4, width=1, which='major', left=1, bottom=1, top=0, right=0)\n",
    "        ax2.set_xlabel('C, log_10')\n",
    "        ax2.scatter(range(C_min,100), newton_cg_AUC, color='blue')#,'.b-')\n",
    "        ax2.plot(range(C_min,100), newton_cg_AUC, 'b--')\n",
    "        ax2.scatter(range(C_min,100), lbfgs_AUC, color='green')#,'.g-')\n",
    "        ax2.plot(range(C_min,100), lbfgs_AUC, 'g--')\n",
    "        ax2.spines[\"right\"].set_visible(False)\n",
    "        ax2.spines[\"top\"].set_visible(False)\n",
    "        ax2.set_title(str(percent_initially_labelled[i]*100) +'% initially labeled')\n",
    "        ax2.set_ylim(0.25,1)\n",
    "        ax2.set_xlim(-20,20)\n",
    "\n",
    "\n",
    "\n",
    "    if i==2:\n",
    "        ax3.scatter(range(C_min,100), liblinear_AUC, color='red')#,'.r-')\n",
    "        ax3.plot(range(C_min,100), liblinear_AUC, 'r--')\n",
    "        ax3.scatter(range(C_min,100), newton_cg_AUC, color='blue')#,'.b-')\n",
    "        ax3.plot(range(C_min,100), newton_cg_AUC, 'b--')\n",
    "        ax3.minorticks_on()\n",
    "        ax3.tick_params('both', length=4, width=1, which='major', left=1, bottom=1, top=0, right=0)\n",
    "        ax3.set_xlabel('C, log_10')\n",
    "        ax3.scatter(range(C_min,100), lbfgs_AUC, color='green')#,'.g-')\n",
    "        ax3.plot(range(C_min,100), lbfgs_AUC, 'g--')\n",
    "        ax3.spines[\"right\"].set_visible(False)\n",
    "        ax3.spines[\"top\"].set_visible(False)\n",
    "        ax3.set_title(str(percent_initially_labelled[i]*100) +'% initially labeled')\n",
    "        ax3.set_ylim(0.25,1)\n",
    "        ax3.set_xlim(-20,20)\n",
    "    plt.tight_layout()\n",
    "    pp = PdfPages('../../figures/FB_Amherst_sensitivity_to_C.pdf')\n",
    "    pp.savefig()\n",
    "    pp.close()    "
   ]
  },
  {
   "cell_type": "code",
   "execution_count": null,
   "metadata": {
    "collapsed": true
   },
   "outputs": [],
   "source": []
  },
  {
   "cell_type": "markdown",
   "metadata": {},
   "source": [
    "### l1"
   ]
  },
  {
   "cell_type": "code",
   "execution_count": 28,
   "metadata": {
    "collapsed": false
   },
   "outputs": [
    {
     "name": "stdout",
     "output_type": "stream",
     "text": [
      "0\n",
      "1\n",
      "2\n"
     ]
    },
    {
     "data": {
      "image/png": "[encoded data removed]",
      "text/plain": [
       "<matplotlib.figure.Figure at 0x115760590>"
      ]
     },
     "metadata": {},
     "output_type": "display_data"
    }
   ],
   "source": [
    "## spotcheck_only\n",
    "%matplotlib inline\n",
    "f, (ax1, ax2,ax3) = plt.subplots(1, 3, \n",
    "                             sharey=False, sharex=False,\n",
    "                            figsize=(8, 3))\n",
    "for i in range(len(percent_initially_unlabelled)):\n",
    "    print i\n",
    "    k_fold = cross_validation.ShuffleSplit(len(gender_y), n_iter=1,\n",
    "                                                test_size=percent_initially_unlabelled[i],\n",
    "                                                random_state=0)\n",
    "\n",
    "\n",
    "    for k, (train, test) in enumerate(k_fold):\n",
    "        ## vary C values\n",
    "        C_vals = [10**x for x in range(C_min,100)]\n",
    "\n",
    "        ## vary solver types\n",
    "        solver_type = np.array(['liblinear'])\n",
    "        liblinear_AUCl1 = []\n",
    "        for j in range(len(C_vals)):\n",
    "            for m in range(len(solver_type)):\n",
    "                clf = linear_model.LogisticRegression(penalty='l1',\n",
    "                                                    C=C_vals[j],\n",
    "                                                    solver =solver_type[m])\n",
    "                clf.fit(adj_matrix_gender[train], np.ravel(gender_y[train])) # spot-check fitted on training data\n",
    "\n",
    "\n",
    "                pred = clf.predict(adj_matrix_gender[train]) # spot-check fitted on testing data\n",
    "                prob = clf.predict_proba(adj_matrix_gender[test])\n",
    "\n",
    "                if solver_type[m]=='liblinear':\n",
    "                    liblinear_AUCl1.append(metrics.roc_auc_score(label_binarize(gender_y[test],np.unique(gender_y)),\n",
    "                                                                    prob[:,1],average='weighted'))\n",
    "               \n",
    "           \n",
    "    if i==0:\n",
    "        ax1.scatter(range(-20,100), liblinear_AUCl1, color='red')#,'.r-')\n",
    "        ax1.plot(range(-20,100), liblinear_AUCl1, 'r--')\n",
    "\n",
    "        ax1.minorticks_on()\n",
    "        ax1.tick_params('both', length=4, width=1, which='major', left=1, bottom=1, top=0, right=0)\n",
    "        ax1.set_xlabel('C, log_10')\n",
    "        ax1.annotate('liblinear', xy=(-15,0.90), color = 'red')\n",
    "        ax1.spines[\"right\"].set_visible(False)\n",
    "        ax1.spines[\"top\"].set_visible(False)\n",
    "        ax1.set_title(str(percent_initially_labelled[i]*100) +'% initially labeled')\n",
    "        ax1.set_ylabel('AUC')\n",
    "        ax1.set_ylim(0.25,1)\n",
    "        ax1.set_xlim(-20,20)\n",
    "        \n",
    "    if i==1:\n",
    "        ax2.scatter(range(-20,100), liblinear_AUCl1, color='red')#,'.r-')\n",
    "        ax2.plot(range(-20,100), liblinear_AUCl1, 'r--')\n",
    "        ax2.spines[\"right\"].set_visible(False)\n",
    "        ax2.spines[\"top\"].set_visible(False)\n",
    "        ax2.set_title(str(percent_initially_labelled[i]*100) +'% initially labeled')\n",
    "        ax2.set_ylim(0.25,1)\n",
    "        ax2.set_xlim(-20,20)\n",
    "        ax2.minorticks_on()\n",
    "        ax2.tick_params('both', length=4, width=1, which='major', left=1, bottom=1, top=0, right=0)\n",
    "        ax2.set_xlabel('C, log_10')\n",
    "\n",
    "    if i==2:\n",
    "        ax3.scatter(range(-20,100), liblinear_AUCl1, color='red')#,'.r-')\n",
    "        ax3.plot(range(-20,100), liblinear_AUCl1, 'r--')\n",
    "        ax3.spines[\"right\"].set_visible(False)\n",
    "        ax3.spines[\"top\"].set_visible(False)\n",
    "        ax3.set_title(str(percent_initially_labelled[i]*100) +'% initially labeled')\n",
    "        ax3.set_ylim(0.25,1)\n",
    "        ax3.set_xlim(-20,20)\n",
    "        ax3.minorticks_on()\n",
    "        ax3.tick_params('both', length=4, width=1, which='major', left=1, bottom=1, top=0, right=0)\n",
    "        ax3.set_xlabel('C, log_10')\n",
    "    plt.tight_layout()\n",
    "    pp = PdfPages('../../figures/FB_Amherst_sensitivity_to_C_l1.pdf')\n",
    "    pp.savefig()\n",
    "    pp.close()"
   ]
  },
  {
   "cell_type": "markdown",
   "metadata": {},
   "source": [
    "## SI Figure S7. separability on Amherst College"
   ]
  },
  {
   "cell_type": "code",
   "execution_count": 10,
   "metadata": {
    "collapsed": true
   },
   "outputs": [],
   "source": [
    "def LINK_training(num_unlabeled, membership_y, feature_x, clf, num_iter, cv_setup=None):\n",
    "    mean_accuracy = []\n",
    "    se_accuracy = []\n",
    "    mean_micro_auc = []\n",
    "    se_micro_auc = []\n",
    "    mean_wt_auc = []\n",
    "    se_wt_auc = []\n",
    "    \n",
    "        \n",
    "    for i in range(len(num_unlabeled)):\n",
    "        print num_unlabeled[i]\n",
    "        if cv_setup=='stratified':\n",
    "            k_fold = cross_validation.StratifiedShuffleSplit((membership_y), n_iter=num_iter,\n",
    "                                               test_size=num_unlabeled[i],\n",
    "                                               random_state=0)\n",
    "        else:\n",
    "            k_fold = cross_validation.ShuffleSplit(len(membership_y), n_iter=num_iter,\n",
    "                                                         test_size=num_unlabeled[i],\n",
    "                                                         random_state=0)\n",
    "        accuracy = []\n",
    "        micro_auc = []\n",
    "        wt_auc = []\n",
    "        for k, (train, test) in enumerate(k_fold):\n",
    "            clf.fit(feature_x[train], np.ravel(membership_y[train]))\n",
    "            \n",
    "            # predicted labels\n",
    "            pred = clf.predict(feature_x[train])\n",
    "            prob = clf.predict_proba(feature_x[train])\n",
    "\n",
    "            accuracy.append(metrics.accuracy_score(membership_y[train], pred,  normalize = True))\n",
    "                                                                                 \n",
    "            # auc scores\n",
    "            if len(np.unique(membership_y))>2:\n",
    "                micro_auc.append(metrics.roc_auc_score(label_binarize(membership_y[train],\n",
    "                                                                      np.unique(membership_y)), prob,  average = 'micro'))\n",
    "                wt_auc.append(metrics.roc_auc_score(label_binarize(membership_y[train],\n",
    "                                                                   np.unique(membership_y)), prob,\n",
    "                                                                                                                             average = 'weighted'))\n",
    "            else:\n",
    "                micro_auc.append(metrics.roc_auc_score(label_binarize(membership_y[train],\n",
    "                                                                      np.unique(membership_y)),\n",
    "                                                                        prob[:,1],average='micro'))\n",
    "                wt_auc.append(metrics.roc_auc_score(label_binarize(membership_y[train],\n",
    "                                                                   np.unique(membership_y)),\n",
    "                                                                            prob[:,1],average='weighted'))\n",
    "    \n",
    "        mean_accuracy.append(np.mean(accuracy))\n",
    "        se_accuracy.append(np.std(accuracy))\n",
    "\n",
    "        mean_micro_auc.append(np.mean(micro_auc))\n",
    "        se_micro_auc.append(np.std(micro_auc))\n",
    "        mean_wt_auc.append(np.mean(wt_auc))\n",
    "        se_wt_auc.append(np.std(wt_auc))\n",
    "\n",
    "    return(mean_accuracy, se_accuracy, mean_micro_auc,se_micro_auc, mean_wt_auc,se_wt_auc)"
   ]
  },
  {
   "cell_type": "code",
   "execution_count": 13,
   "metadata": {
    "collapsed": true
   },
   "outputs": [],
   "source": [
    "percent_initially_unlabelled = [0.99,0.9,0.8,0.7,0.6,0.5,0.4,0.3,0.2,0.1,0.05]\n",
    "percent_initially_labelled = np.subtract(1, percent_initially_unlabelled)"
   ]
  },
  {
   "cell_type": "code",
   "execution_count": 14,
   "metadata": {
    "collapsed": false
   },
   "outputs": [
    {
     "name": "stdout",
     "output_type": "stream",
     "text": [
      "0.99\n",
      "0.9\n",
      "0.8\n",
      "0.7\n",
      "0.6\n",
      "0.5\n",
      "0.4\n",
      "0.3\n",
      "0.2\n",
      "0.1\n",
      "0.05\n"
     ]
    }
   ],
   "source": [
    "(t1,t1,\n",
    "t1, t2, mean_auc_l2_unregularized_training_C100, se_auc_l2_unregularized_training_C100)= LINK_training(\n",
    "    percent_initially_unlabelled,  gender_y,\n",
    "                                                            adj_matrix_gender,\n",
    "                                                            clf = linear_model.LogisticRegression(\n",
    "        penalty='l2',C=10e20, solver='lbfgs'), \n",
    "                                                                             num_iter=10, cv_setup=None)"
   ]
  },
  {
   "cell_type": "code",
   "execution_count": 15,
   "metadata": {
    "collapsed": true
   },
   "outputs": [],
   "source": [
    "C_array = np.logspace(-5, 5, num=50, endpoint=True)"
   ]
  },
  {
   "cell_type": "code",
   "execution_count": 16,
   "metadata": {
    "collapsed": false
   },
   "outputs": [
    {
     "name": "stdout",
     "output_type": "stream",
     "text": [
      "0.99\n",
      "0.9\n",
      "0.8\n",
      "0.7\n",
      "0.6\n",
      "0.5\n",
      "0.4\n",
      "0.3\n",
      "0.2\n",
      "0.1\n",
      "0.05\n"
     ]
    }
   ],
   "source": [
    "(t1,t1,\n",
    "t1, t2, mean_auc_l2_regularized_training, se_auc_l2_regularized_training)= LINK_training(\n",
    "    percent_initially_unlabelled,  \n",
    "                                                                                         gender_y,\n",
    "                                                            adj_matrix_gender,\n",
    "                                                            clf = linear_model.LogisticRegressionCV(\n",
    "        C_array,penalty='l2',solver='lbfgs'), \n",
    "                                                                             num_iter=10, cv_setup=None)"
   ]
  },
  {
   "cell_type": "code",
   "execution_count": 17,
   "metadata": {
    "collapsed": false
   },
   "outputs": [
    {
     "name": "stdout",
     "output_type": "stream",
     "text": [
      "0.99\n",
      "0.9\n",
      "0.8\n",
      "0.7\n",
      "0.6\n",
      "0.5\n",
      "0.4\n",
      "0.3\n",
      "0.2\n",
      "0.1\n",
      "0.05\n"
     ]
    }
   ],
   "source": [
    "(t1,t1,\n",
    "t1, t2, mean_auc_l2_unregularized, se_auc_l2_unregularized)= LINK(percent_initially_unlabelled,  gender_y,\n",
    "                                                            adj_matrix_gender,\n",
    "                                                            clf = linear_model.LogisticRegression(\n",
    "        penalty='l2',C=10e20, solver='lbfgs'), \n",
    "                                                                    num_iter=10, cv_setup=None)"
   ]
  },
  {
   "cell_type": "code",
   "execution_count": 18,
   "metadata": {
    "collapsed": false
   },
   "outputs": [
    {
     "name": "stdout",
     "output_type": "stream",
     "text": [
      "0.99\n",
      "0.9\n",
      "0.8\n",
      "0.7\n",
      "0.6\n",
      "0.5\n",
      "0.4\n",
      "0.3\n",
      "0.2\n",
      "0.1\n",
      "0.05\n"
     ]
    }
   ],
   "source": [
    "(t1,t1,\n",
    "t1, t2, mean_auc_l2_regularized, se_auc_l2_regularized)= LINK(percent_initially_unlabelled,  gender_y,\n",
    "                                            adj_matrix_gender,\n",
    "                                            clf = linear_model.LogisticRegressionCV(C_array,penalty='l2',\n",
    "                                                                                    solver='lbfgs',cv=5), \n",
    "                                                                    num_iter=10, cv_setup=None)"
   ]
  },
  {
   "cell_type": "code",
   "execution_count": 20,
   "metadata": {
    "collapsed": false
   },
   "outputs": [
    {
     "data": {
      "image/png": "[encoded data removed]",
      "text/plain": [
       "<matplotlib.figure.Figure at 0x116076d90>"
      ]
     },
     "metadata": {},
     "output_type": "display_data"
    }
   ],
   "source": [
    "%matplotlib inline\n",
    "\n",
    "plt.errorbar(percent_initially_labelled*100, mean_auc_l2_unregularized, \n",
    "                     yerr=se_auc_l2_unregularized, fmt='--o', capthick=2,\n",
    "                     alpha=0.6, elinewidth=3, color='black')\n",
    "\n",
    "plt.errorbar(percent_initially_labelled*100, mean_auc_l2_unregularized_training_C100, \n",
    "                     yerr=se_auc_l2_unregularized_training_C100, fmt='--o', capthick=2,\n",
    "                     alpha=0.6, elinewidth=3, color='blue')\n",
    "\n",
    "plt.title('Amherst College: LINK evaluated on training versus testing data')\n",
    "\n",
    "plt.annotate('L2-unregularized - testing', xy=(50, 0.67), \n",
    "             color='black', alpha=1, size=12)\n",
    "\n",
    "plt.annotate('L2-unregularized - training', xy=(50, 0.7), \n",
    "             color='blue', alpha=1, size=12)\n",
    "\n",
    "plt.ylim(*(0.4,1.05))\n",
    "plt.xlabel('Percent of Nodes Initially Labeled')\n",
    "plt.ylabel('AUC')\n",
    "pp = PdfPages('../../figures/Amherst_LINK_training_testing_separability.pdf')\n",
    "pp.savefig()\n",
    "pp.close()"
   ]
  },
  {
   "cell_type": "markdown",
   "metadata": {
    "collapsed": true
   },
   "source": [
    "# illustrate overdispersion in Add Health School #23"
   ]
  },
  {
   "cell_type": "code",
   "execution_count": 30,
   "metadata": {
    "collapsed": true
   },
   "outputs": [],
   "source": [
    "add_health_file = '/Users/kristen/Dropbox/gender_graph_data/add-health/converted_gml/' ## location of pajek-->gml files"
   ]
  },
  {
   "cell_type": "code",
   "execution_count": 24,
   "metadata": {
    "collapsed": false
   },
   "outputs": [
    {
     "name": "stdout",
     "output_type": "stream",
     "text": [
      "comm23\n",
      "Processing comm23.gml...\n"
     ]
    }
   ],
   "source": [
    "for f in listdir(add_health_file):\n",
    "    if f.endswith('.gml') and f=='comm23.gml': \n",
    "        tag = f.replace('.gml', '')\n",
    "        print tag\n",
    "\n",
    "        id = re.findall(r'\\d+', f)\n",
    "        print \"Processing %s...\" % f\n",
    "\n",
    "        # directed graph\n",
    "        ah_graph_directed = nx.read_gml(add_health_file+f)\n",
    "\n",
    "        # for mutual links\n",
    "        t1 = nx.adj_matrix(ah_graph_directed).todense()\n",
    "        t2 = np.copy(t1.T)\n",
    "        final = ((t1+t2) > 0)+0\n",
    "        \n",
    "        # undirected graph\n",
    "        ah_graph_tmp = nx.read_gml(add_health_file+f)\n",
    "        ah_graph_undirected = ah_graph_tmp.to_undirected()\n",
    "            \n",
    "        ## Add Health -- Undirected: Either In- or Out- Link\n",
    "        (ah_gender_both, adj_gender_both) = create_adj_membership(nx.from_numpy_matrix(final),\n",
    "                                                                   nx.get_node_attributes(ah_graph_directed, 'comm' + str(id[0]) +'sex'),\n",
    "                                                                   0,\n",
    "                                                                   'yes',\n",
    "                                                                   0,\n",
    "                                                                   None, # change adjacency matrix type: out == out-link, in == in-link, any1 == undirected\n",
    "                                                                   'gender')\n",
    "  \n",
    "        ah_gender_both = np.array(map(np.int,ah_gender_both))\n",
    "\n",
    "        (ah_gender_undirected, adj_directed_gender_undirected) = create_adj_membership(nx.from_numpy_matrix(final),\n",
    "                                                                   nx.get_node_attributes(ah_graph_directed, 'comm' + str(id[0]) +'sex'),\n",
    "                                                                   0,\n",
    "                                                                   'yes',\n",
    "                                                                   0,\n",
    "                                                                   None, # change adjacency matrix type: out == out-link, in == in-link, any1 == undirected\n",
    "                                                                   'gender')\n",
    "        ah_gender_undirected = np.array(map(np.int,ah_gender_undirected))\n",
    "\n",
    "\n",
    "        #in\n",
    "        (ah_gender_in, adj_gender_in) = create_directed_adj_membership(ah_graph_directed,\n",
    "                                                                nx.get_node_attributes(ah_graph_directed, 'comm' + str(id[0]) +'sex'), ## fix for non-mutual links here\n",
    "                                                                   0,\n",
    "                                                                   'yes',\n",
    "                                                                   0,\n",
    "                                                                   'in', # change adjacency matrix type: out == out-link, in == in-link, any1 == undirected\n",
    "                                                                   'gender')\n",
    "        ah_gender_in = np.array(map(np.int,ah_gender_in))\n",
    "\n",
    "\n",
    "        #out-link\n",
    "        (ah_gender_out, adj_gender_out) = create_directed_adj_membership(ah_graph_directed,\n",
    "                                                                nx.get_node_attributes(ah_graph_directed, \n",
    "                                                                                       'comm' + str(id[0]) +'sex'), ## fix for non-mutual links here\n",
    "                                                                   0,\n",
    "                                                                   'yes',\n",
    "                                                                   0,\n",
    "                                                                   'out', # change adjacency matrix type: out == out-link, in == in-link, any1 == undirected\n",
    "                                                                   'gender')\n",
    "        ah_gender_out = np.array(map(np.int,ah_gender_out))\n"
   ]
  },
  {
   "cell_type": "markdown",
   "metadata": {},
   "source": [
    "# Null Distribution for Add Health"
   ]
  },
  {
   "cell_type": "code",
   "execution_count": 25,
   "metadata": {
    "collapsed": false
   },
   "outputs": [],
   "source": [
    "add_health_null =  compute_null_distribution(adj_directed_gender_undirected, \n",
    "                                ah_gender_undirected, \n",
    "                                100000)"
   ]
  },
  {
   "cell_type": "code",
   "execution_count": 31,
   "metadata": {
    "collapsed": true
   },
   "outputs": [],
   "source": [
    "add_health_obs = compute_observed_same_total_degree(adj_directed_gender_undirected, \n",
    "                                ah_gender_undirected)"
   ]
  },
  {
   "cell_type": "code",
   "execution_count": 32,
   "metadata": {
    "collapsed": false
   },
   "outputs": [
    {
     "name": "stdout",
     "output_type": "stream",
     "text": [
      "[1 2]\n"
     ]
    }
   ],
   "source": [
    "print np.unique(ah_gender_undirected)"
   ]
  },
  {
   "cell_type": "markdown",
   "metadata": {},
   "source": [
    "# SI Figure S8. "
   ]
  },
  {
   "cell_type": "markdown",
   "metadata": {},
   "source": [
    "### undirected graph"
   ]
  },
  {
   "cell_type": "code",
   "execution_count": 33,
   "metadata": {
    "collapsed": false
   },
   "outputs": [
    {
     "data": {
      "image/png": "[encoded data removed]",
      "text/plain": [
       "<matplotlib.figure.Figure at 0x1bb74b590>"
      ]
     },
     "metadata": {},
     "output_type": "display_data"
    }
   ],
   "source": [
    "%matplotlib inline\n",
    "nbins = 20\n",
    "f, (ax1, ax2) = plt.subplots(1, 2, \n",
    "                             sharey=False, sharex=False,\n",
    "                            figsize=(8, 3))\n",
    "ax1.hist(add_health_obs[1],\n",
    "         bins = np.linspace(0,1,nbins),\n",
    "         normed = True,\n",
    "         edgecolor = 'white',\n",
    "        color='red',alpha=0.5)\n",
    "plt.setp(ax1, xticks=[0,0.25, 0.5, 0.75, 1], xticklabels=['0', '0.25', '0.50', '0.75', '1'])\n",
    "ax1.set_xticks([0,0.25, 0.5, 0.75, 1])\n",
    "ax1.minorticks_on()\n",
    "ax1.tick_params('both', length=4, width=1, which='major', left=1, bottom=1, top=0, right=0)\n",
    "ax2.set_xticks([0,0.25, 0.5, 0.75, 1])\n",
    "ax2.minorticks_on()\n",
    "ax2.tick_params('both', length=4, width=1, which='major', left=1, bottom=1, top=0, right=0)\n",
    "ax2.set_ylabel('Normalized Frequency')\n",
    "ax1.set_ylabel('Normalized Frequency')\n",
    "ax2.set_xlabel('Proportion of $in$-class Neighbors, $d_{i,\\\\mathrm{in}}/d_i$')\n",
    "ax1.set_xlabel('Proportion of $in$-class Neighbors, $d_{i,\\\\mathrm{in}}/d_i$')\n",
    "\n",
    "\n",
    "ax1.hist(add_health_null[1],\n",
    "         bins = np.linspace(0,1,nbins),\n",
    "         normed = True,\n",
    "         edgecolor = 'red',histtype='step',\n",
    "        color='white',alpha=1,lw=1)\n",
    "\n",
    "ax1.spines[\"right\"].set_visible(False)\n",
    "ax1.spines[\"top\"].set_visible(False)\n",
    "ax1.set_ylim(0,7)\n",
    "ax2.set_ylim(0,7)\n",
    "\n",
    "\n",
    "\n",
    "ax2.hist(add_health_obs[0],\n",
    "         bins = np.linspace(0,1,nbins),\n",
    "         normed = True,\n",
    "         edgecolor = 'white',\n",
    "        color='black',alpha=0.5)\n",
    "\n",
    "ax2.hist(add_health_null[0],\n",
    "         bins = np.linspace(0,1,nbins),\n",
    "         normed = True,\n",
    "         edgecolor = 'black',histtype='step',\n",
    "        color='white',alpha=1,lw=1.5)\n",
    "ax2.spines[\"right\"].set_visible(False)\n",
    "ax2.spines[\"top\"].set_visible(False)\n",
    "\n",
    "\n",
    "\n",
    "#f.text(0.5, 0.01, 'Proportion of $in$-class degrees, $d_{i,in}/d_i$', ha='center',size=10)\n",
    "f.text(0.5, 0.95, '(undirected)', ha='center',size=10)\n",
    "ax1.annotate('Females', xy=(0.08,6.5), \n",
    "                 color='red', alpha=1, size=12)\n",
    "\n",
    "ax2.annotate('Males', xy=(0.08,6.5), \n",
    "                 color='black', alpha=1, size=12)\n",
    "\n",
    "\n",
    "plt.tight_layout()\n",
    "\n",
    "\n",
    "pp = PdfPages('../../figures/Add_Health_23_undirected_overdispersion_100k.pdf')\n",
    "pp.savefig()\n",
    "pp.close()"
   ]
  },
  {
   "cell_type": "markdown",
   "metadata": {},
   "source": [
    "## in-directed"
   ]
  },
  {
   "cell_type": "code",
   "execution_count": 36,
   "metadata": {
    "collapsed": false
   },
   "outputs": [],
   "source": [
    "add_health_null =  compute_null_distribution(adj_gender_in, \n",
    "                                ah_gender_in, \n",
    "                                100000)\n",
    "add_health_obs = compute_observed_same_total_degree(adj_gender_in, \n",
    "                                ah_gender_in)"
   ]
  },
  {
   "cell_type": "code",
   "execution_count": 39,
   "metadata": {
    "collapsed": false
   },
   "outputs": [
    {
     "data": {
      "image/png": "[encoded data removed]",
      "text/plain": [
       "<matplotlib.figure.Figure at 0x1bb051690>"
      ]
     },
     "metadata": {},
     "output_type": "display_data"
    }
   ],
   "source": [
    "%matplotlib inline\n",
    "\n",
    "f, (ax1, ax2) = plt.subplots(1, 2, \n",
    "                             sharey=False, sharex=False,\n",
    "                            figsize=(8, 3))\n",
    "ax1.hist(add_health_obs[1],\n",
    "         bins = np.linspace(0,1,nbins),\n",
    "         normed = True,\n",
    "         edgecolor = 'white',\n",
    "        color='red',alpha=0.5)\n",
    "\n",
    "ax1.hist(add_health_null[1],\n",
    "         bins = np.linspace(0,1,nbins),\n",
    "         normed = True,\n",
    "         edgecolor = 'red',histtype='step',\n",
    "        color='white',alpha=1,lw=1)\n",
    "plt.setp(ax1, xticks=[0,0.25, 0.5, 0.75, 1], xticklabels=['0', '0.25', '0.50', '0.75', '1'])\n",
    "ax1.set_xticks([0,0.25, 0.5, 0.75, 1])\n",
    "ax1.minorticks_on()\n",
    "ax1.tick_params('both', length=4, width=1, which='major', left=1, bottom=1, top=0, right=0)\n",
    "ax2.set_xticks([0,0.25, 0.5, 0.75, 1])\n",
    "ax2.minorticks_on()\n",
    "ax2.tick_params('both', length=4, width=1, which='major', left=1, bottom=1, top=0, right=0)\n",
    "ax2.set_ylabel('Normalized Frequency')\n",
    "ax1.set_ylabel('Normalized Frequency')\n",
    "ax2.set_xlabel('Proportion of $in$-class Neighbors, $d_{i,\\\\mathrm{in}}/d_i$')\n",
    "ax1.set_xlabel('Proportion of $in$-class Neighbors, $d_{i,\\\\mathrm{in}}/d_i$')\n",
    "\n",
    "ax1.spines[\"right\"].set_visible(False)\n",
    "ax1.spines[\"top\"].set_visible(False)\n",
    "ax1.set_ylim(0,7)\n",
    "ax2.set_ylim(0,7)\n",
    "\n",
    "\n",
    "\n",
    "ax2.hist(add_health_obs[0],\n",
    "         bins = np.linspace(0,1,nbins),\n",
    "         normed = True,\n",
    "         edgecolor = 'white',\n",
    "        color='black',alpha=0.5)\n",
    "\n",
    "ax2.hist(add_health_null[0],\n",
    "         bins = np.linspace(0,1,nbins),\n",
    "         normed = True,\n",
    "         edgecolor = 'black',histtype='step',\n",
    "        color='white',alpha=1,lw=1.5)\n",
    "ax2.spines[\"right\"].set_visible(False)\n",
    "ax2.spines[\"top\"].set_visible(False)\n",
    "\n",
    "f.text(0.5, 0.95, '(in-links)', ha='center',size=10)\n",
    "ax1.annotate('Females', xy=(0.08,6.5), \n",
    "                 color='red', alpha=1, size=12)\n",
    "\n",
    "ax2.annotate('Males', xy=(0.08,6.5), \n",
    "                 color='black', alpha=1, size=12)\n",
    "\n",
    "\n",
    "plt.tight_layout()\n",
    "\n",
    "\n",
    "pp = PdfPages('../../figures/Add_Health_23_indirected_overdispersion_100k.pdf')\n",
    "pp.savefig()\n",
    "pp.close()"
   ]
  },
  {
   "cell_type": "markdown",
   "metadata": {},
   "source": [
    "## out-directed"
   ]
  },
  {
   "cell_type": "code",
   "execution_count": 40,
   "metadata": {
    "collapsed": true
   },
   "outputs": [],
   "source": [
    "add_health_null =  compute_null_distribution(adj_gender_out, \n",
    "                                ah_gender_out, \n",
    "                                100000)\n",
    "add_health_obs = compute_observed_same_total_degree(adj_gender_out, \n",
    "                                ah_gender_out)\n",
    "\n",
    "\n"
   ]
  },
  {
   "cell_type": "code",
   "execution_count": 41,
   "metadata": {
    "collapsed": false
   },
   "outputs": [
    {
     "data": {
      "image/png": "[encoded data removed]",
      "text/plain": [
       "<matplotlib.figure.Figure at 0x1b8db9fd0>"
      ]
     },
     "metadata": {},
     "output_type": "display_data"
    }
   ],
   "source": [
    "%matplotlib inline\n",
    "f, (ax1, ax2) = plt.subplots(1, 2, \n",
    "                             sharey=False, sharex=False,\n",
    "                            figsize=(8, 3))\n",
    "ax1.hist(add_health_obs[1],\n",
    "         bins = np.linspace(0,1,nbins),\n",
    "         normed = True,\n",
    "         edgecolor = 'white',\n",
    "        color='red',alpha=0.5)\n",
    "\n",
    "ax1.hist(add_health_null[1],\n",
    "         bins = np.linspace(0,1,nbins),\n",
    "         normed = True,\n",
    "         edgecolor = 'red',histtype='step',\n",
    "        color='white',alpha=1,lw=1)\n",
    "plt.setp(ax1, xticks=[0,0.25, 0.5, 0.75, 1], xticklabels=['0', '0.25', '0.50', '0.75', '1'])\n",
    "ax1.set_xticks([0,0.25, 0.5, 0.75, 1])\n",
    "ax1.minorticks_on()\n",
    "ax1.tick_params('both', length=4, width=1, which='major', left=1, bottom=1, top=0, right=0)\n",
    "ax2.set_xticks([0,0.25, 0.5, 0.75, 1])\n",
    "ax2.minorticks_on()\n",
    "ax2.tick_params('both', length=4, width=1, which='major', left=1, bottom=1, top=0, right=0)\n",
    "ax2.set_ylabel('Normalized Frequency')\n",
    "ax1.set_ylabel('Normalized Frequency')\n",
    "ax2.set_xlabel('Proportion of $in$-class Neighbors, $d_{i,\\\\mathrm{in}}/d_i$')\n",
    "ax1.set_xlabel('Proportion of $in$-class Neighbors, $d_{i,\\\\mathrm{in}}/d_i$')\n",
    "\n",
    "\n",
    "#ax1.set_ylabel('Frequency')\n",
    "ax1.spines[\"right\"].set_visible(False)\n",
    "ax1.spines[\"top\"].set_visible(False)\n",
    "ax1.set_ylim(0,7)\n",
    "ax2.set_ylim(0,7)\n",
    "\n",
    "\n",
    "ax2.hist(add_health_obs[0],\n",
    "         bins = np.linspace(0,1,nbins),\n",
    "         normed = True,\n",
    "         edgecolor = 'white',\n",
    "        color='black',alpha=0.5)\n",
    "\n",
    "ax2.hist(add_health_null[0],\n",
    "         bins = np.linspace(0,1,nbins),\n",
    "         normed = True,\n",
    "         edgecolor = 'black',histtype='step',\n",
    "        color='white',alpha=1,lw=1.5)\n",
    "ax2.spines[\"right\"].set_visible(False)\n",
    "ax2.spines[\"top\"].set_visible(False)\n",
    "\n",
    "f.text(0.5, 0.95, '(out-links)', ha='center',size=10)\n",
    "ax1.annotate('Females', xy=(0.08,6.5), \n",
    "                 color='red', alpha=1, size=12)\n",
    "\n",
    "ax2.annotate('Males', xy=(0.08,6.5), \n",
    "                 color='black', alpha=1, size=12)\n",
    "\n",
    "\n",
    "plt.tight_layout()\n",
    "\n",
    "\n",
    "pp = PdfPages('../../figures/Add_Health_23_outdirected_overdispersion_100k.pdf')\n",
    "pp.savefig()\n",
    "pp.close()"
   ]
  },
  {
   "cell_type": "code",
   "execution_count": 43,
   "metadata": {
    "collapsed": true
   },
   "outputs": [],
   "source": [
    "percent_initially_unlabelled = [0.98,0.95,0.9,0.8,0.7,0.6,0.5,0.4,0.3,0.2,0.1,0.05]\n",
    "percent_initially_labelled = np.subtract(1, percent_initially_unlabelled)"
   ]
  },
  {
   "cell_type": "markdown",
   "metadata": {},
   "source": [
    "## LINK "
   ]
  },
  {
   "cell_type": "code",
   "execution_count": 44,
   "metadata": {
    "collapsed": false
   },
   "outputs": [
    {
     "name": "stdout",
     "output_type": "stream",
     "text": [
      "0.98\n",
      "0.95\n",
      "0.9\n",
      "0.8\n",
      "0.7\n",
      "0.6\n",
      "0.5\n",
      "0.4\n",
      "0.3\n",
      "0.2\n",
      "0.1\n",
      "0.05\n"
     ]
    }
   ],
   "source": [
    "#undirected\n",
    "(mean_accuracy_ah_both, se_accuracy_ah_both, \n",
    " mean_micro_auc_ah_both,se_micro_auc_ah_both, mean_wt_auc_ah_both,se_wt_auc_ah_both)= LINK(percent_initially_unlabelled, ## note: mean_se_model assumes a vector of x% initially labeled\n",
    "                                                              np.array(ah_gender_both), ## gender labels \n",
    "                                                              np.array(adj_gender_both), ## adjacency matrix\n",
    "                                                              clf = linear_model.LogisticRegression(penalty='l2',\n",
    "                                                                                                    C=10e20,\n",
    "                                                                                                   solver='lbfgs'),\n",
    "                                                                        num_iter=10,\n",
    "                                                            cv_setup='None') \n",
    "\n",
    "\n",
    "\n"
   ]
  },
  {
   "cell_type": "code",
   "execution_count": 45,
   "metadata": {
    "collapsed": false
   },
   "outputs": [
    {
     "name": "stdout",
     "output_type": "stream",
     "text": [
      "0.98\n",
      "0.95\n",
      "0.9\n",
      "0.8\n",
      "0.7\n",
      "0.6\n",
      "0.5\n",
      "0.4\n",
      "0.3\n",
      "0.2\n",
      "0.1\n",
      "0.05\n"
     ]
    }
   ],
   "source": [
    "#undirected\n",
    "(mean_accuracy_ah_undirect, se_accuracy_ah_undirect, \n",
    " mean_micro_auc_ah_undirect,se_micro_auc_ah_undirect, mean_wt_auc_ah_undirect,se_wt_auc_ah_undirect)= LINK(percent_initially_unlabelled, ## note: mean_se_model assumes a vector of x% initially labeled\n",
    "                                                              np.array(ah_gender_undirected), ## gender labels \n",
    "                                                              np.matrix(adj_directed_gender_undirected), ## adjacency matrix\n",
    "                                                              clf = linear_model.LogisticRegression(penalty='l2',\n",
    "                                                                                                    C=10e20,\n",
    "                                                                                                   solver='lbfgs'),\n",
    "                                                                        num_iter=10,\n",
    "                                                            cv_setup='None') \n",
    "\n",
    "\n"
   ]
  },
  {
   "cell_type": "code",
   "execution_count": 46,
   "metadata": {
    "collapsed": false
   },
   "outputs": [
    {
     "name": "stdout",
     "output_type": "stream",
     "text": [
      "0.98\n",
      "0.95\n",
      "0.9\n",
      "0.8\n",
      "0.7\n",
      "0.6\n",
      "0.5\n",
      "0.4\n",
      "0.3\n",
      "0.2\n",
      "0.1\n",
      "0.05\n"
     ]
    }
   ],
   "source": [
    "#in\n",
    "(mean_accuracy_ah_in, se_accuracy_ah_in, \n",
    " mean_micro_auc_ah_in,se_micro_auc_ah_in, mean_wt_auc_ah_in,se_wt_auc_ah_in)= LINK(percent_initially_unlabelled, ## note: mean_se_model assumes a vector of x% initially labeled\n",
    "                                                              np.array(ah_gender_in), ## gender labels \n",
    "                                                              np.matrix(adj_gender_in), ## adjacency matrix\n",
    "                                                              clf = linear_model.LogisticRegression(penalty='l2',\n",
    "                                                                                                    C=10e20,\n",
    "                                                                                                   solver='lbfgs'),\n",
    "                                                                        num_iter=10,\n",
    "                                                            cv_setup=None) \n",
    "\n",
    "\n",
    "\n"
   ]
  },
  {
   "cell_type": "code",
   "execution_count": 47,
   "metadata": {
    "collapsed": false
   },
   "outputs": [
    {
     "name": "stdout",
     "output_type": "stream",
     "text": [
      "0.98\n",
      "0.95\n",
      "0.9\n",
      "0.8\n",
      "0.7\n",
      "0.6\n",
      "0.5\n",
      "0.4\n",
      "0.3\n",
      "0.2\n",
      "0.1\n",
      "0.05\n"
     ]
    }
   ],
   "source": [
    "#out\n",
    "(mean_accuracy_ah_out, se_accuracy_ah_out, \n",
    " mean_micro_auc_ah_out,se_micro_auc_ah_out, mean_wt_auc_ah_out,se_wt_auc_ah_out)= LINK(percent_initially_unlabelled, ## note: mean_se_model assumes a vector of x% initially labeled\n",
    "                                                              np.array(ah_gender_out), ## gender labels \n",
    "                                                              np.matrix(adj_gender_out), ## adjacency matrix\n",
    "                                                              clf = linear_model.LogisticRegression(penalty='l2',\n",
    "                                                                                                    C=10e20,\n",
    "                                                                                                   solver='lbfgs'),\n",
    "                                                                        num_iter=10,\n",
    "                                                            cv_setup=None) \n",
    "\n",
    "\n",
    "\n",
    "\n"
   ]
  },
  {
   "cell_type": "markdown",
   "metadata": {},
   "source": [
    "## SI Figure S10. gender classification on school #23 in Add Health for in-, out-, and undirected versions of LINK"
   ]
  },
  {
   "cell_type": "code",
   "execution_count": 52,
   "metadata": {
    "collapsed": false
   },
   "outputs": [
    {
     "data": {
      "image/png": "[encoded data removed]",
      "text/plain": [
       "<matplotlib.figure.Figure at 0x11fd54910>"
      ]
     },
     "metadata": {},
     "output_type": "display_data"
    }
   ],
   "source": [
    "%matplotlib inline\n",
    "from matplotlib.ticker import FixedLocator,LinearLocator,MultipleLocator, FormatStrFormatter\n",
    "fig = plt.figure()\n",
    "seaborn.set_style(style='white')\n",
    "from mpl_toolkits.axes_grid1 import Grid\n",
    "grid = Grid(fig, rect=111, nrows_ncols=(1,1),\n",
    "            axes_pad=0.1, label_mode='L')\n",
    "\n",
    "\n",
    "for i in range(4):\n",
    "    if i == 0:\n",
    "        grid[i].xaxis.set_major_locator(FixedLocator([0,25,50,75,100]))\n",
    "        grid[i].yaxis.set_major_locator(FixedLocator([0.5,0.6,0.7,0.8,0.9,1]))\n",
    "\n",
    "        grid[i].errorbar(percent_initially_labelled*100, mean_wt_auc_ah_undirect, \n",
    "            yerr=se_micro_auc_ah_undirect, fmt='--o', capthick=2,\n",
    "            alpha=0.6, elinewidth=3, color='black')\n",
    "        \n",
    "        grid[i].errorbar(percent_initially_labelled*100, mean_wt_auc_ah_in, \n",
    "            yerr=se_micro_auc_ah_in, fmt='--o', capthick=2,\n",
    "            alpha=0.6, elinewidth=3, color='red')\n",
    "        \n",
    "        grid[i].errorbar(percent_initially_labelled*100, mean_wt_auc_ah_out,\n",
    "            yerr=se_micro_auc_ah_out, fmt='--o', capthick=2,\n",
    "            alpha=0.6, elinewidth=3, color='gray')\n",
    "        \n",
    "        \n",
    "        grid[i].tick_params('both', length=4, width=1, which='major', left=1, bottom=1, top=0, right=0)\n",
    "\n",
    "\n",
    "        grid[i].set_ylim(0.4,1.1)\n",
    "        grid[i].set_xlim(0,100)\n",
    "        grid[i].annotate('LINK: in features', xy=(3, 0.99), \n",
    "                 color='gray', alpha=1, size=12)\n",
    "\n",
    "        grid[i].annotate('LINK: undirected features', xy=(3, 0.96), \n",
    "                 color='black', alpha=1, size=12)\n",
    "        grid[i].annotate('LINK: out features', xy=(3, 0.93), \n",
    "                 color='red', alpha=1, size=12)\n",
    "\n",
    "        grid[i].set_ylim(0.4,1.05)\n",
    "        grid[i].set_xlim(0,100)\n",
    "        grid[i].spines['right'].set_visible(False)\n",
    "        grid[i].spines['top'].set_visible(False)\n",
    "        grid[i].tick_params(axis='both', which='major', labelsize=9)\n",
    "        grid[i].tick_params(axis='both', which='minor', labelsize=9)\n",
    "\n",
    "\n",
    "fig.text(0.5, 0.9, 'Gender Inference on Add Health #' +str(id[0]) + ' - LINK', ha='center', fontsize=13)        \n",
    "fig.text(0.5, 0.01, '% of Nodes Initially Labeled', ha='center', fontsize=13)\n",
    "fig.text(0.01, 0.5, 'AUC', va='center', rotation='vertical', fontsize=13)\n",
    "\n",
    "pp = PdfPages('../../AddHealth_School_23_LINK_Inference.pdf')\n",
    "pp.savefig()\n",
    "pp.close()"
   ]
  }
 ],
 "metadata": {
  "kernelspec": {
   "display_name": "Python 2",
   "language": "python",
   "name": "python2"
  },
  "language_info": {
   "codemirror_mode": {
    "name": "ipython",
    "version": 2
   },
   "file_extension": ".py",
   "mimetype": "text/x-python",
   "name": "python",
   "nbconvert_exporter": "python",
   "pygments_lexer": "ipython2",
   "version": "2.7.12"
  }
 },
 "nbformat": 4,
 "nbformat_minor": 0
}
