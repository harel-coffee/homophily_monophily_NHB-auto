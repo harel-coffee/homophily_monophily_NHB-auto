{
 "cells": [
  {
   "cell_type": "markdown",
   "metadata": {},
   "source": [
    "11/17/2017\n",
    "\n",
    "# Summary\n",
    "This notebook sets-up the Noordin dataset (where edges can be defined in different ways such as educational colleagues, communication ties, kinship ties, business & finance affiliation, etc.) -- and the aim is to predict the \"Noordin's Network\" binary attribute -- as described here: https://www.dropbox.com/s/knq19mjbnu4wxnh/Noordin%20Subset%20Codebook.pdf?dl=0\n",
    "\n",
    "Predicting: \"8) Noordin’s Network: An individual is considered a member of Noordin’s splinter group (Tanzim Qaedat al-Jihad – Organization for the Basis of Jihad), as opposed to simply being linked, if the individual knowingly participated in a Noordin-led operation during any stage, he or she is explicitly stated as a member of Noordin’s inner circle, and/or he or she is tied to Noordin through kinship or friendship. 0. Non-member 1. Member\""
   ]
  },
  {
   "cell_type": "code",
   "execution_count": 1,
   "metadata": {
    "collapsed": false
   },
   "outputs": [
    {
     "name": "stderr",
     "output_type": "stream",
     "text": [
      "/usr/local/lib/python2.7/site-packages/matplotlib/__init__.py:872: UserWarning: axes.color_cycle is deprecated and replaced with axes.prop_cycle; please use the latter.\n",
      "  warnings.warn(self.msg_depr % (key, alt_key))\n",
      "/Users/kristen/anaconda/lib/python2.7/site-packages/statsmodels/compat/pandas.py:56: FutureWarning: The pandas.core.datetools module is deprecated and will be removed in a future version. Please use the pandas.tseries module instead.\n",
      "  from pandas.core import datetools\n",
      "/Users/kristen/anaconda/lib/python2.7/site-packages/sklearn/cross_validation.py:44: DeprecationWarning: This module was deprecated in version 0.18 in favor of the model_selection module into which all the refactored classes and functions are moved. Also note that the interface of the new CV iterators are different from that of this module. This module will be removed in 0.20.\n",
      "  \"This module will be removed in 0.20.\", DeprecationWarning)\n"
     ]
    }
   ],
   "source": [
    "## implemented LINK with solver='lbfgs'\n",
    "from __future__ import division\n",
    "from matplotlib.backends.backend_pdf import PdfPages\n",
    "import os\n",
    "import openpyxl as px\n",
    "\n",
    "os.chdir('/Users/kristen/Dropbox/gender_graph_data/manuscript/nature_hb/gender_graph_final_code_NatureHB/code/')\n",
    "\n",
    "\n",
    "## relevant libraries\n",
    "execfile('./functions/python_libraries.py')\n",
    "\n",
    "## processing datasets\n",
    "execfile('./functions/create_adjacency_matrix.py') \n",
    "execfile('./functions/create_directed_adjacency_matrix.py')\n",
    "execfile('./functions/compute_homophily.py')\n",
    "execfile('./functions/compute_monophily.py')\n",
    "execfile('./functions/compute_monophily_beta_binom.py')\n",
    "execfile('./functions/compute_chi_square.py')\n",
    "\n",
    "\n",
    "\n",
    "execfile('./functions/parsing.py')\n",
    "execfile('./functions/mixing.py')\n",
    "\n",
    "## code for gender prediction \n",
    "execfile('./functions/LINK_finalized.py')\n",
    "execfile('./functions/majority_vote.py')\n",
    "execfile('./functions/benchmark_classifier.py')\n",
    "execfile('./functions/ZGL.py')\n",
    "\n",
    "## gender preference distribution\n",
    "execfile('./functions/compute_null_distribution.py')"
   ]
  },
  {
   "cell_type": "code",
   "execution_count": null,
   "metadata": {
    "collapsed": true
   },
   "outputs": [],
   "source": []
  },
  {
   "cell_type": "code",
   "execution_count": null,
   "metadata": {
    "collapsed": true
   },
   "outputs": [],
   "source": []
  },
  {
   "cell_type": "markdown",
   "metadata": {},
   "source": [
    "# The Noordin Top Terrorist Network\n",
    "* set-up Noordin member prediction with different link types for relationships such as classmates, business affiliation, communication, etc."
   ]
  },
  {
   "cell_type": "code",
   "execution_count": 2,
   "metadata": {
    "collapsed": false
   },
   "outputs": [],
   "source": [
    "os.chdir('/Users/kristen/Dropbox/gender_graph_data/noordin/')"
   ]
  },
  {
   "cell_type": "markdown",
   "metadata": {},
   "source": [
    "### communication network"
   ]
  },
  {
   "cell_type": "code",
   "execution_count": 3,
   "metadata": {
    "collapsed": false
   },
   "outputs": [],
   "source": [
    "edge_type = '3 Communications'#'8 Friendship'\n",
    "communication_nw_tmp = pd.read_excel('Noordin Subset.xlsx', \n",
    "                                     #sheetname = '2b Classmates')\n",
    "                           # sheetname ='3 Communications' )\n",
    "                            #         sheetname = '8 Friendship')\n",
    "                                     sheetname = edge_type)"
   ]
  },
  {
   "cell_type": "code",
   "execution_count": 4,
   "metadata": {
    "collapsed": false
   },
   "outputs": [
    {
     "name": "stdout",
     "output_type": "stream",
     "text": [
      "<class 'pandas.core.frame.DataFrame'>\n",
      "[u'Mohamed Saifuddin (alias Faiz)']\n",
      "[u'Mohamed Saifuddin (alias Faiz) ']\n"
     ]
    }
   ],
   "source": [
    "print type(communication_nw_tmp)"
   ]
  },
  {
   "cell_type": "code",
   "execution_count": 5,
   "metadata": {
    "collapsed": false
   },
   "outputs": [
    {
     "data": {
      "text/plain": [
       "(79, 79)"
      ]
     },
     "execution_count": 5,
     "metadata": {},
     "output_type": "execute_result"
    }
   ],
   "source": [
    "np.shape(communication_nw_tmp)"
   ]
  },
  {
   "cell_type": "code",
   "execution_count": 6,
   "metadata": {
    "collapsed": false
   },
   "outputs": [],
   "source": [
    "noordin_communication_nw = nx.from_numpy_matrix(np.matrix(communication_nw_tmp))"
   ]
  },
  {
   "cell_type": "code",
   "execution_count": 7,
   "metadata": {
    "collapsed": false
   },
   "outputs": [
    {
     "name": "stdout",
     "output_type": "stream",
     "text": [
      "0\n"
     ]
    }
   ],
   "source": [
    "## confirm undirected\n",
    "print np.sum((np.matrix(communication_nw_tmp) != np.matrix(communication_nw_tmp).T)+0)"
   ]
  },
  {
   "cell_type": "code",
   "execution_count": 8,
   "metadata": {
    "collapsed": false
   },
   "outputs": [],
   "source": [
    "## import noordin member attribute\n",
    "attribute_df = pd.read_excel('Noordin Subset.xlsx', \n",
    "                            sheetname ='13 Attributes' )\n"
   ]
  },
  {
   "cell_type": "code",
   "execution_count": 9,
   "metadata": {
    "collapsed": false
   },
   "outputs": [
    {
     "name": "stdout",
     "output_type": "stream",
     "text": [
      "0\n"
     ]
    }
   ],
   "source": [
    "print np.sum((communication_nw_tmp.index!=attribute_df.index)+0) ## check that order of attributes is same order as network"
   ]
  },
  {
   "cell_type": "markdown",
   "metadata": {},
   "source": [
    "### rename node IDs with person name"
   ]
  },
  {
   "cell_type": "code",
   "execution_count": 10,
   "metadata": {
    "collapsed": false
   },
   "outputs": [],
   "source": [
    "remap_nodes = create_dict(range(len(np.array(communication_nw_tmp.index))),\n",
    "                          np.array(communication_nw_tmp.index))\n",
    "H=nx.relabel_nodes(noordin_communication_nw,remap_nodes)"
   ]
  },
  {
   "cell_type": "code",
   "execution_count": null,
   "metadata": {
    "collapsed": true
   },
   "outputs": [],
   "source": []
  },
  {
   "cell_type": "code",
   "execution_count": 11,
   "metadata": {
    "collapsed": false
   },
   "outputs": [],
   "source": [
    "## spot-check the node ordering\n",
    "names_in_H = []\n",
    "for j in range(len(H.nodes())):\n",
    "    names_in_H.append( H.nodes(data = True)[j][0])\n",
    "    "
   ]
  },
  {
   "cell_type": "code",
   "execution_count": 12,
   "metadata": {
    "collapsed": false
   },
   "outputs": [
    {
     "name": "stdout",
     "output_type": "stream",
     "text": [
      "[u'Asmar Latin Sani', u\"Abu Bakar Ba'asyir\", u'Anif Solchanudin', u'Harun', u'Achmad Hasan', u'Abdul Rauf', u'Iwan Dharmawan', u'Agus Ahmad', u'Jabir', u'Joko Triharmanto']\n",
      "\n",
      "[]\n"
     ]
    }
   ],
   "source": [
    "print names_in_H[0:10]\n",
    "print ''\n",
    "print nx.get_node_attributes(H,'noordin').keys()[0:10]"
   ]
  },
  {
   "cell_type": "code",
   "execution_count": 13,
   "metadata": {
    "collapsed": false
   },
   "outputs": [
    {
     "name": "stdout",
     "output_type": "stream",
     "text": [
      "1\n",
      "[[1]]\n",
      "\n",
      "0\n",
      "[[0]]\n",
      "\n",
      "4\n",
      "[[4]]\n",
      "\n",
      "12\n",
      "[[12]]\n",
      "\n",
      "7\n",
      "[[7]]\n",
      "\n",
      "2\n",
      "[[2]]\n",
      "\n",
      "5\n",
      "[[5]]\n",
      "\n",
      "10\n",
      "[[10]]\n",
      "\n",
      "1\n",
      "[[1]]\n",
      "\n",
      "6\n",
      "[[6]]\n",
      "\n",
      "10\n",
      "[[10]]\n",
      "\n",
      "5\n",
      "[[5]]\n",
      "\n",
      "19\n",
      "[[19]]\n",
      "\n",
      "1\n",
      "[[1]]\n",
      "\n",
      "1\n",
      "[[1]]\n",
      "\n",
      "8\n",
      "[[8]]\n",
      "\n",
      "4\n",
      "[[4]]\n",
      "\n",
      "2\n",
      "[[2]]\n",
      "\n",
      "2\n",
      "[[2]]\n",
      "\n",
      "3\n",
      "[[3]]\n",
      "\n",
      "2\n",
      "[[2]]\n",
      "\n",
      "6\n",
      "[[6]]\n",
      "\n",
      "22\n",
      "[[22]]\n",
      "\n",
      "6\n",
      "[[6]]\n",
      "\n",
      "5\n",
      "[[5]]\n",
      "\n",
      "3\n",
      "[[3]]\n",
      "\n",
      "3\n",
      "[[3]]\n",
      "\n",
      "6\n",
      "[[6]]\n",
      "\n",
      "6\n",
      "[[6]]\n",
      "\n",
      "1\n",
      "[[1]]\n",
      "\n",
      "3\n",
      "[[3]]\n",
      "\n",
      "4\n",
      "[[4]]\n",
      "\n",
      "7\n",
      "[[7]]\n",
      "\n",
      "6\n",
      "[[6]]\n",
      "\n",
      "1\n",
      "[[1]]\n",
      "\n",
      "0\n",
      "[[0]]\n",
      "\n",
      "6\n",
      "[[6]]\n",
      "\n",
      "5\n",
      "[[5]]\n",
      "\n",
      "5\n",
      "[[5]]\n",
      "\n",
      "1\n",
      "[[1]]\n",
      "\n",
      "0\n",
      "[[0]]\n",
      "\n",
      "2\n",
      "[[2]]\n",
      "\n",
      "2\n",
      "[[2]]\n",
      "\n",
      "6\n",
      "[[6]]\n",
      "\n",
      "15\n",
      "[[15]]\n",
      "\n",
      "10\n",
      "[[10]]\n",
      "\n",
      "5\n",
      "[[5]]\n",
      "\n",
      "3\n",
      "[[3]]\n",
      "\n",
      "2\n",
      "[[2]]\n",
      "\n",
      "2\n",
      "[[2]]\n",
      "\n",
      "1\n",
      "[[1]]\n",
      "\n",
      "7\n",
      "[[7]]\n",
      "\n",
      "5\n",
      "[[5]]\n",
      "\n",
      "1\n",
      "[[1]]\n",
      "\n",
      "4\n",
      "[[4]]\n",
      "\n",
      "1\n",
      "[[1]]\n",
      "\n",
      "1\n",
      "[[1]]\n",
      "\n",
      "0\n",
      "[[0]]\n",
      "\n",
      "41\n",
      "[[41]]\n",
      "\n",
      "11\n",
      "[[11]]\n",
      "\n",
      "7\n",
      "[[7]]\n",
      "\n",
      "2\n",
      "[[2]]\n",
      "\n",
      "2\n",
      "[[2]]\n",
      "\n",
      "4\n",
      "[[4]]\n",
      "\n",
      "0\n",
      "[[0]]\n",
      "\n",
      "2\n",
      "[[2]]\n",
      "\n",
      "2\n",
      "[[2]]\n",
      "\n",
      "8\n",
      "[[8]]\n",
      "\n",
      "2\n",
      "[[2]]\n",
      "\n",
      "6\n",
      "[[6]]\n",
      "\n",
      "5\n",
      "[[5]]\n",
      "\n",
      "4\n",
      "[[4]]\n",
      "\n",
      "8\n",
      "[[8]]\n",
      "\n",
      "2\n",
      "[[2]]\n",
      "\n",
      "7\n",
      "[[7]]\n",
      "\n",
      "1\n",
      "[[1]]\n",
      "\n",
      "6\n",
      "[[6]]\n",
      "\n",
      "10\n",
      "[[10]]\n",
      "\n",
      "2\n",
      "[[2]]\n",
      "\n"
     ]
    }
   ],
   "source": [
    "for j in range(len(communication_nw_tmp)):\n",
    "    print noordin_communication_nw.degree(j)\n",
    "    print np.sum(np.matrix(communication_nw_tmp),1)[j]\n",
    "    print ''"
   ]
  },
  {
   "cell_type": "code",
   "execution_count": 16,
   "metadata": {
    "collapsed": false
   },
   "outputs": [
    {
     "name": "stdout",
     "output_type": "stream",
     "text": [
      "1\n",
      "1\n",
      "\n",
      "0\n",
      "0\n",
      "\n",
      "4\n",
      "4\n",
      "\n",
      "12\n",
      "12\n",
      "\n",
      "7\n",
      "7\n",
      "\n",
      "2\n",
      "2\n",
      "\n",
      "5\n",
      "5\n",
      "\n",
      "10\n",
      "10\n",
      "\n",
      "1\n",
      "1\n",
      "\n",
      "6\n",
      "6\n",
      "\n",
      "10\n",
      "10\n",
      "\n",
      "5\n",
      "5\n",
      "\n",
      "19\n",
      "19\n",
      "\n",
      "1\n",
      "1\n",
      "\n",
      "1\n",
      "1\n",
      "\n",
      "8\n",
      "8\n",
      "\n",
      "4\n",
      "4\n",
      "\n",
      "2\n",
      "2\n",
      "\n",
      "2\n",
      "2\n",
      "\n",
      "3\n",
      "3\n",
      "\n",
      "2\n",
      "2\n",
      "\n",
      "6\n",
      "6\n",
      "\n",
      "22\n",
      "22\n",
      "\n",
      "6\n",
      "6\n",
      "\n",
      "5\n",
      "5\n",
      "\n",
      "3\n",
      "3\n",
      "\n",
      "3\n",
      "3\n",
      "\n",
      "6\n",
      "6\n",
      "\n",
      "6\n",
      "6\n",
      "\n",
      "1\n",
      "1\n",
      "\n",
      "3\n",
      "3\n",
      "\n",
      "4\n",
      "4\n",
      "\n",
      "7\n",
      "7\n",
      "\n",
      "6\n",
      "6\n",
      "\n",
      "1\n",
      "1\n",
      "\n",
      "0\n",
      "0\n",
      "\n",
      "6\n",
      "6\n",
      "\n",
      "5\n",
      "5\n",
      "\n",
      "5\n",
      "5\n",
      "\n",
      "1\n",
      "1\n",
      "\n",
      "0\n",
      "0\n",
      "\n",
      "2\n",
      "2\n",
      "\n",
      "2\n",
      "2\n",
      "\n",
      "6\n",
      "6\n",
      "\n",
      "15\n",
      "15\n",
      "\n",
      "10\n",
      "10\n",
      "\n",
      "5\n",
      "5\n",
      "\n",
      "3\n",
      "3\n",
      "\n",
      "2\n",
      "2\n",
      "\n",
      "2\n",
      "2\n",
      "\n",
      "1\n",
      "1\n",
      "\n",
      "7\n",
      "7\n",
      "\n",
      "5\n",
      "5\n",
      "\n",
      "1\n",
      "1\n",
      "\n",
      "4\n",
      "4\n",
      "\n",
      "1\n",
      "1\n",
      "\n",
      "1\n",
      "1\n",
      "\n",
      "0\n",
      "0\n",
      "\n",
      "41\n",
      "41\n",
      "\n",
      "11\n",
      "11\n",
      "\n",
      "7\n",
      "7\n",
      "\n",
      "2\n",
      "2\n",
      "\n",
      "2\n",
      "2\n",
      "\n",
      "4\n",
      "4\n",
      "\n",
      "0\n",
      "0\n",
      "\n",
      "2\n",
      "2\n",
      "\n",
      "2\n",
      "2\n",
      "\n",
      "8\n",
      "8\n",
      "\n",
      "2\n",
      "2\n",
      "\n",
      "6\n",
      "6\n",
      "\n",
      "5\n",
      "5\n",
      "\n",
      "4\n",
      "4\n",
      "\n",
      "8\n",
      "8\n",
      "\n",
      "2\n",
      "2\n",
      "\n",
      "7\n",
      "7\n",
      "\n",
      "1\n",
      "1\n",
      "\n",
      "6\n",
      "6\n",
      "\n",
      "10\n",
      "10\n",
      "\n",
      "2\n",
      "2\n",
      "\n"
     ]
    }
   ],
   "source": [
    "## check the relabeling worked\n",
    "for j in communication_nw_tmp.index:\n",
    "    print np.int(np.sum(communication_nw_tmp.loc[communication_nw_tmp.index==j,:],1))\n",
    "    print H.degree(j)\n",
    "    print ''"
   ]
  },
  {
   "cell_type": "markdown",
   "metadata": {},
   "source": [
    "### add attribute value for individual name and indicator for whether member of Noordin's network"
   ]
  },
  {
   "cell_type": "code",
   "execution_count": 14,
   "metadata": {
    "collapsed": true
   },
   "outputs": [],
   "source": [
    "#from collections import OrderedDict\n",
    "def create_dict(key, obj):\n",
    "    return(dict([(key[i], obj[i]) for i in range(len(key)) ]))"
   ]
  },
  {
   "cell_type": "code",
   "execution_count": 15,
   "metadata": {
    "collapsed": false
   },
   "outputs": [
    {
     "name": "stdout",
     "output_type": "stream",
     "text": [
      "[u'Abdul Malik' u'Abdul Rauf' u'Abdul Rohim' u'Abdullah Sunata'\n",
      " u'Abdullah Sungkar' u\"Abu Bakar Ba'asyir\" u'Abu Dujanah' u'Abu Fida'\n",
      " u'Aceng Kurnia' u'Achmad Hasan']\n",
      "[0 0 0 0 0 0 1 1 0 1]\n",
      "\n",
      "0\n",
      "1\n"
     ]
    }
   ],
   "source": [
    "node_noordin = create_dict(np.array(attribute_df['Noordin\\'s Network'].index),\n",
    "                           np.array(attribute_df['Noordin\\'s Network']))\n",
    "print np.array(attribute_df['Noordin\\'s Network'].index)[0:10]\n",
    "print np.array(attribute_df['Noordin\\'s Network'])[0:10]\n",
    "print ''\n",
    "print node_noordin['Abdul Malik']\n",
    "print node_noordin['Achmad Hasan']"
   ]
  },
  {
   "cell_type": "code",
   "execution_count": 16,
   "metadata": {
    "collapsed": false
   },
   "outputs": [],
   "source": [
    "(noordin, adj)=create_adj_membership(graph=H, \n",
    "                              dictionary=node_noordin,  \n",
    "                              val_to_drop=999,\n",
    "                              delete_na_cols='yes', \n",
    "                              diagonal=0, \n",
    "                              directed_type=None, \n",
    "                              attribute='noordin')"
   ]
  },
  {
   "cell_type": "code",
   "execution_count": 17,
   "metadata": {
    "collapsed": true
   },
   "outputs": [],
   "source": [
    "adj_amherst2= np.matrix(adj)**2\n",
    "adj_amherst2[range(adj_amherst2.shape[0]),range(adj_amherst2.shape[0])]=0 ## remove self-loops"
   ]
  },
  {
   "cell_type": "code",
   "execution_count": 18,
   "metadata": {
    "collapsed": false
   },
   "outputs": [
    {
     "data": {
      "image/png": "[encoded data removed]",
      "text/plain": [
       "<matplotlib.figure.Figure at 0x11865bc90>"
      ]
     },
     "metadata": {},
     "output_type": "display_data"
    },
    {
     "name": "stdout",
     "output_type": "stream",
     "text": [
      "6.87234042553\n",
      "2.85185185185\n"
     ]
    },
    {
     "data": {
      "image/png": "[encoded data removed]",
      "text/plain": [
       "<matplotlib.figure.Figure at 0x11aafa7d0>"
      ]
     },
     "metadata": {},
     "output_type": "display_data"
    },
    {
     "name": "stdout",
     "output_type": "stream",
     "text": [
      "74.829787234\n",
      "26.2592592593\n"
     ]
    }
   ],
   "source": [
    "degree = np.array(np.sum(adj,1).T)[0]\n",
    "degree2 = np.array(np.sum(adj_amherst2,1).T)[0]\n",
    "\n",
    "\n",
    "bins = np.linspace(0,45,20)\n",
    "%matplotlib inline \n",
    "plt.hist(degree[noordin==1], color = 'red', alpha = 0.5, bins =bins)\n",
    "plt.hist(degree[noordin==0], color = 'blue', alpha = 0.5, bins = bins)\n",
    "plt.xlabel('total node degree for both Noordin/Non-Noordin Members')\n",
    "plt.show()\n",
    "print np.mean(degree[noordin==1])\n",
    "print np.mean(degree[noordin==0])\n",
    "\n",
    "bins = np.linspace(0,250,30)\n",
    "\n",
    "\n",
    "%matplotlib inline \n",
    "plt.hist(degree2[noordin==1], color = 'red', alpha = 0.5, bins =bins)\n",
    "plt.hist(degree2[noordin==0], color = 'blue', alpha = 0.5, bins = bins)\n",
    "plt.xlabel('total node degree for both Noordin/Non-Noordin Members')\n",
    "plt.show()\n",
    "print np.mean(degree2[noordin==1])\n",
    "print np.mean(degree2[noordin==0])"
   ]
  },
  {
   "cell_type": "code",
   "execution_count": null,
   "metadata": {
    "collapsed": true
   },
   "outputs": [],
   "source": []
  },
  {
   "cell_type": "code",
   "execution_count": null,
   "metadata": {
    "collapsed": true
   },
   "outputs": [],
   "source": []
  },
  {
   "cell_type": "markdown",
   "metadata": {},
   "source": [
    "# %same@khop Plot\n",
    "for k=1,2,...,5"
   ]
  },
  {
   "cell_type": "code",
   "execution_count": 19,
   "metadata": {
    "collapsed": false
   },
   "outputs": [
    {
     "name": "stdout",
     "output_type": "stream",
     "text": [
      "[0 1]\n"
     ]
    }
   ],
   "source": [
    "print np.unique(noordin)"
   ]
  },
  {
   "cell_type": "code",
   "execution_count": 20,
   "metadata": {
    "collapsed": false
   },
   "outputs": [],
   "source": [
    "class_values = np.sort(np.unique(noordin))\n",
    "k_hop = np.array([1,2,3,4,5])\n"
   ]
  },
  {
   "cell_type": "code",
   "execution_count": 21,
   "metadata": {
    "collapsed": false
   },
   "outputs": [
    {
     "name": "stdout",
     "output_type": "stream",
     "text": [
      "1\n",
      "2\n",
      "3\n",
      "4\n",
      "5\n"
     ]
    }
   ],
   "source": [
    "prop_same_array = []\n",
    "for k in k_hop:  \n",
    "    print k\n",
    "    adj_amherst_k= np.matrix(adj)**k\n",
    "    adj_amherst_k[range(adj_amherst_k.shape[0]),range(adj_amherst_k.shape[0])]=0 ## remove self-loops\n",
    "                              \n",
    "    mv_g1 = (adj_amherst_k[noordin==class_values[0],:] * np.matrix((noordin==class_values[0])+0).T)/np.sum(adj_amherst_k[noordin==class_values[0],:],1)\n",
    "    mv_g2 = (adj_amherst_k[noordin==class_values[1],:] * np.matrix((noordin==class_values[1])+0).T)/np.sum(adj_amherst_k[noordin==class_values[1],:],1)\n",
    "    proportion_majority_same = np.mean(np.concatenate((np.array(mv_g1).T[0]>np.mean(noordin==class_values[0]),\n",
    "                                                                       np.array(mv_g2).T[0]>np.mean(noordin==class_values[1]))))\n",
    "    prop_same_array.append( proportion_majority_same)\n",
    "\n"
   ]
  },
  {
   "cell_type": "code",
   "execution_count": 22,
   "metadata": {
    "collapsed": false
   },
   "outputs": [
    {
     "data": {
      "text/plain": [
       "[0.89189189189189189,\n",
       " 0.7567567567567568,\n",
       " 0.67567567567567566,\n",
       " 0.66216216216216217,\n",
       " 0.63513513513513509]"
      ]
     },
     "execution_count": 22,
     "metadata": {},
     "output_type": "execute_result"
    }
   ],
   "source": [
    "prop_same_array"
   ]
  },
  {
   "cell_type": "code",
   "execution_count": 23,
   "metadata": {
    "collapsed": false
   },
   "outputs": [
    {
     "name": "stdout",
     "output_type": "stream",
     "text": [
      "1\n",
      "2\n",
      "3\n",
      "4\n",
      "5\n"
     ]
    }
   ],
   "source": [
    "auc_array = []\n",
    "for k in k_hop:  \n",
    "    print k\n",
    "    adj_amherst_k= np.matrix(adj)**k\n",
    "    adj_amherst_k[range(adj_amherst_k.shape[0]),range(adj_amherst_k.shape[0])]=0 ## remove self-loops\n",
    "                              \n",
    "    mv_g1 = (adj_amherst_k[noordin==class_values[0],:] * np.matrix((noordin==class_values[0])+0).T)/np.sum(adj_amherst_k[noordin==class_values[0],:],1)\n",
    "    mv_g2 = (adj_amherst_k[noordin==class_values[1],:] * np.matrix((noordin==class_values[1])+0).T)/np.sum(adj_amherst_k[noordin==class_values[1],:],1)\n",
    "    proportion_majority_same = np.mean(np.concatenate((np.array(mv_g1).T[0]>np.mean(noordin==class_values[0]),\n",
    "                                                                       np.array(mv_g2).T[0]>np.mean(noordin==class_values[1]))))\n",
    "\n",
    "    y_score = np.array(np.concatenate((1-mv_g1,mv_g2))).T[0]\n",
    "    y_test = np.concatenate((np.repeat(class_values[0],len(mv_g1)),\n",
    "                                             np.repeat(class_values[1],len(mv_g2))))\n",
    "\n",
    "    auc_score = sklearn.metrics.roc_auc_score(label_binarize(y_test, np.unique(y_test)),\n",
    "                                    y_score)\n",
    "    auc_array.append(auc_score)"
   ]
  },
  {
   "cell_type": "code",
   "execution_count": 24,
   "metadata": {
    "collapsed": false
   },
   "outputs": [
    {
     "data": {
      "text/plain": [
       "[0.88849487785657999,\n",
       " 0.76398739164696616,\n",
       " 0.75965327029156815,\n",
       " 0.63356973995271859,\n",
       " 0.61544523246650906]"
      ]
     },
     "execution_count": 24,
     "metadata": {},
     "output_type": "execute_result"
    }
   ],
   "source": [
    "auc_array"
   ]
  },
  {
   "cell_type": "code",
   "execution_count": 25,
   "metadata": {
    "collapsed": true
   },
   "outputs": [],
   "source": [
    "output_dir = '/Users/kristen/Dropbox/gender_graph_data/manuscript/nature_hb/gender_graph_final_code_NatureHB/figures/'"
   ]
  },
  {
   "cell_type": "code",
   "execution_count": 79,
   "metadata": {
    "collapsed": false
   },
   "outputs": [
    {
     "data": {
      "text/plain": [
       "array([ 0.        , -0.12450749, -0.12884161, -0.25492514, -0.27304965])"
      ]
     },
     "execution_count": 79,
     "metadata": {},
     "output_type": "execute_result"
    }
   ],
   "source": [
    "auc_array-auc_array[0]"
   ]
  },
  {
   "cell_type": "code",
   "execution_count": 95,
   "metadata": {
    "collapsed": false
   },
   "outputs": [
    {
     "data": {
      "image/png": "[encoded data removed]",
      "text/plain": [
       "<matplotlib.figure.Figure at 0x11af2af90>"
      ]
     },
     "metadata": {},
     "output_type": "display_data"
    }
   ],
   "source": [
    "%matplotlib inline\n",
    "ax = plt.subplot(111)\n",
    "ax.plot(k_hop,\n",
    "           (auc_array-auc_array[0])/auc_array[0]*100, color = 'black')\n",
    "\n",
    "\n",
    "ax.scatter(k_hop,\n",
    "           (auc_array-auc_array[0])/auc_array[0]*100, color = 'black')\n",
    "\n",
    "ax.set_xlabel('neighborhood distance')\n",
    "ax.set_ylabel('% change in AUC')\n",
    "ax.set_xlim(0.9,5.1)\n",
    "ax.spines['right'].set_visible(False)\n",
    "ax.spines['top'].set_visible(False)\n",
    "ax.set_title('Noordin Top')\n",
    "#ax.set_ylim(-40,140)\n",
    "ax.set_ylim(-32,32)\n",
    "\n",
    "\n",
    "\n",
    "\n",
    "#plt.ylim(0.99,1.01)\n",
    "#plt.show()\n",
    "pp = PdfPages(output_dir+'/khop_vs_AUC_noordin_NHB_figure_python.pdf')\n",
    "pp.savefig()\n",
    "pp.close()\n",
    "\n"
   ]
  },
  {
   "cell_type": "code",
   "execution_count": 82,
   "metadata": {
    "collapsed": false
   },
   "outputs": [
    {
     "data": {
      "image/png": "[encoded data removed]",
      "text/plain": [
       "<matplotlib.figure.Figure at 0x11b876f90>"
      ]
     },
     "metadata": {},
     "output_type": "display_data"
    }
   ],
   "source": [
    "%matplotlib inline\n",
    "plt.plot(k_hop,\n",
    "           (auc_array-auc_array[0])/auc_array[0]*100, color = 'black')\n",
    "\n",
    "\n",
    "plt.scatter(k_hop,\n",
    "           (auc_array-auc_array[0])/auc_array[0]*100, color = 'black')\n",
    "\n",
    "plt.xlabel('k-hop')\n",
    "plt.ylabel('% change in AUC @khop relative to @1hop')\n",
    "plt.xlim(0.9,5.1)\n",
    "#plt.ylim(0.99,1.01)\n",
    "#plt.show()\n",
    "pp = PdfPages(output_dir+'/khop_vs_AUC_noordin_NHB_figure_python.pdf')\n",
    "pp.savefig()\n",
    "pp.close()\n",
    "\n"
   ]
  },
  {
   "cell_type": "code",
   "execution_count": 27,
   "metadata": {
    "collapsed": false
   },
   "outputs": [
    {
     "data": {
      "text/plain": [
       "[0.88849487785657999,\n",
       " 0.76398739164696616,\n",
       " 0.75965327029156815,\n",
       " 0.63356973995271859,\n",
       " 0.61544523246650906]"
      ]
     },
     "execution_count": 27,
     "metadata": {},
     "output_type": "execute_result"
    }
   ],
   "source": [
    "auc_array"
   ]
  },
  {
   "cell_type": "code",
   "execution_count": null,
   "metadata": {
    "collapsed": true
   },
   "outputs": [],
   "source": []
  },
  {
   "cell_type": "code",
   "execution_count": null,
   "metadata": {
    "collapsed": true
   },
   "outputs": [],
   "source": []
  },
  {
   "cell_type": "markdown",
   "metadata": {},
   "source": [
    "## baseline homophily \n",
    "ie relative class proportions"
   ]
  },
  {
   "cell_type": "code",
   "execution_count": 28,
   "metadata": {
    "collapsed": false
   },
   "outputs": [
    {
     "name": "stdout",
     "output_type": "stream",
     "text": [
      "0.364864864865\n",
      "0.635135135135\n"
     ]
    }
   ],
   "source": [
    "print np.mean(noordin==0)\n",
    "print np.mean(noordin==1)"
   ]
  },
  {
   "cell_type": "markdown",
   "metadata": {},
   "source": [
    "## homophily index for: non-member ( == 0) and member ( == 1)"
   ]
  },
  {
   "cell_type": "code",
   "execution_count": 29,
   "metadata": {
    "collapsed": false
   },
   "outputs": [
    {
     "name": "stdout",
     "output_type": "stream",
     "text": [
      "[0.54545454545454553, 0.89164086687306499]\n"
     ]
    }
   ],
   "source": [
    "h = homophily_index_Jackson_alternative(adj,\n",
    "                                   noordin)\n",
    "print h"
   ]
  },
  {
   "cell_type": "code",
   "execution_count": null,
   "metadata": {
    "collapsed": true
   },
   "outputs": [],
   "source": []
  },
  {
   "cell_type": "code",
   "execution_count": null,
   "metadata": {
    "collapsed": true
   },
   "outputs": [],
   "source": []
  },
  {
   "cell_type": "markdown",
   "metadata": {},
   "source": [
    "## monophily index for: non-member ( == 0) and member ( == 1)"
   ]
  },
  {
   "cell_type": "code",
   "execution_count": 30,
   "metadata": {
    "collapsed": false
   },
   "outputs": [
    {
     "name": "stdout",
     "output_type": "stream",
     "text": [
      "[0.0, 0.016793862633199]\n",
      "\n",
      "[1.7983150867340878e-08, 0.05024489118259001]\n"
     ]
    }
   ],
   "source": [
    "m = monophily_index_overdispersion_Williams(adj,\n",
    "                                       noordin)\n",
    "print m\n",
    "print ''\n",
    "m_bb = monophily_index_beta_bin(adj,\n",
    "                            noordin)\n",
    "print m_bb"
   ]
  },
  {
   "cell_type": "markdown",
   "metadata": {},
   "source": [
    "#### determine significance of overdispersion"
   ]
  },
  {
   "cell_type": "code",
   "execution_count": 43,
   "metadata": {
    "collapsed": false
   },
   "outputs": [
    {
     "name": "stdout",
     "output_type": "stream",
     "text": [
      "[0.78971561483681751, 0.30855879687957721]\n"
     ]
    }
   ],
   "source": [
    "## compute with p-values\n",
    "print compute_chi_square_statistic(adj, noordin)"
   ]
  },
  {
   "cell_type": "code",
   "execution_count": 48,
   "metadata": {
    "collapsed": false
   },
   "outputs": [
    {
     "name": "stdout",
     "output_type": "stream",
     "text": [
      "27\n",
      "47\n"
     ]
    }
   ],
   "source": [
    "print np.sum(noordin == 0)\n",
    "print np.sum(noordin == 1)\n"
   ]
  },
  {
   "cell_type": "code",
   "execution_count": 61,
   "metadata": {
    "collapsed": false
   },
   "outputs": [],
   "source": [
    "deg_same_0 = adj[noordin ==0,:] * np.matrix(noordin==0).T\n",
    "total_0 = np.sum(adj[noordin ==0,:],1)\n",
    "deg_same_1 = adj[noordin ==1,:] * np.matrix(noordin==1).T\n",
    "total_1 = np.sum(adj[noordin ==1,:],1)"
   ]
  },
  {
   "cell_type": "code",
   "execution_count": 62,
   "metadata": {
    "collapsed": true
   },
   "outputs": [],
   "source": [
    "n_iter = 100000\n",
    "d_iF = map(np.int,np.array(total_0))\n",
    "\n",
    "mc_F = []\n",
    "for j in range(n_iter):\n",
    "    mc_F.append( np.random.binomial(n=map(np.int,np.array(total_0)), p=h[0])/d_iF)\n",
    "    \n",
    "mc_F_final = np.array(mc_F).flatten()\n",
    "\n",
    "\n",
    "d_iM = map(np.int,np.array(total_1))\n",
    "mc_M = []\n",
    "for j in range(n_iter):\n",
    "    mc_M.append( np.random.binomial(n=map(np.int,np.array(total_1)), p=h[1])/d_iM)\n",
    "    \n",
    "mc_M_final = np.array(mc_M).flatten()"
   ]
  },
  {
   "cell_type": "code",
   "execution_count": 65,
   "metadata": {
    "collapsed": false
   },
   "outputs": [],
   "source": [
    "kma_dir = '/Users/kristen/Dropbox/gender_graph_data/manuscript/nature_hb/gender_graph_final_code_NatureHB/figures/'"
   ]
  },
  {
   "cell_type": "code",
   "execution_count": 68,
   "metadata": {
    "collapsed": false
   },
   "outputs": [
    {
     "data": {
      "image/png": "[encoded data removed]",
      "text/plain": [
       "<matplotlib.figure.Figure at 0x119a9ed10>"
      ]
     },
     "metadata": {},
     "output_type": "display_data"
    }
   ],
   "source": [
    "alpha_empirical = 0.4\n",
    "\n",
    "%matplotlib inline\n",
    "nbins = 25\n",
    "f, (ax1, ax2) = plt.subplots(1, 2, \n",
    "                             sharey=False, sharex=False,\n",
    "                            figsize=(8, 3))\n",
    "plt.setp(ax1, xticks=[0,0.25, 0.5, 0.75, 1], xticklabels=['0', '0.25', '0.50', '0.75', '1'])\n",
    "ax1.set_xticks([0,0.25, 0.5, 0.75, 1])\n",
    "ax1.minorticks_on()\n",
    "ax1.tick_params('both', length=4, width=1, which='major', left=1, bottom=1, top=0, right=0)\n",
    "\n",
    "\n",
    "ax1.hist(deg_same_0/total_0,\n",
    "         bins = np.linspace(0,1,nbins),\n",
    "         normed = True,\n",
    "         edgecolor = 'white',\n",
    "        color='red',alpha=0.25)\n",
    "\n",
    "ax1.hist(mc_F_final,\n",
    "         bins = np.linspace(0,1,nbins),\n",
    "         normed = True,\n",
    "         edgecolor = 'red',histtype='step',\n",
    "        color='white',alpha=1,lw=1.5)\n",
    "\n",
    "ax1.set_ylabel('Normalized Frequency')\n",
    "ax1.set_xlabel('Proportion of $in$-class neighbors, $d_{i,\\\\mathrm{in}}/d_i$')\n",
    "ax1.spines[\"right\"].set_visible(False)\n",
    "ax1.spines[\"top\"].set_visible(False)\n",
    "ax1.set_ylim(0,16)\n",
    "\n",
    "ax1.set_xlim(0,1.01)\n",
    "#ax1.set_title('Non-Noordin')\n",
    "\n",
    "\n",
    "ax2.set_ylim(0,16)\n",
    "ax2.set_xlim(0,1.01)\n",
    "plt.setp(ax2, xticks=[0,0.25, 0.5, 0.75, 1], xticklabels=['0', '0.25', '0.50', '0.75', '1'])\n",
    "ax2.set_xticks([0,0.25, 0.5, 0.75, 1])\n",
    "ax2.minorticks_on()\n",
    "ax2.tick_params('both', length=4, width=1, which='major', left=1, bottom=1, top=0, right=0)\n",
    "\n",
    "\n",
    "ax2.hist(deg_same_1/total_1,\n",
    "         bins = np.linspace(0,1,nbins),\n",
    "         normed = True,\n",
    "         edgecolor = 'white',\n",
    "        color='black',alpha=0.25)\n",
    "ax2.hist(mc_M_final,\n",
    "         bins = np.linspace(0,1,nbins),\n",
    "         normed = True,\n",
    "         edgecolor = 'black',histtype='step',\n",
    "        color='white',alpha=1,lw=1.5)\n",
    "ax2.spines[\"right\"].set_visible(False)\n",
    "ax2.spines[\"top\"].set_visible(False)\n",
    "ax2.set_xlabel('Proportion of $in$-class Neighbors, $d_{i,\\\\mathrm{in}}/d_i$')\n",
    "ax2.set_ylabel('Normalized Frequency')\n",
    "#ax2.set_title('Noordin')\n",
    "\n",
    "\n",
    "ax1.annotate('Non-Noordin Null', xy=(0.05,7.9), \n",
    "                 color='red', alpha=1, size=12)\n",
    "ax1.annotate('Non-Noordin Empirical', xy=(0.05,7), \n",
    "                 color='red', alpha=alpha_empirical, size=12)\n",
    "#ax1.annotate('\\phi='+np.str(m[0]), xy=(0.05,6.5), \n",
    "#                 color='red', size=12)\n",
    "ax2.annotate('Noordin Null', xy=(0.05,7.9), \n",
    "                 color='black', alpha=1, size=12)\n",
    "ax2.annotate('Noordin Empirical', xy=(0.05,7), \n",
    "                 color='black', alpha=alpha_empirical, size=12)\n",
    "#ax2.annotate('\\phi='+np.str(m[1]), xy=(0.05,6.5), \n",
    "#                 color='black',  size=12)\n",
    "plt.tight_layout()\n",
    "pp = PdfPages(kma_dir + '/noordin_degree_same.pdf')\n",
    "pp.savefig()\n",
    "pp.close()"
   ]
  },
  {
   "cell_type": "code",
   "execution_count": null,
   "metadata": {
    "collapsed": true
   },
   "outputs": [],
   "source": []
  },
  {
   "cell_type": "code",
   "execution_count": null,
   "metadata": {
    "collapsed": true
   },
   "outputs": [],
   "source": []
  },
  {
   "cell_type": "markdown",
   "metadata": {},
   "source": [
    "## prediction set-up"
   ]
  },
  {
   "cell_type": "code",
   "execution_count": 60,
   "metadata": {
    "collapsed": true
   },
   "outputs": [],
   "source": [
    "percent_initially_unlabelled = [0.8,0.7,0.6,0.5,0.4,0.3,0.2]\n",
    "percent_initially_labelled = np.subtract(1, percent_initially_unlabelled)"
   ]
  },
  {
   "cell_type": "code",
   "execution_count": 61,
   "metadata": {
    "collapsed": true
   },
   "outputs": [],
   "source": [
    "n_iter = 100"
   ]
  },
  {
   "cell_type": "markdown",
   "metadata": {},
   "source": [
    "##### link now with hyperparameter C selection - 10/24"
   ]
  },
  {
   "cell_type": "code",
   "execution_count": 53,
   "metadata": {
    "collapsed": true
   },
   "outputs": [],
   "source": [
    "dir_kma = '/Users/kristen/Dropbox/gender_graph_data/manuscript/nature_hb/gender_graph_final_code_NatureHB/code/'"
   ]
  },
  {
   "cell_type": "code",
   "execution_count": 54,
   "metadata": {
    "collapsed": false
   },
   "outputs": [],
   "source": [
    "#dir_kma = '/Users/kristen/Dropbox/gender_graph_data/manuscript/nature_hb/3_nature_hb_running_list_of_revisions_post_may_2017/code/'\n",
    "#execfile(dir_kma + 'LINK_with_C_optimized.py')\n",
    "#execfile(dir_kma + 'LINK_with_C_optimized_alternative.py')"
   ]
  },
  {
   "cell_type": "code",
   "execution_count": 55,
   "metadata": {
    "collapsed": true
   },
   "outputs": [],
   "source": [
    "percent_initially_unlabelled_C = [0.9,0.8,0.7,0.6,0.5,0.4,0.3,0.2]\n",
    "percent_initially_labelled_C = np.subtract(1, percent_initially_unlabelled_C)"
   ]
  },
  {
   "cell_type": "code",
   "execution_count": 56,
   "metadata": {
    "collapsed": false
   },
   "outputs": [
    {
     "name": "stdout",
     "output_type": "stream",
     "text": [
      "47\n",
      "27\n"
     ]
    }
   ],
   "source": [
    "print np.sum((np.array(noordin)==1)+0)\n",
    "print np.sum((np.array(noordin)==0)+0)"
   ]
  },
  {
   "cell_type": "code",
   "execution_count": 57,
   "metadata": {
    "collapsed": true
   },
   "outputs": [],
   "source": [
    "from sklearn.model_selection import StratifiedKFold\n",
    "from sklearn.model_selection import StratifiedShuffleSplit\n",
    "from sklearn.model_selection import LeaveOneOut"
   ]
  },
  {
   "cell_type": "code",
   "execution_count": null,
   "metadata": {
    "collapsed": true
   },
   "outputs": [],
   "source": []
  },
  {
   "cell_type": "code",
   "execution_count": null,
   "metadata": {
    "collapsed": true
   },
   "outputs": [],
   "source": []
  },
  {
   "cell_type": "markdown",
   "metadata": {},
   "source": [
    "## problem -- why isn't LOO working?\n",
    "cv_grid = LeaveOneOut() -- this shoudl work but getting error message"
   ]
  },
  {
   "cell_type": "markdown",
   "metadata": {},
   "source": [
    "#### alternative way to select C per errors below this"
   ]
  },
  {
   "cell_type": "code",
   "execution_count": 380,
   "metadata": {
    "collapsed": false
   },
   "outputs": [
    {
     "name": "stdout",
     "output_type": "stream",
     "text": [
      "0.9\n",
      "Fitting 10 folds for each of 30 candidates, totalling 300 fits\n",
      "code check only - can delete later - C is: 1e-10"
     ]
    },
    {
     "name": "stderr",
     "output_type": "stream",
     "text": [
      "[Parallel(n_jobs=1)]: Done 300 out of 300 | elapsed:    1.6s finished\n",
      "[Parallel(n_jobs=1)]: Done 300 out of 300 | elapsed:    1.7s finished\n"
     ]
    },
    {
     "name": "stdout",
     "output_type": "stream",
     "text": [
      "\n",
      "code check only - can delete later - C is: 1e-10\n",
      "code check only - can delete later - C is: 1e-10\n",
      "code check only - can delete later - C is: 1e-10\n",
      "code check only - can delete later - C is: 1e-10\n",
      "code check only - can delete later - C is: 1e-10\n",
      "code check only - can delete later - C is: 1e-10\n",
      "code check only - can delete later - C is: 1e-10\n",
      "code check only - can delete later - C is: 1e-10\n",
      "code check only - can delete later - C is: 1e-10\n",
      "0.8\n",
      "Fitting 10 folds for each of 30 candidates, totalling 300 fits\n",
      "code check only - can delete later - C is: 1e-10\n",
      "code check only - can delete later - C is: 1e-10\n",
      "code check only - can delete later - C is: 1e-10\n",
      "code check only - can delete later - C is: 1e-10\n",
      "code check only - can delete later - C is: 1e-10\n",
      "code check only - can delete later - C is: 1e-10\n",
      "code check only - can delete later - C is: 1e-10\n",
      "code check only - can delete later - C is: 1e-10\n",
      "code check only - can delete later - C is: 1e-10\n",
      "code check only - can delete later - C is: 1e-10\n",
      "0.7\n",
      "Fitting 10 folds for each of 30 candidates, totalling 300 fits\n",
      "code check only - can delete later - C is: 1e-10"
     ]
    },
    {
     "name": "stderr",
     "output_type": "stream",
     "text": [
      "[Parallel(n_jobs=1)]: Done 300 out of 300 | elapsed:    1.7s finished\n",
      "[Parallel(n_jobs=1)]: Done 300 out of 300 | elapsed:    1.7s finished\n"
     ]
    },
    {
     "name": "stdout",
     "output_type": "stream",
     "text": [
      "\n",
      "code check only - can delete later - C is: 1e-10\n",
      "code check only - can delete later - C is: 1e-10\n",
      "code check only - can delete later - C is: 1e-10\n",
      "code check only - can delete later - C is: 1e-10\n",
      "code check only - can delete later - C is: 1e-10\n",
      "code check only - can delete later - C is: 1e-10\n",
      "code check only - can delete later - C is: 1e-10\n",
      "code check only - can delete later - C is: 1e-10\n",
      "code check only - can delete later - C is: 1e-10\n",
      "0.6\n",
      "Fitting 10 folds for each of 30 candidates, totalling 300 fits\n",
      "code check only - can delete later - C is: 1.0\n",
      "code check only - can delete later - C is: 1.0\n",
      "code check only - can delete later - C is: 1.0\n",
      "code check only - can delete later - C is: 1.0\n",
      "code check only - can delete later - C is: 1.0\n",
      "code check only - can delete later - C is: 1.0\n",
      "code check only - can delete later - C is: 1.0\n",
      "code check only - can delete later - C is: 1.0\n",
      "code check only - can delete later - C is: 1.0\n",
      "code check only - can delete later - C is: 1.0\n",
      "0.5\n",
      "Fitting 10 folds for each of 30 candidates, totalling 300 fits\n",
      "code check only - can delete later - C is: 1.0"
     ]
    },
    {
     "name": "stderr",
     "output_type": "stream",
     "text": [
      "[Parallel(n_jobs=1)]: Done 300 out of 300 | elapsed:    1.7s finished\n",
      "[Parallel(n_jobs=1)]: Done 300 out of 300 | elapsed:    1.7s finished\n"
     ]
    },
    {
     "name": "stdout",
     "output_type": "stream",
     "text": [
      "\n",
      "code check only - can delete later - C is: 1.0\n",
      "code check only - can delete later - C is: 1.0\n",
      "code check only - can delete later - C is: 1.0\n",
      "code check only - can delete later - C is: 1.0\n",
      "code check only - can delete later - C is: 1.0\n",
      "code check only - can delete later - C is: 1.0\n",
      "code check only - can delete later - C is: 1.0\n",
      "code check only - can delete later - C is: 1.0\n",
      "code check only - can delete later - C is: 1.0\n",
      "0.4\n",
      "Fitting 10 folds for each of 30 candidates, totalling 300 fits\n",
      "code check only - can delete later - C is: 1.0\n",
      "code check only - can delete later - C is: 1.0\n",
      "code check only - can delete later - C is: 1.0\n",
      "code check only - can delete later - C is: 1.0\n",
      "code check only - can delete later - C is: 1.0\n",
      "code check only - can delete later - C is: 1.0\n",
      "code check only - can delete later - C is: 1.0\n",
      "code check only - can delete later - C is: 1.0\n",
      "code check only - can delete later - C is: 1.0\n",
      "code check only - can delete later - C is: 1.0\n",
      "0.3\n",
      "Fitting 10 folds for each of 30 candidates, totalling 300 fits\n",
      "code check only - can delete later - C is: 1.0"
     ]
    },
    {
     "name": "stderr",
     "output_type": "stream",
     "text": [
      "[Parallel(n_jobs=1)]: Done 300 out of 300 | elapsed:    1.8s finished\n",
      "[Parallel(n_jobs=1)]: Done 300 out of 300 | elapsed:    1.9s finished\n"
     ]
    },
    {
     "name": "stdout",
     "output_type": "stream",
     "text": [
      "\n",
      "code check only - can delete later - C is: 1.0\n",
      "code check only - can delete later - C is: 1.0\n",
      "code check only - can delete later - C is: 1.0\n",
      "code check only - can delete later - C is: 1.0\n",
      "code check only - can delete later - C is: 1.0\n",
      "code check only - can delete later - C is: 1.0\n",
      "code check only - can delete later - C is: 1.0\n",
      "code check only - can delete later - C is: 1.0\n",
      "code check only - can delete later - C is: 1.0\n",
      "0.2\n",
      "Fitting 10 folds for each of 30 candidates, totalling 300 fits\n",
      "code check only - can delete later - C is: 1.0\n",
      "code check only - can delete later - C is: 1.0\n",
      "code check only - can delete later - C is: 1.0\n",
      "code check only - can delete later - C is: 1.0\n",
      "code check only - can delete later - C is: 1.0\n",
      "code check only - can delete later - C is: 1.0\n",
      "code check only - can delete later - C is: 1.0\n",
      "code check only - can delete later - C is: 1.0\n",
      "code check only - can delete later - C is: 1.0\n",
      "code check only - can delete later - C is: 1.0\n"
     ]
    }
   ],
   "source": [
    "(mean_accuracy_amherst_C, se_accuracy_amherst_C, \n",
    " mean_micro_auc_amherst_C,se_micro_auc_amherst_C, mean_wt_auc_amherst_lbfgs_C,se_wt_auc_amherst_C)= LINK_C_optimized_alternative(\n",
    "                                    percent_initially_unlabelled_C, ## note: mean_se_model assumes a vector of x% initially labeled\n",
    "                                      np.array(noordin), ## gender labels \n",
    "                                       np.matrix(adj), ## adjacency matrix\n",
    "                                     num_iter=10, \n",
    "                                    clf_C = linear_model.LogisticRegression(penalty='l2', solver = 'lbfgs'),\n",
    "                                    grid = {'C': np.power(10.0, np.arange(-10, 20)),'solver': ['lbfgs']},\n",
    "                                    scoring = 'roc_auc',\n",
    "                                    cv_grid = StratifiedShuffleSplit(n_splits = 10,test_size = 0.2, train_size = 0.8, random_state = 1),\n",
    "                                   cv_setup =None)"
   ]
  },
  {
   "cell_type": "code",
   "execution_count": null,
   "metadata": {
    "collapsed": true
   },
   "outputs": [],
   "source": []
  },
  {
   "cell_type": "code",
   "execution_count": null,
   "metadata": {
    "collapsed": true
   },
   "outputs": [],
   "source": []
  },
  {
   "cell_type": "code",
   "execution_count": null,
   "metadata": {
    "collapsed": true
   },
   "outputs": [],
   "source": []
  },
  {
   "cell_type": "code",
   "execution_count": 275,
   "metadata": {
    "collapsed": false,
    "scrolled": false
   },
   "outputs": [
    {
     "name": "stdout",
     "output_type": "stream",
     "text": [
      "0.8\n",
      "cv_grid as spot-check:\n",
      "StratifiedShuffleSplit(n_splits=10, random_state=1, test_size=0.2,\n",
      "            train_size=0.8)\n",
      "\n",
      "14\n",
      "[0 1]\n",
      "11\n",
      "Fitting 10 folds for each of 30 candidates, totalling 300 fits\n",
      "code check only - can delete later - C is: 1e-10"
     ]
    },
    {
     "name": "stderr",
     "output_type": "stream",
     "text": [
      "[Parallel(n_jobs=1)]: Done 300 out of 300 | elapsed:    1.6s finished\n",
      "[Parallel(n_jobs=1)]: Done 300 out of 300 | elapsed:    1.6s finished\n"
     ]
    },
    {
     "name": "stdout",
     "output_type": "stream",
     "text": [
      "\n",
      "cv_grid as spot-check:\n",
      "StratifiedShuffleSplit(n_splits=10, random_state=1, test_size=0.2,\n",
      "            train_size=0.8)\n",
      "\n",
      "14\n",
      "[0 1]\n",
      "10\n",
      "Fitting 10 folds for each of 30 candidates, totalling 300 fits\n",
      "code check only - can delete later - C is: 10000.0\n",
      "cv_grid as spot-check:\n",
      "StratifiedShuffleSplit(n_splits=10, random_state=1, test_size=0.2,\n",
      "            train_size=0.8)\n",
      "\n",
      "14\n",
      "[0 1]\n",
      "9\n",
      "Fitting 10 folds for each of 30 candidates, totalling 300 fits\n",
      "code check only - can delete later - C is: 1e-10\n",
      "cv_grid as spot-check:\n",
      "StratifiedShuffleSplit(n_splits=10, random_state=1, test_size=0.2,\n",
      "            train_size=0.8)\n",
      "\n",
      "14\n",
      "[0 1]\n",
      "12\n",
      "Fitting 10 folds for each of 30 candidates, totalling 300 fits\n"
     ]
    },
    {
     "name": "stderr",
     "output_type": "stream",
     "text": [
      "[Parallel(n_jobs=1)]: Done 300 out of 300 | elapsed:    1.6s finished\n"
     ]
    },
    {
     "ename": "ValueError",
     "evalue": "Only one class present in y_true. ROC AUC score is not defined in that case.",
     "output_type": "error",
     "traceback": [
      "\u001b[0;31m---------------------------------------------------------------------------\u001b[0m",
      "\u001b[0;31mValueError\u001b[0m                                Traceback (most recent call last)",
      "\u001b[0;32m<ipython-input-275-af7b07d7c6d4>\u001b[0m in \u001b[0;36m<module>\u001b[0;34m()\u001b[0m\n\u001b[1;32m      9\u001b[0m                                     \u001b[0mscoring\u001b[0m \u001b[0;34m=\u001b[0m \u001b[0;34m'roc_auc'\u001b[0m\u001b[0;34m,\u001b[0m\u001b[0;34m\u001b[0m\u001b[0m\n\u001b[1;32m     10\u001b[0m                                     \u001b[0mcv_grid\u001b[0m \u001b[0;34m=\u001b[0m \u001b[0mStratifiedShuffleSplit\u001b[0m\u001b[0;34m(\u001b[0m\u001b[0mn_splits\u001b[0m \u001b[0;34m=\u001b[0m \u001b[0;36m10\u001b[0m\u001b[0;34m,\u001b[0m\u001b[0mtest_size\u001b[0m \u001b[0;34m=\u001b[0m \u001b[0;36m0.2\u001b[0m\u001b[0;34m,\u001b[0m \u001b[0mtrain_size\u001b[0m \u001b[0;34m=\u001b[0m \u001b[0;36m0.8\u001b[0m\u001b[0;34m,\u001b[0m \u001b[0mrandom_state\u001b[0m \u001b[0;34m=\u001b[0m \u001b[0;36m1\u001b[0m\u001b[0;34m)\u001b[0m\u001b[0;34m,\u001b[0m\u001b[0;34m\u001b[0m\u001b[0m\n\u001b[0;32m---> 11\u001b[0;31m                                    cv_setup =None)\n\u001b[0m",
      "\u001b[0;32m/Users/kristen/Dropbox/gender_graph_data/manuscript/nature_hb/3_nature_hb_running_list_of_revisions_post_may_2017/code/LINK_with_C_optimized.py\u001b[0m in \u001b[0;36mLINK_C_optimized\u001b[0;34m(num_unlabeled, membership_y, feature_x, num_iter, clf_C, grid, scoring, cv_grid, cv_setup)\u001b[0m\n\u001b[1;32m     51\u001b[0m             \u001b[0;31m## here is new part of code -- for optimizing choice of C\u001b[0m\u001b[0;34m\u001b[0m\u001b[0;34m\u001b[0m\u001b[0m\n\u001b[1;32m     52\u001b[0m             C_optimized = select_C(train, feature_x, membership_y,\n\u001b[0;32m---> 53\u001b[0;31m                                        clf_C, grid, scoring, cv_grid)\n\u001b[0m\u001b[1;32m     54\u001b[0m             \u001b[0;32mprint\u001b[0m \u001b[0;34m'code check only - can delete later - C is: '\u001b[0m \u001b[0;34m+\u001b[0m \u001b[0mnp\u001b[0m\u001b[0;34m.\u001b[0m\u001b[0mstr\u001b[0m\u001b[0;34m(\u001b[0m\u001b[0mC_optimized\u001b[0m\u001b[0;34m)\u001b[0m\u001b[0;34m\u001b[0m\u001b[0m\n\u001b[1;32m     55\u001b[0m             clf = linear_model.LogisticRegression(penalty='l2',\n",
      "\u001b[0;32m/Users/kristen/Dropbox/gender_graph_data/manuscript/nature_hb/3_nature_hb_running_list_of_revisions_post_may_2017/code/LINK_with_C_optimized.py\u001b[0m in \u001b[0;36mselect_C\u001b[0;34m(train_indices, feature_x, membership_y, clf, grid, scoring, cv_grid)\u001b[0m\n\u001b[1;32m     21\u001b[0m     \u001b[0;32mprint\u001b[0m \u001b[0mnp\u001b[0m\u001b[0;34m.\u001b[0m\u001b[0msum\u001b[0m\u001b[0;34m(\u001b[0m\u001b[0;34m(\u001b[0m\u001b[0;34m(\u001b[0m\u001b[0mnp\u001b[0m\u001b[0;34m.\u001b[0m\u001b[0mravel\u001b[0m\u001b[0;34m(\u001b[0m\u001b[0mlabel_binarize\u001b[0m\u001b[0;34m(\u001b[0m\u001b[0mmembership_y\u001b[0m\u001b[0;34m,\u001b[0m \u001b[0mnp\u001b[0m\u001b[0;34m.\u001b[0m\u001b[0munique\u001b[0m\u001b[0;34m(\u001b[0m\u001b[0mmembership_y\u001b[0m\u001b[0;34m)\u001b[0m\u001b[0;34m)\u001b[0m\u001b[0;34m)\u001b[0m\u001b[0;34m[\u001b[0m\u001b[0mtrain_indices\u001b[0m\u001b[0;34m]\u001b[0m\u001b[0;34m)\u001b[0m\u001b[0;34m==\u001b[0m\u001b[0;36m1\u001b[0m\u001b[0;34m)\u001b[0m\u001b[0;34m+\u001b[0m\u001b[0;36m0\u001b[0m\u001b[0;34m)\u001b[0m\u001b[0;34m\u001b[0m\u001b[0m\n\u001b[1;32m     22\u001b[0m     gs.fit(feature_x[train_indices],\n\u001b[0;32m---> 23\u001b[0;31m            np.ravel(label_binarize(membership_y, np.unique(membership_y)))[train_indices])\n\u001b[0m\u001b[1;32m     24\u001b[0m     \u001b[0;32mreturn\u001b[0m\u001b[0;34m(\u001b[0m\u001b[0mgs\u001b[0m\u001b[0;34m.\u001b[0m\u001b[0mbest_params_\u001b[0m\u001b[0;34m[\u001b[0m\u001b[0;34m'C'\u001b[0m\u001b[0;34m]\u001b[0m\u001b[0;34m)\u001b[0m\u001b[0;34m\u001b[0m\u001b[0m\n\u001b[1;32m     25\u001b[0m \u001b[0;34m\u001b[0m\u001b[0m\n",
      "\u001b[0;32m/Users/kristen/anaconda/lib/python2.7/site-packages/sklearn/model_selection/_search.pyc\u001b[0m in \u001b[0;36mfit\u001b[0;34m(self, X, y, groups)\u001b[0m\n\u001b[1;32m    943\u001b[0m             \u001b[0mtrain\u001b[0m\u001b[0;34m/\u001b[0m\u001b[0mtest\u001b[0m \u001b[0mset\u001b[0m\u001b[0;34m.\u001b[0m\u001b[0;34m\u001b[0m\u001b[0m\n\u001b[1;32m    944\u001b[0m         \"\"\"\n\u001b[0;32m--> 945\u001b[0;31m         \u001b[0;32mreturn\u001b[0m \u001b[0mself\u001b[0m\u001b[0;34m.\u001b[0m\u001b[0m_fit\u001b[0m\u001b[0;34m(\u001b[0m\u001b[0mX\u001b[0m\u001b[0;34m,\u001b[0m \u001b[0my\u001b[0m\u001b[0;34m,\u001b[0m \u001b[0mgroups\u001b[0m\u001b[0;34m,\u001b[0m \u001b[0mParameterGrid\u001b[0m\u001b[0;34m(\u001b[0m\u001b[0mself\u001b[0m\u001b[0;34m.\u001b[0m\u001b[0mparam_grid\u001b[0m\u001b[0;34m)\u001b[0m\u001b[0;34m)\u001b[0m\u001b[0;34m\u001b[0m\u001b[0m\n\u001b[0m\u001b[1;32m    946\u001b[0m \u001b[0;34m\u001b[0m\u001b[0m\n\u001b[1;32m    947\u001b[0m \u001b[0;34m\u001b[0m\u001b[0m\n",
      "\u001b[0;32m/Users/kristen/anaconda/lib/python2.7/site-packages/sklearn/model_selection/_search.pyc\u001b[0m in \u001b[0;36m_fit\u001b[0;34m(self, X, y, groups, parameter_iterable)\u001b[0m\n\u001b[1;32m    562\u001b[0m                                   \u001b[0mreturn_times\u001b[0m\u001b[0;34m=\u001b[0m\u001b[0mTrue\u001b[0m\u001b[0;34m,\u001b[0m \u001b[0mreturn_parameters\u001b[0m\u001b[0;34m=\u001b[0m\u001b[0mTrue\u001b[0m\u001b[0;34m,\u001b[0m\u001b[0;34m\u001b[0m\u001b[0m\n\u001b[1;32m    563\u001b[0m                                   error_score=self.error_score)\n\u001b[0;32m--> 564\u001b[0;31m           \u001b[0;32mfor\u001b[0m \u001b[0mparameters\u001b[0m \u001b[0;32min\u001b[0m \u001b[0mparameter_iterable\u001b[0m\u001b[0;34m\u001b[0m\u001b[0m\n\u001b[0m\u001b[1;32m    565\u001b[0m           for train, test in cv_iter)\n\u001b[1;32m    566\u001b[0m \u001b[0;34m\u001b[0m\u001b[0m\n",
      "\u001b[0;32m/Users/kristen/anaconda/lib/python2.7/site-packages/sklearn/externals/joblib/parallel.pyc\u001b[0m in \u001b[0;36m__call__\u001b[0;34m(self, iterable)\u001b[0m\n\u001b[1;32m    756\u001b[0m             \u001b[0;31m# was dispatched. In particular this covers the edge\u001b[0m\u001b[0;34m\u001b[0m\u001b[0;34m\u001b[0m\u001b[0m\n\u001b[1;32m    757\u001b[0m             \u001b[0;31m# case of Parallel used with an exhausted iterator.\u001b[0m\u001b[0;34m\u001b[0m\u001b[0;34m\u001b[0m\u001b[0m\n\u001b[0;32m--> 758\u001b[0;31m             \u001b[0;32mwhile\u001b[0m \u001b[0mself\u001b[0m\u001b[0;34m.\u001b[0m\u001b[0mdispatch_one_batch\u001b[0m\u001b[0;34m(\u001b[0m\u001b[0miterator\u001b[0m\u001b[0;34m)\u001b[0m\u001b[0;34m:\u001b[0m\u001b[0;34m\u001b[0m\u001b[0m\n\u001b[0m\u001b[1;32m    759\u001b[0m                 \u001b[0mself\u001b[0m\u001b[0;34m.\u001b[0m\u001b[0m_iterating\u001b[0m \u001b[0;34m=\u001b[0m \u001b[0mTrue\u001b[0m\u001b[0;34m\u001b[0m\u001b[0m\n\u001b[1;32m    760\u001b[0m             \u001b[0;32melse\u001b[0m\u001b[0;34m:\u001b[0m\u001b[0;34m\u001b[0m\u001b[0m\n",
      "\u001b[0;32m/Users/kristen/anaconda/lib/python2.7/site-packages/sklearn/externals/joblib/parallel.pyc\u001b[0m in \u001b[0;36mdispatch_one_batch\u001b[0;34m(self, iterator)\u001b[0m\n\u001b[1;32m    606\u001b[0m                 \u001b[0;32mreturn\u001b[0m \u001b[0mFalse\u001b[0m\u001b[0;34m\u001b[0m\u001b[0m\n\u001b[1;32m    607\u001b[0m             \u001b[0;32melse\u001b[0m\u001b[0;34m:\u001b[0m\u001b[0;34m\u001b[0m\u001b[0m\n\u001b[0;32m--> 608\u001b[0;31m                 \u001b[0mself\u001b[0m\u001b[0;34m.\u001b[0m\u001b[0m_dispatch\u001b[0m\u001b[0;34m(\u001b[0m\u001b[0mtasks\u001b[0m\u001b[0;34m)\u001b[0m\u001b[0;34m\u001b[0m\u001b[0m\n\u001b[0m\u001b[1;32m    609\u001b[0m                 \u001b[0;32mreturn\u001b[0m \u001b[0mTrue\u001b[0m\u001b[0;34m\u001b[0m\u001b[0m\n\u001b[1;32m    610\u001b[0m \u001b[0;34m\u001b[0m\u001b[0m\n",
      "\u001b[0;32m/Users/kristen/anaconda/lib/python2.7/site-packages/sklearn/externals/joblib/parallel.pyc\u001b[0m in \u001b[0;36m_dispatch\u001b[0;34m(self, batch)\u001b[0m\n\u001b[1;32m    569\u001b[0m         \u001b[0mdispatch_timestamp\u001b[0m \u001b[0;34m=\u001b[0m \u001b[0mtime\u001b[0m\u001b[0;34m.\u001b[0m\u001b[0mtime\u001b[0m\u001b[0;34m(\u001b[0m\u001b[0;34m)\u001b[0m\u001b[0;34m\u001b[0m\u001b[0m\n\u001b[1;32m    570\u001b[0m         \u001b[0mcb\u001b[0m \u001b[0;34m=\u001b[0m \u001b[0mBatchCompletionCallBack\u001b[0m\u001b[0;34m(\u001b[0m\u001b[0mdispatch_timestamp\u001b[0m\u001b[0;34m,\u001b[0m \u001b[0mlen\u001b[0m\u001b[0;34m(\u001b[0m\u001b[0mbatch\u001b[0m\u001b[0;34m)\u001b[0m\u001b[0;34m,\u001b[0m \u001b[0mself\u001b[0m\u001b[0;34m)\u001b[0m\u001b[0;34m\u001b[0m\u001b[0m\n\u001b[0;32m--> 571\u001b[0;31m         \u001b[0mjob\u001b[0m \u001b[0;34m=\u001b[0m \u001b[0mself\u001b[0m\u001b[0;34m.\u001b[0m\u001b[0m_backend\u001b[0m\u001b[0;34m.\u001b[0m\u001b[0mapply_async\u001b[0m\u001b[0;34m(\u001b[0m\u001b[0mbatch\u001b[0m\u001b[0;34m,\u001b[0m \u001b[0mcallback\u001b[0m\u001b[0;34m=\u001b[0m\u001b[0mcb\u001b[0m\u001b[0;34m)\u001b[0m\u001b[0;34m\u001b[0m\u001b[0m\n\u001b[0m\u001b[1;32m    572\u001b[0m         \u001b[0mself\u001b[0m\u001b[0;34m.\u001b[0m\u001b[0m_jobs\u001b[0m\u001b[0;34m.\u001b[0m\u001b[0mappend\u001b[0m\u001b[0;34m(\u001b[0m\u001b[0mjob\u001b[0m\u001b[0;34m)\u001b[0m\u001b[0;34m\u001b[0m\u001b[0m\n\u001b[1;32m    573\u001b[0m \u001b[0;34m\u001b[0m\u001b[0m\n",
      "\u001b[0;32m/Users/kristen/anaconda/lib/python2.7/site-packages/sklearn/externals/joblib/_parallel_backends.pyc\u001b[0m in \u001b[0;36mapply_async\u001b[0;34m(self, func, callback)\u001b[0m\n\u001b[1;32m    107\u001b[0m     \u001b[0;32mdef\u001b[0m \u001b[0mapply_async\u001b[0m\u001b[0;34m(\u001b[0m\u001b[0mself\u001b[0m\u001b[0;34m,\u001b[0m \u001b[0mfunc\u001b[0m\u001b[0;34m,\u001b[0m \u001b[0mcallback\u001b[0m\u001b[0;34m=\u001b[0m\u001b[0mNone\u001b[0m\u001b[0;34m)\u001b[0m\u001b[0;34m:\u001b[0m\u001b[0;34m\u001b[0m\u001b[0m\n\u001b[1;32m    108\u001b[0m         \u001b[0;34m\"\"\"Schedule a func to be run\"\"\"\u001b[0m\u001b[0;34m\u001b[0m\u001b[0m\n\u001b[0;32m--> 109\u001b[0;31m         \u001b[0mresult\u001b[0m \u001b[0;34m=\u001b[0m \u001b[0mImmediateResult\u001b[0m\u001b[0;34m(\u001b[0m\u001b[0mfunc\u001b[0m\u001b[0;34m)\u001b[0m\u001b[0;34m\u001b[0m\u001b[0m\n\u001b[0m\u001b[1;32m    110\u001b[0m         \u001b[0;32mif\u001b[0m \u001b[0mcallback\u001b[0m\u001b[0;34m:\u001b[0m\u001b[0;34m\u001b[0m\u001b[0m\n\u001b[1;32m    111\u001b[0m             \u001b[0mcallback\u001b[0m\u001b[0;34m(\u001b[0m\u001b[0mresult\u001b[0m\u001b[0;34m)\u001b[0m\u001b[0;34m\u001b[0m\u001b[0m\n",
      "\u001b[0;32m/Users/kristen/anaconda/lib/python2.7/site-packages/sklearn/externals/joblib/_parallel_backends.pyc\u001b[0m in \u001b[0;36m__init__\u001b[0;34m(self, batch)\u001b[0m\n\u001b[1;32m    324\u001b[0m         \u001b[0;31m# Don't delay the application, to avoid keeping the input\u001b[0m\u001b[0;34m\u001b[0m\u001b[0;34m\u001b[0m\u001b[0m\n\u001b[1;32m    325\u001b[0m         \u001b[0;31m# arguments in memory\u001b[0m\u001b[0;34m\u001b[0m\u001b[0;34m\u001b[0m\u001b[0m\n\u001b[0;32m--> 326\u001b[0;31m         \u001b[0mself\u001b[0m\u001b[0;34m.\u001b[0m\u001b[0mresults\u001b[0m \u001b[0;34m=\u001b[0m \u001b[0mbatch\u001b[0m\u001b[0;34m(\u001b[0m\u001b[0;34m)\u001b[0m\u001b[0;34m\u001b[0m\u001b[0m\n\u001b[0m\u001b[1;32m    327\u001b[0m \u001b[0;34m\u001b[0m\u001b[0m\n\u001b[1;32m    328\u001b[0m     \u001b[0;32mdef\u001b[0m \u001b[0mget\u001b[0m\u001b[0;34m(\u001b[0m\u001b[0mself\u001b[0m\u001b[0;34m)\u001b[0m\u001b[0;34m:\u001b[0m\u001b[0;34m\u001b[0m\u001b[0m\n",
      "\u001b[0;32m/Users/kristen/anaconda/lib/python2.7/site-packages/sklearn/externals/joblib/parallel.pyc\u001b[0m in \u001b[0;36m__call__\u001b[0;34m(self)\u001b[0m\n\u001b[1;32m    129\u001b[0m \u001b[0;34m\u001b[0m\u001b[0m\n\u001b[1;32m    130\u001b[0m     \u001b[0;32mdef\u001b[0m \u001b[0m__call__\u001b[0m\u001b[0;34m(\u001b[0m\u001b[0mself\u001b[0m\u001b[0;34m)\u001b[0m\u001b[0;34m:\u001b[0m\u001b[0;34m\u001b[0m\u001b[0m\n\u001b[0;32m--> 131\u001b[0;31m         \u001b[0;32mreturn\u001b[0m \u001b[0;34m[\u001b[0m\u001b[0mfunc\u001b[0m\u001b[0;34m(\u001b[0m\u001b[0;34m*\u001b[0m\u001b[0margs\u001b[0m\u001b[0;34m,\u001b[0m \u001b[0;34m**\u001b[0m\u001b[0mkwargs\u001b[0m\u001b[0;34m)\u001b[0m \u001b[0;32mfor\u001b[0m \u001b[0mfunc\u001b[0m\u001b[0;34m,\u001b[0m \u001b[0margs\u001b[0m\u001b[0;34m,\u001b[0m \u001b[0mkwargs\u001b[0m \u001b[0;32min\u001b[0m \u001b[0mself\u001b[0m\u001b[0;34m.\u001b[0m\u001b[0mitems\u001b[0m\u001b[0;34m]\u001b[0m\u001b[0;34m\u001b[0m\u001b[0m\n\u001b[0m\u001b[1;32m    132\u001b[0m \u001b[0;34m\u001b[0m\u001b[0m\n\u001b[1;32m    133\u001b[0m     \u001b[0;32mdef\u001b[0m \u001b[0m__len__\u001b[0m\u001b[0;34m(\u001b[0m\u001b[0mself\u001b[0m\u001b[0;34m)\u001b[0m\u001b[0;34m:\u001b[0m\u001b[0;34m\u001b[0m\u001b[0m\n",
      "\u001b[0;32m/Users/kristen/anaconda/lib/python2.7/site-packages/sklearn/model_selection/_validation.pyc\u001b[0m in \u001b[0;36m_fit_and_score\u001b[0;34m(estimator, X, y, scorer, train, test, verbose, parameters, fit_params, return_train_score, return_parameters, return_n_test_samples, return_times, error_score)\u001b[0m\n\u001b[1;32m    258\u001b[0m     \u001b[0;32melse\u001b[0m\u001b[0;34m:\u001b[0m\u001b[0;34m\u001b[0m\u001b[0m\n\u001b[1;32m    259\u001b[0m         \u001b[0mfit_time\u001b[0m \u001b[0;34m=\u001b[0m \u001b[0mtime\u001b[0m\u001b[0;34m.\u001b[0m\u001b[0mtime\u001b[0m\u001b[0;34m(\u001b[0m\u001b[0;34m)\u001b[0m \u001b[0;34m-\u001b[0m \u001b[0mstart_time\u001b[0m\u001b[0;34m\u001b[0m\u001b[0m\n\u001b[0;32m--> 260\u001b[0;31m         \u001b[0mtest_score\u001b[0m \u001b[0;34m=\u001b[0m \u001b[0m_score\u001b[0m\u001b[0;34m(\u001b[0m\u001b[0mestimator\u001b[0m\u001b[0;34m,\u001b[0m \u001b[0mX_test\u001b[0m\u001b[0;34m,\u001b[0m \u001b[0my_test\u001b[0m\u001b[0;34m,\u001b[0m \u001b[0mscorer\u001b[0m\u001b[0;34m)\u001b[0m\u001b[0;34m\u001b[0m\u001b[0m\n\u001b[0m\u001b[1;32m    261\u001b[0m         \u001b[0mscore_time\u001b[0m \u001b[0;34m=\u001b[0m \u001b[0mtime\u001b[0m\u001b[0;34m.\u001b[0m\u001b[0mtime\u001b[0m\u001b[0;34m(\u001b[0m\u001b[0;34m)\u001b[0m \u001b[0;34m-\u001b[0m \u001b[0mstart_time\u001b[0m \u001b[0;34m-\u001b[0m \u001b[0mfit_time\u001b[0m\u001b[0;34m\u001b[0m\u001b[0m\n\u001b[1;32m    262\u001b[0m         \u001b[0;32mif\u001b[0m \u001b[0mreturn_train_score\u001b[0m\u001b[0;34m:\u001b[0m\u001b[0;34m\u001b[0m\u001b[0m\n",
      "\u001b[0;32m/Users/kristen/anaconda/lib/python2.7/site-packages/sklearn/model_selection/_validation.pyc\u001b[0m in \u001b[0;36m_score\u001b[0;34m(estimator, X_test, y_test, scorer)\u001b[0m\n\u001b[1;32m    286\u001b[0m         \u001b[0mscore\u001b[0m \u001b[0;34m=\u001b[0m \u001b[0mscorer\u001b[0m\u001b[0;34m(\u001b[0m\u001b[0mestimator\u001b[0m\u001b[0;34m,\u001b[0m \u001b[0mX_test\u001b[0m\u001b[0;34m)\u001b[0m\u001b[0;34m\u001b[0m\u001b[0m\n\u001b[1;32m    287\u001b[0m     \u001b[0;32melse\u001b[0m\u001b[0;34m:\u001b[0m\u001b[0;34m\u001b[0m\u001b[0m\n\u001b[0;32m--> 288\u001b[0;31m         \u001b[0mscore\u001b[0m \u001b[0;34m=\u001b[0m \u001b[0mscorer\u001b[0m\u001b[0;34m(\u001b[0m\u001b[0mestimator\u001b[0m\u001b[0;34m,\u001b[0m \u001b[0mX_test\u001b[0m\u001b[0;34m,\u001b[0m \u001b[0my_test\u001b[0m\u001b[0;34m)\u001b[0m\u001b[0;34m\u001b[0m\u001b[0m\n\u001b[0m\u001b[1;32m    289\u001b[0m     \u001b[0;32mif\u001b[0m \u001b[0mhasattr\u001b[0m\u001b[0;34m(\u001b[0m\u001b[0mscore\u001b[0m\u001b[0;34m,\u001b[0m \u001b[0;34m'item'\u001b[0m\u001b[0;34m)\u001b[0m\u001b[0;34m:\u001b[0m\u001b[0;34m\u001b[0m\u001b[0m\n\u001b[1;32m    290\u001b[0m         \u001b[0;32mtry\u001b[0m\u001b[0;34m:\u001b[0m\u001b[0;34m\u001b[0m\u001b[0m\n",
      "\u001b[0;32m/Users/kristen/anaconda/lib/python2.7/site-packages/sklearn/metrics/scorer.pyc\u001b[0m in \u001b[0;36m__call__\u001b[0;34m(self, clf, X, y, sample_weight)\u001b[0m\n\u001b[1;32m    194\u001b[0m                                                  **self._kwargs)\n\u001b[1;32m    195\u001b[0m         \u001b[0;32melse\u001b[0m\u001b[0;34m:\u001b[0m\u001b[0;34m\u001b[0m\u001b[0m\n\u001b[0;32m--> 196\u001b[0;31m             \u001b[0;32mreturn\u001b[0m \u001b[0mself\u001b[0m\u001b[0;34m.\u001b[0m\u001b[0m_sign\u001b[0m \u001b[0;34m*\u001b[0m \u001b[0mself\u001b[0m\u001b[0;34m.\u001b[0m\u001b[0m_score_func\u001b[0m\u001b[0;34m(\u001b[0m\u001b[0my\u001b[0m\u001b[0;34m,\u001b[0m \u001b[0my_pred\u001b[0m\u001b[0;34m,\u001b[0m \u001b[0;34m**\u001b[0m\u001b[0mself\u001b[0m\u001b[0;34m.\u001b[0m\u001b[0m_kwargs\u001b[0m\u001b[0;34m)\u001b[0m\u001b[0;34m\u001b[0m\u001b[0m\n\u001b[0m\u001b[1;32m    197\u001b[0m \u001b[0;34m\u001b[0m\u001b[0m\n\u001b[1;32m    198\u001b[0m     \u001b[0;32mdef\u001b[0m \u001b[0m_factory_args\u001b[0m\u001b[0;34m(\u001b[0m\u001b[0mself\u001b[0m\u001b[0;34m)\u001b[0m\u001b[0;34m:\u001b[0m\u001b[0;34m\u001b[0m\u001b[0m\n",
      "\u001b[0;32m/Users/kristen/anaconda/lib/python2.7/site-packages/sklearn/metrics/ranking.pyc\u001b[0m in \u001b[0;36mroc_auc_score\u001b[0;34m(y_true, y_score, average, sample_weight)\u001b[0m\n\u001b[1;32m    258\u001b[0m     return _average_binary_score(\n\u001b[1;32m    259\u001b[0m         \u001b[0m_binary_roc_auc_score\u001b[0m\u001b[0;34m,\u001b[0m \u001b[0my_true\u001b[0m\u001b[0;34m,\u001b[0m \u001b[0my_score\u001b[0m\u001b[0;34m,\u001b[0m \u001b[0maverage\u001b[0m\u001b[0;34m,\u001b[0m\u001b[0;34m\u001b[0m\u001b[0m\n\u001b[0;32m--> 260\u001b[0;31m         sample_weight=sample_weight)\n\u001b[0m\u001b[1;32m    261\u001b[0m \u001b[0;34m\u001b[0m\u001b[0m\n\u001b[1;32m    262\u001b[0m \u001b[0;34m\u001b[0m\u001b[0m\n",
      "\u001b[0;32m/Users/kristen/anaconda/lib/python2.7/site-packages/sklearn/metrics/base.pyc\u001b[0m in \u001b[0;36m_average_binary_score\u001b[0;34m(binary_metric, y_true, y_score, average, sample_weight)\u001b[0m\n\u001b[1;32m     82\u001b[0m \u001b[0;34m\u001b[0m\u001b[0m\n\u001b[1;32m     83\u001b[0m     \u001b[0;32mif\u001b[0m \u001b[0my_type\u001b[0m \u001b[0;34m==\u001b[0m \u001b[0;34m\"binary\"\u001b[0m\u001b[0;34m:\u001b[0m\u001b[0;34m\u001b[0m\u001b[0m\n\u001b[0;32m---> 84\u001b[0;31m         \u001b[0;32mreturn\u001b[0m \u001b[0mbinary_metric\u001b[0m\u001b[0;34m(\u001b[0m\u001b[0my_true\u001b[0m\u001b[0;34m,\u001b[0m \u001b[0my_score\u001b[0m\u001b[0;34m,\u001b[0m \u001b[0msample_weight\u001b[0m\u001b[0;34m=\u001b[0m\u001b[0msample_weight\u001b[0m\u001b[0;34m)\u001b[0m\u001b[0;34m\u001b[0m\u001b[0m\n\u001b[0m\u001b[1;32m     85\u001b[0m \u001b[0;34m\u001b[0m\u001b[0m\n\u001b[1;32m     86\u001b[0m     \u001b[0mcheck_consistent_length\u001b[0m\u001b[0;34m(\u001b[0m\u001b[0my_true\u001b[0m\u001b[0;34m,\u001b[0m \u001b[0my_score\u001b[0m\u001b[0;34m,\u001b[0m \u001b[0msample_weight\u001b[0m\u001b[0;34m)\u001b[0m\u001b[0;34m\u001b[0m\u001b[0m\n",
      "\u001b[0;32m/Users/kristen/anaconda/lib/python2.7/site-packages/sklearn/metrics/ranking.pyc\u001b[0m in \u001b[0;36m_binary_roc_auc_score\u001b[0;34m(y_true, y_score, sample_weight)\u001b[0m\n\u001b[1;32m    249\u001b[0m     \u001b[0;32mdef\u001b[0m \u001b[0m_binary_roc_auc_score\u001b[0m\u001b[0;34m(\u001b[0m\u001b[0my_true\u001b[0m\u001b[0;34m,\u001b[0m \u001b[0my_score\u001b[0m\u001b[0;34m,\u001b[0m \u001b[0msample_weight\u001b[0m\u001b[0;34m=\u001b[0m\u001b[0mNone\u001b[0m\u001b[0;34m)\u001b[0m\u001b[0;34m:\u001b[0m\u001b[0;34m\u001b[0m\u001b[0m\n\u001b[1;32m    250\u001b[0m         \u001b[0;32mif\u001b[0m \u001b[0mlen\u001b[0m\u001b[0;34m(\u001b[0m\u001b[0mnp\u001b[0m\u001b[0;34m.\u001b[0m\u001b[0munique\u001b[0m\u001b[0;34m(\u001b[0m\u001b[0my_true\u001b[0m\u001b[0;34m)\u001b[0m\u001b[0;34m)\u001b[0m \u001b[0;34m!=\u001b[0m \u001b[0;36m2\u001b[0m\u001b[0;34m:\u001b[0m\u001b[0;34m\u001b[0m\u001b[0m\n\u001b[0;32m--> 251\u001b[0;31m             raise ValueError(\"Only one class present in y_true. ROC AUC score \"\n\u001b[0m\u001b[1;32m    252\u001b[0m                              \"is not defined in that case.\")\n\u001b[1;32m    253\u001b[0m \u001b[0;34m\u001b[0m\u001b[0m\n",
      "\u001b[0;31mValueError\u001b[0m: Only one class present in y_true. ROC AUC score is not defined in that case."
     ]
    }
   ],
   "source": [
    "(mean_accuracy_amherst_C, se_accuracy_amherst_C, \n",
    " mean_micro_auc_amherst_C,se_micro_auc_amherst_C, mean_wt_auc_amherst_lbfgs_C,se_wt_auc_amherst_C)= LINK_C_optimized(\n",
    "                                    percent_initially_unlabelled_C, ## note: mean_se_model assumes a vector of x% initially labeled\n",
    "                                      np.array(noordin), ## gender labels \n",
    "                                       np.matrix(adj), ## adjacency matrix\n",
    "                                     num_iter=10, \n",
    "                                    clf_C = linear_model.LogisticRegression(penalty='l2', solver = 'lbfgs'),\n",
    "                                    grid = {'C': np.power(10.0, np.arange(-10, 20)),'solver': ['lbfgs']},\n",
    "                                    scoring = 'roc_auc',\n",
    "                                    cv_grid = StratifiedShuffleSplit(n_splits = 10,test_size = 0.2, train_size = 0.8, random_state = 1),\n",
    "                                   cv_setup =None)"
   ]
  },
  {
   "cell_type": "code",
   "execution_count": 76,
   "metadata": {
    "collapsed": false
   },
   "outputs": [
    {
     "name": "stdout",
     "output_type": "stream",
     "text": [
      "0.8\n",
      "0.7\n",
      "0.6\n",
      "0.5\n",
      "0.4\n",
      "0.3\n",
      "0.2\n"
     ]
    }
   ],
   "source": [
    "(mean_accuracy_amherst, se_accuracy_amherst, \n",
    " mean_micro_auc_amherst,se_micro_auc_amherst, mean_wt_auc_amherst_lbfgs,se_wt_auc_amherst)= LINK(percent_initially_unlabelled, ## note: mean_se_model assumes a vector of x% initially labeled\n",
    "                                                              np.array(noordin), ## gender labels \n",
    "                                                              adj,#np.matrix(adj), ## adjacency matrix\n",
    "                                                              clf = linear_model.LogisticRegression(penalty='l2',\n",
    "                                                                                                    solver='lbfgs',\n",
    "                                                                                                    C=1)\n",
    "                                                                                                    ,num_iter=n_iter)"
   ]
  },
  {
   "cell_type": "code",
   "execution_count": 63,
   "metadata": {
    "collapsed": false
   },
   "outputs": [],
   "source": [
    "execfile(dir_kma + 'functions/majority_vote.py')"
   ]
  },
  {
   "cell_type": "code",
   "execution_count": 64,
   "metadata": {
    "collapsed": false
   },
   "outputs": [
    {
     "name": "stdout",
     "output_type": "stream",
     "text": [
      "0.8\n",
      "0.7\n",
      "0.6\n",
      "0.5\n",
      "0.4\n",
      "0.3\n",
      "0.2\n"
     ]
    },
    {
     "name": "stderr",
     "output_type": "stream",
     "text": [
      "/Users/kristen/anaconda/lib/python2.7/site-packages/ipykernel/__main__.py:44: RuntimeWarning: invalid value encountered in true_divide\n"
     ]
    }
   ],
   "source": [
    "(mean_accuracy_mv_amherst, se_accuracy_mv_amherst, \n",
    " mean_micro_auc_mv_amherst,se_micro_auc_mv_amherst, \n",
    " mean_wt_auc_mv_amherst,se_wt_auc_mv_amherst) =majority_vote_finalized(percent_initially_unlabelled,  \n",
    "                                                                np.array(noordin), \n",
    "                                                                adj,#np.array(adj), \n",
    "                                                                       num_iter=n_iter)\n"
   ]
  },
  {
   "cell_type": "code",
   "execution_count": null,
   "metadata": {
    "collapsed": true
   },
   "outputs": [],
   "source": []
  },
  {
   "cell_type": "code",
   "execution_count": 65,
   "metadata": {
    "collapsed": false
   },
   "outputs": [
    {
     "name": "stdout",
     "output_type": "stream",
     "text": [
      "0.8\n",
      "0.7\n",
      "0.6\n",
      "0.5\n",
      "0.4\n",
      "0.3\n",
      "0.2\n"
     ]
    },
    {
     "name": "stderr",
     "output_type": "stream",
     "text": [
      "/Users/kristen/anaconda/lib/python2.7/site-packages/ipykernel/__main__.py:44: RuntimeWarning: invalid value encountered in true_divide\n"
     ]
    }
   ],
   "source": [
    "(mean_accuracy_mv2_amherst2, se_accuracy_mv2_amherst2, \n",
    " mean_micro_auc_mv2_amherst2,se_micro_auc_mv2_amherst2, \n",
    " mean_wt_auc_mv2_amherst2,se_wt_auc_mv2_amherst2) =majority_vote_finalized(percent_initially_unlabelled,  \n",
    "                                                                np.array(noordin), \n",
    "                                                                np.array(adj_amherst2),#np.array(adj_amherst2), \n",
    "                                                                num_iter=n_iter)\n"
   ]
  },
  {
   "cell_type": "markdown",
   "metadata": {},
   "source": [
    "#### compare choice of C with LINK predictive performance "
   ]
  },
  {
   "cell_type": "code",
   "execution_count": 489,
   "metadata": {
    "collapsed": false
   },
   "outputs": [
    {
     "name": "stdout",
     "output_type": "stream",
     "text": [
      "The scikit-learn version is 0.18.1.\n"
     ]
    }
   ],
   "source": [
    "print('The scikit-learn version is {}.'.format(sklearn.__version__))"
   ]
  },
  {
   "cell_type": "code",
   "execution_count": null,
   "metadata": {
    "collapsed": true
   },
   "outputs": [],
   "source": []
  },
  {
   "cell_type": "code",
   "execution_count": 74,
   "metadata": {
    "collapsed": false
   },
   "outputs": [
    {
     "name": "stdout",
     "output_type": "stream",
     "text": [
      "0\n",
      "1\n",
      "2\n"
     ]
    },
    {
     "name": "stderr",
     "output_type": "stream",
     "text": [
      "/usr/local/lib/python2.7/site-packages/scipy/optimize/linesearch.py:414: LineSearchWarning: The line search algorithm did not converge\n",
      "  warn('The line search algorithm did not converge', LineSearchWarning)\n",
      "/usr/local/lib/python2.7/site-packages/scipy/optimize/linesearch.py:285: LineSearchWarning: The line search algorithm did not converge\n",
      "  warn('The line search algorithm did not converge', LineSearchWarning)\n"
     ]
    },
    {
     "data": {
      "image/png": "[encoded data removed]",
      "text/plain": [
       "<matplotlib.figure.Figure at 0x117371f90>"
      ]
     },
     "metadata": {},
     "output_type": "display_data"
    }
   ],
   "source": [
    "percent_initially_unlabelled = np.array([0.9,0.5,0.1])\n",
    "percent_initially_labelled = 1-percent_initially_unlabelled\n",
    "%matplotlib inline\n",
    "f, (ax1, ax2,ax3) = plt.subplots(1, 3, \n",
    "                             sharey=False, sharex=False,\n",
    "                            figsize=(8, 3))\n",
    "C_min = -10\n",
    "for i in range(len(percent_initially_unlabelled)):\n",
    "    print i\n",
    "    k_fold = cross_validation.ShuffleSplit(len(noordin), n_iter=1,\n",
    "                                                test_size=percent_initially_unlabelled[i],\n",
    "                                                random_state=0)\n",
    "\n",
    "    for k, (train, test) in enumerate(k_fold):\n",
    "        ## vary C values\n",
    "        C_vals = [10**x for x in range(C_min,100)]#range(-20,100)]\n",
    "\n",
    "        ## vary solver types\n",
    "        solver_type = np.array(['liblinear',\n",
    "                                   'newton-cg',\n",
    "                                   'lbfgs'])\n",
    "\n",
    "        liblinear_AUC = []\n",
    "        newton_cg_AUC = []\n",
    "        lbfgs_AUC = []\n",
    "        for j in range(len(C_vals)):\n",
    "            for m in range(len(solver_type)):\n",
    "                clf = linear_model.LogisticRegression(penalty='l2',\n",
    "                                                    C=C_vals[j],\n",
    "                                                    solver =solver_type[m])\n",
    "                clf.fit(adj[train], np.ravel(noordin[train])) # spot-check fitted on training data\n",
    "\n",
    "\n",
    "                pred = clf.predict(adj[train]) # spot-check fitted on testing data\n",
    "                prob = clf.predict_proba(adj[test])\n",
    "\n",
    "                if solver_type[m]=='liblinear':\n",
    "                    liblinear_AUC.append(metrics.roc_auc_score(label_binarize(noordin[test],np.unique(noordin)),\n",
    "                                                                    prob[:,1],average='weighted'))\n",
    "                if solver_type[m]=='newton-cg':\n",
    "                    newton_cg_AUC.append(metrics.roc_auc_score(label_binarize(noordin[test],np.unique(noordin)),\n",
    "                                                                    prob[:,1],average='weighted'))\n",
    "                if solver_type[m]=='lbfgs':\n",
    "                    lbfgs_AUC.append(metrics.roc_auc_score(label_binarize(noordin[test],np.unique(noordin)),\n",
    "                                                                    prob[:,1],average='weighted'))\n",
    "    if i==0:\n",
    "        ax1.minorticks_on()\n",
    "        ax1.tick_params('both', length=4, width=1, which='major', left=1, bottom=1, top=0, right=0)\n",
    "        ax1.set_xlabel('C, log_10')\n",
    "        ax1.scatter(range(C_min,100), liblinear_AUC, color='red')#,'.r-')\n",
    "        ax1.plot(range(C_min,100), liblinear_AUC, 'r--')\n",
    "        ax1.scatter(range(C_min,100), newton_cg_AUC, color='blue')#,'.b-')\n",
    "        ax1.plot(range(C_min,100), newton_cg_AUC, 'b--')\n",
    "        ax1.scatter(range(C_min,100), lbfgs_AUC, color='green')#,'.g-')\n",
    "        ax1.plot(range(C_min,100), lbfgs_AUC, 'g--')\n",
    "        ax1.annotate('liblinear', xy=(-15,0.90), color = 'red')\n",
    "        ax1.annotate('newton_cg', xy=(-15,0.85), color = 'blue')\n",
    "        ax1.annotate('lbfgs', xy=(-15,0.8), color = 'green')\n",
    "        ax1.spines[\"right\"].set_visible(False)\n",
    "        ax1.spines[\"top\"].set_visible(False)\n",
    "        ax1.set_title(str(percent_initially_labelled[i]*100) +'% initially labeled')\n",
    "        ax1.set_ylabel('AUC')\n",
    "        ax1.set_ylim(0.25,1.1)\n",
    "        ax1.set_xlim(-20,20)\n",
    "\n",
    "\n",
    "    if i==1:\n",
    "        ax2.scatter(range(C_min,100), liblinear_AUC, color='red')#,'.r-')\n",
    "        ax2.plot(range(C_min,100), liblinear_AUC, 'r--')\n",
    "        ax2.minorticks_on()\n",
    "        ax2.tick_params('both', length=4, width=1, which='major', left=1, bottom=1, top=0, right=0)\n",
    "        ax2.set_xlabel('C, log_10')\n",
    "        ax2.scatter(range(C_min,100), newton_cg_AUC, color='blue')#,'.b-')\n",
    "        ax2.plot(range(C_min,100), newton_cg_AUC, 'b--')\n",
    "        ax2.scatter(range(C_min,100), lbfgs_AUC, color='green')#,'.g-')\n",
    "        ax2.plot(range(C_min,100), lbfgs_AUC, 'g--')\n",
    "        ax2.spines[\"right\"].set_visible(False)\n",
    "        ax2.spines[\"top\"].set_visible(False)\n",
    "        ax2.set_title(str(percent_initially_labelled[i]*100) +'% initially labeled')\n",
    "        ax2.set_ylim(0.25,1.1)\n",
    "        ax2.set_xlim(-20,20)\n",
    "\n",
    "\n",
    "\n",
    "    if i==2:\n",
    "        ax3.scatter(range(C_min,100), liblinear_AUC, color='red')#,'.r-')\n",
    "        ax3.plot(range(C_min,100), liblinear_AUC, 'r--')\n",
    "        ax3.scatter(range(C_min,100), newton_cg_AUC, color='blue')#,'.b-')\n",
    "        ax3.plot(range(C_min,100), newton_cg_AUC, 'b--')\n",
    "        ax3.minorticks_on()\n",
    "        ax3.tick_params('both', length=4, width=1, which='major', left=1, bottom=1, top=0, right=0)\n",
    "        ax3.set_xlabel('C, log_10')\n",
    "        ax3.scatter(range(C_min,100), lbfgs_AUC, color='green')#,'.g-')\n",
    "        ax3.plot(range(C_min,100), lbfgs_AUC, 'g--')\n",
    "        ax3.spines[\"right\"].set_visible(False)\n",
    "        ax3.spines[\"top\"].set_visible(False)\n",
    "        ax3.set_title(str(percent_initially_labelled[i]*100) +'% initially labeled')\n",
    "        ax3.set_ylim(0.25,1.1)\n",
    "        ax3.set_xlim(-20,20)\n",
    "    #plt.tight_layout()\n",
    "    #plt.show()\n",
    "    #pp = PdfPages('../../figures/FB_Amherst_sensitivity_to_C.pdf')\n",
    "    #pp.savefig()\n",
    "    #pp.close()"
   ]
  },
  {
   "cell_type": "code",
   "execution_count": null,
   "metadata": {
    "collapsed": true
   },
   "outputs": [],
   "source": []
  },
  {
   "cell_type": "code",
   "execution_count": null,
   "metadata": {
    "collapsed": true
   },
   "outputs": [],
   "source": []
  },
  {
   "cell_type": "markdown",
   "metadata": {},
   "source": [
    "### step through LINK function line-by-line"
   ]
  },
  {
   "cell_type": "code",
   "execution_count": 156,
   "metadata": {
    "collapsed": false
   },
   "outputs": [
    {
     "name": "stdout",
     "output_type": "stream",
     "text": [
      "26\n"
     ]
    }
   ],
   "source": [
    "force_top_in_train_set = 26#np.where(np.array(node_noordin.keys())=='Noordin Mohammed Top')[0]\n",
    "print force_top_in_train_set"
   ]
  },
  {
   "cell_type": "code",
   "execution_count": null,
   "metadata": {
    "collapsed": true
   },
   "outputs": [],
   "source": []
  },
  {
   "cell_type": "code",
   "execution_count": 157,
   "metadata": {
    "collapsed": true
   },
   "outputs": [],
   "source": [
    "## vary C vector\n",
    "C = np.array([0.01,0.1,1,10,10e2,10e3,10e4])"
   ]
  },
  {
   "cell_type": "code",
   "execution_count": null,
   "metadata": {
    "collapsed": true
   },
   "outputs": [],
   "source": []
  },
  {
   "cell_type": "code",
   "execution_count": null,
   "metadata": {
    "collapsed": true
   },
   "outputs": [],
   "source": []
  },
  {
   "cell_type": "code",
   "execution_count": 158,
   "metadata": {
    "collapsed": true
   },
   "outputs": [],
   "source": [
    "clf = linear_model.LogisticRegression(penalty='l2',\n",
    "                                       solver='lbfgs',\n",
    "                                      #fit_intercept = False, # note that default is to fit intercept\n",
    "                                       C=10e20)#, verbose = True)\n",
    "\n",
    "\n",
    "## vary C value"
   ]
  },
  {
   "cell_type": "code",
   "execution_count": 159,
   "metadata": {
    "collapsed": true
   },
   "outputs": [],
   "source": [
    "k_fold = cross_validation.ShuffleSplit(len(np.array(noordin)), n_iter=4,\n",
    "                                                         test_size=0.1,\n",
    "                                                         random_state=0)"
   ]
  },
  {
   "cell_type": "code",
   "execution_count": null,
   "metadata": {
    "collapsed": true
   },
   "outputs": [],
   "source": []
  },
  {
   "cell_type": "code",
   "execution_count": 160,
   "metadata": {
    "collapsed": false
   },
   "outputs": [
    {
     "data": {
      "text/plain": [
       "matrix([[2]])"
      ]
     },
     "execution_count": 160,
     "metadata": {},
     "output_type": "execute_result"
    }
   ],
   "source": [
    "adj[force_top_in_train_set,:] * np.matrix((noordin==1)+0).T"
   ]
  },
  {
   "cell_type": "code",
   "execution_count": 161,
   "metadata": {
    "collapsed": false
   },
   "outputs": [
    {
     "data": {
      "text/plain": [
       "matrix([[0]])"
      ]
     },
     "execution_count": 161,
     "metadata": {},
     "output_type": "execute_result"
    }
   ],
   "source": [
    "adj[force_top_in_train_set,:] * np.matrix((noordin==0)+0).T"
   ]
  },
  {
   "cell_type": "code",
   "execution_count": 162,
   "metadata": {
    "collapsed": false
   },
   "outputs": [
    {
     "data": {
      "text/plain": [
       "(array([], dtype=int64),)"
      ]
     },
     "execution_count": 162,
     "metadata": {},
     "output_type": "execute_result"
    }
   ],
   "source": [
    "np.where(np.array((np.sum(adj,1)==41).T)[0])"
   ]
  },
  {
   "cell_type": "code",
   "execution_count": 163,
   "metadata": {
    "collapsed": false
   },
   "outputs": [
    {
     "name": "stdout",
     "output_type": "stream",
     "text": [
      "0\n",
      "[49 53 22 43 28 26 70 50]\n",
      "1\n",
      "[ 7 38 55 26 19 25 59 22]\n",
      "2\n",
      "[23 43 39 65 62 35 70 58]\n",
      "3\n",
      "[37 14 12  6 56 19 38 25]\n"
     ]
    }
   ],
   "source": [
    "for k, (train, test) in enumerate(k_fold):\n",
    "    print k\n",
    "    print test"
   ]
  },
  {
   "cell_type": "code",
   "execution_count": 164,
   "metadata": {
    "collapsed": false
   },
   "outputs": [
    {
     "name": "stdout",
     "output_type": "stream",
     "text": [
      "[37 14 12  6 56 19 38 25]\n"
     ]
    }
   ],
   "source": [
    "print test"
   ]
  },
  {
   "cell_type": "code",
   "execution_count": 165,
   "metadata": {
    "collapsed": false
   },
   "outputs": [
    {
     "name": "stdout",
     "output_type": "stream",
     "text": [
      "1.0\n",
      "1.0\n",
      "1.0\n",
      "1.0\n",
      "1.0\n",
      "1.0\n",
      "1.0\n"
     ]
    }
   ],
   "source": [
    "for j in range(len(C)):\n",
    "    clf = linear_model.LogisticRegression(penalty='l2',\n",
    "                                       solver='lbfgs')#,\n",
    "                                      #fit_intercept = False, # note that default is to fit intercept\n",
    "                                       #C=C[j])\n",
    "    clf.fit(adj[train], \n",
    "           np.ravel(np.array(noordin))[train])\n",
    "    #print clf.intercept_\n",
    "    #print scipy.special.expit(clf.intercept_)\n",
    "    prob = clf.predict_proba(adj[test])\n",
    "    #print prob[0:10]\n",
    "    print metrics.roc_auc_score(label_binarize(noordin[test],np.unique(noordin)),\n",
    "                                                    prob[:,1],average='weighted')"
   ]
  },
  {
   "cell_type": "code",
   "execution_count": 166,
   "metadata": {
    "collapsed": false
   },
   "outputs": [
    {
     "name": "stdout",
     "output_type": "stream",
     "text": [
      "1.0\n"
     ]
    }
   ],
   "source": [
    "print metrics.roc_auc_score(label_binarize(noordin[test],np.unique(noordin)),\n",
    "                                                prob[:,1],average='weighted')"
   ]
  },
  {
   "cell_type": "code",
   "execution_count": 167,
   "metadata": {
    "collapsed": false
   },
   "outputs": [
    {
     "name": "stderr",
     "output_type": "stream",
     "text": [
      "/Users/kristen/anaconda/lib/python2.7/site-packages/ipykernel/__main__.py:10: RuntimeWarning: invalid value encountered in true_divide\n"
     ]
    }
   ],
   "source": [
    "membership_y = np.array(noordin)\n",
    "feature_x = np.copy(np.array(adj))#adj_amherst2))\n",
    "class_labels = np.unique(membership_y)\n",
    "num_labels = len(class_labels)\n",
    "labeled_data = np.copy(np.array(membership_y))\n",
    "ground_truth_testing = np.array(labeled_data)[test]\n",
    "labeled_data[test]=np.max(class_labels)+1 # ignore testing labels -- don't have access as part of training -- want to assing test label outside of possible training labels\n",
    "proportion_class_preference = []\n",
    "for m in range(num_labels):\n",
    "    proportion_class_preference.append(feature_x * np.matrix((labeled_data==class_labels[m])+0).T/(feature_x * np.matrix((labeled_data!=(np.max(class_labels)+1))+0).T)) ## order of proportions is class_labels[0], class_labels[1], etc.\n",
    "preference_by_class_matrix = np.concatenate(proportion_class_preference,1)\n",
    "baseline_proportions = []\n",
    "for m in range(num_labels):\n",
    "    baseline_proportions.append((np.sum(labeled_data==class_labels[m])+0)/(np.sum((labeled_data !=np.max(class_labels)+1)+0)))\n",
    "if np.sum(np.isnan(preference_by_class_matrix[:,0])+0) > 0:\n",
    "    preference_by_class_matrix[np.array(np.isnan(preference_by_class_matrix[:,0]).T)[0],:] = np.repeat(np.matrix(baseline_proportions)/np.sum(baseline_proportions), # note: compute RELATIVE proportions\n",
    "                                                                                                               np.sum(np.isnan(preference_by_class_matrix[:,0])+0),\n",
    "                                                                                                            axis=0)        \n",
    "\n"
   ]
  },
  {
   "cell_type": "code",
   "execution_count": 168,
   "metadata": {
    "collapsed": false
   },
   "outputs": [
    {
     "data": {
      "text/plain": [
       "1.0"
      ]
     },
     "execution_count": 168,
     "metadata": {},
     "output_type": "execute_result"
    }
   ],
   "source": [
    "metrics.roc_auc_score(membership_y[test],\n",
    "                      preference_by_class_matrix[test,:][:,1]-preference_by_class_matrix[test,:][:,0], \n",
    "                     average = 'weighted')"
   ]
  },
  {
   "cell_type": "code",
   "execution_count": null,
   "metadata": {
    "collapsed": true
   },
   "outputs": [],
   "source": []
  },
  {
   "cell_type": "code",
   "execution_count": null,
   "metadata": {
    "collapsed": true
   },
   "outputs": [],
   "source": []
  },
  {
   "cell_type": "code",
   "execution_count": null,
   "metadata": {
    "collapsed": true
   },
   "outputs": [],
   "source": []
  },
  {
   "cell_type": "code",
   "execution_count": null,
   "metadata": {
    "collapsed": true
   },
   "outputs": [],
   "source": []
  },
  {
   "cell_type": "code",
   "execution_count": null,
   "metadata": {
    "collapsed": true
   },
   "outputs": [],
   "source": []
  },
  {
   "cell_type": "markdown",
   "metadata": {},
   "source": [
    "### step through majority vote function line-by-line"
   ]
  },
  {
   "cell_type": "code",
   "execution_count": 169,
   "metadata": {
    "collapsed": false
   },
   "outputs": [
    {
     "data": {
      "text/plain": [
       "0.0"
      ]
     },
     "execution_count": 169,
     "metadata": {},
     "output_type": "execute_result"
    }
   ],
   "source": [
    "membership_y = np.array(noordin)\n",
    "feature_x = np.copy(np.array(adj))#adj_amherst2))\n",
    "np.mean(feature_x>1) ## just quick spot-check\n",
    "#np.mean(adj>1)"
   ]
  },
  {
   "cell_type": "code",
   "execution_count": 170,
   "metadata": {
    "collapsed": false
   },
   "outputs": [],
   "source": [
    "k_fold = cross_validation.ShuffleSplit(len(membership_y), n_iter=1,#num_iter,\n",
    "                                                   test_size=0.5,#num_unlabeled[i],\n",
    "                                                   random_state=0)"
   ]
  },
  {
   "cell_type": "code",
   "execution_count": 171,
   "metadata": {
    "collapsed": false
   },
   "outputs": [
    {
     "name": "stdout",
     "output_type": "stream",
     "text": [
      "0\n"
     ]
    }
   ],
   "source": [
    "for k, (train, test) in enumerate(k_fold):\n",
    "    print k"
   ]
  },
  {
   "cell_type": "code",
   "execution_count": 172,
   "metadata": {
    "collapsed": false
   },
   "outputs": [
    {
     "name": "stdout",
     "output_type": "stream",
     "text": [
      "[0 0 2 2 2 0 2 2 1 1 2 2 1 1 0 0 0 0 1 1 1 1 2 1 1 1 2 2 2 1 2 2 1 2 2 0 0\n",
      " 1 1 0 2 1 2 2 1 2 0 1 2 2 2 2 2 2 2 2 2 1 1 2 2 2 1 2 1 2 2 0 1 1 2 2 2]\n"
     ]
    }
   ],
   "source": [
    "labeled_data = np.copy(np.array(membership_y))\n",
    "ground_truth_testing = np.array(labeled_data)[test]\n",
    "labeled_data[test]=np.max(class_labels)+1 # ignore testing labels -- don't have access as part of training -- want to assing test label outside of possible training labels\n",
    "print labeled_data"
   ]
  },
  {
   "cell_type": "code",
   "execution_count": 173,
   "metadata": {
    "collapsed": false
   },
   "outputs": [
    {
     "name": "stderr",
     "output_type": "stream",
     "text": [
      "/Users/kristen/anaconda/lib/python2.7/site-packages/ipykernel/__main__.py:3: RuntimeWarning: invalid value encountered in true_divide\n",
      "  app.launch_new_instance()\n"
     ]
    }
   ],
   "source": [
    "proportion_class_preference = []\n",
    "for m in range(num_labels):\n",
    "    proportion_class_preference.append(feature_x * np.matrix((labeled_data==class_labels[m])+0).T/(feature_x * np.matrix((labeled_data!=(np.max(class_labels)+1))+0).T)) ## order of proportions is class_labels[0], class_labels[1], etc.\n",
    "preference_by_class_matrix = np.concatenate(proportion_class_preference,1)\n"
   ]
  },
  {
   "cell_type": "code",
   "execution_count": 174,
   "metadata": {
    "collapsed": true
   },
   "outputs": [],
   "source": [
    "baseline_proportions = []\n",
    "for m in range(num_labels):\n",
    "    baseline_proportions.append((np.sum(labeled_data==class_labels[m])+0)/(np.sum((labeled_data !=np.max(class_labels)+1)+0)))\n",
    "if np.sum(np.isnan(preference_by_class_matrix[:,0])+0) > 0:\n",
    "    preference_by_class_matrix[np.array(np.isnan(preference_by_class_matrix[:,0]).T)[0],:] = np.repeat(np.matrix(baseline_proportions)/np.sum(baseline_proportions), # note: compute RELATIVE proportions\n",
    "                                                                                                               np.sum(np.isnan(preference_by_class_matrix[:,0])+0),\n",
    "                                                                                                            axis=0)        "
   ]
  },
  {
   "cell_type": "code",
   "execution_count": 175,
   "metadata": {
    "collapsed": false
   },
   "outputs": [
    {
     "name": "stdout",
     "output_type": "stream",
     "text": [
      "0.666666666667\n"
     ]
    }
   ],
   "source": [
    "print np.mean(membership_y[train]==1) ## spot-check this is what's in rh-column"
   ]
  },
  {
   "cell_type": "code",
   "execution_count": 177,
   "metadata": {
    "collapsed": false
   },
   "outputs": [
    {
     "data": {
      "text/plain": [
       "0.74242424242424243"
      ]
     },
     "execution_count": 177,
     "metadata": {},
     "output_type": "execute_result"
    }
   ],
   "source": [
    "metrics.roc_auc_score(membership_y[test],\n",
    "                      preference_by_class_matrix[test,:][:,1]-preference_by_class_matrix[test,:][:,0], \n",
    "                     average = 'weighted')"
   ]
  },
  {
   "cell_type": "code",
   "execution_count": 178,
   "metadata": {
    "collapsed": false
   },
   "outputs": [
    {
     "data": {
      "text/plain": [
       "0.74242424242424243"
      ]
     },
     "execution_count": 178,
     "metadata": {},
     "output_type": "execute_result"
    }
   ],
   "source": [
    "metrics.roc_auc_score(membership_y[test],\n",
    "                      preference_by_class_matrix[test,:][:,1],\n",
    "                     average = 'weighted')\n"
   ]
  },
  {
   "cell_type": "code",
   "execution_count": 179,
   "metadata": {
    "collapsed": false
   },
   "outputs": [
    {
     "data": {
      "text/plain": [
       "0.74242424242424243"
      ]
     },
     "execution_count": 179,
     "metadata": {},
     "output_type": "execute_result"
    }
   ],
   "source": [
    "metrics.roc_auc_score(label_binarize(membership_y[test],np.unique(membership_y)),\n",
    "                      preference_by_class_matrix[test,:][:,1],\n",
    "                     average = 'weighted')\n",
    "\n"
   ]
  },
  {
   "cell_type": "code",
   "execution_count": 180,
   "metadata": {
    "collapsed": false
   },
   "outputs": [
    {
     "data": {
      "image/png": "[encoded data removed]",
      "text/plain": [
       "<matplotlib.figure.Figure at 0x129764850>"
      ]
     },
     "metadata": {},
     "output_type": "display_data"
    }
   ],
   "source": [
    "%matplotlib inline\n",
    "plt.hist(np.sum(feature_x,1))\n",
    "plt.xlabel('total node degree')\n",
    "plt.show()"
   ]
  },
  {
   "cell_type": "code",
   "execution_count": 283,
   "metadata": {
    "collapsed": false
   },
   "outputs": [],
   "source": [
    "## 1-hop MV\n",
    "\n",
    "## among gender == 1 nodes -- find proportion of 1-hop neighbors that are gender==1\n",
    "mv1_g1 = (adj[noordin==1,:] * np.matrix((noordin==1)+0).T)/np.sum(adj[noordin==1,:],1)\n",
    "\n",
    "## similarly - among gender == 2 nodes -- find noordin of 1-hop neighbors that are gender == 1\n",
    "mv1_g2 = (adj[noordin==0,:] * np.matrix((noordin==0)+0).T)/np.sum(adj[noordin==0,:],1)\n"
   ]
  },
  {
   "cell_type": "code",
   "execution_count": null,
   "metadata": {
    "collapsed": true
   },
   "outputs": [],
   "source": []
  },
  {
   "cell_type": "code",
   "execution_count": 284,
   "metadata": {
    "collapsed": false
   },
   "outputs": [],
   "source": [
    "## 2-hop MV\n",
    "mv2_g1 = (adj_amherst2[noordin==1,:] * np.matrix((noordin==1)+0).T)/np.sum(adj_amherst2[noordin==1,:],1)\n",
    "mv2_g2 = (adj_amherst2[noordin==0,:] * np.matrix((noordin==0)+0).T)/np.sum(adj_amherst2[noordin==0,:],1)"
   ]
  },
  {
   "cell_type": "code",
   "execution_count": 183,
   "metadata": {
    "collapsed": false
   },
   "outputs": [],
   "source": [
    "## alternative option to try -- takeaway: doesn't help\n",
    "#adj2_alternative = (adj_amherst2 >= 1)+0"
   ]
  },
  {
   "cell_type": "code",
   "execution_count": 184,
   "metadata": {
    "collapsed": false
   },
   "outputs": [],
   "source": [
    "#mv2_g1 = (adj2_alternative[noordin==1,:] * np.matrix((noordin==1)+0).T)/np.sum(adj2_alternative[noordin==1,:],1)\n",
    "#mv2_g2 = (adj2_alternative[noordin==0,:] * np.matrix((noordin==0)+0).T)/np.sum(adj2_alternative[noordin==0,:],1)"
   ]
  },
  {
   "cell_type": "code",
   "execution_count": null,
   "metadata": {
    "collapsed": true
   },
   "outputs": [],
   "source": []
  },
  {
   "cell_type": "code",
   "execution_count": null,
   "metadata": {
    "collapsed": true
   },
   "outputs": [],
   "source": []
  },
  {
   "cell_type": "code",
   "execution_count": 185,
   "metadata": {
    "collapsed": false
   },
   "outputs": [
    {
     "data": {
      "image/png": "[encoded data removed]",
      "text/plain": [
       "<matplotlib.figure.Figure at 0x11adc1190>"
      ]
     },
     "metadata": {},
     "output_type": "display_data"
    },
    {
     "data": {
      "image/png": "[encoded data removed]",
      "text/plain": [
       "<matplotlib.figure.Figure at 0x106f01690>"
      ]
     },
     "metadata": {},
     "output_type": "display_data"
    }
   ],
   "source": [
    "%matplotlib inline\n",
    "plt.scatter(np.array(mv1_g1).T[0],\n",
    "           np.array(mv2_g1).T[0],\n",
    "           alpha = 0.2,\n",
    "           color = 'purple')\n",
    "plt.xlabel('proportion same, 1-hop')\n",
    "plt.ylabel('proportion same, 2-hop')\n",
    "lims = [\n",
    "    np.min([0, 0]),  # min of both axes\n",
    "    np.max([1, 1]),  # max of both axes\n",
    "]\n",
    "\n",
    "# now plot both limits against eachother\n",
    "#plt.plot(lims, lims, 'k-', alpha=0.75, zorder=0, color = 'red')\n",
    "plt.axvline(np.mean(noordin==1), color = 'purple')\n",
    "plt.text(0.1,0.9, np.str(np.mean(np.array(mv1_g1).T[0]<np.mean(noordin==1))), color = 'purple')\n",
    "plt.text(0.7,0.9, np.str(np.mean(np.array(mv1_g1).T[0]>np.mean(noordin==1))), color = 'purple')\n",
    "\n",
    "plt.xlim((-0.01,1.01))\n",
    "plt.ylim((-0.01,1.01))\n",
    "plt.title(\"Noordin, Noordin == 1\")\n",
    "plt.show()\n",
    "#pp = PdfPages('./../manuscript/nature_hb/3_nature_hb_running_list_of_revisions_post_may_2017/figs/noordin/noordin_1hop_same.pdf')\n",
    "#pp.savefig()\n",
    "#pp.close()\n",
    "\n",
    "\n",
    "%matplotlib inline\n",
    "plt.scatter(np.array(mv1_g2).T[0],\n",
    "           np.array(mv2_g2).T[0],\n",
    "           alpha = 0.8,\n",
    "           color = 'orange')\n",
    "plt.xlabel('proportion same, 1-hop')\n",
    "plt.ylabel('proportion same, 2-hop')\n",
    "lims = [\n",
    "    np.min([0, 0]),  # min of both axes\n",
    "    np.max([1, 1]),  # max of both axes\n",
    "]\n",
    "\n",
    "# now plot both limits against eachother\n",
    "#plt.plot(lims, lims, 'k-', alpha=0.75, zorder=0, color = 'red')\n",
    "plt.axvline(np.mean(noordin==0), color = 'orange')\n",
    "plt.text(0.1,0.9, np.str(np.mean(np.array(mv1_g2).T[0]<np.mean(noordin==0))), color = 'orange')\n",
    "plt.text(0.7,0.9, np.str(np.mean(np.array(mv1_g2).T[0]>np.mean(noordin==0))), color = 'orange')\n",
    "\n",
    "plt.xlim((-0.01,1.01))\n",
    "plt.ylim((-0.01,1.01))\n",
    "plt.title(\"Non-Noordin, Noordin == 0\")\n",
    "plt.show()\n",
    "#pp = PdfPages('./../manuscript/nature_hb/3_nature_hb_running_list_of_revisions_post_may_2017/figs/noordin/non_noordin_1hop_same.pdf')\n",
    "#pp.savefig()\n",
    "#pp.close()"
   ]
  },
  {
   "cell_type": "code",
   "execution_count": 186,
   "metadata": {
    "collapsed": false
   },
   "outputs": [
    {
     "name": "stderr",
     "output_type": "stream",
     "text": [
      "/Users/kristen/anaconda/lib/python2.7/site-packages/ipykernel/__main__.py:16: RuntimeWarning: invalid value encountered in greater\n",
      "/Users/kristen/anaconda/lib/python2.7/site-packages/ipykernel/__main__.py:17: RuntimeWarning: invalid value encountered in less\n"
     ]
    },
    {
     "data": {
      "image/png": "[encoded data removed]",
      "text/plain": [
       "<matplotlib.figure.Figure at 0x127b27e10>"
      ]
     },
     "metadata": {},
     "output_type": "display_data"
    },
    {
     "data": {
      "image/png": "[encoded data removed]",
      "text/plain": [
       "<matplotlib.figure.Figure at 0x119dcf890>"
      ]
     },
     "metadata": {},
     "output_type": "display_data"
    }
   ],
   "source": [
    "%matplotlib inline\n",
    "plt.scatter(np.array(mv1_g1).T[0],\n",
    "           np.array(mv2_g1).T[0],\n",
    "           alpha = 0.2,\n",
    "           color = 'purple')\n",
    "plt.xlabel('proportion same, 1-hop')\n",
    "plt.ylabel('proportion same, 2-hop')\n",
    "lims = [\n",
    "    np.min([0, 0]),  # min of both axes\n",
    "    np.max([1, 1]),  # max of both axes\n",
    "]\n",
    "\n",
    "# now plot both limits against eachother\n",
    "#plt.plot(lims, lims, 'k-', alpha=0.75, zorder=0, color = 'red')\n",
    "plt.axhline(np.mean(noordin==1), color = 'purple')\n",
    "plt.text(0.1,0.9, np.str(np.mean(np.array(mv2_g1).T[0]>np.mean(noordin==1))), color = 'purple')\n",
    "plt.text(0.1,0.1, np.str(np.mean(np.array(mv2_g1).T[0]<np.mean(noordin==1))), color = 'purple')\n",
    "\n",
    "plt.xlim((-0.01,1.01))\n",
    "plt.ylim((-0.01,1.01))\n",
    "plt.title(\"Noordin, Noordin == 1\")\n",
    "plt.show()\n",
    "#pp = PdfPages('./../manuscript/nature_hb/3_nature_hb_running_list_of_revisions_post_may_2017/figs/noordin/noordin_2hop_same.pdf')\n",
    "#pp.savefig()\n",
    "#pp.close()\n",
    "\n",
    "%matplotlib inline\n",
    "plt.scatter(np.array(mv1_g2).T[0],\n",
    "           np.array(mv2_g2).T[0],\n",
    "           alpha = 0.8,\n",
    "           color = 'orange')\n",
    "plt.xlabel('proportion same, 1-hop')\n",
    "plt.ylabel('proportion same, 2-hop')\n",
    "lims = [\n",
    "    np.min([0, 0]),  # min of both axes\n",
    "    np.max([1, 1]),  # max of both axes\n",
    "]\n",
    "\n",
    "# now plot both limits against eachother\n",
    "#plt.plot(lims, lims, 'k-', alpha=0.75, zorder=0, color = 'red')\n",
    "plt.axhline(np.mean(noordin==0), color = 'orange')\n",
    "plt.text(0.1,0.9, np.str(np.mean(np.array(mv2_g2).T[0]>np.mean(noordin==0))), color = 'orange')\n",
    "plt.text(0.1,0.1, np.str(np.mean(np.array(mv2_g2).T[0]<np.mean(noordin==0))), color = 'orange')\n",
    "\n",
    "plt.xlim((-0.01,1.01))\n",
    "plt.ylim((-0.01,1.01))\n",
    "plt.title(\"Non-Noordin, Noordin == 0\")\n",
    "#plt.show()\n",
    "plt.show()\n",
    "#pp = PdfPages('./../manuscript/nature_hb/3_nature_hb_running_list_of_revisions_post_may_2017/figs/noordin/non_noordin_2hop_same.pdf')\n",
    "#pp.savefig()\n",
    "#pp.close()\n"
   ]
  },
  {
   "cell_type": "code",
   "execution_count": 66,
   "metadata": {
    "collapsed": false
   },
   "outputs": [
    {
     "name": "stdout",
     "output_type": "stream",
     "text": [
      "0.8\n",
      "0.7\n",
      "0.6\n",
      "0.5\n",
      "0.4\n",
      "0.3\n",
      "0.2\n"
     ]
    }
   ],
   "source": [
    "(mean_wt_auc_baseline_amherst,se_wt_auc_baseline_amherst) = random_classifier(np.array(adj),\n",
    "                                                                             np.array(noordin),\n",
    "                                                                            percent_initially_unlabelled,\n",
    "                                                                             num_iter=n_iter)"
   ]
  },
  {
   "cell_type": "code",
   "execution_count": 67,
   "metadata": {
    "collapsed": false
   },
   "outputs": [
    {
     "name": "stdout",
     "output_type": "stream",
     "text": [
      "0.8\n",
      "0.7\n",
      "0.6\n",
      "0.5\n",
      "0.4\n",
      "0.3\n",
      "0.2\n"
     ]
    }
   ],
   "source": [
    "(mean_accuracy_zgl_amherst, se_accuracy_zgl_amherst, \n",
    "mean_micro_auc_zgl_amherst,se_micro_auc_zgl_amherst, \n",
    "mean_wt_auc_zgl_amherst,se_wt_auc_zgl_amherst) =ZGL_finalized(np.array(adj),#np.array(adj),\n",
    "                                    np.array(noordin),percent_initially_unlabelled, \n",
    "                                    num_iter=n_iter)"
   ]
  },
  {
   "cell_type": "code",
   "execution_count": 304,
   "metadata": {
    "collapsed": false
   },
   "outputs": [
    {
     "name": "stdout",
     "output_type": "stream",
     "text": [
      "[0.051925376297960214, 0.054464616831887323, 0.061036947267987321, 0.044195019247197945, 0.067756336223876737, 0.059704352120086339, 0.080367442733706551, 0.093949360507919188]\n",
      "[0.051925376297960214, 0.054464616831887323, 0.061036947267987321, 0.044195019247197945, 0.067756336223876737, 0.059704352120086339, 0.080367442733706551, 0.093949360507919188]\n"
     ]
    }
   ],
   "source": [
    "print se_micro_auc_mv_amherst\n",
    "print se_wt_auc_mv_amherst"
   ]
  },
  {
   "cell_type": "code",
   "execution_count": 203,
   "metadata": {
    "collapsed": false
   },
   "outputs": [
    {
     "data": {
      "image/png": "[encoded data removed]",
      "text/plain": [
       "<matplotlib.figure.Figure at 0x127de9150>"
      ]
     },
     "metadata": {},
     "output_type": "display_data"
    }
   ],
   "source": [
    "%matplotlib inline\n",
    "plt.hist(adj_amherst2[noordin == 0,:])\n",
    "plt.xlabel('among non-noordin, values of A2')\n",
    "plt.show()\n"
   ]
  },
  {
   "cell_type": "code",
   "execution_count": 204,
   "metadata": {
    "collapsed": false
   },
   "outputs": [
    {
     "name": "stdout",
     "output_type": "stream",
     "text": [
      "4\n"
     ]
    }
   ],
   "source": [
    "print np.max(adj_amherst2[noordin == 0,:])"
   ]
  },
  {
   "cell_type": "code",
   "execution_count": null,
   "metadata": {
    "collapsed": true
   },
   "outputs": [],
   "source": []
  },
  {
   "cell_type": "code",
   "execution_count": null,
   "metadata": {
    "collapsed": true
   },
   "outputs": [],
   "source": []
  },
  {
   "cell_type": "code",
   "execution_count": 99,
   "metadata": {
    "collapsed": false
   },
   "outputs": [],
   "source": [
    "output_dir = '/Users/kristen/Dropbox/gender_graph_data/manuscript/nature_hb/gender_graph_final_code_NatureHB/figures/'"
   ]
  },
  {
   "cell_type": "code",
   "execution_count": 77,
   "metadata": {
    "collapsed": false
   },
   "outputs": [
    {
     "data": {
      "image/png": "[encoded data removed]",
      "text/plain": [
       "<matplotlib.figure.Figure at 0x11af76890>"
      ]
     },
     "metadata": {},
     "output_type": "display_data"
    }
   ],
   "source": [
    "%matplotlib inline\n",
    "from matplotlib.ticker import FixedLocator,LinearLocator,MultipleLocator, FormatStrFormatter\n",
    "\n",
    "fig = plt.figure()\n",
    "seaborn.set_style(style='white')\n",
    "from mpl_toolkits.axes_grid1 import Grid\n",
    "grid = Grid(fig, rect=111, nrows_ncols=(1,1),\n",
    "            axes_pad=0.1, label_mode='L')\n",
    "for i in range(4):\n",
    "    if i == 0:\n",
    "        grid[i].xaxis.set_major_locator(FixedLocator([0,25,50,75,100]))\n",
    "        grid[i].yaxis.set_major_locator(FixedLocator([0.4, 0.5,0.6,0.7,0.8,0.9,1]))\n",
    "\n",
    "        \n",
    "        \n",
    "        grid[i].errorbar(percent_initially_labelled*100, mean_wt_auc_amherst_lbfgs,\n",
    "            yerr=se_wt_auc_amherst, fmt='--o', capthick=2,\n",
    "            alpha=0.6, elinewidth=3, color='black')\n",
    "        \n",
    "        grid[i].errorbar(percent_initially_labelled*100, mean_wt_auc_zgl_amherst,\n",
    "            yerr=se_micro_auc_zgl_amherst, fmt='--o', capthick=2,\n",
    "            alpha=0.6, elinewidth=3, color='orange')\n",
    "        grid[i].errorbar(percent_initially_labelled*100, mean_wt_auc_mv_amherst,\n",
    "            yerr=se_micro_auc_mv_amherst, fmt='--o', capthick=2,\n",
    "            alpha=0.6, elinewidth=3, color='red')\n",
    "        grid[i].errorbar(percent_initially_labelled*100, mean_wt_auc_mv2_amherst2, \n",
    "            yerr=se_micro_auc_mv2_amherst2, fmt='--o', capthick=2,\n",
    "                alpha=0.6, elinewidth=3, color='maroon')\n",
    "        \n",
    "        grid[i].errorbar(percent_initially_labelled*100, mean_wt_auc_baseline_amherst, \n",
    "            yerr=se_wt_auc_baseline_amherst, fmt='--o', capthick=2,\n",
    "           alpha=0.6, elinewidth=3, color='gray')\n",
    "        \n",
    "        \n",
    "        grid[i].set_ylim(0.3,1.1)\n",
    "        grid[i].set_xlim(0,101)\n",
    "        grid[i].annotate('LINK', xy=(3, 0.99), \n",
    "                 color='black', alpha=1, size=12)\n",
    "        grid[i].annotate('2-hop MV', xy=(3, 0.96), \n",
    "                 color='maroon', alpha=1, size=12)\n",
    "        grid[i].annotate('1-hop MV', xy=(3, 0.93), \n",
    "                 color='red', alpha=1, size=12)\n",
    "        grid[i].annotate('ZGL', xy=(3, 0.9), \n",
    "                 color='orange', alpha=1, size=12)\n",
    "        grid[i].annotate('Baseline', xy=(3, 0.87), \n",
    "                 color='gray', alpha=1, size=12)\n",
    "        grid[i].set_ylim(0.49,1.01)\n",
    "        grid[i].set_xlim(0,100)\n",
    "        grid[i].spines['right'].set_visible(False)\n",
    "        grid[i].spines['top'].set_visible(False)\n",
    "        grid[i].tick_params(axis='both', which='major', labelsize=13)\n",
    "        grid[i].tick_params(axis='both', which='minor', labelsize=13)\n",
    "        grid[i].set_xlabel('Percent of Nodes Initially Labeled')\n",
    "        grid[i].set_ylabel('AUC')\n",
    "\n",
    "#plt.setp(ax1, xticks=[0,25, 50, 75, 100], xticklabels=['0', '25', '50', '75', '100'])\n",
    "grid[0].set_xticks([0,25, 50, 75, 100])\n",
    "grid[0].set_yticks([ 0.4, 0.5,0.6,0.7,0.8,0.9,1])\n",
    "\n",
    "\n",
    "grid[0].minorticks_on()\n",
    "grid[0].tick_params('both', length=4, width=1, which='major', left=1, bottom=1, top=0, right=0)\n",
    "#plt.show()\n",
    "pp = PdfPages(output_dir+'/noordin_2hop_vs_1hop.pdf')\n",
    "\n",
    "pp.savefig()\n",
    "pp.close()"
   ]
  },
  {
   "cell_type": "code",
   "execution_count": null,
   "metadata": {
    "collapsed": true
   },
   "outputs": [],
   "source": []
  },
  {
   "cell_type": "code",
   "execution_count": null,
   "metadata": {
    "collapsed": true
   },
   "outputs": [],
   "source": []
  },
  {
   "cell_type": "code",
   "execution_count": null,
   "metadata": {
    "collapsed": true
   },
   "outputs": [],
   "source": []
  },
  {
   "cell_type": "code",
   "execution_count": null,
   "metadata": {
    "collapsed": true
   },
   "outputs": [],
   "source": []
  },
  {
   "cell_type": "code",
   "execution_count": null,
   "metadata": {
    "collapsed": true
   },
   "outputs": [],
   "source": []
  },
  {
   "cell_type": "code",
   "execution_count": 476,
   "metadata": {
    "collapsed": false
   },
   "outputs": [
    {
     "data": {
      "image/png": "[encoded data removed]",
      "text/plain": [
       "<matplotlib.figure.Figure at 0x1186292d0>"
      ]
     },
     "metadata": {},
     "output_type": "display_data"
    }
   ],
   "source": [
    "%matplotlib inline\n",
    "from matplotlib.ticker import FixedLocator,LinearLocator,MultipleLocator, FormatStrFormatter\n",
    "\n",
    "fig = plt.figure()\n",
    "seaborn.set_style(style='white')\n",
    "from mpl_toolkits.axes_grid1 import Grid\n",
    "grid = Grid(fig, rect=111, nrows_ncols=(1,1),\n",
    "            axes_pad=0.1, label_mode='L')\n",
    "for i in range(4):\n",
    "    if i == 0:\n",
    "        grid[i].xaxis.set_major_locator(FixedLocator([0,25,50,75,100]))\n",
    "        grid[i].yaxis.set_major_locator(FixedLocator([0.4, 0.5,0.6,0.7,0.8,0.9,1]))\n",
    "        grid[i].errorbar(percent_initially_labelled*100, mean_wt_auc_amherst_lbfgs, \n",
    "            yerr=se_wt_auc_amherst, fmt='--o', capthick=2,\n",
    "            alpha=0.6, elinewidth=3, color='black')\n",
    "        #grid[i].errorbar(percent_initially_labelled*100, mean_wt_auc_zgl_amherst,\n",
    "        #    yerr=se_micro_auc_zgl_amherst, fmt='--o', capthick=2,\n",
    "        #    alpha=0.6, elinewidth=3, color='orange')\n",
    "        grid[i].errorbar(percent_initially_labelled*100, mean_wt_auc_mv_amherst,\n",
    "            yerr=se_micro_auc_mv_amherst, fmt='--o', capthick=2,\n",
    "            alpha=0.6, elinewidth=3, color='red')\n",
    "        grid[i].errorbar(percent_initially_labelled*100, mean_wt_auc_mv_amherst_ndn,\n",
    "            yerr=se_micro_auc_mv_amherst_ndn, fmt='--o', capthick=2,\n",
    "            alpha=0.6, elinewidth=3, color='pink')\n",
    "        grid[i].errorbar(percent_initially_labelled*100, mean_wt_auc_mv2_amherst2, \n",
    "            yerr=se_micro_auc_mv2_amherst2, fmt='--o', capthick=2,\n",
    "                alpha=0.6, elinewidth=3, color='maroon')\n",
    "        \n",
    "        grid[i].errorbar(percent_initially_labelled*100, mean_wt_auc_baseline_amherst, \n",
    "            yerr=se_wt_auc_baseline_amherst, fmt='--o', capthick=2,\n",
    "           alpha=0.6, elinewidth=3, color='gray')\n",
    "        \n",
    "        ## link with hyperparameter\n",
    "        grid[i].errorbar(percent_initially_labelled_C*100, mean_wt_auc_amherst_lbfgs_C, \n",
    "            yerr=se_wt_auc_amherst_C, fmt='--o', capthick=2,\n",
    "            alpha=0.6, elinewidth=3, color='green')\n",
    "        \n",
    "        grid[i].set_ylim(0.3,1.1)\n",
    "        grid[i].set_xlim(0,101)\n",
    "        grid[i].annotate('LINK', xy=(3, 0.99), \n",
    "                 color='black', alpha=1, size=12)\n",
    "        grid[i].annotate('2-hop MV', xy=(3, 0.96), \n",
    "                 color='maroon', alpha=1, size=12)\n",
    "        grid[i].annotate('1-hop MV', xy=(3, 0.93), \n",
    "                 color='red', alpha=1, size=12)\n",
    "        grid[i].annotate('LINK-C chosen-REVISIT SELECTION!', xy=(3, 0.90), \n",
    "                 color='green', alpha=1, size=12)\n",
    "        #grid[i].annotate('ZGL', xy=(3, 0.90), \n",
    "        #         color='orange', alpha=1, size=12)\n",
    "        grid[i].annotate('Baseline', xy=(3, 0.87), \n",
    "                 color='gray', alpha=1, size=12)\n",
    "        grid[i].annotate('1-hop MV - Noordin Training', xy=(3, 0.84), \n",
    "                 color='purple', alpha=1, size=12)\n",
    "        grid[i].set_ylim(0.49,1.01)\n",
    "        grid[i].set_xlim(0,100)\n",
    "        grid[i].spines['right'].set_visible(False)\n",
    "        grid[i].spines['top'].set_visible(False)\n",
    "        grid[i].tick_params(axis='both', which='major', labelsize=13)\n",
    "        grid[i].tick_params(axis='both', which='minor', labelsize=13)\n",
    "        grid[i].set_xlabel('Percent of Nodes Initially Labeled')\n",
    "        grid[i].set_ylabel('AUC')\n",
    "\n",
    "plt.setp(ax1, xticks=[0,25, 50, 75, 100], xticklabels=['0', '25', '50', '75', '100'])\n",
    "grid[0].set_xticks([0,25, 50, 75, 100])\n",
    "grid[0].set_yticks([ 0.4, 0.5,0.6,0.7,0.8,0.9,1])\n",
    "\n",
    "\n",
    "grid[0].minorticks_on()\n",
    "grid[0].tick_params('both', length=4, width=1, which='major', left=1, bottom=1, top=0, right=0)\n",
    "#plt.show()\n",
    "pp = PdfPages(dir_kma + '../figs/noordin_nw_REVISED_need to redo C selection.pdf')\n",
    "pp.savefig()\n",
    "pp.close()"
   ]
  },
  {
   "cell_type": "code",
   "execution_count": 484,
   "metadata": {
    "collapsed": false
   },
   "outputs": [
    {
     "data": {
      "image/png": "[encoded data removed]",
      "text/plain": [
       "<matplotlib.figure.Figure at 0x1186aa490>"
      ]
     },
     "metadata": {},
     "output_type": "display_data"
    }
   ],
   "source": [
    "%matplotlib inline\n",
    "from matplotlib.ticker import FixedLocator,LinearLocator,MultipleLocator, FormatStrFormatter\n",
    "\n",
    "fig = plt.figure()\n",
    "seaborn.set_style(style='white')\n",
    "from mpl_toolkits.axes_grid1 import Grid\n",
    "grid = Grid(fig, rect=111, nrows_ncols=(1,1),\n",
    "            axes_pad=0.1, label_mode='L')\n",
    "for i in range(4):\n",
    "    if i == 0:\n",
    "        grid[i].xaxis.set_major_locator(FixedLocator([0,25,50,75,100]))\n",
    "        grid[i].yaxis.set_major_locator(FixedLocator([0.4, 0.5,0.6,0.7,0.8,0.9,1]))\n",
    "\n",
    "        grid[i].errorbar(percent_initially_labelled*100, mean_wt_auc_mv_amherst,\n",
    "            yerr=se_micro_auc_mv_amherst, fmt='--o', capthick=2,\n",
    "            alpha=0.6, elinewidth=3, color='red')\n",
    "        grid[i].errorbar(percent_initially_labelled*100, mean_wt_auc_mv_amherst_ndn,\n",
    "            yerr=se_micro_auc_mv_amherst_ndn, fmt='--o', capthick=2,\n",
    "            alpha=0.6, elinewidth=3, color='purple')\n",
    "        \n",
    "        \n",
    "        grid[i].errorbar(percent_initially_labelled*100, mean_wt_auc_mv2_amherst2, \n",
    "            yerr=se_micro_auc_mv2_amherst2, fmt='--o', capthick=2,\n",
    "                alpha=0.6, elinewidth=3, color='maroon')\n",
    "        \n",
    "        grid[i].errorbar(percent_initially_labelled*100, mean_wt_auc_mv2_amherst2_ndn, \n",
    "            yerr=se_micro_auc_mv2_amherst2_ndn, fmt='--o', capthick=2,\n",
    "                alpha=0.6, elinewidth=3, color='pink')\n",
    "        \n",
    "        grid[i].errorbar(percent_initially_labelled*100, mean_wt_auc_baseline_amherst, \n",
    "            yerr=se_wt_auc_baseline_amherst, fmt='--o', capthick=2,\n",
    "           alpha=0.6, elinewidth=3, color='gray')\n",
    "        \n",
    "\n",
    "        \n",
    "        grid[i].set_ylim(0.3,1.1)\n",
    "        grid[i].set_xlim(0,101)\n",
    "        \n",
    "        grid[i].annotate('2-hop MV', xy=(3, 0.86), \n",
    "                 color='maroon', alpha=1, size=12)\n",
    "        grid[i].annotate('1-hop MV', xy=(3, 0.93), \n",
    "                 color='red', alpha=1, size=12)\n",
    "        grid[i].annotate('2-hop MV - Noordin Training', xy=(3, 0.89), \n",
    "                 color='pink', alpha=1, size=12)\n",
    "        grid[i].annotate('Baseline', xy=(3, 0.83), \n",
    "                 color='gray', alpha=1, size=12)\n",
    "        grid[i].annotate('1-hop MV - Noordin Training', xy=(3, 0.96), \n",
    "                 color='purple', alpha=1, size=12)\n",
    "        grid[i].set_ylim(0.49,1.01)\n",
    "        grid[i].set_xlim(0,100)\n",
    "        grid[i].spines['right'].set_visible(False)\n",
    "        grid[i].spines['top'].set_visible(False)\n",
    "        grid[i].tick_params(axis='both', which='major', labelsize=13)\n",
    "        grid[i].tick_params(axis='both', which='minor', labelsize=13)\n",
    "        grid[i].set_xlabel('Percent of Nodes Initially Labeled')\n",
    "        grid[i].set_ylabel('AUC')\n",
    "plt.setp(ax1, xticks=[0,25, 50, 75, 100], xticklabels=['0', '25', '50', '75', '100'])\n",
    "grid[0].set_xticks([0,25, 50, 75, 100])\n",
    "grid[0].set_yticks([ 0.4, 0.5,0.6,0.7,0.8,0.9,1])\n",
    "grid[0].minorticks_on()\n",
    "grid[0].tick_params('both', length=4, width=1, which='major', left=1, bottom=1, top=0, right=0)\n",
    "pp = PdfPages(dir_kma + '../figs/noordin_nw_MV with noordin forced in or not in training.pdf')\n",
    "pp.savefig()\n",
    "pp.close()"
   ]
  },
  {
   "cell_type": "code",
   "execution_count": null,
   "metadata": {
    "collapsed": true
   },
   "outputs": [],
   "source": []
  },
  {
   "cell_type": "code",
   "execution_count": null,
   "metadata": {
    "collapsed": true
   },
   "outputs": [],
   "source": []
  },
  {
   "cell_type": "code",
   "execution_count": null,
   "metadata": {
    "collapsed": true
   },
   "outputs": [],
   "source": []
  }
 ],
 "metadata": {
  "kernelspec": {
   "display_name": "Python 2",
   "language": "python",
   "name": "python2"
  },
  "language_info": {
   "codemirror_mode": {
    "name": "ipython",
    "version": 2
   },
   "file_extension": ".py",
   "mimetype": "text/x-python",
   "name": "python",
   "nbconvert_exporter": "python",
   "pygments_lexer": "ipython2",
   "version": "2.7.12"
  }
 },
 "nbformat": 4,
 "nbformat_minor": 2
}
