{
 "cells": [
  {
   "cell_type": "markdown",
   "metadata": {},
   "source": [
    "#### 1/27/2018\n",
    "\n",
    "# FB Amherst and Add Health \\#23 analysis\n",
    "\n",
    "## Summary\n",
    "\n",
    "This notebook contains the Amherst-specific figures, the Add Health School figures for School \\#23, and LINK figures for other schools. Code organization assumes working directory is notebook folder location."
   ]
  },
  {
   "cell_type": "markdown",
   "metadata": {},
   "source": [
    "## load libraries"
   ]
  },
  {
   "cell_type": "code",
   "execution_count": 1,
   "metadata": {
    "collapsed": false
   },
   "outputs": [
    {
     "name": "stderr",
     "output_type": "stream",
     "text": [
      "/usr/local/lib/python2.7/site-packages/matplotlib/__init__.py:872: UserWarning: axes.color_cycle is deprecated and replaced with axes.prop_cycle; please use the latter.\n",
      "  warnings.warn(self.msg_depr % (key, alt_key))\n",
      "/Users/kristen/anaconda/lib/python2.7/site-packages/statsmodels/compat/pandas.py:56: FutureWarning: The pandas.core.datetools module is deprecated and will be removed in a future version. Please use the pandas.tseries module instead.\n",
      "  from pandas.core import datetools\n",
      "/Users/kristen/anaconda/lib/python2.7/site-packages/sklearn/cross_validation.py:44: DeprecationWarning: This module was deprecated in version 0.18 in favor of the model_selection module into which all the refactored classes and functions are moved. Also note that the interface of the new CV iterators are different from that of this module. This module will be removed in 0.20.\n",
      "  \"This module will be removed in 0.20.\", DeprecationWarning)\n"
     ]
    }
   ],
   "source": [
    "## implemented LINK with solver='lbfgs'\n",
    "from __future__ import division\n",
    "from matplotlib.backends.backend_pdf import PdfPages\n",
    "import os\n",
    "\n",
    "\n",
    "## relevant libraries\n",
    "execfile('../functions/python_libraries.py')\n",
    "\n",
    "## file path\n",
    "execfile('../functions/define_paths.py')\n",
    "\n",
    "\n",
    "## processing datasets\n",
    "execfile('../functions/create_adjacency_matrix.py') \n",
    "execfile('../functions/create_directed_adjacency_matrix.py')\n",
    "\n",
    "execfile('../functions/SI_functions/LINK_finalized_coeff.py')\n",
    "\n",
    "\n",
    "execfile('../functions/parsing.py')\n",
    "execfile('../functions/mixing.py')\n",
    "\n",
    "execfile('../functions/compute_homophily.py')\n",
    "execfile('../functions/compute_monophily.py')\n",
    "execfile('../functions/compute_homophily_p_value.py')\n",
    "execfile('../functions/SI_functions/majority_vote_modified_SI.py')\n",
    "\n",
    "## code for gender prediction \n",
    "execfile('../functions/LINK.py')\n",
    "execfile('../functions/majority_vote.py')\n",
    "execfile('../functions/ZGL.py')\n",
    "execfile('../functions/benchmark_classifier.py')\n",
    "\n",
    "## gender preference distribution\n",
    "execfile('../functions/compute_null_distribution.py')"
   ]
  },
  {
   "cell_type": "markdown",
   "metadata": {},
   "source": [
    "## Amherst College Network from FB100"
   ]
  },
  {
   "cell_type": "code",
   "execution_count": 2,
   "metadata": {
    "collapsed": false
   },
   "outputs": [
    {
     "name": "stdout",
     "output_type": "stream",
     "text": [
      "Amherst41\n"
     ]
    }
   ],
   "source": [
    "## load Amherst only\n",
    "\n",
    "for f in listdir(fb100_file):\n",
    "    if f.endswith('.mat'):\n",
    "        tag = f.replace('.mat', '')\n",
    "        if (tag == 'Amherst41'):\n",
    "            print tag\n",
    "            input_file = path_join(fb100_file, f)\n",
    "            A, metadata = parse_fb100_mat_file(input_file)\n",
    "\n",
    "            adj_matrix_tmp = A.todense()\n",
    "            gender_y_tmp = metadata[:,1] #gender\n",
    "                \n",
    "            gender_dict = create_dict(range(len(gender_y_tmp)), gender_y_tmp)\n",
    "                \n",
    "            (gender_y, adj_matrix_gender) = create_adj_membership(\n",
    "                                    nx.from_numpy_matrix(adj_matrix_tmp), # graph\n",
    "                                                           gender_dict,   # dictionary\n",
    "                                                           0,             # val_to_drop, gender = 0 is missing\n",
    "                                                           'yes',         # delete_na_cols, ie completely remove NA nodes from graph\n",
    "                                                           0,             # diagonal\n",
    "                                                           None,          # directed_type\n",
    "                                                           'gender')      # gender\n",
    "            \n",
    "            gender_y = np.array(map(np.int,gender_y)) ## need np.int for machine precisions reasons"
   ]
  },
  {
   "cell_type": "code",
   "execution_count": 3,
   "metadata": {
    "collapsed": true
   },
   "outputs": [],
   "source": [
    "F_fb_label = 1\n",
    "M_fb_label = 2"
   ]
  },
  {
   "cell_type": "markdown",
   "metadata": {},
   "source": [
    "# illustrate overdispersion in Amherst"
   ]
  },
  {
   "cell_type": "code",
   "execution_count": 4,
   "metadata": {
    "collapsed": true
   },
   "outputs": [],
   "source": [
    "#F\n",
    "in_F_degree = adj_matrix_gender[gender_y==F_fb_label,] * np.matrix((gender_y==F_fb_label)+0).T\n",
    "total_F_degree = np.sum(adj_matrix_gender[gender_y==F_fb_label,] ,1)\n",
    "h_F = np.mean(in_F_degree)/np.mean(total_F_degree)\n",
    "\n",
    "#M\n",
    "in_M_degree = adj_matrix_gender[gender_y==M_fb_label,] * np.matrix((gender_y==M_fb_label)+0).T\n",
    "total_M_degree = np.sum(adj_matrix_gender[gender_y==M_fb_label,] ,1)\n",
    "h_M = np.mean(in_M_degree)/np.mean(total_M_degree)\n"
   ]
  },
  {
   "cell_type": "markdown",
   "metadata": {},
   "source": [
    "# Evidence of overdispersion in gender preferences on the Amherst College network."
   ]
  },
  {
   "cell_type": "markdown",
   "metadata": {
    "collapsed": true
   },
   "source": [
    "### [confirmed 100K is enough iterations]"
   ]
  },
  {
   "cell_type": "code",
   "execution_count": 5,
   "metadata": {
    "collapsed": true
   },
   "outputs": [],
   "source": [
    "n_iter = 100000\n",
    "d_iF = map(np.int,np.array(total_F_degree.T)[0])\n",
    "\n",
    "mc_F = []\n",
    "for j in range(n_iter):\n",
    "    mc_F.append( np.random.binomial(n=map(np.int,np.array(total_F_degree.T)[0]), p=h_F)/d_iF)\n",
    "    \n",
    "mc_F_final = np.array(mc_F).flatten()\n",
    "\n",
    "\n",
    "d_iM = map(np.int,np.array(total_M_degree.T)[0])\n",
    "mc_M = []\n",
    "for j in range(n_iter):\n",
    "    mc_M.append( np.random.binomial(n=map(np.int,np.array(total_M_degree.T)[0]), p=h_M)/d_iM)\n",
    "    \n",
    "mc_M_final = np.array(mc_M).flatten()"
   ]
  },
  {
   "cell_type": "code",
   "execution_count": 6,
   "metadata": {
    "collapsed": false
   },
   "outputs": [
    {
     "data": {
      "image/png": "[encoded data removed]",
      "text/plain": [
       "<matplotlib.figure.Figure at 0x11ca28d10>"
      ]
     },
     "metadata": {},
     "output_type": "display_data"
    }
   ],
   "source": [
    "alpha_empirical = 0.4\n",
    "\n",
    "%matplotlib inline\n",
    "nbins = 45\n",
    "f, (ax1, ax2) = plt.subplots(1, 2, \n",
    "                             sharey=False, sharex=False,\n",
    "                            figsize=(8, 3))\n",
    "plt.setp(ax1, xticks=[0,0.25, 0.5, 0.75, 1], xticklabels=['0', '0.25', '0.50', '0.75', '1'])\n",
    "ax1.set_xticks([0,0.25, 0.5, 0.75, 1])\n",
    "ax1.minorticks_on()\n",
    "ax1.tick_params('both', length=4, width=1, which='major', left=1, bottom=1, top=0, right=0)\n",
    "\n",
    "\n",
    "ax1.hist(in_F_degree/total_F_degree,\n",
    "         bins = np.linspace(0,1,nbins),\n",
    "         normed = True,\n",
    "         edgecolor = 'white',\n",
    "        color='red',alpha=0.25)\n",
    "\n",
    "ax1.hist(mc_F_final,\n",
    "         bins = np.linspace(0,1,nbins),\n",
    "         normed = True,\n",
    "         edgecolor = 'red',histtype='step',\n",
    "        color='white',alpha=1,lw=1.5)\n",
    "\n",
    "ax1.set_ylabel('Normalized Frequency')\n",
    "ax1.set_xlabel('Proportion of $in$-class neighbors, $d_{i,\\\\mathrm{in}}/d_i$')\n",
    "ax1.spines[\"right\"].set_visible(False)\n",
    "ax1.spines[\"top\"].set_visible(False)\n",
    "ax1.set_ylim(0,8)\n",
    "ax1.set_xlim(0,1.01)\n",
    "\n",
    "ax2.set_ylim(0,8)\n",
    "ax2.set_xlim(0,1.01)\n",
    "plt.setp(ax2, xticks=[0,0.25, 0.5, 0.75, 1], xticklabels=['0', '0.25', '0.50', '0.75', '1'])\n",
    "ax2.set_xticks([0,0.25, 0.5, 0.75, 1])\n",
    "ax2.minorticks_on()\n",
    "ax2.tick_params('both', length=4, width=1, which='major', left=1, bottom=1, top=0, right=0)\n",
    "\n",
    "\n",
    "ax2.hist(in_M_degree/total_M_degree,\n",
    "         bins = np.linspace(0,1,nbins),\n",
    "         normed = True,\n",
    "         edgecolor = 'white',\n",
    "        color='black',alpha=0.25)\n",
    "ax2.hist(mc_M_final,\n",
    "         bins = np.linspace(0,1,nbins),\n",
    "         normed = True,\n",
    "         edgecolor = 'black',histtype='step',\n",
    "        color='white',alpha=1,lw=1.5)\n",
    "ax2.spines[\"right\"].set_visible(False)\n",
    "ax2.spines[\"top\"].set_visible(False)\n",
    "ax2.set_xlabel('Proportion of $in$-class Neighbors, $d_{i,\\\\mathrm{in}}/d_i$')\n",
    "ax2.set_ylabel('Normalized Frequency')\n",
    "\n",
    "ax1.annotate('Females Null', xy=(0.05,7.5), \n",
    "                 color='red', alpha=1, size=12)\n",
    "ax1.annotate('Females Empirical', xy=(0.05,7), \n",
    "                 color='red', alpha=alpha_empirical, size=12)\n",
    "ax2.annotate('Males Null', xy=(0.05,7.5), \n",
    "                 color='black', alpha=1, size=12)\n",
    "ax2.annotate('Males Empirical', xy=(0.05,7), \n",
    "                 color='black', alpha=alpha_empirical, size=12)\n",
    "plt.tight_layout()\n",
    "#plt.title('test')\n",
    "pp = PdfPages('../../figures/Facebook_Amherst_overdispersion_100k.pdf')\n",
    "pp.savefig()\n",
    "pp.close()"
   ]
  },
  {
   "cell_type": "code",
   "execution_count": 7,
   "metadata": {
    "collapsed": false
   },
   "outputs": [
    {
     "data": {
      "image/png": "[encoded data removed]",
      "text/plain": [
       "<matplotlib.figure.Figure at 0x11d4a1ed0>"
      ]
     },
     "metadata": {},
     "output_type": "display_data"
    }
   ],
   "source": [
    "alpha_empirical = 0.4\n",
    "%matplotlib inline\n",
    "nbins = 45\n",
    "text_size = 8\n",
    "axis_text = 6\n",
    "\n",
    "f, (ax1, ax2) = plt.subplots(1, 2, \n",
    "                             sharey=True, sharex=False,\n",
    "                            figsize=(3.46457,1.3),\n",
    "                            squeeze = True)\n",
    "plt.setp(ax1, xticks=[0,0.25, 0.5, 0.75, 1], xticklabels=['0', '0.25', '0.50', '0.75', '1'])\n",
    "ax1.set_xticks([0,0.25, 0.5, 0.75, 1])\n",
    "\n",
    "\n",
    "\n",
    "ax1.minorticks_on()\n",
    "ax1.tick_params('both', length=2, width=0.5, which='major', \n",
    "                left=1, bottom=1, top=0, right=0,  labelsize = axis_text,\n",
    "               pad = 3.5)\n",
    "\n",
    "\n",
    "ax1.hist(in_F_degree/total_F_degree,\n",
    "         bins = np.linspace(0,1,nbins),\n",
    "         normed = True,\n",
    "         edgecolor = 'white',\n",
    "        color='red',alpha=0.25)\n",
    "\n",
    "ax1.hist(mc_F_final,\n",
    "         bins = np.linspace(0,1,nbins),\n",
    "         normed = True,\n",
    "         edgecolor = 'red',histtype='step',\n",
    "        color='white',alpha=1,lw=0.8)\n",
    "\n",
    "ax1.set_ylabel('Normalized Frequency',\n",
    "              size=axis_text)\n",
    "#ax1.set_xlabel('Proportion of $in$-class neighbors, $d_{i,\\\\mathrm{in}}/d_i$',\n",
    "#               size=text_size)\n",
    "ax1.spines[\"right\"].set_visible(False)\n",
    "ax1.spines[\"top\"].set_visible(False)\n",
    "ax1.set_ylim(0,8)\n",
    "ax1.set_xlim(0,1.01)\n",
    "ax1.spines[\"left\"].set_linewidth(0.75)\n",
    "ax1.spines[\"bottom\"].set_linewidth(0.75)\n",
    "\n",
    "\n",
    "ax2.set_ylim(0,8)\n",
    "ax2.set_xlim(0,1.01)\n",
    "plt.setp(ax2, xticks=[0,0.25, 0.5, 0.75, 1], xticklabels=['0', '0.25', '0.50', '0.75', '1'])\n",
    "ax2.set_xticks([0,0.25, 0.5, 0.75, 1])\n",
    "ax2.minorticks_on()\n",
    "ax2.tick_params('both', length=2, width=0.5, which='major', left=1, bottom=1, top=0, right=0,\n",
    "               labelsize = axis_text,\n",
    "                pad = 3.5)\n",
    "\n",
    "\n",
    "ax2.hist(in_M_degree/total_M_degree,\n",
    "         bins = np.linspace(0,1,nbins),\n",
    "         normed = True,\n",
    "         edgecolor = 'white',\n",
    "        color='black',alpha=0.25)\n",
    "ax2.hist(mc_M_final,\n",
    "         bins = np.linspace(0,1,nbins),\n",
    "         normed = True,\n",
    "         edgecolor = 'black',histtype='step',\n",
    "        color='white',alpha=1,lw=0.8)\n",
    "ax2.spines[\"right\"].set_visible(False)\n",
    "ax2.spines[\"top\"].set_visible(False)\n",
    "ax2.spines[\"left\"].set_linewidth(0.75)\n",
    "ax2.spines[\"bottom\"].set_linewidth(0.75)\n",
    "\n",
    "ax1.annotate('Females Null', xy=(0.02,7.5), \n",
    "                 color='red', alpha=1, size=6)\n",
    "ax1.annotate('Females Empirical', xy=(0.02,6.8), \n",
    "                 color='red', alpha=alpha_empirical, size=6)\n",
    "ax2.annotate('Males Null', xy=(0.02,7.5), \n",
    "                 color='black', alpha=1, size=6)\n",
    "ax2.annotate('Males Empirical', xy=(0.02,6.8), \n",
    "                 color='black', alpha=alpha_empirical, size=6)\n",
    "\n",
    "plt.text(-0.65, -2.00, 'Proportion of $in$-class Neighbors, $d_{i,\\\\mathrm{in}}/d_i$', \n",
    "         fontsize=axis_text)\n",
    "\n",
    "plt.tight_layout()\n",
    "pp = PdfPages('../../figures/Facebook_Amherst_overdispersion_100k_SINGLE_COLUMN.pdf')\n",
    "pp.savefig(dpi = 300)\n",
    "pp.close()"
   ]
  },
  {
   "cell_type": "code",
   "execution_count": 66,
   "metadata": {
    "collapsed": false
   },
   "outputs": [
    {
     "data": {
      "image/png": "[encoded data removed]",
      "text/plain": [
       "<matplotlib.figure.Figure at 0x11ddf9d50>"
      ]
     },
     "metadata": {},
     "output_type": "display_data"
    }
   ],
   "source": [
    "alpha_empirical = 0.4\n",
    "%matplotlib inline\n",
    "nbins = 45\n",
    "text_size = 8\n",
    "axis_text = 8\n",
    "\n",
    "f, (ax1, ax2) = plt.subplots(2, 1, \n",
    "                             sharey=True, sharex=False,\n",
    "                            figsize=(3.46457,4.2),\n",
    "                            squeeze = True)\n",
    "plt.setp(ax1, xticks=[0,0.25, 0.5, 0.75, 1], xticklabels=['0', '0.25', '0.50', '0.75', '1'])\n",
    "ax1.set_xticks([0,0.25, 0.5, 0.75, 1])\n",
    "\n",
    "\n",
    "\n",
    "#ax1.minorticks_on()\n",
    "ax1.tick_params('both', length=2, width=0.5, which='major', \n",
    "                left=1, bottom=1, top=0, right=0,  labelsize = axis_text,\n",
    "               pad = 3.5)\n",
    "\n",
    "\n",
    "ax1.hist(in_F_degree/total_F_degree,\n",
    "         bins = np.linspace(0,1,nbins),\n",
    "         normed = True,\n",
    "         edgecolor = 'white',\n",
    "        color='red',alpha=0.25)\n",
    "\n",
    "ax1.hist(mc_F_final,\n",
    "         bins = np.linspace(0,1,nbins),\n",
    "         normed = True,\n",
    "         edgecolor = 'red',histtype='step',\n",
    "        color='white',alpha=1,lw=1.25)\n",
    "\n",
    "#ax1.set_ylabel('Normalized Frequency',\n",
    "#              size=axis_text)\n",
    "#ax1.set_xlabel('Proportion of $in$-class neighbors, $d_{i,\\\\mathrm{in}}/d_i$',\n",
    "#               size=text_size)\n",
    "ax1.spines[\"right\"].set_visible(False)\n",
    "ax1.spines[\"top\"].set_visible(False)\n",
    "ax1.set_ylim(0,8)\n",
    "ax1.set_xlim(0,1.01)\n",
    "ax1.spines[\"left\"].set_linewidth(0.75)\n",
    "ax1.spines[\"bottom\"].set_linewidth(0.75)\n",
    "\n",
    "\n",
    "ax2.set_ylim(0,8)\n",
    "ax2.set_xlim(0,1.01)\n",
    "plt.setp(ax2, xticks=[0,0.25, 0.5, 0.75, 1], xticklabels=['0', '0.25', '0.50', '0.75', '1'])\n",
    "ax2.set_xticks([0,0.25, 0.5, 0.75, 1])\n",
    "#ax2.minorticks_on()\n",
    "ax2.tick_params('both', length=2, width=0.5, which='major', left=1, bottom=1, top=0, right=0,\n",
    "               labelsize = axis_text,\n",
    "                pad = 3.5)\n",
    "\n",
    "\n",
    "ax2.hist(in_M_degree/total_M_degree,\n",
    "         bins = np.linspace(0,1,nbins),\n",
    "         normed = True,\n",
    "         edgecolor = 'white',\n",
    "        color='black',alpha=0.25)\n",
    "ax2.hist(mc_M_final,\n",
    "         bins = np.linspace(0,1,nbins),\n",
    "         normed = True,\n",
    "         edgecolor = 'black',histtype='step',\n",
    "        color='white',alpha=1,lw=1.25)\n",
    "ax2.spines[\"right\"].set_visible(False)\n",
    "ax2.spines[\"top\"].set_visible(False)\n",
    "ax2.spines[\"left\"].set_linewidth(0.75)\n",
    "ax2.spines[\"bottom\"].set_linewidth(0.75)\n",
    "#ax2.get_lines()[1].set_visible(False)\n",
    "\n",
    "ax1.annotate('Females Null', xy=(0.02,7.5), \n",
    "                 color='red', alpha=1, size=text_size)\n",
    "ax1.annotate('Females Empirical', xy=(0.02,6.9), \n",
    "                 color='red', alpha=alpha_empirical, size=text_size)\n",
    "ax2.annotate('Males Null', xy=(0.02,7.5), \n",
    "                 color='black', alpha=1, size=text_size)\n",
    "ax2.annotate('Males Empirical', xy=(0.02,6.9), \n",
    "                 color='black', alpha=alpha_empirical, size=text_size)\n",
    "plt.text(0.17, -1.34, 'Proportion of $in$-class Neighbors, $d_{i,\\\\mathrm{in}}/d_i$', \n",
    "         fontsize=axis_text)\n",
    "plt.text(-0.08, 11.5, 'Normalized Frequency', \n",
    "         fontsize=axis_text,\n",
    "        rotation = 'vertical')\n",
    "plt.tight_layout()\n",
    "pp = PdfPages('../../figures/Facebook_Amherst_overdispersion_100k_SINGLE_COLUMN_2x1.pdf')\n",
    "pp.savefig(dpi = 300)\n",
    "pp.close()"
   ]
  },
  {
   "cell_type": "code",
   "execution_count": null,
   "metadata": {
    "collapsed": true
   },
   "outputs": [],
   "source": []
  },
  {
   "cell_type": "code",
   "execution_count": null,
   "metadata": {
    "collapsed": true
   },
   "outputs": [],
   "source": []
  },
  {
   "cell_type": "code",
   "execution_count": null,
   "metadata": {
    "collapsed": true
   },
   "outputs": [],
   "source": []
  },
  {
   "cell_type": "code",
   "execution_count": 8,
   "metadata": {
    "collapsed": false
   },
   "outputs": [
    {
     "data": {
      "image/png": "[encoded data removed]",
      "text/plain": [
       "<matplotlib.figure.Figure at 0x11d559490>"
      ]
     },
     "metadata": {},
     "output_type": "display_data"
    }
   ],
   "source": [
    "alpha_empirical = 0.4\n",
    "%matplotlib inline\n",
    "nbins = 45\n",
    "text_size = 8\n",
    "axis_text = 8\n",
    "tick_label_size = 9.5\n",
    "\n",
    "#fig = plt.figure(figsize=(3.46457,2.6), dpi = 300)\n",
    "\n",
    "f, (ax1, ax2) = plt.subplots(1, 2, \n",
    "                             sharey=True, sharex=False,\n",
    "                            figsize=(6.69291,2.1),\n",
    "                            squeeze = True)\n",
    "plt.setp(ax1, xticks=[0,0.25, 0.5, 0.75, 1], xticklabels=['0', '0.25', '0.50', '0.75', '1'])\n",
    "ax1.set_xticks([0,0.25, 0.5, 0.75, 1])\n",
    "\n",
    "ax1.minorticks_on()\n",
    "ax1.tick_params('both', length=2, width=0.5, which='major', \n",
    "                left=1, bottom=1, top=0, right=0,  labelsize = axis_text)\n",
    "\n",
    "\n",
    "ax1.hist(in_F_degree/total_F_degree,\n",
    "         bins = np.linspace(0,1,nbins),\n",
    "         normed = True,\n",
    "         edgecolor = 'white',\n",
    "        color='red',alpha=0.25)\n",
    "\n",
    "ax1.hist(mc_F_final,\n",
    "         bins = np.linspace(0,1,nbins),\n",
    "         normed = True,\n",
    "         edgecolor = 'red',histtype='step',\n",
    "        color='white',alpha=1,lw=1.5)\n",
    "\n",
    "ax1.set_ylabel('Normalized Frequency',\n",
    "              size=axis_text)\n",
    "#ax1.set_xlabel('Proportion of $in$-class neighbors, $d_{i,\\\\mathrm{in}}/d_i$',\n",
    "#               size=text_size)\n",
    "ax1.spines[\"right\"].set_visible(False)\n",
    "ax1.spines[\"top\"].set_visible(False)\n",
    "ax1.set_ylim(0,8)\n",
    "ax1.set_xlim(0,1.01)\n",
    "\n",
    "ax2.set_ylim(0,8)\n",
    "ax2.set_xlim(0,1.01)\n",
    "plt.setp(ax2, xticks=[0,0.25, 0.5, 0.75, 1], xticklabels=['0', '0.25', '0.50', '0.75', '1'])\n",
    "ax2.set_xticks([0,0.25, 0.5, 0.75, 1])\n",
    "ax2.minorticks_on()\n",
    "ax2.tick_params('both', length=2, width=0.5, which='major', left=1, bottom=1, top=0, right=0,\n",
    "               labelsize = axis_text)\n",
    "\n",
    "\n",
    "ax2.hist(in_M_degree/total_M_degree,\n",
    "         bins = np.linspace(0,1,nbins),\n",
    "         normed = True,\n",
    "         edgecolor = 'white',\n",
    "        color='black',alpha=0.25)\n",
    "ax2.hist(mc_M_final,\n",
    "         bins = np.linspace(0,1,nbins),\n",
    "         normed = True,\n",
    "         edgecolor = 'black',histtype='step',\n",
    "        color='white',alpha=1,lw=1.5)\n",
    "ax2.spines[\"right\"].set_visible(False)\n",
    "ax2.spines[\"top\"].set_visible(False)\n",
    "ax1.annotate('Females Null', xy=(0.02,7.5), \n",
    "                 color='red', alpha=1, size=text_size)\n",
    "ax1.annotate('Females Empirical', xy=(0.02,6.8), \n",
    "                 color='red', alpha=alpha_empirical, size=text_size)\n",
    "ax2.annotate('Males Null', xy=(0.02,7.5), \n",
    "                 color='black', alpha=1, size=text_size)\n",
    "ax2.annotate('Males Empirical', xy=(0.02,6.8), \n",
    "                 color='black', alpha=alpha_empirical, size=text_size)\n",
    "\n",
    "plt.text(-0.38, -1.78, 'Proportion of $in$-class Neighbors, $d_{i,\\\\mathrm{in}}/d_i$', \n",
    "         fontsize=axis_text)\n",
    "\n",
    "plt.tight_layout()\n",
    "pp = PdfPages('../../figures/Facebook_Amherst_overdispersion_100k_DOUBLE_COLUMN.pdf')\n",
    "pp.savefig(dpi = 300)\n",
    "pp.close()"
   ]
  },
  {
   "cell_type": "code",
   "execution_count": 9,
   "metadata": {
    "collapsed": false
   },
   "outputs": [
    {
     "name": "stdout",
     "output_type": "stream",
     "text": [
      "1015\n",
      "1017\n",
      "(2032, 2032)\n"
     ]
    }
   ],
   "source": [
    "## Amherst stats\n",
    "print np.sum((gender_y==F_fb_label)+0)\n",
    "print np.sum((gender_y==M_fb_label)+0)\n",
    "print np.shape(adj_matrix_gender)"
   ]
  },
  {
   "cell_type": "code",
   "execution_count": 10,
   "metadata": {
    "collapsed": false
   },
   "outputs": [
    {
     "name": "stdout",
     "output_type": "stream",
     "text": [
      "[0.54765080958033996, 0.5121110920442995]\n"
     ]
    }
   ],
   "source": [
    "print homophily_index_Jackson_alternative(adj_matrix_gender,\n",
    "                                   gender_y)\n"
   ]
  },
  {
   "cell_type": "code",
   "execution_count": 11,
   "metadata": {
    "collapsed": false
   },
   "outputs": [
    {
     "name": "stdout",
     "output_type": "stream",
     "text": [
      "[[  6.43695879e-163]\n",
      " [  2.62405503e-011]]\n"
     ]
    }
   ],
   "source": [
    "print homophily_intercept_p_value(adj_matrix_gender,\n",
    "                         gender_y)"
   ]
  },
  {
   "cell_type": "code",
   "execution_count": 12,
   "metadata": {
    "collapsed": false
   },
   "outputs": [
    {
     "name": "stdout",
     "output_type": "stream",
     "text": [
      "[0.03776731811765727, 0.040642558345226544]\n"
     ]
    }
   ],
   "source": [
    "print monophily_index_overdispersion_Williams(adj_matrix_gender,\n",
    "                                   gender_y)\n"
   ]
  },
  {
   "cell_type": "markdown",
   "metadata": {},
   "source": [
    "# Comparison of 1-hop versus 2-hop classifiers on Amherst College."
   ]
  },
  {
   "cell_type": "code",
   "execution_count": 13,
   "metadata": {
    "collapsed": true
   },
   "outputs": [],
   "source": [
    "n_iter = 100"
   ]
  },
  {
   "cell_type": "markdown",
   "metadata": {},
   "source": [
    "### LINK Logistic Regression"
   ]
  },
  {
   "cell_type": "code",
   "execution_count": 14,
   "metadata": {
    "collapsed": true
   },
   "outputs": [],
   "source": [
    "percent_initially_unlabelled = [0.99,0.95,0.9,0.8,0.7,0.6,0.5,0.4,0.3,0.2,0.1,0.05,0.01]\n",
    "percent_initially_labelled = np.subtract(1, percent_initially_unlabelled)"
   ]
  },
  {
   "cell_type": "code",
   "execution_count": 15,
   "metadata": {
    "collapsed": false
   },
   "outputs": [
    {
     "name": "stdout",
     "output_type": "stream",
     "text": [
      "0.99\n",
      "0.95\n",
      "0.9\n",
      "0.8\n",
      "0.7\n",
      "0.6\n",
      "0.5\n",
      "0.4\n",
      "0.3\n",
      "0.2\n",
      "0.1\n",
      "0.05\n",
      "0.01\n"
     ]
    }
   ],
   "source": [
    "(mean_accuracy_amherst, se_accuracy_amherst, \n",
    " mean_micro_auc_amherst,se_micro_auc_amherst, mean_wt_auc_amherst_lbfgs,se_wt_auc_amherst)= LINK(percent_initially_unlabelled, ## note: mean_se_model assumes a vector of x% initially labeled\n",
    "                                                              np.array(gender_y), ## gender labels \n",
    "                                                              np.matrix(adj_matrix_gender), ## adjacency matrix\n",
    "                                                              clf = linear_model.LogisticRegression(penalty='l2',\n",
    "                                                                                                    solver='lbfgs',\n",
    "                                                                                                    C=10e20),num_iter=n_iter) "
   ]
  },
  {
   "cell_type": "markdown",
   "metadata": {},
   "source": [
    "## 1-hop MV"
   ]
  },
  {
   "cell_type": "code",
   "execution_count": 16,
   "metadata": {
    "collapsed": false
   },
   "outputs": [
    {
     "name": "stdout",
     "output_type": "stream",
     "text": [
      "0.99\n",
      "0.95\n",
      "0.9\n",
      "0.8\n",
      "0.7\n",
      "0.6\n",
      "0.5\n",
      "0.4\n",
      "0.3\n",
      "0.2\n",
      "0.1\n",
      "0.05\n",
      "0.01\n"
     ]
    },
    {
     "name": "stderr",
     "output_type": "stream",
     "text": [
      "/Users/kristen/anaconda/lib/python2.7/site-packages/ipykernel/__main__.py:41: RuntimeWarning: invalid value encountered in true_divide\n"
     ]
    }
   ],
   "source": [
    "(mean_accuracy_mv_amherst, se_accuracy_mv_amherst, \n",
    " mean_micro_auc_mv_amherst,se_micro_auc_mv_amherst, \n",
    " mean_wt_auc_mv_amherst,se_wt_auc_mv_amherst) =majority_vote_modified(percent_initially_unlabelled,  \n",
    "                                                                np.array(gender_y), \n",
    "                                                                np.array(adj_matrix_gender), \n",
    "                                                                       num_iter=n_iter)"
   ]
  },
  {
   "cell_type": "markdown",
   "metadata": {},
   "source": [
    "### Note on warning message for 'true_divide': \n",
    "This warning message occurs in the sparsely labeled setting where a test node may have 0-labeled neighbors in which case there's a divide-by 0 issue with how the code is set-up in these cases. For these observations with 0-labeled neighbors, note that as explained in the SI, we assign a score based on the relative proportions in the training sample.\n",
    " "
   ]
  },
  {
   "cell_type": "code",
   "execution_count": 17,
   "metadata": {
    "collapsed": false
   },
   "outputs": [
    {
     "name": "stdout",
     "output_type": "stream",
     "text": [
      "0.99\n",
      "0.95\n",
      "0.9\n",
      "0.8\n",
      "0.7\n",
      "0.6\n",
      "0.5\n",
      "0.4\n",
      "0.3\n",
      "0.2\n",
      "0.1\n",
      "0.05\n",
      "0.01\n"
     ]
    },
    {
     "name": "stderr",
     "output_type": "stream",
     "text": [
      "/Users/kristen/anaconda/lib/python2.7/site-packages/ipykernel/__main__.py:41: RuntimeWarning: invalid value encountered in true_divide\n"
     ]
    }
   ],
   "source": [
    "## SI figures\n",
    "(mean_accuracy_mv_amherst_SI, se_accuracy_mv_amherst_SI, \n",
    " mean_micro_auc_mv_amherst_SI, se_micro_auc_mv_amherst_SI, \n",
    " mean_wt_auc_mv_amherst_SI, se_wt_auc_mv_amherst_SI,\n",
    " mean_accuracy_mv_amherstF_SI, se_accuracy_mv_amherstF_SI,\n",
    " mean_accuracy_mv_amherstM_SI, se_accuracy_mv_amherstM_SI) = majority_vote_modified_SI(percent_initially_unlabelled,  \n",
    "                                                                np.array(gender_y), \n",
    "                                                                np.array(adj_matrix_gender), \n",
    "                                                                       num_iter=n_iter)\n",
    "\n",
    "\n"
   ]
  },
  {
   "cell_type": "markdown",
   "metadata": {},
   "source": [
    "## 2-hop MV"
   ]
  },
  {
   "cell_type": "code",
   "execution_count": 18,
   "metadata": {
    "collapsed": true
   },
   "outputs": [],
   "source": [
    "adj_amherst2= np.matrix(adj_matrix_gender)**2\n",
    "adj_amherst2[range(adj_amherst2.shape[0]),range(adj_amherst2.shape[0])]=0 ## remove self-loops"
   ]
  },
  {
   "cell_type": "code",
   "execution_count": 19,
   "metadata": {
    "collapsed": false
   },
   "outputs": [
    {
     "name": "stdout",
     "output_type": "stream",
     "text": [
      "0.99\n",
      "0.95\n",
      "0.9\n",
      "0.8\n",
      "0.7\n",
      "0.6\n",
      "0.5\n",
      "0.4\n",
      "0.3\n",
      "0.2\n",
      "0.1\n",
      "0.05\n",
      "0.01\n"
     ]
    },
    {
     "name": "stderr",
     "output_type": "stream",
     "text": [
      "/Users/kristen/anaconda/lib/python2.7/site-packages/ipykernel/__main__.py:41: RuntimeWarning: invalid value encountered in true_divide\n"
     ]
    }
   ],
   "source": [
    "(mean_accuracy_mv2_amherst2, se_accuracy_mv2_amherst2, \n",
    " mean_micro_auc_mv2_amherst2,se_micro_auc_mv2_amherst2, \n",
    " mean_wt_auc_mv2_amherst2,se_wt_auc_mv2_amherst2) =majority_vote_modified(percent_initially_unlabelled,  \n",
    "                                                                np.array(gender_y), \n",
    "                                                                np.array(adj_amherst2), \n",
    "                                                                num_iter=n_iter) \n",
    "\n"
   ]
  },
  {
   "cell_type": "code",
   "execution_count": 20,
   "metadata": {
    "collapsed": false
   },
   "outputs": [
    {
     "name": "stdout",
     "output_type": "stream",
     "text": [
      "0.99\n",
      "0.95\n",
      "0.9\n",
      "0.8\n",
      "0.7\n",
      "0.6\n",
      "0.5\n",
      "0.4\n",
      "0.3\n",
      "0.2\n",
      "0.1\n",
      "0.05\n",
      "0.01\n"
     ]
    },
    {
     "name": "stderr",
     "output_type": "stream",
     "text": [
      "/Users/kristen/anaconda/lib/python2.7/site-packages/ipykernel/__main__.py:41: RuntimeWarning: invalid value encountered in true_divide\n"
     ]
    }
   ],
   "source": [
    "## SI figures\n",
    "(mean_accuracy_mv2_amherst_SI, se_accuracy_mv2_amherst_SI, \n",
    " mean_micro_auc_mv2_amherst_SI,se_micro_auc_mv2_amherst_SI, \n",
    " mean_wt_auc_mv2_amherst_SI,se_wt_auc_mv2_amherst_SI,\n",
    "mean_accuracy_mv2_amherstF_SI, se_accuracy_mv2_amherstF_SI,\n",
    "mean_accuracy_mv2_amherstM_SI, se_accuracy_mv2_amherstM_SI) =majority_vote_modified_SI(percent_initially_unlabelled,  \n",
    "                                                                np.array(gender_y), \n",
    "                                                                np.array(adj_amherst2), \n",
    "                                                                       num_iter=n_iter)\n",
    "\n"
   ]
  },
  {
   "cell_type": "markdown",
   "metadata": {},
   "source": [
    "## ZGL"
   ]
  },
  {
   "cell_type": "code",
   "execution_count": 21,
   "metadata": {
    "collapsed": false
   },
   "outputs": [
    {
     "name": "stdout",
     "output_type": "stream",
     "text": [
      "0.99\n",
      "0.95\n",
      "0.9\n",
      "0.8\n",
      "0.7\n",
      "0.6\n",
      "0.5\n",
      "0.4\n",
      "0.3\n",
      "0.2\n",
      "0.1\n",
      "0.05\n",
      "0.01\n"
     ]
    },
    {
     "name": "stderr",
     "output_type": "stream",
     "text": [
      "/Users/kristen/anaconda/lib/python2.7/site-packages/sklearn/metrics/classification.py:1113: UndefinedMetricWarning: F-score is ill-defined and being set to 0.0 in labels with no predicted samples.\n",
      "  'precision', 'predicted', average, warn_for)\n"
     ]
    }
   ],
   "source": [
    "(mean_accuracy_zgl_amherst, se_accuracy_zgl_amherst, \n",
    "mean_micro_auc_zgl_amherst,se_micro_auc_zgl_amherst, \n",
    "mean_wt_auc_zgl_amherst,se_wt_auc_zgl_amherst) =ZGL_finalized(np.array(adj_matrix_gender),\n",
    "                                    np.array(gender_y),percent_initially_unlabelled, \n",
    "                                    num_iter=n_iter)"
   ]
  },
  {
   "cell_type": "markdown",
   "metadata": {},
   "source": [
    "## Baseline Classifier"
   ]
  },
  {
   "cell_type": "code",
   "execution_count": 22,
   "metadata": {
    "collapsed": false
   },
   "outputs": [
    {
     "name": "stdout",
     "output_type": "stream",
     "text": [
      "0.99\n",
      "0.95\n",
      "0.9\n",
      "0.8\n",
      "0.7\n",
      "0.6\n",
      "0.5\n",
      "0.4\n",
      "0.3\n",
      "0.2\n",
      "0.1\n",
      "0.05\n",
      "0.01\n"
     ]
    }
   ],
   "source": [
    "(mean_wt_auc_baseline_amherst,se_wt_auc_baseline_amherst) = random_classifier(np.array(adj_matrix_gender),\n",
    "                                                                             np.array(gender_y),\n",
    "                                                                             percent_initially_unlabelled,\n",
    "                                                                             num_iter=n_iter)"
   ]
  },
  {
   "cell_type": "code",
   "execution_count": 23,
   "metadata": {
    "collapsed": false
   },
   "outputs": [
    {
     "data": {
      "image/png": "[encoded data removed]",
      "text/plain": [
       "<matplotlib.figure.Figure at 0x11d7b9110>"
      ]
     },
     "metadata": {},
     "output_type": "display_data"
    }
   ],
   "source": [
    "%matplotlib inline\n",
    "from matplotlib.ticker import FixedLocator,LinearLocator,MultipleLocator, FormatStrFormatter\n",
    "\n",
    "fig = plt.figure()\n",
    "seaborn.set_style(style='white')\n",
    "from mpl_toolkits.axes_grid1 import Grid\n",
    "grid = Grid(fig, rect=111, nrows_ncols=(1,1),\n",
    "            axes_pad=0.1, label_mode='L')\n",
    "for i in range(4):\n",
    "    if i == 0:\n",
    "        grid[i].xaxis.set_major_locator(FixedLocator([0,25,50,75,100]))\n",
    "        grid[i].yaxis.set_major_locator(FixedLocator([0.4, 0.5,0.6,0.7,0.8,0.9,1]))\n",
    "\n",
    "        grid[i].errorbar(percent_initially_labelled*100, mean_wt_auc_amherst_lbfgs, \n",
    "            yerr=se_wt_auc_amherst, fmt='--o', capthick=2,\n",
    "            alpha=1, elinewidth=3, color='black')\n",
    "        grid[i].errorbar(percent_initially_labelled*100, mean_wt_auc_zgl_amherst,\n",
    "            yerr=se_wt_auc_zgl_amherst, fmt='--o', capthick=2,\n",
    "            alpha=1, elinewidth=3, color='orange')\n",
    "        grid[i].errorbar(percent_initially_labelled*100, mean_wt_auc_mv_amherst,\n",
    "            yerr=se_wt_auc_mv_amherst, fmt='--o', capthick=2,\n",
    "            alpha=1, elinewidth=3, color='red')\n",
    "        grid[i].errorbar(percent_initially_labelled*100, mean_wt_auc_mv2_amherst2, \n",
    "            yerr=se_wt_auc_mv2_amherst2, fmt='--o', capthick=2,\n",
    "                alpha=1, elinewidth=3, color='maroon')\n",
    "        \n",
    "        grid[i].errorbar(percent_initially_labelled*100, mean_wt_auc_baseline_amherst, \n",
    "            yerr=se_wt_auc_baseline_amherst, fmt='--o', capthick=2,\n",
    "           alpha=1, elinewidth=3, color='gray')\n",
    "        \n",
    "        grid[i].set_ylim(0.3,1.1)\n",
    "        grid[i].set_xlim(0,101)\n",
    "        grid[i].annotate('LINK', xy=(3, 1.00), \n",
    "                 color='black', alpha=1, size=12)\n",
    "        grid[i].annotate('2-hop MV', xy=(3, 0.96), \n",
    "                 color='maroon', alpha=1, size=12)\n",
    "        grid[i].annotate('1-hop MV', xy=(3, 0.92), \n",
    "                 color='red', alpha=1, size=12)\n",
    "        grid[i].annotate('ZGL', xy=(3, 0.88), \n",
    "                 color='orange', alpha=1, size=12)\n",
    "        grid[i].annotate('Baseline', xy=(3, 0.84), \n",
    "                 color='gray', alpha=1, size=12)\n",
    "        #grid[i].set_ylim(0.49,1.01)\n",
    "        grid[i].set_ylim(0.25,1.01)\n",
    "        grid[i].set_xlim(0,100)\n",
    "        grid[i].spines['right'].set_visible(False)\n",
    "        grid[i].spines['top'].set_visible(False)\n",
    "        grid[i].tick_params(axis='both', which='major', labelsize=13)\n",
    "        grid[i].tick_params(axis='both', which='minor', labelsize=13)\n",
    "        grid[i].set_xlabel('Percent of Nodes Initially Labeled')\n",
    "        grid[i].set_ylabel('AUC')\n",
    "\n",
    "#plt.setp(ax1, xticks=[0,25, 50, 75, 100], xticklabels=['0', '25', '50', '75', '100'])\n",
    "grid[0].set_xticks([0,25, 50, 75, 100])\n",
    "grid[0].set_yticks([0.3, 0.4, 0.5,0.6,0.7,0.8,0.9,1])\n",
    "\n",
    "\n",
    "grid[0].minorticks_on()\n",
    "grid[0].tick_params('both', length=4, width=1, which='major', left=1, bottom=1, top=0, right=0)\n",
    "#plt.show()\n",
    "pp = PdfPages('../../figures/Amherst_College_Inference.pdf')\n",
    "pp.savefig()\n",
    "pp.close()"
   ]
  },
  {
   "cell_type": "code",
   "execution_count": 24,
   "metadata": {
    "collapsed": false
   },
   "outputs": [
    {
     "data": {
      "image/png": "[encoded data removed]",
      "text/plain": [
       "<matplotlib.figure.Figure at 0x11d6a1050>"
      ]
     },
     "metadata": {},
     "output_type": "display_data"
    }
   ],
   "source": [
    "%matplotlib inline\n",
    "from matplotlib.ticker import FixedLocator,LinearLocator,MultipleLocator, FormatStrFormatter\n",
    "\n",
    "fig = plt.figure(figsize=(6.69291/2,2.5), dpi = 300)\n",
    "text_size = 8\n",
    "axis_text = 8\n",
    "tick_label_size = 7\n",
    "msize = 5\n",
    "seaborn.set_style(style='white')\n",
    "pad = 0#.1\n",
    "from mpl_toolkits.axes_grid1 import Grid\n",
    "grid = Grid(fig, rect=111, nrows_ncols=(1,1),\n",
    "            axes_pad=1, label_mode='L')\n",
    "for i in range(4):\n",
    "    if i == 0:\n",
    "        grid[i].xaxis.set_major_locator(FixedLocator([0,25,50,75,100]))\n",
    "        grid[i].yaxis.set_major_locator(FixedLocator([0.4, 0.5,0.6,0.7,0.8,0.9,1]))\n",
    "        \n",
    "        \n",
    "        grid[i].errorbar(percent_initially_labelled*100, mean_wt_auc_amherst_lbfgs, \n",
    "            yerr=se_wt_auc_amherst, fmt='--o', capthick=2,\n",
    "            alpha=1, elinewidth=3, color='black', markersize = msize)\n",
    "        grid[i].errorbar(percent_initially_labelled*100, mean_wt_auc_zgl_amherst,\n",
    "            yerr=se_wt_auc_zgl_amherst, fmt='--o', capthick=2,\n",
    "            alpha=1, elinewidth=3, color='orange', markersize = msize)\n",
    "        grid[i].errorbar(percent_initially_labelled*100, mean_wt_auc_mv_amherst,\n",
    "            yerr=se_wt_auc_mv_amherst, fmt='--o', capthick=2,\n",
    "            alpha=1, elinewidth=3, color='red', markersize = msize)\n",
    "        grid[i].errorbar(percent_initially_labelled*100, mean_wt_auc_mv2_amherst2, \n",
    "            yerr=se_wt_auc_mv2_amherst2, fmt='--o', capthick=2,\n",
    "                alpha=1, elinewidth=3, color='maroon', markersize = msize)\n",
    "        grid[i].errorbar(percent_initially_labelled*100, mean_wt_auc_baseline_amherst, \n",
    "            yerr=se_wt_auc_baseline_amherst, fmt='--o', capthick=2,\n",
    "           alpha=1, elinewidth=3, color='gray', markersize = msize)\n",
    "        \n",
    "        grid[i].annotate('LINK', xy=(1.5, 1.00), \n",
    "                 color='black', alpha=1, size=text_size)\n",
    "        grid[i].annotate('2-hop MV', xy=(1.5, 0.96), \n",
    "                 color='maroon', alpha=1, size=text_size)\n",
    "        grid[i].annotate('1-hop MV', xy=(1.5, 0.92), \n",
    "                 color='red', alpha=1, size=text_size)\n",
    "        grid[i].annotate('ZGL', xy=(1.5, 0.88), \n",
    "                 color='orange', alpha=1, size=text_size)\n",
    "        grid[i].annotate('Baseline', xy=(1.5, 0.84), \n",
    "                 color='gray', alpha=1, size=text_size)\n",
    "        \n",
    "        \n",
    "        grid[i].set_ylim(0.25,1.05)\n",
    "\n",
    "        grid[i].set_xlim(0,102)\n",
    "        grid[i].spines['right'].set_visible(False)\n",
    "        grid[i].spines['top'].set_visible(False)\n",
    "        grid[i].spines[\"left\"].set_linewidth(0.75)\n",
    "        grid[i].spines[\"bottom\"].set_linewidth(0.75)\n",
    "        #grid[i].tick_params('both', length=2, width=0.5, which='major', \n",
    "        #        pad = 3.5,labelsize = axis_text)\n",
    "        grid[i].tick_params(axis='both', which='major', labelsize=axis_text,\n",
    "                           length = 0.1,\n",
    "                           width = 0.5)\n",
    "        grid[i].tick_params(axis='both', which='minor', labelsize=axis_text)\n",
    "        grid[i].set_xlabel('Percent of Nodes Initially Labeled', size = axis_text,labelpad = pad)\n",
    "        grid[i].set_ylabel('AUC', size = axis_text,labelpad = pad)\n",
    "\n",
    "grid[0].set_xticks([0,25, 50, 75, 100])\n",
    "grid[0].set_title('Amherst College, Facebook', size = text_size)\n",
    "\n",
    "\n",
    "grid[0].set_yticks([0.3, 0.4, 0.5,0.6,0.7,0.8,0.9,1])\n",
    "grid[0].minorticks_on()\n",
    "grid[0].tick_params('both', length=4, width=1, which='major', left=1, bottom=1, top=0, right=0)\n",
    "#plt.show()\n",
    "plt.tight_layout()\n",
    "\n",
    "\n",
    "pp = PdfPages('../../figures/Amherst_College_Inference_NHB_title.pdf')\n",
    "pp.savefig(dpi = 300)\n",
    "pp.close()"
   ]
  },
  {
   "cell_type": "code",
   "execution_count": null,
   "metadata": {
    "collapsed": true
   },
   "outputs": [],
   "source": []
  },
  {
   "cell_type": "code",
   "execution_count": null,
   "metadata": {
    "collapsed": true
   },
   "outputs": [],
   "source": []
  },
  {
   "cell_type": "code",
   "execution_count": null,
   "metadata": {
    "collapsed": true
   },
   "outputs": [],
   "source": []
  },
  {
   "cell_type": "code",
   "execution_count": 22,
   "metadata": {
    "collapsed": false
   },
   "outputs": [
    {
     "data": {
      "image/png": "[encoded data removed]",
      "text/plain": [
       "<matplotlib.figure.Figure at 0x11c6b41d0>"
      ]
     },
     "metadata": {},
     "output_type": "display_data"
    }
   ],
   "source": [
    "alpha_empirical = 0.4\n",
    "\n",
    "%matplotlib inline\n",
    "nbins = 25\n",
    "f, (ax1, ax2) = plt.subplots(1, 2, \n",
    "                             sharey=False, sharex=False,\n",
    "                            figsize=(8, 3))\n",
    "plt.setp(ax1, xticks=[0,25, 50, 75, 100], xticklabels=['0', '25', '50', '75', '100'])\n",
    "ax1.set_xticks([0,25, 50, 75, 100])\n",
    "ax1.minorticks_on()\n",
    "ax1.tick_params('both', length=4, width=1, which='major', left=1, bottom=1, top=0, right=0)\n",
    "ax1.errorbar(percent_initially_labelled*100, mean_accuracy_mv_amherstF_SI,\n",
    "            yerr=se_accuracy_mv_amherstF_SI, fmt='--o', capthick=2,\n",
    "            alpha=1, elinewidth=3, color='red')\n",
    "ax1.errorbar(percent_initially_labelled*100, mean_accuracy_mv2_amherstF_SI, \n",
    "            yerr=se_accuracy_mv2_amherstF_SI, fmt='--o', capthick=2,\n",
    "                alpha=1, elinewidth=3, color='maroon')\n",
    "ax1.set_ylabel('Accuracy (F1-score)')\n",
    "ax1.set_xlabel('Percent of Nodes Initially Labeled')\n",
    "ax1.spines[\"right\"].set_visible(False)\n",
    "ax1.spines[\"top\"].set_visible(False)\n",
    "ax1.set_ylim(0.15,1.01)\n",
    "\n",
    "ax1.set_xlim(0,101)\n",
    "ax1.set_title('Female')\n",
    "\n",
    "\n",
    "#ax2.set_ylim(0,16)\n",
    "ax2.set_xlim(0,101)\n",
    "plt.setp(ax2, xticks=[0,25, 50, 75, 100], xticklabels=['0', '25', '50', '75', '100'])\n",
    "ax2.set_xticks([0,25, 50, 75, 100])\n",
    "ax2.minorticks_on()\n",
    "ax2.tick_params('both', length=4, width=1, which='major', left=1, bottom=1, top=0, right=0)\n",
    "\n",
    "ax2.errorbar(percent_initially_labelled*100, mean_accuracy_mv_amherstM_SI,\n",
    "            yerr=se_accuracy_mv_amherstM_SI, fmt='--o', capthick=2,\n",
    "            alpha=1, elinewidth=3, color='red')\n",
    "ax2.errorbar(percent_initially_labelled*100, mean_accuracy_mv2_amherstM_SI, \n",
    "            yerr=se_accuracy_mv2_amherstM_SI, fmt='--o', capthick=2,\n",
    "                alpha=1, elinewidth=3, color='maroon')\n",
    "ax2.set_ylim(0.15,1.01)\n",
    "\n",
    "ax2.spines[\"right\"].set_visible(False)\n",
    "ax2.spines[\"top\"].set_visible(False)\n",
    "ax2.set_xlabel('Percent of Nodes Initially Labeled')\n",
    "ax2.set_ylabel('Accuracy (F1-score)')\n",
    "ax2.set_title('Male')\n",
    "ax1.annotate('2-hop MV', xy=(3, 0.96), \n",
    "                 color='maroon', alpha=1, size=12)\n",
    "ax1.annotate('1-hop MV', xy=(3, 0.90), \n",
    "                 color='red', alpha=1, size=12)\n",
    "ax2.annotate('2-hop MV', xy=(3, 0.96), \n",
    "                 color='maroon', alpha=1, size=12)\n",
    "ax2.annotate('1-hop MV', xy=(3, 0.90), \n",
    "                 color='red', alpha=1, size=12)\n",
    "\n",
    "plt.tight_layout()\n",
    "pp = PdfPages('../../figures/Amherst_College_SIFigure_Accuracy.pdf')\n",
    "pp.savefig()\n",
    "pp.close()"
   ]
  },
  {
   "cell_type": "markdown",
   "metadata": {},
   "source": [
    "## SI Figures. Regularization for LINK Logistic Regression"
   ]
  },
  {
   "cell_type": "markdown",
   "metadata": {},
   "source": [
    "### l2 regularization"
   ]
  },
  {
   "cell_type": "code",
   "execution_count": 23,
   "metadata": {
    "collapsed": false
   },
   "outputs": [
    {
     "name": "stdout",
     "output_type": "stream",
     "text": [
      "0\n",
      "1\n",
      "2\n"
     ]
    },
    {
     "data": {
      "image/png": "[encoded data removed]",
      "text/plain": [
       "<matplotlib.figure.Figure at 0x11cdc7310>"
      ]
     },
     "metadata": {},
     "output_type": "display_data"
    }
   ],
   "source": [
    "percent_initially_unlabelled = np.array([0.9,0.5,0.1])\n",
    "percent_initially_labelled = 1-percent_initially_unlabelled\n",
    "%matplotlib inline\n",
    "f, (ax1, ax2,ax3) = plt.subplots(1, 3, \n",
    "                             sharey=False, sharex=False,\n",
    "                            figsize=(8, 3))\n",
    "C_min = -10\n",
    "for i in range(len(percent_initially_unlabelled)):\n",
    "    print i\n",
    "    k_fold = cross_validation.ShuffleSplit(len(gender_y), n_iter=1,\n",
    "                                                test_size=percent_initially_unlabelled[i],\n",
    "                                                random_state=0)\n",
    "\n",
    "    for k, (train, test) in enumerate(k_fold):\n",
    "        ## vary C values\n",
    "        C_vals = [10**x for x in range(C_min,100)]#range(-20,100)]\n",
    "\n",
    "        ## vary solver types\n",
    "        solver_type = np.array(['liblinear',\n",
    "                                   'newton-cg',\n",
    "                                   'lbfgs'])\n",
    "\n",
    "        liblinear_AUC = []\n",
    "        newton_cg_AUC = []\n",
    "        lbfgs_AUC = []\n",
    "        for j in range(len(C_vals)):\n",
    "            for m in range(len(solver_type)):\n",
    "                clf = linear_model.LogisticRegression(penalty='l2',\n",
    "                                                    C=C_vals[j],\n",
    "                                                    solver =solver_type[m])\n",
    "                clf.fit(adj_matrix_gender[train], np.ravel(gender_y[train])) # spot-check fitted on training data\n",
    "\n",
    "\n",
    "                pred = clf.predict(adj_matrix_gender[train]) # spot-check fitted on testing data\n",
    "                prob = clf.predict_proba(adj_matrix_gender[test])\n",
    "\n",
    "                if solver_type[m]=='liblinear':\n",
    "                    liblinear_AUC.append(metrics.roc_auc_score(label_binarize(gender_y[test],np.unique(gender_y)),\n",
    "                                                                    prob[:,1],average='weighted'))\n",
    "                if solver_type[m]=='newton-cg':\n",
    "                    newton_cg_AUC.append(metrics.roc_auc_score(label_binarize(gender_y[test],np.unique(gender_y)),\n",
    "                                                                    prob[:,1],average='weighted'))\n",
    "                if solver_type[m]=='lbfgs':\n",
    "                    lbfgs_AUC.append(metrics.roc_auc_score(label_binarize(gender_y[test],np.unique(gender_y)),\n",
    "                                                                    prob[:,1],average='weighted'))\n",
    "    if i==0:\n",
    "        ax1.minorticks_on()\n",
    "        ax1.tick_params('both', length=4, width=1, which='major', left=1, bottom=1, top=0, right=0)\n",
    "        ax1.set_xlabel('C, log_10')\n",
    "        ax1.scatter(range(C_min,100), liblinear_AUC, color='red')#,'.r-')\n",
    "        ax1.plot(range(C_min,100), liblinear_AUC, 'r--')\n",
    "        ax1.scatter(range(C_min,100), newton_cg_AUC, color='blue')#,'.b-')\n",
    "        ax1.plot(range(C_min,100), newton_cg_AUC, 'b--')\n",
    "        ax1.scatter(range(C_min,100), lbfgs_AUC, color='green')#,'.g-')\n",
    "        ax1.plot(range(C_min,100), lbfgs_AUC, 'g--')\n",
    "        ax1.annotate('liblinear', xy=(-15,0.90), color = 'red')\n",
    "        ax1.annotate('newton_cg', xy=(-15,0.85), color = 'blue')\n",
    "        ax1.annotate('lbfgs', xy=(-15,0.8), color = 'green')\n",
    "        ax1.spines[\"right\"].set_visible(False)\n",
    "        ax1.spines[\"top\"].set_visible(False)\n",
    "        ax1.set_title(str(percent_initially_labelled[i]*100) +'% initially labeled')\n",
    "        ax1.set_ylabel('AUC')\n",
    "        ax1.set_ylim(0.25,1)\n",
    "        ax1.set_xlim(-20,20)\n",
    "\n",
    "\n",
    "    if i==1:\n",
    "        ax2.scatter(range(C_min,100), liblinear_AUC, color='red')#,'.r-')\n",
    "        ax2.plot(range(C_min,100), liblinear_AUC, 'r--')\n",
    "        ax2.minorticks_on()\n",
    "        ax2.tick_params('both', length=4, width=1, which='major', left=1, bottom=1, top=0, right=0)\n",
    "        ax2.set_xlabel('C, log_10')\n",
    "        ax2.scatter(range(C_min,100), newton_cg_AUC, color='blue')#,'.b-')\n",
    "        ax2.plot(range(C_min,100), newton_cg_AUC, 'b--')\n",
    "        ax2.scatter(range(C_min,100), lbfgs_AUC, color='green')#,'.g-')\n",
    "        ax2.plot(range(C_min,100), lbfgs_AUC, 'g--')\n",
    "        ax2.spines[\"right\"].set_visible(False)\n",
    "        ax2.spines[\"top\"].set_visible(False)\n",
    "        ax2.set_title(str(percent_initially_labelled[i]*100) +'% initially labeled')\n",
    "        ax2.set_ylim(0.25,1)\n",
    "        ax2.set_xlim(-20,20)\n",
    "\n",
    "\n",
    "\n",
    "    if i==2:\n",
    "        ax3.scatter(range(C_min,100), liblinear_AUC, color='red')#,'.r-')\n",
    "        ax3.plot(range(C_min,100), liblinear_AUC, 'r--')\n",
    "        ax3.scatter(range(C_min,100), newton_cg_AUC, color='blue')#,'.b-')\n",
    "        ax3.plot(range(C_min,100), newton_cg_AUC, 'b--')\n",
    "        ax3.minorticks_on()\n",
    "        ax3.tick_params('both', length=4, width=1, which='major', left=1, bottom=1, top=0, right=0)\n",
    "        ax3.set_xlabel('C, log_10')\n",
    "        ax3.scatter(range(C_min,100), lbfgs_AUC, color='green')#,'.g-')\n",
    "        ax3.plot(range(C_min,100), lbfgs_AUC, 'g--')\n",
    "        ax3.spines[\"right\"].set_visible(False)\n",
    "        ax3.spines[\"top\"].set_visible(False)\n",
    "        ax3.set_title(str(percent_initially_labelled[i]*100) +'% initially labeled')\n",
    "        ax3.set_ylim(0.25,1)\n",
    "        ax3.set_xlim(-20,20)\n",
    "    plt.tight_layout()\n",
    "    pp = PdfPages('../../figures/FB_Amherst_sensitivity_to_C.pdf')\n",
    "    pp.savefig()\n",
    "    pp.close()    "
   ]
  },
  {
   "cell_type": "markdown",
   "metadata": {},
   "source": [
    "### l1 regularization"
   ]
  },
  {
   "cell_type": "code",
   "execution_count": 24,
   "metadata": {
    "collapsed": false
   },
   "outputs": [
    {
     "name": "stdout",
     "output_type": "stream",
     "text": [
      "0\n",
      "1\n",
      "2\n"
     ]
    },
    {
     "data": {
      "image/png": "[encoded data removed]",
      "text/plain": [
       "<matplotlib.figure.Figure at 0x107188850>"
      ]
     },
     "metadata": {},
     "output_type": "display_data"
    }
   ],
   "source": [
    "## spotcheck_only\n",
    "%matplotlib inline\n",
    "f, (ax1, ax2,ax3) = plt.subplots(1, 3, \n",
    "                             sharey=False, sharex=False,\n",
    "                            figsize=(8, 3))\n",
    "for i in range(len(percent_initially_unlabelled)):\n",
    "    print i\n",
    "    k_fold = cross_validation.ShuffleSplit(len(gender_y), n_iter=1,\n",
    "                                                test_size=percent_initially_unlabelled[i],\n",
    "                                                random_state=0)\n",
    "\n",
    "\n",
    "    for k, (train, test) in enumerate(k_fold):\n",
    "        ## vary C values\n",
    "        C_vals = [10**x for x in range(C_min,100)]\n",
    "\n",
    "        ## vary solver types\n",
    "        solver_type = np.array(['liblinear'])\n",
    "        liblinear_AUCl1 = []\n",
    "        for j in range(len(C_vals)):\n",
    "            for m in range(len(solver_type)):\n",
    "                clf = linear_model.LogisticRegression(penalty='l1',\n",
    "                                                    C=C_vals[j],\n",
    "                                                    solver =solver_type[m])\n",
    "                clf.fit(adj_matrix_gender[train], np.ravel(gender_y[train])) # spot-check fitted on training data\n",
    "\n",
    "\n",
    "                pred = clf.predict(adj_matrix_gender[train]) # spot-check fitted on testing data\n",
    "                prob = clf.predict_proba(adj_matrix_gender[test])\n",
    "\n",
    "                if solver_type[m]=='liblinear':\n",
    "                    liblinear_AUCl1.append(metrics.roc_auc_score(label_binarize(gender_y[test],np.unique(gender_y)),\n",
    "                                                                    prob[:,1],average='weighted'))\n",
    "               \n",
    "           \n",
    "    if i==0:\n",
    "        ax1.scatter(range(C_min,100), liblinear_AUCl1, color='red')#,'.r-')\n",
    "        ax1.plot(range(C_min,100), liblinear_AUCl1, 'r--')\n",
    "\n",
    "        ax1.minorticks_on()\n",
    "        ax1.tick_params('both', length=4, width=1, which='major', left=1, bottom=1, top=0, right=0)\n",
    "        ax1.set_xlabel('C, log_10')\n",
    "        ax1.annotate('liblinear', xy=(-15,0.90), color = 'red')\n",
    "        ax1.spines[\"right\"].set_visible(False)\n",
    "        ax1.spines[\"top\"].set_visible(False)\n",
    "        ax1.set_title(str(percent_initially_labelled[i]*100) +'% initially labeled')\n",
    "        ax1.set_ylabel('AUC')\n",
    "        ax1.set_ylim(0.25,1)\n",
    "        ax1.set_xlim(-20,20)\n",
    "        \n",
    "    if i==1:\n",
    "        ax2.scatter(range(C_min,100), liblinear_AUCl1, color='red')#,'.r-')\n",
    "        ax2.plot(range(C_min,100), liblinear_AUCl1, 'r--')\n",
    "        ax2.spines[\"right\"].set_visible(False)\n",
    "        ax2.spines[\"top\"].set_visible(False)\n",
    "        ax2.set_title(str(percent_initially_labelled[i]*100) +'% initially labeled')\n",
    "        ax2.set_ylim(0.25,1)\n",
    "        ax2.set_xlim(-20,20)\n",
    "        ax2.minorticks_on()\n",
    "        ax2.tick_params('both', length=4, width=1, which='major', left=1, bottom=1, top=0, right=0)\n",
    "        ax2.set_xlabel('C, log_10')\n",
    "\n",
    "    if i==2:\n",
    "        ax3.scatter(range(C_min,100), liblinear_AUCl1, color='red')#,'.r-')\n",
    "        ax3.plot(range(C_min,100), liblinear_AUCl1, 'r--')\n",
    "        ax3.spines[\"right\"].set_visible(False)\n",
    "        ax3.spines[\"top\"].set_visible(False)\n",
    "        ax3.set_title(str(percent_initially_labelled[i]*100) +'% initially labeled')\n",
    "        ax3.set_ylim(0.25,1)\n",
    "        ax3.set_xlim(-20,20)\n",
    "        ax3.minorticks_on()\n",
    "        ax3.tick_params('both', length=4, width=1, which='major', left=1, bottom=1, top=0, right=0)\n",
    "        ax3.set_xlabel('C, log_10')\n",
    "    plt.tight_layout()\n",
    "    pp = PdfPages('../../figures/FB_Amherst_sensitivity_to_C_l1.pdf')\n",
    "    pp.savefig()\n",
    "    pp.close()"
   ]
  },
  {
   "cell_type": "markdown",
   "metadata": {},
   "source": [
    "## SI Figure. Separability on Amherst College"
   ]
  },
  {
   "cell_type": "code",
   "execution_count": 25,
   "metadata": {
    "collapsed": true
   },
   "outputs": [],
   "source": [
    "def LINK_training(num_unlabeled, membership_y, feature_x, clf, num_iter, cv_setup=None):\n",
    "    mean_accuracy = []\n",
    "    se_accuracy = []\n",
    "    mean_micro_auc = []\n",
    "    se_micro_auc = []\n",
    "    mean_wt_auc = []\n",
    "    se_wt_auc = []\n",
    "    \n",
    "        \n",
    "    for i in range(len(num_unlabeled)):\n",
    "        print num_unlabeled[i]\n",
    "        if cv_setup=='stratified':\n",
    "            k_fold = cross_validation.StratifiedShuffleSplit((membership_y), n_iter=num_iter,\n",
    "                                               test_size=num_unlabeled[i],\n",
    "                                               random_state=0)\n",
    "        else:\n",
    "            k_fold = cross_validation.ShuffleSplit(len(membership_y), n_iter=num_iter,\n",
    "                                                         test_size=num_unlabeled[i],\n",
    "                                                         random_state=0)\n",
    "        accuracy = []\n",
    "        micro_auc = []\n",
    "        wt_auc = []\n",
    "        for k, (train, test) in enumerate(k_fold):\n",
    "            clf.fit(feature_x[train], np.ravel(membership_y[train]))\n",
    "            \n",
    "            # predicted labels\n",
    "            pred = clf.predict(feature_x[train])\n",
    "            prob = clf.predict_proba(feature_x[train])\n",
    "\n",
    "            accuracy.append(metrics.accuracy_score(membership_y[train], pred,  normalize = True))\n",
    "                                                                                 \n",
    "            # auc scores\n",
    "            if len(np.unique(membership_y))>2:\n",
    "                micro_auc.append(metrics.roc_auc_score(label_binarize(membership_y[train],\n",
    "                                                                      np.unique(membership_y)), prob,  average = 'micro'))\n",
    "                wt_auc.append(metrics.roc_auc_score(label_binarize(membership_y[train],\n",
    "                                                                   np.unique(membership_y)), prob,\n",
    "                                                                                                                             average = 'weighted'))\n",
    "            else:\n",
    "                micro_auc.append(metrics.roc_auc_score(label_binarize(membership_y[train],\n",
    "                                                                      np.unique(membership_y)),\n",
    "                                                                        prob[:,1],average='micro'))\n",
    "                wt_auc.append(metrics.roc_auc_score(label_binarize(membership_y[train],\n",
    "                                                                   np.unique(membership_y)),\n",
    "                                                                            prob[:,1],average='weighted'))\n",
    "    \n",
    "        mean_accuracy.append(np.mean(accuracy))\n",
    "        se_accuracy.append(np.std(accuracy))\n",
    "\n",
    "        mean_micro_auc.append(np.mean(micro_auc))\n",
    "        se_micro_auc.append(np.std(micro_auc))\n",
    "        mean_wt_auc.append(np.mean(wt_auc))\n",
    "        se_wt_auc.append(np.std(wt_auc))\n",
    "\n",
    "    return(mean_accuracy, se_accuracy, mean_micro_auc,se_micro_auc, mean_wt_auc,se_wt_auc)"
   ]
  },
  {
   "cell_type": "code",
   "execution_count": 26,
   "metadata": {
    "collapsed": true
   },
   "outputs": [],
   "source": [
    "percent_initially_unlabelled = [0.99,0.9,0.8,0.7,0.6,0.5,0.4,0.3,0.2,0.1,0.05]\n",
    "percent_initially_labelled = np.subtract(1, percent_initially_unlabelled)"
   ]
  },
  {
   "cell_type": "code",
   "execution_count": 27,
   "metadata": {
    "collapsed": false
   },
   "outputs": [
    {
     "name": "stdout",
     "output_type": "stream",
     "text": [
      "0.99\n",
      "0.9\n",
      "0.8\n",
      "0.7\n",
      "0.6\n",
      "0.5\n",
      "0.4\n",
      "0.3\n",
      "0.2\n",
      "0.1\n",
      "0.05\n"
     ]
    }
   ],
   "source": [
    "(t1, t1,\n",
    " t1, t2, \n",
    " mean_auc_l2_unregularized_training_C100, \n",
    " se_auc_l2_unregularized_training_C100) = LINK_training(percent_initially_unlabelled,\n",
    "                                                        gender_y,\n",
    "                                                        adj_matrix_gender,\n",
    "                                                        clf = linear_model.LogisticRegression(\n",
    "                                                            penalty='l2',C=10e20, solver='lbfgs'), \n",
    "                                                        num_iter=n_iter, cv_setup=None)"
   ]
  },
  {
   "cell_type": "code",
   "execution_count": 28,
   "metadata": {
    "collapsed": true
   },
   "outputs": [],
   "source": [
    "C_array = np.logspace(-5, 5, num=50, endpoint=True)"
   ]
  },
  {
   "cell_type": "code",
   "execution_count": 32,
   "metadata": {
    "collapsed": false
   },
   "outputs": [
    {
     "name": "stdout",
     "output_type": "stream",
     "text": [
      "0.99\n",
      "0.9\n",
      "0.8\n",
      "0.7\n",
      "0.6\n",
      "0.5\n",
      "0.4\n",
      "0.3\n",
      "0.2\n",
      "0.1\n",
      "0.05\n"
     ]
    }
   ],
   "source": [
    "(t1, t1, t1, t2,  mean_auc_l2_regularized_training, se_auc_l2_regularized_training) = LINK_training(percent_initially_unlabelled,  \n",
    "                                                gender_y,\n",
    "                                                adj_matrix_gender,\n",
    "                                                clf = linear_model.LogisticRegressionCV(\n",
    "                                                    C_array,penalty='l2',solver='lbfgs'), \n",
    "                                                num_iter=n_iter, cv_setup=None)"
   ]
  },
  {
   "cell_type": "code",
   "execution_count": 33,
   "metadata": {
    "collapsed": false
   },
   "outputs": [
    {
     "name": "stdout",
     "output_type": "stream",
     "text": [
      "0.99\n",
      "0.9\n",
      "0.8\n",
      "0.7\n",
      "0.6\n",
      "0.5\n",
      "0.4\n",
      "0.3\n",
      "0.2\n",
      "0.1\n",
      "0.05\n"
     ]
    }
   ],
   "source": [
    "(t1, t1,\n",
    " t1, t2, \n",
    " mean_auc_l2_unregularized, \n",
    " se_auc_l2_unregularized) = LINK(percent_initially_unlabelled,  \n",
    "                                 gender_y,\n",
    "                                 adj_matrix_gender,\n",
    "                                 clf = linear_model.LogisticRegression(\n",
    "                                     penalty='l2',C=10e20, solver='lbfgs'), \n",
    "                                 num_iter=n_iter, cv_setup=None)"
   ]
  },
  {
   "cell_type": "code",
   "execution_count": 34,
   "metadata": {
    "collapsed": false
   },
   "outputs": [
    {
     "name": "stdout",
     "output_type": "stream",
     "text": [
      "0.99\n",
      "0.9\n",
      "0.8\n",
      "0.7\n",
      "0.6\n",
      "0.5\n",
      "0.4\n",
      "0.3\n",
      "0.2\n",
      "0.1\n",
      "0.05\n"
     ]
    },
    {
     "name": "stderr",
     "output_type": "stream",
     "text": [
      "/Users/kristen/anaconda/lib/python2.7/site-packages/sklearn/model_selection/_split.py:581: Warning: The least populated class in y has only 4 members, which is too few. The minimum number of groups for any class cannot be less than n_splits=5.\n",
      "  % (min_groups, self.n_splits)), Warning)\n"
     ]
    }
   ],
   "source": [
    "(t1, t1,\n",
    " t1, t2, \n",
    " mean_auc_l2_regularized, \n",
    " se_auc_l2_regularized) = LINK(percent_initially_unlabelled,\n",
    "                               gender_y,\n",
    "                               adj_matrix_gender,\n",
    "                               clf = linear_model.LogisticRegressionCV(C_array,penalty='l2',\n",
    "                                  solver='lbfgs',cv=5), \n",
    "                               num_iter=n_iter, cv_setup=None)"
   ]
  },
  {
   "cell_type": "code",
   "execution_count": 35,
   "metadata": {
    "collapsed": false
   },
   "outputs": [
    {
     "data": {
      "image/png": "[encoded data removed]",
      "text/plain": [
       "<matplotlib.figure.Figure at 0x11d793210>"
      ]
     },
     "metadata": {},
     "output_type": "display_data"
    }
   ],
   "source": [
    "%matplotlib inline\n",
    "\n",
    "plt.errorbar(percent_initially_labelled*100, mean_auc_l2_unregularized, \n",
    "                     yerr=se_auc_l2_unregularized, fmt='--o', capthick=2,\n",
    "                     alpha=0.6, elinewidth=3, color='black')\n",
    "\n",
    "plt.errorbar(percent_initially_labelled*100, mean_auc_l2_unregularized_training_C100, \n",
    "                     yerr=se_auc_l2_unregularized_training_C100, fmt='--o', capthick=2,\n",
    "                     alpha=0.6, elinewidth=3, color='blue')\n",
    "\n",
    "plt.title('Amherst College: LINK evaluated on training versus testing data')\n",
    "\n",
    "plt.annotate('L2-unregularized - testing', xy=(50, 0.67), \n",
    "             color='black', alpha=1, size=12)\n",
    "\n",
    "plt.annotate('L2-unregularized - training', xy=(50, 0.7), \n",
    "             color='blue', alpha=1, size=12)\n",
    "\n",
    "plt.ylim(*(0.4,1.05))\n",
    "plt.xlabel('Percent of Nodes Initially Labeled')\n",
    "plt.ylabel('AUC')\n",
    "pp = PdfPages('../../figures/Amherst_LINK_training_testing_separability.pdf')\n",
    "pp.savefig()\n",
    "pp.close()"
   ]
  },
  {
   "cell_type": "code",
   "execution_count": null,
   "metadata": {
    "collapsed": true
   },
   "outputs": [],
   "source": []
  },
  {
   "cell_type": "code",
   "execution_count": null,
   "metadata": {
    "collapsed": true
   },
   "outputs": [],
   "source": []
  },
  {
   "cell_type": "markdown",
   "metadata": {
    "collapsed": true
   },
   "source": [
    "# illustrate overdispersion in Add Health School #23"
   ]
  },
  {
   "cell_type": "code",
   "execution_count": 36,
   "metadata": {
    "collapsed": false
   },
   "outputs": [
    {
     "name": "stdout",
     "output_type": "stream",
     "text": [
      "comm23\n",
      "Processing comm23.gml...\n"
     ]
    }
   ],
   "source": [
    "for f in listdir(add_health_file):\n",
    "    if f.endswith('.gml') and f=='comm23.gml': \n",
    "        tag = f.replace('.gml', '')\n",
    "        print tag\n",
    "\n",
    "        id = re.findall(r'\\d+', f)\n",
    "        print \"Processing %s...\" % f\n",
    "\n",
    "        # directed graph\n",
    "        ah_graph_directed = nx.read_gml(add_health_file+f)\n",
    "\n",
    "        # for mutual links\n",
    "        t1 = nx.adj_matrix(ah_graph_directed).todense()\n",
    "        t2 = np.copy(t1.T)\n",
    "        final = ((t1+t2) > 0)+0\n",
    "        \n",
    "        # undirected graph\n",
    "        ah_graph_tmp = nx.read_gml(add_health_file+f)\n",
    "        ah_graph_undirected = ah_graph_tmp.to_undirected()\n",
    "        \n",
    "        ## Add Health -- Undirected: Either In- or Out- Link\n",
    "        (ah_gender_both, adj_gender_both) = create_adj_membership(nx.from_numpy_matrix(final),\n",
    "                                                                   nx.get_node_attributes(ah_graph_directed, 'comm' + str(id[0]) +'sex'),\n",
    "                                                                   0,\n",
    "                                                                   'yes',\n",
    "                                                                   0,\n",
    "                                                                   None, # change adjacency matrix type: out == out-link, in == in-link, any1 == undirected\n",
    "                                                                   'gender')\n",
    "  \n",
    "             \n",
    "\n",
    "        (ah_gender_undirected, adj_directed_gender_undirected) = create_adj_membership(nx.from_numpy_matrix(final),\n",
    "                                                                   nx.get_node_attributes(ah_graph_directed, 'comm' + str(id[0]) +'sex'),\n",
    "                                                                   0,\n",
    "                                                                   'yes',\n",
    "                                                                   0,\n",
    "                                                                   None, # change adjacency matrix type: out == out-link, in == in-link, any1 == undirected\n",
    "                                                                   'gender')\n",
    "        ah_gender_undirected = np.array(map(np.int,ah_gender_undirected))\n",
    "\n",
    "\n",
    "        #in\n",
    "        (ah_gender_in, adj_gender_in) = create_directed_adj_membership(ah_graph_directed,\n",
    "                                                                nx.get_node_attributes(ah_graph_directed, 'comm' + str(id[0]) +'sex'), ## fix for non-mutual links here\n",
    "                                                                   0,\n",
    "                                                                   'yes',\n",
    "                                                                   0,\n",
    "                                                                   'in', # change adjacency matrix type: out == out-link, in == in-link, any1 == undirected\n",
    "                                                                   'gender')\n",
    "        ah_gender_in = np.array(map(np.int,ah_gender_in))\n",
    "\n",
    "\n",
    "        #out-link\n",
    "        (ah_gender_out, adj_gender_out) = create_directed_adj_membership(ah_graph_directed,\n",
    "                                                                nx.get_node_attributes(ah_graph_directed, \n",
    "                                                                                       'comm' + str(id[0]) +'sex'), ## fix for non-mutual links here\n",
    "                                                                   0,\n",
    "                                                                   'yes',\n",
    "                                                                   0,\n",
    "                                                                   'out', # change adjacency matrix type: out == out-link, in == in-link, any1 == undirected\n",
    "                                                                   'gender')\n",
    "        ah_gender_out = np.array(map(np.int,ah_gender_out))\n"
   ]
  },
  {
   "cell_type": "code",
   "execution_count": 37,
   "metadata": {
    "collapsed": true
   },
   "outputs": [],
   "source": [
    "percent_initially_unlabelled = [0.1]#[0.99,0.95,0.9,0.8,0.7,0.6,0.5,0.4,0.3,0.2,0.1,0.05,0.01]\n",
    "percent_initially_labelled = np.subtract(1, percent_initially_unlabelled)"
   ]
  },
  {
   "cell_type": "code",
   "execution_count": 38,
   "metadata": {
    "collapsed": true
   },
   "outputs": [],
   "source": [
    "n_iter = 1"
   ]
  },
  {
   "cell_type": "code",
   "execution_count": 39,
   "metadata": {
    "collapsed": false
   },
   "outputs": [
    {
     "name": "stdout",
     "output_type": "stream",
     "text": [
      "0.1\n"
     ]
    }
   ],
   "source": [
    "coef= LINK_coeff(percent_initially_unlabelled, ## note: mean_se_model assumes a vector of x% initially labeled\n",
    "                                                              np.array(ah_gender_undirected), ## gender labels \n",
    "                                                              np.matrix(adj_directed_gender_undirected), ## adjacency matrix\n",
    "                                                              clf = linear_model.LogisticRegression(penalty='l2',C=10e20,\n",
    "                                                                                                   solver='lbfgs'),num_iter=n_iter) \n",
    "\n",
    "\n",
    "\n"
   ]
  },
  {
   "cell_type": "code",
   "execution_count": 40,
   "metadata": {
    "collapsed": false
   },
   "outputs": [
    {
     "data": {
      "text/plain": [
       "array([1, 2])"
      ]
     },
     "execution_count": 40,
     "metadata": {},
     "output_type": "execute_result"
    }
   ],
   "source": [
    "np.unique(ah_gender_undirected)"
   ]
  },
  {
   "cell_type": "code",
   "execution_count": 41,
   "metadata": {
    "collapsed": false
   },
   "outputs": [
    {
     "data": {
      "image/png": "[encoded data removed]",
      "text/plain": [
       "<matplotlib.figure.Figure at 0x11bf5ddd0>"
      ]
     },
     "metadata": {},
     "output_type": "display_data"
    }
   ],
   "source": [
    "%matplotlib inline\n",
    "ax = plt.subplot(111)\n",
    "alpha_parameter = 0.5\n",
    "binBoundaries=np.linspace(-50,50,num=25)\n",
    "\n",
    "ax.hist(coef[np.array(ah_gender_undirected)==1], color='black', #alpha=0.1,\n",
    "        bins=binBoundaries, \n",
    "                     normed = True,\n",
    "                     alpha = alpha_parameter, label='empirical',\n",
    "                    edgecolor = 'white')\n",
    "\n",
    "ax.hist(coef[np.array(ah_gender_undirected)==2], color='red', #alpha=0.1,\n",
    "        bins=binBoundaries, \n",
    "                     normed = True,\n",
    "                     alpha = alpha_parameter, label='empirical',\n",
    "                    edgecolor = 'white')\n",
    "plt.xlabel(r'$\\beta_j$ coefficient')\n",
    "plt.ylabel('Normalized Frequency')\n",
    "plt.title('Add Health School #23')\n",
    "ax.spines['top'].set_visible(False)\n",
    "ax.spines['right'].set_visible(False)\n",
    "ax.annotate('Female', xy=(-50, 0.042), \n",
    "                 color='red', alpha=1, size=12)\n",
    "\n",
    "ax.annotate('Male', xy=(-50, 0.039), \n",
    "                 color='black', alpha=1, size=12)\n",
    "\n",
    "pp = PdfPages('../../figures/Add_Health_23_undirected_Butterfly_actual_class_histogram.pdf')\n",
    "pp.savefig()\n",
    "pp.close()"
   ]
  },
  {
   "cell_type": "markdown",
   "metadata": {},
   "source": [
    "# Null Distribution for Add Health"
   ]
  },
  {
   "cell_type": "code",
   "execution_count": 42,
   "metadata": {
    "collapsed": true
   },
   "outputs": [],
   "source": [
    "add_health_null =  compute_null_distribution(adj_directed_gender_undirected, \n",
    "                                ah_gender_undirected, \n",
    "                                100000)"
   ]
  },
  {
   "cell_type": "code",
   "execution_count": 43,
   "metadata": {
    "collapsed": true
   },
   "outputs": [],
   "source": [
    "add_health_obs = compute_observed_same_total_degree(adj_directed_gender_undirected, \n",
    "                                ah_gender_undirected)"
   ]
  },
  {
   "cell_type": "code",
   "execution_count": 44,
   "metadata": {
    "collapsed": false
   },
   "outputs": [
    {
     "name": "stdout",
     "output_type": "stream",
     "text": [
      "[1 2]\n",
      "0.540540540541\n",
      "0.459459459459\n"
     ]
    }
   ],
   "source": [
    "print np.unique(ah_gender_undirected)\n",
    "print np.mean(ah_gender_undirected==1)\n",
    "print np.mean(ah_gender_undirected==2)"
   ]
  },
  {
   "cell_type": "code",
   "execution_count": null,
   "metadata": {
    "collapsed": true
   },
   "outputs": [],
   "source": []
  },
  {
   "cell_type": "markdown",
   "metadata": {},
   "source": [
    "# SI Figures. "
   ]
  },
  {
   "cell_type": "markdown",
   "metadata": {},
   "source": [
    "### undirected graph"
   ]
  },
  {
   "cell_type": "code",
   "execution_count": 45,
   "metadata": {
    "collapsed": false
   },
   "outputs": [
    {
     "data": {
      "image/png": "[encoded data removed]",
      "text/plain": [
       "<matplotlib.figure.Figure at 0x117ebb1d0>"
      ]
     },
     "metadata": {},
     "output_type": "display_data"
    }
   ],
   "source": [
    "%matplotlib inline\n",
    "nbins = 20\n",
    "f, (ax1, ax2) = plt.subplots(1, 2, \n",
    "                             sharey=False, sharex=False,\n",
    "                            figsize=(8, 3))\n",
    "ax1.hist(add_health_obs[1],\n",
    "         bins = np.linspace(0,1,nbins),\n",
    "         normed = True,\n",
    "         edgecolor = 'white',\n",
    "        color='red',alpha=0.5)\n",
    "plt.setp(ax1, xticks=[0,0.25, 0.5, 0.75, 1], xticklabels=['0', '0.25', '0.50', '0.75', '1'])\n",
    "ax1.set_xticks([0,0.25, 0.5, 0.75, 1])\n",
    "ax1.minorticks_on()\n",
    "ax1.tick_params('both', length=4, width=1, which='major', left=1, bottom=1, top=0, right=0)\n",
    "ax2.set_xticks([0,0.25, 0.5, 0.75, 1])\n",
    "ax2.minorticks_on()\n",
    "ax2.tick_params('both', length=4, width=1, which='major', left=1, bottom=1, top=0, right=0)\n",
    "ax2.set_ylabel('Normalized Frequency')\n",
    "ax1.set_ylabel('Normalized Frequency')\n",
    "ax2.set_xlabel('Proportion of $in$-class Neighbors, $d_{i,\\\\mathrm{in}}/d_i$')\n",
    "ax1.set_xlabel('Proportion of $in$-class Neighbors, $d_{i,\\\\mathrm{in}}/d_i$')\n",
    "\n",
    "\n",
    "ax1.hist(add_health_null[1],\n",
    "         bins = np.linspace(0,1,nbins),\n",
    "         normed = True,\n",
    "         edgecolor = 'red',histtype='step',\n",
    "        color='white',alpha=1,lw=1)\n",
    "\n",
    "ax1.spines[\"right\"].set_visible(False)\n",
    "ax1.spines[\"top\"].set_visible(False)\n",
    "ax1.set_ylim(0,7)\n",
    "ax2.set_ylim(0,7)\n",
    "\n",
    "\n",
    "\n",
    "ax2.hist(add_health_obs[0],\n",
    "         bins = np.linspace(0,1,nbins),\n",
    "         normed = True,\n",
    "         edgecolor = 'white',\n",
    "        color='black',alpha=0.5)\n",
    "\n",
    "ax2.hist(add_health_null[0],\n",
    "         bins = np.linspace(0,1,nbins),\n",
    "         normed = True,\n",
    "         edgecolor = 'black',histtype='step',\n",
    "        color='white',alpha=1,lw=1.5)\n",
    "ax2.spines[\"right\"].set_visible(False)\n",
    "ax2.spines[\"top\"].set_visible(False)\n",
    "\n",
    "\n",
    "\n",
    "#f.text(0.5, 0.01, 'Proportion of $in$-class degrees, $d_{i,in}/d_i$', ha='center',size=10)\n",
    "f.text(0.5, 0.95, '(undirected)', ha='center',size=10)\n",
    "ax1.annotate('Females', xy=(0.08,6.5), \n",
    "                 color='red', alpha=1, size=12)\n",
    "\n",
    "ax2.annotate('Males', xy=(0.08,6.5), \n",
    "                 color='black', alpha=1, size=12)\n",
    "\n",
    "\n",
    "plt.tight_layout()\n",
    "\n",
    "#plt.show()\n",
    "pp = PdfPages('../../figures/Add_Health_23_undirected_overdispersion_100k.pdf')\n",
    "pp.savefig()\n",
    "pp.close()"
   ]
  },
  {
   "cell_type": "markdown",
   "metadata": {},
   "source": [
    "## in-directed"
   ]
  },
  {
   "cell_type": "code",
   "execution_count": 46,
   "metadata": {
    "collapsed": true
   },
   "outputs": [],
   "source": [
    "add_health_null =  compute_null_distribution(adj_gender_in, \n",
    "                                ah_gender_in, \n",
    "                                100000)\n",
    "add_health_obs = compute_observed_same_total_degree(adj_gender_in, \n",
    "                                ah_gender_in)"
   ]
  },
  {
   "cell_type": "code",
   "execution_count": 47,
   "metadata": {
    "collapsed": false
   },
   "outputs": [
    {
     "data": {
      "image/png": "[encoded data removed]",
      "text/plain": [
       "<matplotlib.figure.Figure at 0x11cccd610>"
      ]
     },
     "metadata": {},
     "output_type": "display_data"
    }
   ],
   "source": [
    "%matplotlib inline\n",
    "\n",
    "f, (ax1, ax2) = plt.subplots(1, 2, \n",
    "                             sharey=False, sharex=False,\n",
    "                            figsize=(8, 3))\n",
    "ax1.hist(add_health_obs[1],\n",
    "         bins = np.linspace(0,1,nbins),\n",
    "         normed = True,\n",
    "         edgecolor = 'white',\n",
    "        color='red',alpha=0.5)\n",
    "\n",
    "ax1.hist(add_health_null[1],\n",
    "         bins = np.linspace(0,1,nbins),\n",
    "         normed = True,\n",
    "         edgecolor = 'red',histtype='step',\n",
    "        color='white',alpha=1,lw=1)\n",
    "plt.setp(ax1, xticks=[0,0.25, 0.5, 0.75, 1], xticklabels=['0', '0.25', '0.50', '0.75', '1'])\n",
    "ax1.set_xticks([0,0.25, 0.5, 0.75, 1])\n",
    "ax1.minorticks_on()\n",
    "ax1.tick_params('both', length=4, width=1, which='major', left=1, bottom=1, top=0, right=0)\n",
    "ax2.set_xticks([0,0.25, 0.5, 0.75, 1])\n",
    "ax2.minorticks_on()\n",
    "ax2.tick_params('both', length=4, width=1, which='major', left=1, bottom=1, top=0, right=0)\n",
    "ax2.set_ylabel('Normalized Frequency')\n",
    "ax1.set_ylabel('Normalized Frequency')\n",
    "ax2.set_xlabel('Proportion of $in$-class Neighbors, $d_{i,\\\\mathrm{in}}/d_i$')\n",
    "ax1.set_xlabel('Proportion of $in$-class Neighbors, $d_{i,\\\\mathrm{in}}/d_i$')\n",
    "\n",
    "ax1.spines[\"right\"].set_visible(False)\n",
    "ax1.spines[\"top\"].set_visible(False)\n",
    "ax1.set_ylim(0,7)\n",
    "ax2.set_ylim(0,7)\n",
    "\n",
    "\n",
    "\n",
    "ax2.hist(add_health_obs[0],\n",
    "         bins = np.linspace(0,1,nbins),\n",
    "         normed = True,\n",
    "         edgecolor = 'white',\n",
    "        color='black',alpha=0.5)\n",
    "\n",
    "ax2.hist(add_health_null[0],\n",
    "         bins = np.linspace(0,1,nbins),\n",
    "         normed = True,\n",
    "         edgecolor = 'black',histtype='step',\n",
    "        color='white',alpha=1,lw=1.5)\n",
    "ax2.spines[\"right\"].set_visible(False)\n",
    "ax2.spines[\"top\"].set_visible(False)\n",
    "\n",
    "f.text(0.5, 0.95, '(in-links)', ha='center',size=10)\n",
    "ax1.annotate('Females', xy=(0.08,6.5), \n",
    "                 color='red', alpha=1, size=12)\n",
    "\n",
    "ax2.annotate('Males', xy=(0.08,6.5), \n",
    "                 color='black', alpha=1, size=12)\n",
    "\n",
    "\n",
    "plt.tight_layout()\n",
    "\n",
    "\n",
    "pp = PdfPages('../../figures/Add_Health_23_indirected_overdispersion_100k.pdf')\n",
    "pp.savefig()\n",
    "pp.close()"
   ]
  },
  {
   "cell_type": "markdown",
   "metadata": {},
   "source": [
    "## out-directed"
   ]
  },
  {
   "cell_type": "code",
   "execution_count": 48,
   "metadata": {
    "collapsed": true
   },
   "outputs": [],
   "source": [
    "add_health_null =  compute_null_distribution(adj_gender_out, \n",
    "                                ah_gender_out, \n",
    "                                100000)\n",
    "add_health_obs = compute_observed_same_total_degree(adj_gender_out, \n",
    "                                ah_gender_out)\n",
    "\n",
    "\n"
   ]
  },
  {
   "cell_type": "code",
   "execution_count": 49,
   "metadata": {
    "collapsed": false
   },
   "outputs": [
    {
     "data": {
      "image/png": "[encoded data removed]",
      "text/plain": [
       "<matplotlib.figure.Figure at 0x11d5b5410>"
      ]
     },
     "metadata": {},
     "output_type": "display_data"
    }
   ],
   "source": [
    "%matplotlib inline\n",
    "f, (ax1, ax2) = plt.subplots(1, 2, \n",
    "                             sharey=False, sharex=False,\n",
    "                            figsize=(8, 3))\n",
    "ax1.hist(add_health_obs[1],\n",
    "         bins = np.linspace(0,1,nbins),\n",
    "         normed = True,\n",
    "         edgecolor = 'white',\n",
    "        color='red',alpha=0.5)\n",
    "\n",
    "ax1.hist(add_health_null[1],\n",
    "         bins = np.linspace(0,1,nbins),\n",
    "         normed = True,\n",
    "         edgecolor = 'red',histtype='step',\n",
    "        color='white',alpha=1,lw=1)\n",
    "plt.setp(ax1, xticks=[0,0.25, 0.5, 0.75, 1], xticklabels=['0', '0.25', '0.50', '0.75', '1'])\n",
    "ax1.set_xticks([0,0.25, 0.5, 0.75, 1])\n",
    "ax1.minorticks_on()\n",
    "ax1.tick_params('both', length=4, width=1, which='major', left=1, bottom=1, top=0, right=0)\n",
    "ax2.set_xticks([0,0.25, 0.5, 0.75, 1])\n",
    "ax2.minorticks_on()\n",
    "ax2.tick_params('both', length=4, width=1, which='major', left=1, bottom=1, top=0, right=0)\n",
    "ax2.set_ylabel('Normalized Frequency')\n",
    "ax1.set_ylabel('Normalized Frequency')\n",
    "ax2.set_xlabel('Proportion of $in$-class Neighbors, $d_{i,\\\\mathrm{in}}/d_i$')\n",
    "ax1.set_xlabel('Proportion of $in$-class Neighbors, $d_{i,\\\\mathrm{in}}/d_i$')\n",
    "\n",
    "\n",
    "#ax1.set_ylabel('Frequency')\n",
    "ax1.spines[\"right\"].set_visible(False)\n",
    "ax1.spines[\"top\"].set_visible(False)\n",
    "ax1.set_ylim(0,7)\n",
    "ax2.set_ylim(0,7)\n",
    "\n",
    "\n",
    "ax2.hist(add_health_obs[0],\n",
    "         bins = np.linspace(0,1,nbins),\n",
    "         normed = True,\n",
    "         edgecolor = 'white',\n",
    "        color='black',alpha=0.5)\n",
    "\n",
    "ax2.hist(add_health_null[0],\n",
    "         bins = np.linspace(0,1,nbins),\n",
    "         normed = True,\n",
    "         edgecolor = 'black',histtype='step',\n",
    "        color='white',alpha=1,lw=1.5)\n",
    "ax2.spines[\"right\"].set_visible(False)\n",
    "ax2.spines[\"top\"].set_visible(False)\n",
    "\n",
    "f.text(0.5, 0.95, '(out-links)', ha='center',size=10)\n",
    "ax1.annotate('Females', xy=(0.08,6.5), \n",
    "                 color='red', alpha=1, size=12)\n",
    "\n",
    "ax2.annotate('Males', xy=(0.08,6.5), \n",
    "                 color='black', alpha=1, size=12)\n",
    "\n",
    "\n",
    "plt.tight_layout()\n",
    "\n",
    "\n",
    "pp = PdfPages('../../figures/Add_Health_23_outdirected_overdispersion_100k.pdf')\n",
    "pp.savefig()\n",
    "pp.close()"
   ]
  },
  {
   "cell_type": "markdown",
   "metadata": {},
   "source": [
    "## LINK Logistic Regression"
   ]
  },
  {
   "cell_type": "code",
   "execution_count": 50,
   "metadata": {
    "collapsed": true
   },
   "outputs": [],
   "source": [
    "percent_initially_unlabelled = [0.98,0.95,0.9,0.8,0.7,0.6,0.5,0.4,0.3,0.2,0.1,0.05]\n",
    "percent_initially_labelled = np.subtract(1, percent_initially_unlabelled)"
   ]
  },
  {
   "cell_type": "code",
   "execution_count": 51,
   "metadata": {
    "collapsed": true
   },
   "outputs": [],
   "source": [
    "n_iter = 100"
   ]
  },
  {
   "cell_type": "code",
   "execution_count": 52,
   "metadata": {
    "collapsed": false
   },
   "outputs": [
    {
     "name": "stdout",
     "output_type": "stream",
     "text": [
      "0.98\n",
      "0.95\n",
      "0.9\n",
      "0.8\n",
      "0.7\n",
      "0.6\n",
      "0.5\n",
      "0.4\n",
      "0.3\n",
      "0.2\n",
      "0.1\n",
      "0.05\n"
     ]
    }
   ],
   "source": [
    "#undirected\n",
    "(mean_accuracy_ah_both, se_accuracy_ah_both, \n",
    " mean_micro_auc_ah_both,se_micro_auc_ah_both, mean_wt_auc_ah_both,se_wt_auc_ah_both)= LINK(percent_initially_unlabelled, ## note: mean_se_model assumes a vector of x% initially labeled\n",
    "                                                              np.array(ah_gender_both), ## gender labels \n",
    "                                                              np.array(adj_gender_both), ## adjacency matrix\n",
    "                                                              clf = linear_model.LogisticRegression(penalty='l2',\n",
    "                                                                                                    C=10e20,\n",
    "                                                                                                   solver='lbfgs'),\n",
    "                                                                        num_iter=n_iter,\n",
    "                                                            cv_setup='None') \n",
    "\n",
    "\n",
    "\n"
   ]
  },
  {
   "cell_type": "code",
   "execution_count": 53,
   "metadata": {
    "collapsed": false
   },
   "outputs": [
    {
     "name": "stdout",
     "output_type": "stream",
     "text": [
      "0.98\n",
      "0.95\n",
      "0.9\n",
      "0.8\n",
      "0.7\n",
      "0.6\n",
      "0.5\n",
      "0.4\n",
      "0.3\n",
      "0.2\n",
      "0.1\n",
      "0.05\n"
     ]
    }
   ],
   "source": [
    "#undirected\n",
    "(mean_accuracy_ah_undirect, se_accuracy_ah_undirect, \n",
    " mean_micro_auc_ah_undirect,se_micro_auc_ah_undirect, mean_wt_auc_ah_undirect,se_wt_auc_ah_undirect)= LINK(percent_initially_unlabelled, ## note: mean_se_model assumes a vector of x% initially labeled\n",
    "                                                              np.array(ah_gender_undirected), ## gender labels \n",
    "                                                              np.matrix(adj_directed_gender_undirected), ## adjacency matrix\n",
    "                                                              clf = linear_model.LogisticRegression(penalty='l2',\n",
    "                                                                                                    C=10e20,\n",
    "                                                                                                   solver='lbfgs'),\n",
    "                                                                        num_iter=n_iter,\n",
    "                                                            cv_setup='None') \n",
    "\n",
    "\n"
   ]
  },
  {
   "cell_type": "code",
   "execution_count": 54,
   "metadata": {
    "collapsed": false
   },
   "outputs": [
    {
     "name": "stdout",
     "output_type": "stream",
     "text": [
      "0.98\n",
      "0.95\n",
      "0.9\n",
      "0.8\n",
      "0.7\n",
      "0.6\n",
      "0.5\n",
      "0.4\n",
      "0.3\n",
      "0.2\n",
      "0.1\n",
      "0.05\n"
     ]
    }
   ],
   "source": [
    "#in\n",
    "(mean_accuracy_ah_in, se_accuracy_ah_in, \n",
    " mean_micro_auc_ah_in,se_micro_auc_ah_in, mean_wt_auc_ah_in,se_wt_auc_ah_in)= LINK(percent_initially_unlabelled, ## note: mean_se_model assumes a vector of x% initially labeled\n",
    "                                                              np.array(ah_gender_in), ## gender labels \n",
    "                                                              np.matrix(adj_gender_in), ## adjacency matrix\n",
    "                                                              clf = linear_model.LogisticRegression(penalty='l2',\n",
    "                                                                                                    C=10e20,\n",
    "                                                                                                   solver='lbfgs'),\n",
    "                                                                        num_iter=n_iter,\n",
    "                                                            cv_setup=None) \n",
    "\n",
    "\n",
    "\n"
   ]
  },
  {
   "cell_type": "code",
   "execution_count": 55,
   "metadata": {
    "collapsed": false
   },
   "outputs": [
    {
     "name": "stdout",
     "output_type": "stream",
     "text": [
      "0.98\n",
      "0.95\n",
      "0.9\n",
      "0.8\n",
      "0.7\n",
      "0.6\n",
      "0.5\n",
      "0.4\n",
      "0.3\n",
      "0.2\n",
      "0.1\n",
      "0.05\n"
     ]
    }
   ],
   "source": [
    "#out\n",
    "(mean_accuracy_ah_out, se_accuracy_ah_out, \n",
    " mean_micro_auc_ah_out,se_micro_auc_ah_out, mean_wt_auc_ah_out,se_wt_auc_ah_out)= LINK(percent_initially_unlabelled, ## note: mean_se_model assumes a vector of x% initially labeled\n",
    "                                                              np.array(ah_gender_out), ## gender labels \n",
    "                                                              np.matrix(adj_gender_out), ## adjacency matrix\n",
    "                                                              clf = linear_model.LogisticRegression(penalty='l2',\n",
    "                                                                                                    C=10e20,\n",
    "                                                                                                   solver='lbfgs'),\n",
    "                                                                        num_iter=n_iter,\n",
    "                                                            cv_setup=None) \n",
    "\n",
    "\n",
    "\n",
    "\n"
   ]
  },
  {
   "cell_type": "markdown",
   "metadata": {},
   "source": [
    "## SI Figure . gender classification on school #23 in Add Health for in-, out-, and undirected versions of LINK"
   ]
  },
  {
   "cell_type": "code",
   "execution_count": 56,
   "metadata": {
    "collapsed": false
   },
   "outputs": [
    {
     "data": {
      "image/png": "[encoded data removed]",
      "text/plain": [
       "<matplotlib.figure.Figure at 0x1c0c637d0>"
      ]
     },
     "metadata": {},
     "output_type": "display_data"
    }
   ],
   "source": [
    "%matplotlib inline\n",
    "from matplotlib.ticker import FixedLocator,LinearLocator,MultipleLocator, FormatStrFormatter\n",
    "fig = plt.figure()\n",
    "seaborn.set_style(style='white')\n",
    "from mpl_toolkits.axes_grid1 import Grid\n",
    "grid = Grid(fig, rect=111, nrows_ncols=(1,1),\n",
    "            axes_pad=0.1, label_mode='L')\n",
    "\n",
    "\n",
    "for i in range(4):\n",
    "    if i == 0:\n",
    "        grid[i].xaxis.set_major_locator(FixedLocator([0,25,50,75,100]))\n",
    "        grid[i].yaxis.set_major_locator(FixedLocator([0.5,0.6,0.7,0.8,0.9,1]))\n",
    "\n",
    "        grid[i].errorbar(percent_initially_labelled*100, mean_wt_auc_ah_undirect, \n",
    "            yerr=se_wt_auc_ah_undirect, fmt='--o', capthick=2,\n",
    "            alpha=0.6, elinewidth=3, color='black')\n",
    "        \n",
    "        grid[i].errorbar(percent_initially_labelled*100, mean_wt_auc_ah_in, \n",
    "            yerr=se_wt_auc_ah_in, fmt='--o', capthick=2,\n",
    "            alpha=0.6, elinewidth=3, color='red')\n",
    "        \n",
    "        grid[i].errorbar(percent_initially_labelled*100, mean_wt_auc_ah_out,\n",
    "            yerr=se_wt_auc_ah_out, fmt='--o', capthick=2,\n",
    "            alpha=0.6, elinewidth=3, color='gray')\n",
    "        \n",
    "        \n",
    "        grid[i].tick_params('both', length=4, width=1, which='major', left=1, bottom=1, top=0, right=0)\n",
    "\n",
    "\n",
    "        grid[i].set_ylim(0.4,1.1)\n",
    "        grid[i].set_xlim(0,100)\n",
    "        grid[i].annotate('LINK: in features', xy=(3, 0.99), \n",
    "                 color='gray', alpha=1, size=12)\n",
    "\n",
    "        grid[i].annotate('LINK: undirected features', xy=(3, 0.96), \n",
    "                 color='black', alpha=1, size=12)\n",
    "        grid[i].annotate('LINK: out features', xy=(3, 0.93), \n",
    "                 color='red', alpha=1, size=12)\n",
    "\n",
    "        grid[i].set_ylim(0.4,1.05)\n",
    "        grid[i].set_xlim(0,100)\n",
    "        grid[i].spines['right'].set_visible(False)\n",
    "        grid[i].spines['top'].set_visible(False)\n",
    "        grid[i].tick_params(axis='both', which='major', labelsize=9)\n",
    "        grid[i].tick_params(axis='both', which='minor', labelsize=9)\n",
    "\n",
    "\n",
    "fig.text(0.5, 0.9, 'Gender Inference on Add Health #' +str(id[0]) + ' - LINK', ha='center', fontsize=13)        \n",
    "fig.text(0.5, 0.01, '% of Nodes Initially Labeled', ha='center', fontsize=13)\n",
    "fig.text(0.01, 0.5, 'AUC', va='center', rotation='vertical', fontsize=13)\n",
    "\n",
    "pp = PdfPages('../../figures/AddHealth_School_23_LINK_Inference.pdf')\n",
    "pp.savefig()\n",
    "pp.close()"
   ]
  },
  {
   "cell_type": "markdown",
   "metadata": {},
   "source": [
    "## LINK results for other AH schools"
   ]
  },
  {
   "cell_type": "code",
   "execution_count": 57,
   "metadata": {
    "collapsed": true
   },
   "outputs": [],
   "source": [
    "percent_initially_unlabelled = [0.9,0.8,0.7,0.6,0.5,0.4,0.3,0.2,0.1]\n",
    "percent_initially_labelled = np.subtract(1, percent_initially_unlabelled)"
   ]
  },
  {
   "cell_type": "code",
   "execution_count": 58,
   "metadata": {
    "collapsed": false
   },
   "outputs": [
    {
     "name": "stdout",
     "output_type": "stream",
     "text": [
      "comm15\n",
      "Processing comm15.gml...\n",
      "0.9\n",
      "0.8\n",
      "0.7\n",
      "0.6\n",
      "0.5\n",
      "0.4\n",
      "0.3\n",
      "0.2\n",
      "0.1\n",
      "0.9\n",
      "0.8\n",
      "0.7\n",
      "0.6\n",
      "0.5\n",
      "0.4\n",
      "0.3\n",
      "0.2\n",
      "0.1\n",
      "0.9\n",
      "0.8\n",
      "0.7\n",
      "0.6\n",
      "0.5\n",
      "0.4\n",
      "0.3\n",
      "0.2\n",
      "0.1\n",
      "comm16\n",
      "Processing comm16.gml...\n",
      "0.9\n",
      "0.8\n",
      "0.7\n",
      "0.6\n",
      "0.5\n",
      "0.4\n",
      "0.3\n",
      "0.2\n",
      "0.1\n",
      "0.9\n",
      "0.8\n",
      "0.7\n",
      "0.6\n",
      "0.5\n",
      "0.4\n",
      "0.3\n",
      "0.2\n",
      "0.1\n",
      "0.9\n",
      "0.8\n",
      "0.7\n",
      "0.6\n",
      "0.5\n",
      "0.4\n",
      "0.3\n",
      "0.2\n",
      "0.1\n",
      "comm17\n",
      "Processing comm17.gml...\n",
      "0.9\n",
      "0.8\n",
      "0.7\n",
      "0.6\n",
      "0.5\n",
      "0.4\n",
      "0.3\n",
      "0.2\n",
      "0.1\n",
      "0.9\n",
      "0.8\n",
      "0.7\n",
      "0.6\n",
      "0.5\n",
      "0.4\n",
      "0.3\n",
      "0.2\n",
      "0.1\n",
      "0.9\n",
      "0.8\n",
      "0.7\n",
      "0.6\n",
      "0.5\n",
      "0.4\n",
      "0.3\n",
      "0.2\n",
      "0.1\n",
      "comm18\n",
      "Processing comm18.gml...\n",
      "0.9\n",
      "0.8\n",
      "0.7\n",
      "0.6\n",
      "0.5\n",
      "0.4\n",
      "0.3\n",
      "0.2\n",
      "0.1\n",
      "0.9\n",
      "0.8\n",
      "0.7\n",
      "0.6\n",
      "0.5\n",
      "0.4\n",
      "0.3\n",
      "0.2\n",
      "0.1\n",
      "0.9\n",
      "0.8\n",
      "0.7\n",
      "0.6\n",
      "0.5\n",
      "0.4\n",
      "0.3\n",
      "0.2\n",
      "0.1\n",
      "comm19\n",
      "Processing comm19.gml...\n",
      "0.9\n",
      "0.8\n",
      "0.7\n",
      "0.6\n",
      "0.5\n",
      "0.4\n",
      "0.3\n",
      "0.2\n",
      "0.1\n",
      "0.9\n",
      "0.8\n",
      "0.7\n",
      "0.6\n",
      "0.5\n",
      "0.4\n",
      "0.3\n",
      "0.2\n",
      "0.1\n",
      "0.9\n",
      "0.8\n",
      "0.7\n",
      "0.6\n",
      "0.5\n",
      "0.4\n",
      "0.3\n",
      "0.2\n",
      "0.1\n",
      "comm20\n",
      "Processing comm20.gml...\n",
      "0.9\n",
      "0.8\n",
      "0.7\n",
      "0.6\n",
      "0.5\n",
      "0.4\n",
      "0.3\n",
      "0.2\n",
      "0.1\n",
      "0.9\n",
      "0.8\n",
      "0.7\n",
      "0.6\n",
      "0.5\n",
      "0.4\n",
      "0.3\n",
      "0.2\n",
      "0.1\n",
      "0.9\n",
      "0.8\n",
      "0.7\n",
      "0.6\n",
      "0.5\n",
      "0.4\n",
      "0.3\n",
      "0.2\n",
      "0.1\n",
      "comm21\n",
      "Processing comm21.gml...\n",
      "0.9\n",
      "0.8\n",
      "0.7\n",
      "0.6\n",
      "0.5\n",
      "0.4\n",
      "0.3\n",
      "0.2\n",
      "0.1\n",
      "0.9\n",
      "0.8\n",
      "0.7\n",
      "0.6\n",
      "0.5\n",
      "0.4\n",
      "0.3\n",
      "0.2\n",
      "0.1\n",
      "0.9\n",
      "0.8\n",
      "0.7\n",
      "0.6\n",
      "0.5\n",
      "0.4\n",
      "0.3\n",
      "0.2\n",
      "0.1\n",
      "comm22\n",
      "Processing comm22.gml...\n",
      "0.9\n",
      "0.8\n",
      "0.7\n",
      "0.6\n",
      "0.5\n",
      "0.4\n",
      "0.3\n",
      "0.2\n",
      "0.1\n",
      "0.9\n",
      "0.8\n",
      "0.7\n",
      "0.6\n",
      "0.5\n",
      "0.4\n",
      "0.3\n",
      "0.2\n",
      "0.1\n",
      "0.9\n",
      "0.8\n",
      "0.7\n",
      "0.6\n",
      "0.5\n",
      "0.4\n",
      "0.3\n",
      "0.2\n",
      "0.1\n",
      "comm23\n",
      "Processing comm23.gml...\n",
      "0.9\n",
      "0.8\n",
      "0.7\n",
      "0.6\n",
      "0.5\n",
      "0.4\n",
      "0.3\n",
      "0.2\n",
      "0.1\n",
      "0.9\n",
      "0.8\n",
      "0.7\n",
      "0.6\n",
      "0.5\n",
      "0.4\n",
      "0.3\n",
      "0.2\n",
      "0.1\n",
      "0.9\n",
      "0.8\n",
      "0.7\n",
      "0.6\n",
      "0.5\n",
      "0.4\n",
      "0.3\n",
      "0.2\n",
      "0.1\n"
     ]
    },
    {
     "name": "stderr",
     "output_type": "stream",
     "text": [
      "/Users/kristen/anaconda/lib/python2.7/site-packages/sklearn/linear_model/base.py:352: RuntimeWarning: overflow encountered in exp\n",
      "  np.exp(prob, prob)\n"
     ]
    },
    {
     "data": {
      "image/png": "[encoded data removed]",
      "text/plain": [
       "<matplotlib.figure.Figure at 0x1cb8a9c50>"
      ]
     },
     "metadata": {},
     "output_type": "display_data"
    }
   ],
   "source": [
    "school_num_array = np.array(range(84))+1\n",
    "\n",
    "for school_num in school_num_array:\n",
    "    for f in listdir(add_health_file):\n",
    "        if f.endswith('.gml') and f=='comm' + str(school_num) +'.gml' and school_num !=3 and school_num !=27 and school_num >=15 and school_num <=23:# and school_num <27: \n",
    "            tag = f.replace('.gml', '')\n",
    "            print tag\n",
    "\n",
    "            id = re.findall(r'\\d+', f)\n",
    "            print \"Processing %s...\" % f\n",
    "\n",
    "            # directed graph\n",
    "            ah_graph_directed = nx.read_gml(add_health_file+f)\n",
    "\n",
    "            # for mutual links\n",
    "            t1 = nx.adj_matrix(ah_graph_directed).todense()\n",
    "            t2 = np.copy(t1.T)\n",
    "            final = ((t1+t2) > 0)+0\n",
    "\n",
    "            # undirected graph\n",
    "            ah_graph_tmp = nx.read_gml(add_health_file+f)\n",
    "            ah_graph_undirected = ah_graph_tmp.to_undirected()\n",
    "\n",
    "\n",
    "\n",
    "            (ah_gender_undirected, adj_directed_gender_undirected) = create_adj_membership(nx.from_numpy_matrix(final),\n",
    "                                                                       nx.get_node_attributes(ah_graph_directed, 'comm' + str(id[0]) +'sex'),\n",
    "                                                                       0,\n",
    "                                                                       'yes',\n",
    "                                                                       0,\n",
    "                                                                       None, # change adjacency matrix type: out == out-link, in == in-link, any1 == undirected\n",
    "                                                                       'gender')\n",
    "            ah_gender_undirected = np.array(map(np.int,ah_gender_undirected))\n",
    "\n",
    "\n",
    "            #in\n",
    "            (ah_gender_in, adj_gender_in) = create_directed_adj_membership(ah_graph_directed,\n",
    "                                                                    nx.get_node_attributes(ah_graph_directed, 'comm' + str(id[0]) +'sex'), ## fix for non-mutual links here\n",
    "                                                                       0,\n",
    "                                                                       'yes',\n",
    "                                                                       0,\n",
    "                                                                       'in', # change adjacency matrix type: out == out-link, in == in-link, any1 == undirected\n",
    "                                                                       'gender')\n",
    "            ah_gender_in = np.array(map(np.int,ah_gender_in))\n",
    "\n",
    "\n",
    "            #out-link\n",
    "            (ah_gender_out, adj_gender_out) = create_directed_adj_membership(ah_graph_directed,\n",
    "                                                                    nx.get_node_attributes(ah_graph_directed, \n",
    "                                                                                           'comm' + str(id[0]) +'sex'), ## fix for non-mutual links here\n",
    "                                                                       0,\n",
    "                                                                       'yes',\n",
    "                                                                       0,\n",
    "                                                                       'out', # change adjacency matrix type: out == out-link, in == in-link, any1 == undirected\n",
    "                                                                       'gender')\n",
    "            ah_gender_out = np.array(map(np.int,ah_gender_out))\n",
    "\n",
    "\n",
    "\n",
    "\n",
    "\n",
    "\n",
    "            n_iter = 100\n",
    "\n",
    "\n",
    "            #undirected\n",
    "            (mean_accuracy_ah_undirect, se_accuracy_ah_undirect, \n",
    "             mean_micro_auc_ah_undirect,se_micro_auc_ah_undirect, mean_wt_auc_ah_undirect,se_wt_auc_ah_undirect)= LINK(percent_initially_unlabelled, ## note: mean_se_model assumes a vector of x% initially labeled\n",
    "                                                                          np.array(ah_gender_undirected), ## gender labels \n",
    "                                                                          np.matrix(adj_directed_gender_undirected), ## adjacency matrix\n",
    "                                                                          clf = linear_model.LogisticRegression(penalty='l2',\n",
    "                                                                                                                C=10e20,\n",
    "                                                                                                               solver='lbfgs'),\n",
    "                                                                                    num_iter=n_iter,\n",
    "                                                                        cv_setup='stratified') \n",
    "\n",
    "\n",
    "\n",
    "            #in\n",
    "            (mean_accuracy_ah_in, se_accuracy_ah_in, \n",
    "             mean_micro_auc_ah_in,se_micro_auc_ah_in, mean_wt_auc_ah_in,se_wt_auc_ah_in)= LINK(percent_initially_unlabelled, ## note: mean_se_model assumes a vector of x% initially labeled\n",
    "                                                                          np.array(ah_gender_in), ## gender labels \n",
    "                                                                          np.matrix(adj_gender_in), ## adjacency matrix\n",
    "                                                                          clf = linear_model.LogisticRegression(penalty='l2',\n",
    "                                                                                                                C=10e20,\n",
    "                                                                                                               solver='lbfgs'),\n",
    "                                                                                    num_iter=n_iter,\n",
    "                                                                        cv_setup='stratified') \n",
    "\n",
    "\n",
    "\n",
    "            #out\n",
    "            (mean_accuracy_ah_out, se_accuracy_ah_out, \n",
    "             mean_micro_auc_ah_out,se_micro_auc_ah_out, mean_wt_auc_ah_out,se_wt_auc_ah_out)= LINK(percent_initially_unlabelled, ## note: mean_se_model assumes a vector of x% initially labeled\n",
    "                                                                          np.array(ah_gender_out), ## gender labels \n",
    "                                                                          np.matrix(adj_gender_out), ## adjacency matrix\n",
    "                                                                          clf = linear_model.LogisticRegression(penalty='l2',\n",
    "                                                                                                                C=10e20,\n",
    "                                                                                                               solver='lbfgs'),\n",
    "                                                                                    num_iter=n_iter,\n",
    "                                                                        cv_setup='stratified') \n",
    "\n",
    "\n",
    "\n",
    "\n",
    "\n",
    "\n",
    "\n",
    "            %matplotlib inline\n",
    "            from matplotlib.ticker import FixedLocator,LinearLocator,MultipleLocator, FormatStrFormatter\n",
    "            fig = plt.figure()\n",
    "            seaborn.set_style(style='white')\n",
    "            from mpl_toolkits.axes_grid1 import Grid\n",
    "            grid = Grid(fig, rect=111, nrows_ncols=(1,1),\n",
    "                        axes_pad=0.1, label_mode='L')\n",
    "\n",
    "\n",
    "            for i in range(4):\n",
    "                if i == 0:\n",
    "                    grid[i].xaxis.set_major_locator(FixedLocator([0,25,50,75,100]))\n",
    "                    grid[i].yaxis.set_major_locator(FixedLocator([0.2,0.3,0.4,0.5,0.6,0.7,0.8,0.9,1]))\n",
    "\n",
    "                    grid[i].errorbar(percent_initially_labelled*100, mean_wt_auc_ah_undirect, \n",
    "                        yerr=se_wt_auc_ah_undirect, fmt='--o', capthick=2,\n",
    "                        alpha=0.6, elinewidth=3, color='black')\n",
    "\n",
    "                    grid[i].errorbar(percent_initially_labelled*100, mean_wt_auc_ah_in, \n",
    "                        yerr=se_wt_auc_ah_in, fmt='--o', capthick=2,\n",
    "                        alpha=0.6, elinewidth=3, color='red')\n",
    "\n",
    "                    grid[i].errorbar(percent_initially_labelled*100, mean_wt_auc_ah_out,\n",
    "                        yerr=se_wt_auc_ah_out, fmt='--o', capthick=2,\n",
    "                        alpha=0.6, elinewidth=3, color='gray')\n",
    "\n",
    "\n",
    "                    grid[i].tick_params('both', length=4, width=1, which='major', left=1, bottom=1, top=0, right=0)\n",
    "\n",
    "\n",
    "                    grid[i].set_ylim(0.2,1.05)\n",
    "\n",
    "                    grid[i].set_xlim(0,100)\n",
    "                    grid[i].annotate('LINK: in features', xy=(3, 0.99), \n",
    "                             color='gray', alpha=1, size=12)\n",
    "\n",
    "                    grid[i].annotate('LINK: undirected features', xy=(3, 0.94), \n",
    "                             color='black', alpha=1, size=12)\n",
    "                    grid[i].annotate('LINK: out features', xy=(3, 0.89), \n",
    "                             color='red', alpha=1, size=12)\n",
    "\n",
    "                    grid[i].set_ylim(0.2,1.05)\n",
    "                    grid[i].set_xlim(0,100)\n",
    "                    grid[i].spines['right'].set_visible(False)\n",
    "                    grid[i].spines['top'].set_visible(False)\n",
    "                    grid[i].tick_params(axis='both', which='major', labelsize=9)\n",
    "                    grid[i].tick_params(axis='both', which='minor', labelsize=9)\n",
    "\n",
    "\n",
    "            fig.text(0.5, 0.9, 'Gender Inference on Add Health #' +str(school_num)  + ' - LINK', ha='center', fontsize=13)        \n",
    "            fig.text(0.5, 0.01, '% of Nodes Initially Labeled', ha='center', fontsize=13)\n",
    "            fig.text(0.01, 0.5, 'AUC', va='center', rotation='vertical', fontsize=13)\n",
    "\n",
    "            pp = PdfPages('../../figures/AddHealth_School_' + str(school_num) + '_LINK_Inference_stratified.pdf')\n",
    "            pp.savefig()\n",
    "            pp.close()"
   ]
  },
  {
   "cell_type": "code",
   "execution_count": null,
   "metadata": {
    "collapsed": true
   },
   "outputs": [],
   "source": []
  },
  {
   "cell_type": "code",
   "execution_count": null,
   "metadata": {
    "collapsed": true
   },
   "outputs": [],
   "source": []
  }
 ],
 "metadata": {
  "kernelspec": {
   "display_name": "Python 2",
   "language": "python",
   "name": "python2"
  },
  "language_info": {
   "codemirror_mode": {
    "name": "ipython",
    "version": 2
   },
   "file_extension": ".py",
   "mimetype": "text/x-python",
   "name": "python",
   "nbconvert_exporter": "python",
   "pygments_lexer": "ipython2",
   "version": "2.7.12"
  }
 },
 "nbformat": 4,
 "nbformat_minor": 1
}
