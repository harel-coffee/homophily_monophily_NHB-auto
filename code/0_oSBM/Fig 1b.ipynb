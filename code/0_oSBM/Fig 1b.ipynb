{
 "cells": [
  {
   "cell_type": "code",
   "execution_count": 55,
   "metadata": {
    "collapsed": false
   },
   "outputs": [],
   "source": [
    "from __future__ import division\n",
    "import os\n",
    "import igraph\n",
    "import numpy as np\n",
    "import pandas as pd\n",
    "from matplotlib.backends.backend_pdf import PdfPages\n",
    "from scipy.stats.kde import gaussian_kde\n",
    "from matplotlib.ticker import FixedLocator,LinearLocator,MultipleLocator, FormatStrFormatter\n",
    "from mpl_toolkits.axes_grid1 import Grid\n",
    "\n",
    "# relevant python libraries\n",
    "execfile('../functions/python_libraries.py')"
   ]
  },
  {
   "cell_type": "code",
   "execution_count": 56,
   "metadata": {
    "collapsed": false
   },
   "outputs": [],
   "source": [
    "#reference: http://sociograph.blogspot.com/2012/11/visualizing-adjacency-matrices-in-python.html\n",
    "\n",
    "import networkx as nx\n",
    "from matplotlib import pyplot, patches\n",
    "\n",
    "def draw_adjacency_matrix(G, node_order=None, partitions=[], colors=[], plt_name = None ):\n",
    "    \"\"\"\n",
    "    - G is a netorkx graph\n",
    "    - node_order (optional) is a list of nodes, where each node in G\n",
    "          appears exactly once\n",
    "    - partitions is a list of node lists, where each node in G appears\n",
    "          in exactly one node list\n",
    "    - colors is a list of strings indicating what color each\n",
    "          partition should be\n",
    "    If partitions is specified, the same number of colors needs to be\n",
    "    specified.\n",
    "    \"\"\"\n",
    "    adjacency_matrix = nx.to_numpy_matrix(G, dtype=np.bool, nodelist=node_order)\n",
    "\n",
    "    #Plot adjacency matrix in toned-down black and white\n",
    "    #fig = pyplot.figure(figsize=(5, 5)) # in inches\n",
    "    plt_name.imshow(adjacency_matrix,\n",
    "                  cmap=\"Greys\",\n",
    "                  interpolation=\"none\")\n",
    "    \n",
    "    # The rest is just if you have sorted nodes by a partition and want to\n",
    "    # highlight the module boundaries\n",
    "    assert len(partitions) == len(colors)\n",
    "    #ax = pyplot.gca()\n",
    "    for partition, color in zip(partitions, colors):\n",
    "        current_idx = 0\n",
    "        for module in partition:\n",
    "            plt_name.add_patch(patches.Rectangle((current_idx, current_idx),\n",
    "                                          len(module), # Width\n",
    "                                          len(module), # Height\n",
    "                                          facecolor=\"none\",\n",
    "                                          edgecolor=color,\n",
    "                                          linewidth=\"1\"))\n",
    "            current_idx += len(module)"
   ]
  },
  {
   "cell_type": "code",
   "execution_count": 57,
   "metadata": {
    "collapsed": false
   },
   "outputs": [],
   "source": [
    "import numpy as np\n",
    "from collections import defaultdict\n",
    "\n",
    "def assignmentArray_to_lists(assignment_array):\n",
    "    by_attribute_value = defaultdict(list)\n",
    "    for node_index, attribute_value in enumerate(assignment_array):\n",
    "        by_attribute_value[attribute_value].append(node_index)\n",
    "    return by_attribute_value.values()\n",
    "\n"
   ]
  },
  {
   "cell_type": "code",
   "execution_count": 59,
   "metadata": {
    "collapsed": true
   },
   "outputs": [],
   "source": [
    "num_nodes = 80#400\n",
    "avg_deg = 6#20"
   ]
  },
  {
   "cell_type": "code",
   "execution_count": 60,
   "metadata": {
    "collapsed": false
   },
   "outputs": [
    {
     "name": "stdout",
     "output_type": "stream",
     "text": [
      "('p_in: ', 0.037499999999999999)\n",
      "('p_out: ', 0.037499999999999999)\n",
      "\n",
      "spot-check average degree: \n",
      "5.95\n",
      "\n",
      "spot-check homophily: \n",
      "[0.47972972972972977, 0.54527559055118113]\n",
      "\n",
      "spot-check monophily: \n",
      "[0.0025293578199390037, 0.0]\n",
      "\n"
     ]
    }
   ],
   "source": [
    "disp_val = 0\n",
    "\n",
    "(adj_ER, y_ER) = create_affiliation_model_temp(avg_deg,#25,\n",
    "                                  lambda_block_parameter =1,\n",
    "                                           dispersion_parameter_vect = np.array([np.array([disp_val, disp_val]),\n",
    "                                            np.array([disp_val, disp_val])]),\n",
    "                                  class_size_vect = np.array([num_nodes,num_nodes]))\n",
    "\n",
    "\n",
    "\n",
    "\n"
   ]
  },
  {
   "cell_type": "code",
   "execution_count": 61,
   "metadata": {
    "collapsed": false
   },
   "outputs": [
    {
     "name": "stdout",
     "output_type": "stream",
     "text": [
      "('p_in: ', 0.06375)\n",
      "('p_out: ', 0.01125)\n",
      "\n",
      "spot-check average degree: \n",
      "5.75\n",
      "\n",
      "spot-check homophily: \n",
      "[0.85526315789473684, 0.85775862068965514]\n",
      "\n",
      "spot-check monophily: \n",
      "[0.015560766141764484, 0.0]\n",
      "\n"
     ]
    }
   ],
   "source": [
    "disp_val = 0\n",
    "(adj_homophily, y_homophily) = create_affiliation_model_temp(avg_deg,#25,\n",
    "                                  lambda_block_parameter =1.7,\n",
    "                                           dispersion_parameter_vect = np.array([np.array([disp_val, disp_val]),\n",
    "                                            np.array([disp_val, disp_val])]),\n",
    "                                  class_size_vect = np.array([num_nodes,num_nodes]))\n",
    "\n",
    "\n",
    "\n"
   ]
  },
  {
   "cell_type": "code",
   "execution_count": 62,
   "metadata": {
    "collapsed": false
   },
   "outputs": [
    {
     "name": "stdout",
     "output_type": "stream",
     "text": [
      "1\n",
      "2\n",
      "3\n",
      "4\n",
      "5\n",
      "[0.94999999999999996, 0.92500000000000004, 0.93125000000000002, 0.92500000000000004, 0.92500000000000004]\n"
     ]
    }
   ],
   "source": [
    "## khop spot-check\n",
    "k_hop = np.array([1,2,3,4,5])\n",
    "class_values = np.unique(y_homophily)\n",
    "\n",
    "prop_same_array = []\n",
    "for k in k_hop:  \n",
    "    print k\n",
    "    adj_amherst_k= np.matrix(adj_homophily)**k\n",
    "    adj_amherst_k[range(adj_amherst_k.shape[0]),range(adj_amherst_k.shape[0])]=0 ## remove self-loops\n",
    "                              \n",
    "    mv_g1 = (adj_amherst_k[y_homophily==class_values[0],:] * np.matrix((y_homophily==class_values[0])+0).T)/np.sum(adj_amherst_k[y_homophily==class_values[0],:],1)\n",
    "    mv_g2 = (adj_amherst_k[y_homophily==class_values[1],:] * np.matrix((y_homophily==class_values[1])+0).T)/np.sum(adj_amherst_k[y_homophily==class_values[1],:],1)\n",
    "    proportion_majority_same = np.mean(np.concatenate((np.array(mv_g1).T[0]>np.mean(y_homophily==class_values[0]),\n",
    "                                                                       np.array(mv_g2).T[0]>np.mean(y_homophily==class_values[1]))))\n",
    "    prop_same_array.append( proportion_majority_same)\n",
    "\n",
    "print prop_same_array"
   ]
  },
  {
   "cell_type": "code",
   "execution_count": 84,
   "metadata": {
    "collapsed": false
   },
   "outputs": [
    {
     "name": "stdout",
     "output_type": "stream",
     "text": [
      "('p_in: ', 0.0375)\n",
      "('p_out: ', 0.037499999999999999)\n",
      "\n",
      "spot-check average degree: \n",
      "6.00625\n",
      "\n",
      "spot-check homophily: \n",
      "[0.5248508946322068, 0.47816593886462883]\n",
      "\n",
      "spot-check monophily: \n",
      "[0.20198295315192524, 0.17027267825274936]\n",
      "\n"
     ]
    }
   ],
   "source": [
    "disp_val = 0.02\n",
    "(adj_monophily, y_monophily) = create_affiliation_model_temp(avg_deg,#45,#25,\n",
    "                                  lambda_block_parameter =1.0,\n",
    "                                           dispersion_parameter_vect = np.array([np.array([disp_val, disp_val]),\n",
    "                                            np.array([disp_val, disp_val])]),\n",
    "                                  class_size_vect = np.array([num_nodes,num_nodes]))#[550,550]))\n"
   ]
  },
  {
   "cell_type": "code",
   "execution_count": 85,
   "metadata": {
    "collapsed": false
   },
   "outputs": [
    {
     "name": "stdout",
     "output_type": "stream",
     "text": [
      "1\n",
      "2\n",
      "3\n",
      "4\n",
      "5\n",
      "[0.43125000000000002, 0.76875000000000004, 0.47499999999999998, 0.72499999999999998, 0.5]\n"
     ]
    },
    {
     "name": "stderr",
     "output_type": "stream",
     "text": [
      "/Users/kristen/anaconda/lib/python2.7/site-packages/ipykernel/__main__.py:11: RuntimeWarning: invalid value encountered in true_divide\n",
      "/Users/kristen/anaconda/lib/python2.7/site-packages/ipykernel/__main__.py:12: RuntimeWarning: invalid value encountered in true_divide\n",
      "/Users/kristen/anaconda/lib/python2.7/site-packages/ipykernel/__main__.py:13: RuntimeWarning: invalid value encountered in greater\n",
      "/Users/kristen/anaconda/lib/python2.7/site-packages/ipykernel/__main__.py:14: RuntimeWarning: invalid value encountered in greater\n"
     ]
    }
   ],
   "source": [
    "## khop spot-check\n",
    "k_hop = np.array([1,2,3,4,5])\n",
    "class_values = np.unique(y_monophily)\n",
    "\n",
    "prop_same_array = []\n",
    "for k in k_hop:  \n",
    "    print k\n",
    "    adj_amherst_k= np.matrix(adj_monophily)**k\n",
    "    adj_amherst_k[range(adj_amherst_k.shape[0]),range(adj_amherst_k.shape[0])]=0 ## remove self-loops\n",
    "                              \n",
    "    mv_g1 = (adj_amherst_k[y_monophily==class_values[0],:] * np.matrix((y_monophily==class_values[0])+0).T)/np.sum(adj_amherst_k[y_monophily==class_values[0],:],1)\n",
    "    mv_g2 = (adj_amherst_k[y_monophily==class_values[1],:] * np.matrix((y_monophily==class_values[1])+0).T)/np.sum(adj_amherst_k[y_monophily==class_values[1],:],1)\n",
    "    proportion_majority_same = np.mean(np.concatenate((np.array(mv_g1).T[0]>np.mean(y_monophily==class_values[0]),\n",
    "                                                                       np.array(mv_g2).T[0]>np.mean(y_monophily==class_values[1]))))\n",
    "    prop_same_array.append( proportion_majority_same)\n",
    "\n",
    "\n",
    "print prop_same_array"
   ]
  },
  {
   "cell_type": "code",
   "execution_count": 86,
   "metadata": {
    "collapsed": true
   },
   "outputs": [],
   "source": [
    "adj_ER2 = np.matrix(adj_ER)**2\n",
    "adj_ER2[range(adj_ER2.shape[0]),range(adj_ER2.shape[0])]=0\n",
    "adj_ER2 = (adj_ER2 >=1)+0"
   ]
  },
  {
   "cell_type": "code",
   "execution_count": 87,
   "metadata": {
    "collapsed": true
   },
   "outputs": [],
   "source": [
    "adj_homophily2 = np.matrix(adj_homophily)**2\n",
    "adj_homophily2[range(adj_homophily2.shape[0]),range(adj_homophily2.shape[0])]=0\n",
    "adj_homophily2 = (adj_homophily2 >=1)+0"
   ]
  },
  {
   "cell_type": "code",
   "execution_count": 88,
   "metadata": {
    "collapsed": true
   },
   "outputs": [],
   "source": [
    "adj_monophily2 = np.matrix(adj_monophily)**2\n",
    "adj_monophily2[range(adj_monophily2.shape[0]),range(adj_monophily2.shape[0])]=0\n",
    "adj_monophily2 = (adj_monophily2 >=1)+0"
   ]
  },
  {
   "cell_type": "code",
   "execution_count": 89,
   "metadata": {
    "collapsed": false
   },
   "outputs": [],
   "source": [
    "gender_ER_assignment = y_ER.copy()\n",
    "gender_ER_lists = assignmentArray_to_lists(gender_ER_assignment)\n",
    "\n",
    "gender_homophily_assignment = y_homophily.copy()\n",
    "gender_homophily_lists = assignmentArray_to_lists(gender_homophily_assignment)\n",
    "\n",
    "gender_monophily_assignment = y_monophily.copy()\n",
    "gender_monophily_lists = assignmentArray_to_lists(gender_monophily_assignment)"
   ]
  },
  {
   "cell_type": "code",
   "execution_count": null,
   "metadata": {
    "collapsed": true
   },
   "outputs": [],
   "source": []
  },
  {
   "cell_type": "code",
   "execution_count": 90,
   "metadata": {
    "collapsed": false
   },
   "outputs": [
    {
     "data": {
      "image/png": "[encoded data removed]",
      "text/plain": [
       "<matplotlib.figure.Figure at 0x11a86ac10>"
      ]
     },
     "metadata": {},
     "output_type": "display_data"
    }
   ],
   "source": [
    "%matplotlib inline\n",
    "f, (ax1, ax2) = plt.subplots(1, 2, \n",
    "                             sharey=False, sharex=False,\n",
    "                            figsize=(8, 3))\n",
    "\n",
    "(V,vect)=np.linalg.eig(adj_ER)\n",
    "V_sort = V.copy()\n",
    "idx = V_sort.argsort()\n",
    "idx_c0 = np.array(range(np.sum((y_ER==0)+0)))\n",
    "idx_c1 = np.array(range(np.sum((y_ER==1)+0))) + len(idx_c0)\n",
    "idx1 = sorted(list(idx_c0), key=lambda x: list(idx).index(x))\n",
    "idx2 = sorted(list(idx_c1), key=lambda x: list(idx).index(x))\n",
    "\n",
    "#nodes_year_ordered = [node for gender_ER_lists in gender_ER_listss for node in gender_ER_lists]\n",
    "#pyplot.clf()\n",
    "G = nx.from_numpy_matrix(adj_ER)\n",
    "draw_adjacency_matrix(G, np.concatenate([idx1,idx2]), [gender_ER_lists],[\"red\"],ax1)\n",
    "ax1.set_xticklabels([])\n",
    "ax1.set_yticklabels([])\n",
    "\n",
    "\n",
    "\n",
    "(V,vect)=np.linalg.eig(adj_ER2)\n",
    "V_sort = V.copy()\n",
    "idx = V_sort.argsort()\n",
    "\n",
    "idx_c0 = np.array(range(np.sum((y_ER==0)+0)))\n",
    "idx_c1 = np.array(range(np.sum((y_ER==1)+0))) + len(idx_c0)\n",
    "idx1 = sorted(list(idx_c0), key=lambda x: list(idx).index(x))\n",
    "idx2 = sorted(list(idx_c1), key=lambda x: list(idx).index(x))\n",
    "#pyplot.clf()\n",
    "G = nx.from_numpy_matrix(adj_ER2)\n",
    "draw_adjacency_matrix(G, np.concatenate([idx1,idx2]), \n",
    "                      [gender_ER_lists],[\"red\"], ax2)\n",
    "\n",
    "ax2.set_xticklabels([])\n",
    "ax2.set_yticklabels([])\n",
    "plt.tight_layout()\n",
    "plt.show()"
   ]
  },
  {
   "cell_type": "code",
   "execution_count": 91,
   "metadata": {
    "collapsed": false
   },
   "outputs": [
    {
     "data": {
      "image/png": "[encoded data removed]",
      "text/plain": [
       "<matplotlib.figure.Figure at 0x11b9f7350>"
      ]
     },
     "metadata": {},
     "output_type": "display_data"
    }
   ],
   "source": [
    "%matplotlib inline\n",
    "f, (ax1, ax2) = plt.subplots(1, 2, \n",
    "                             sharey=False, sharex=False,\n",
    "                            figsize=(8, 3))\n",
    "\n",
    "(V,vect)=np.linalg.eig(adj_homophily)\n",
    "V_sort = V.copy()\n",
    "idx = V_sort.argsort()\n",
    "idx_c0 = np.array(range(np.sum((y_homophily==0)+0)))\n",
    "idx_c1 = np.array(range(np.sum((y_homophily==1)+0))) + len(idx_c0)\n",
    "idx1 = sorted(list(idx_c0), key=lambda x: list(idx).index(x))\n",
    "idx2 = sorted(list(idx_c1), key=lambda x: list(idx).index(x))\n",
    "\n",
    "#nodes_year_ordered = [node for gender_ER_lists in gender_ER_listss for node in gender_ER_lists]\n",
    "#pyplot.clf()\n",
    "G = nx.from_numpy_matrix(adj_homophily)\n",
    "draw_adjacency_matrix(G, np.concatenate([idx1,idx2]), [gender_homophily_lists],[\"red\"],ax1)\n",
    "ax1.set_xticklabels([])\n",
    "ax1.set_yticklabels([])\n",
    "\n",
    "\n",
    "\n",
    "(V,vect)=np.linalg.eig(adj_homophily2)\n",
    "V_sort = V.copy()\n",
    "idx = V_sort.argsort()\n",
    "\n",
    "idx_c0 = np.array(range(np.sum((y_homophily==0)+0)))\n",
    "idx_c1 = np.array(range(np.sum((y_homophily==1)+0))) + len(idx_c0)\n",
    "idx1 = sorted(list(idx_c0), key=lambda x: list(idx).index(x))\n",
    "idx2 = sorted(list(idx_c1), key=lambda x: list(idx).index(x))\n",
    "#pyplot.clf()\n",
    "G = nx.from_numpy_matrix(adj_homophily2)\n",
    "draw_adjacency_matrix(G, np.concatenate([idx1,idx2]), \n",
    "                      [gender_homophily_lists],[\"red\"], ax2)\n",
    "\n",
    "ax2.set_xticklabels([])\n",
    "ax2.set_yticklabels([])\n",
    "plt.tight_layout()\n",
    "plt.show()"
   ]
  },
  {
   "cell_type": "code",
   "execution_count": 92,
   "metadata": {
    "collapsed": false
   },
   "outputs": [
    {
     "data": {
      "image/png": "[encoded data removed]",
      "text/plain": [
       "<matplotlib.figure.Figure at 0x11a86a110>"
      ]
     },
     "metadata": {},
     "output_type": "display_data"
    }
   ],
   "source": [
    "%matplotlib inline\n",
    "f, (ax1, ax2) = plt.subplots(1, 2, \n",
    "                             sharey=False, sharex=False,\n",
    "                            figsize=(8, 3))\n",
    "\n",
    "(V,vect)=np.linalg.eig(adj_monophily)\n",
    "V_sort = V.copy()\n",
    "idx = V_sort.argsort()\n",
    "idx_c0 = np.array(range(np.sum((y_monophily==0)+0)))\n",
    "idx_c1 = np.array(range(np.sum((y_monophily==1)+0))) + len(idx_c0)\n",
    "idx1 = sorted(list(idx_c0), key=lambda x: list(idx).index(x))\n",
    "idx2 = sorted(list(idx_c1), key=lambda x: list(idx).index(x))\n",
    "\n",
    "#nodes_year_ordered = [node for gender_ER_lists in gender_ER_listss for node in gender_ER_lists]\n",
    "#pyplot.clf()\n",
    "G = nx.from_numpy_matrix(adj_monophily)\n",
    "draw_adjacency_matrix(G, np.concatenate([idx1,idx2]), [gender_monophily_lists],[\"red\"],ax1)\n",
    "ax1.set_xticklabels([])\n",
    "ax1.set_yticklabels([])\n",
    "\n",
    "\n",
    "\n",
    "(V,vect)=np.linalg.eig(adj_monophily2)\n",
    "V_sort = V.copy()\n",
    "idx = V_sort.argsort()\n",
    "\n",
    "idx_c0 = np.array(range(np.sum((y_monophily==0)+0)))\n",
    "idx_c1 = np.array(range(np.sum((y_monophily==1)+0))) + len(idx_c0)\n",
    "idx1 = sorted(list(idx_c0), key=lambda x: list(idx).index(x))\n",
    "idx2 = sorted(list(idx_c1), key=lambda x: list(idx).index(x))\n",
    "#pyplot.clf()\n",
    "G = nx.from_numpy_matrix(adj_monophily2)\n",
    "draw_adjacency_matrix(G, np.concatenate([idx1,idx2]), \n",
    "                      [gender_monophily_lists],[\"red\"], ax2)\n",
    "\n",
    "ax2.set_xticklabels([])\n",
    "ax2.set_yticklabels([])\n",
    "plt.tight_layout()\n",
    "plt.show()"
   ]
  },
  {
   "cell_type": "code",
   "execution_count": 93,
   "metadata": {
    "collapsed": false
   },
   "outputs": [
    {
     "data": {
      "image/png": "[encoded data removed]",
      "text/plain": [
       "<matplotlib.figure.Figure at 0x11a9a3a50>"
      ]
     },
     "metadata": {},
     "output_type": "display_data"
    }
   ],
   "source": [
    "%matplotlib inline\n",
    "f, axarr = plt.subplots(3, 2, \n",
    "                    sharey=False, sharex=False,\n",
    "                    figsize=(3.46457, 4.2),\n",
    "                    squeeze = True)\n",
    "\n",
    "## ER graph\n",
    "(V,vect)=np.linalg.eig(adj_ER)\n",
    "V_sort = V.copy()\n",
    "idx = V_sort.argsort()\n",
    "idx_c0 = np.array(range(np.sum((y_ER==0)+0)))\n",
    "idx_c1 = np.array(range(np.sum((y_ER==1)+0))) + len(idx_c0)\n",
    "idx1 = sorted(list(idx_c0), key=lambda x: list(idx).index(x))\n",
    "idx2 = sorted(list(idx_c1), key=lambda x: list(idx).index(x))\n",
    "\n",
    "#nodes_year_ordered = [node for gender_ER_lists in gender_ER_listss for node in gender_ER_lists]\n",
    "#pyplot.clf()\n",
    "G = nx.from_numpy_matrix(adj_ER)\n",
    "draw_adjacency_matrix(G, np.concatenate([idx1,idx2]), [gender_ER_lists],[\"red\"],axarr[0,0])\n",
    "axarr[0,0].set_xticklabels([])\n",
    "axarr[0,0].set_yticklabels([])\n",
    "\n",
    "\n",
    "\n",
    "(V,vect)=np.linalg.eig(adj_ER2)\n",
    "V_sort = V.copy()\n",
    "idx = V_sort.argsort()\n",
    "\n",
    "idx_c0 = np.array(range(np.sum((y_ER==0)+0)))\n",
    "idx_c1 = np.array(range(np.sum((y_ER==1)+0))) + len(idx_c0)\n",
    "idx1 = sorted(list(idx_c0), key=lambda x: list(idx).index(x))\n",
    "idx2 = sorted(list(idx_c1), key=lambda x: list(idx).index(x))\n",
    "#pyplot.clf()\n",
    "G = nx.from_numpy_matrix(adj_ER2)\n",
    "draw_adjacency_matrix(G, np.concatenate([idx1,idx2]), \n",
    "                      [gender_ER_lists],[\"red\"], axarr[0,1])\n",
    "\n",
    "axarr[0,1].set_xticklabels([])\n",
    "axarr[0,1].set_yticklabels([])\n",
    "\n",
    "\n",
    "## Homophily-Only\n",
    "(V,vect)=np.linalg.eig(adj_homophily)\n",
    "V_sort = V.copy()\n",
    "idx = V_sort.argsort()\n",
    "idx_c0 = np.array(range(np.sum((y_homophily==0)+0)))\n",
    "idx_c1 = np.array(range(np.sum((y_homophily==1)+0))) + len(idx_c0)\n",
    "idx1 = sorted(list(idx_c0), key=lambda x: list(idx).index(x))\n",
    "idx2 = sorted(list(idx_c1), key=lambda x: list(idx).index(x))\n",
    "\n",
    "#nodes_year_ordered = [node for gender_ER_lists in gender_ER_listss for node in gender_ER_lists]\n",
    "#pyplot.clf()\n",
    "G = nx.from_numpy_matrix(adj_homophily)\n",
    "draw_adjacency_matrix(G, np.concatenate([idx1,idx2]), [gender_homophily_lists],[\"red\"],axarr[1,0])\n",
    "axarr[1,0].set_xticklabels([])\n",
    "axarr[1,0].set_yticklabels([])\n",
    "\n",
    "\n",
    "\n",
    "(V,vect)=np.linalg.eig(adj_homophily2)\n",
    "V_sort = V.copy()\n",
    "idx = V_sort.argsort()\n",
    "\n",
    "idx_c0 = np.array(range(np.sum((y_homophily==0)+0)))\n",
    "idx_c1 = np.array(range(np.sum((y_homophily==1)+0))) + len(idx_c0)\n",
    "idx1 = sorted(list(idx_c0), key=lambda x: list(idx).index(x))\n",
    "idx2 = sorted(list(idx_c1), key=lambda x: list(idx).index(x))\n",
    "#pyplot.clf()\n",
    "G = nx.from_numpy_matrix(adj_homophily2)\n",
    "draw_adjacency_matrix(G, np.concatenate([idx1,idx2]), \n",
    "                      [gender_homophily_lists],[\"red\"], axarr[1,1])\n",
    "\n",
    "axarr[1,1].set_xticklabels([])\n",
    "axarr[1,1].set_yticklabels([])\n",
    "\n",
    "\n",
    "\n",
    "## Monophily-Only\n",
    "(V,vect)=np.linalg.eig(adj_monophily)\n",
    "V_sort = V.copy()\n",
    "idx = V_sort.argsort()\n",
    "idx_c0 = np.array(range(np.sum((y_monophily==0)+0)))\n",
    "idx_c1 = np.array(range(np.sum((y_monophily==1)+0))) + len(idx_c0)\n",
    "idx1 = sorted(list(idx_c0), key=lambda x: list(idx).index(x))\n",
    "idx2 = sorted(list(idx_c1), key=lambda x: list(idx).index(x))\n",
    "\n",
    "#nodes_year_ordered = [node for gender_ER_lists in gender_ER_listss for node in gender_ER_lists]\n",
    "#pyplot.clf()\n",
    "G = nx.from_numpy_matrix(adj_monophily)\n",
    "draw_adjacency_matrix(G, np.concatenate([idx1,idx2]), [gender_monophily_lists],[\"red\"],axarr[2,0])\n",
    "axarr[2,0].set_xticklabels([])\n",
    "axarr[2,0].set_yticklabels([])\n",
    "\n",
    "\n",
    "\n",
    "(V,vect)=np.linalg.eig(adj_monophily2)\n",
    "V_sort = V.copy()\n",
    "idx = V_sort.argsort()\n",
    "\n",
    "idx_c0 = np.array(range(np.sum((y_monophily==0)+0)))\n",
    "idx_c1 = np.array(range(np.sum((y_monophily==1)+0))) + len(idx_c0)\n",
    "idx1 = sorted(list(idx_c0), key=lambda x: list(idx).index(x))\n",
    "idx2 = sorted(list(idx_c1), key=lambda x: list(idx).index(x))\n",
    "#pyplot.clf()\n",
    "G = nx.from_numpy_matrix(adj_monophily2)\n",
    "draw_adjacency_matrix(G, np.concatenate([idx1,idx2]), \n",
    "                      [gender_monophily_lists],[\"red\"], axarr[2,1])\n",
    "axarr[2,1].set_xticklabels([])\n",
    "axarr[2,1].set_yticklabels([])\n",
    "axarr[0,0].set_title('$A$', size = 8)\n",
    "axarr[0,1].set_title('binary($A^2$)', size = 8)\n",
    "\n",
    "axarr[0,0].set_ylabel('ER Graph', size = 8)\n",
    "axarr[1,0].set_ylabel('Homophily-Only',size = 8)\n",
    "axarr[2,0].set_ylabel('Monophily-Only',size = 8)\n",
    "plt.subplots_adjust(wspace=0.02, hspace=0.02)\n",
    "plt.tight_layout()\n",
    "#plt.show()\n",
    "pp = PdfPages('../../figures/figure1b.pdf')\n",
    "pp.savefig(dpi = 300)\n",
    "pp.close()"
   ]
  },
  {
   "cell_type": "code",
   "execution_count": 94,
   "metadata": {
    "collapsed": false
   },
   "outputs": [
    {
     "data": {
      "image/png": "[encoded data removed]",
      "text/plain": [
       "<matplotlib.figure.Figure at 0x11a0b4790>"
      ]
     },
     "metadata": {},
     "output_type": "display_data"
    }
   ],
   "source": [
    "%matplotlib inline\n",
    "f, axarr = plt.subplots(1, 6, \n",
    "                    sharey=False, sharex=False,\n",
    "                    figsize=(6.69291, 4.6),\n",
    "                    squeeze = True)\n",
    "\n",
    "## ER graph\n",
    "(V,vect)=np.linalg.eig(adj_ER)\n",
    "V_sort = V.copy()\n",
    "idx = V_sort.argsort()\n",
    "idx_c0 = np.array(range(np.sum((y_ER==0)+0)))\n",
    "idx_c1 = np.array(range(np.sum((y_ER==1)+0))) + len(idx_c0)\n",
    "idx1 = sorted(list(idx_c0), key=lambda x: list(idx).index(x))\n",
    "idx2 = sorted(list(idx_c1), key=lambda x: list(idx).index(x))\n",
    "\n",
    "#nodes_year_ordered = [node for gender_ER_lists in gender_ER_listss for node in gender_ER_lists]\n",
    "#pyplot.clf()\n",
    "G = nx.from_numpy_matrix(adj_ER)\n",
    "draw_adjacency_matrix(G, np.concatenate([idx1,idx2]), [gender_ER_lists],[\"red\"],axarr[0])\n",
    "axarr[0].set_xticklabels([])\n",
    "axarr[0].set_yticklabels([])\n",
    "\n",
    "\n",
    "\n",
    "(V,vect)=np.linalg.eig(adj_ER2)\n",
    "V_sort = V.copy()\n",
    "idx = V_sort.argsort()\n",
    "\n",
    "idx_c0 = np.array(range(np.sum((y_ER==0)+0)))\n",
    "idx_c1 = np.array(range(np.sum((y_ER==1)+0))) + len(idx_c0)\n",
    "idx1 = sorted(list(idx_c0), key=lambda x: list(idx).index(x))\n",
    "idx2 = sorted(list(idx_c1), key=lambda x: list(idx).index(x))\n",
    "#pyplot.clf()\n",
    "G = nx.from_numpy_matrix(adj_ER2)\n",
    "draw_adjacency_matrix(G, np.concatenate([idx1,idx2]), \n",
    "                      [gender_ER_lists],[\"red\"], axarr[1])\n",
    "\n",
    "axarr[1].set_xticklabels([])\n",
    "axarr[1].set_yticklabels([])\n",
    "\n",
    "\n",
    "## Homophily-Only\n",
    "(V,vect)=np.linalg.eig(adj_homophily)\n",
    "V_sort = V.copy()\n",
    "idx = V_sort.argsort()\n",
    "idx_c0 = np.array(range(np.sum((y_homophily==0)+0)))\n",
    "idx_c1 = np.array(range(np.sum((y_homophily==1)+0))) + len(idx_c0)\n",
    "idx1 = sorted(list(idx_c0), key=lambda x: list(idx).index(x))\n",
    "idx2 = sorted(list(idx_c1), key=lambda x: list(idx).index(x))\n",
    "\n",
    "#nodes_year_ordered = [node for gender_ER_lists in gender_ER_listss for node in gender_ER_lists]\n",
    "#pyplot.clf()\n",
    "G = nx.from_numpy_matrix(adj_homophily)\n",
    "draw_adjacency_matrix(G, np.concatenate([idx1,idx2]), [gender_homophily_lists],[\"red\"],axarr[2])\n",
    "axarr[2].set_xticklabels([])\n",
    "axarr[2].set_yticklabels([])\n",
    "\n",
    "\n",
    "\n",
    "(V,vect)=np.linalg.eig(adj_homophily2)\n",
    "V_sort = V.copy()\n",
    "idx = V_sort.argsort()\n",
    "\n",
    "idx_c0 = np.array(range(np.sum((y_homophily==0)+0)))\n",
    "idx_c1 = np.array(range(np.sum((y_homophily==1)+0))) + len(idx_c0)\n",
    "idx1 = sorted(list(idx_c0), key=lambda x: list(idx).index(x))\n",
    "idx2 = sorted(list(idx_c1), key=lambda x: list(idx).index(x))\n",
    "#pyplot.clf()\n",
    "G = nx.from_numpy_matrix(adj_homophily2)\n",
    "draw_adjacency_matrix(G, np.concatenate([idx1,idx2]), \n",
    "                      [gender_homophily_lists],[\"red\"], axarr[3])\n",
    "\n",
    "axarr[3].set_xticklabels([])\n",
    "axarr[3].set_yticklabels([])\n",
    "\n",
    "\n",
    "\n",
    "## Monophily-Only\n",
    "(V,vect)=np.linalg.eig(adj_monophily)\n",
    "V_sort = V.copy()\n",
    "idx = V_sort.argsort()\n",
    "idx_c0 = np.array(range(np.sum((y_monophily==0)+0)))\n",
    "idx_c1 = np.array(range(np.sum((y_monophily==1)+0))) + len(idx_c0)\n",
    "idx1 = sorted(list(idx_c0), key=lambda x: list(idx).index(x))\n",
    "idx2 = sorted(list(idx_c1), key=lambda x: list(idx).index(x))\n",
    "\n",
    "#nodes_year_ordered = [node for gender_ER_lists in gender_ER_listss for node in gender_ER_lists]\n",
    "#pyplot.clf()\n",
    "G = nx.from_numpy_matrix(adj_monophily)\n",
    "draw_adjacency_matrix(G, np.concatenate([idx1,idx2]), [gender_monophily_lists],[\"red\"],axarr[4])\n",
    "axarr[4].set_xticklabels([])\n",
    "axarr[4].set_yticklabels([])\n",
    "\n",
    "\n",
    "\n",
    "(V,vect)=np.linalg.eig(adj_monophily2)\n",
    "V_sort = V.copy()\n",
    "idx = V_sort.argsort()\n",
    "\n",
    "idx_c0 = np.array(range(np.sum((y_monophily==0)+0)))\n",
    "idx_c1 = np.array(range(np.sum((y_monophily==1)+0))) + len(idx_c0)\n",
    "idx1 = sorted(list(idx_c0), key=lambda x: list(idx).index(x))\n",
    "idx2 = sorted(list(idx_c1), key=lambda x: list(idx).index(x))\n",
    "#pyplot.clf()\n",
    "G = nx.from_numpy_matrix(adj_monophily2)\n",
    "draw_adjacency_matrix(G, np.concatenate([idx1,idx2]), \n",
    "                      [gender_monophily_lists],[\"red\"], axarr[5])\n",
    "axarr[5].set_xticklabels([])\n",
    "axarr[5].set_yticklabels([])\n",
    "axarr[0].set_title('$A$', size = 6)\n",
    "axarr[1].set_title('binary($A^2$)', size = 6)\n",
    "axarr[2].set_title('$A$', size = 6)\n",
    "axarr[3].set_title('binary($A^2$)', size = 6)\n",
    "axarr[4].set_title('$A$', size = 6)\n",
    "axarr[5].set_title('binary($A^2$)', size = 6)\n",
    "\n",
    "#axarr[0,0].set_ylabel('ER Graph', size = 6)\n",
    "#axarr[1,0].set_ylabel('Homophily-Only',size = 6)\n",
    "#axarr[2,0].set_ylabel('Monophily-Only',size = 6)\n",
    "plt.subplots_adjust(wspace=0.02, hspace=0.02)\n",
    "plt.tight_layout()\n",
    "#plt.show()\n",
    "pp = PdfPages('../../figures/figure1b_row.pdf')\n",
    "pp.savefig(dpi = 300)\n",
    "pp.close()"
   ]
  },
  {
   "cell_type": "code",
   "execution_count": null,
   "metadata": {
    "collapsed": true
   },
   "outputs": [],
   "source": []
  },
  {
   "cell_type": "code",
   "execution_count": null,
   "metadata": {
    "collapsed": true
   },
   "outputs": [],
   "source": []
  },
  {
   "cell_type": "code",
   "execution_count": null,
   "metadata": {
    "collapsed": true
   },
   "outputs": [],
   "source": []
  },
  {
   "cell_type": "code",
   "execution_count": 76,
   "metadata": {
    "collapsed": false
   },
   "outputs": [
    {
     "data": {
      "image/png": "[encoded data removed]",
      "text/plain": [
       "<matplotlib.figure.Figure at 0x11a764150>"
      ]
     },
     "metadata": {},
     "output_type": "display_data"
    }
   ],
   "source": [
    "%matplotlib inline\n",
    "f, axarr = plt.subplots(2, 2, \n",
    "                    sharey=False, sharex=False,\n",
    "                    figsize=(3.46457, 3),\n",
    "                    squeeze = True,\n",
    "                       dpi = 300)\n",
    "\n",
    "\n",
    "\n",
    "\n",
    "## Homophily-Only\n",
    "(V,vect)=np.linalg.eig(adj_homophily)\n",
    "V_sort = V.copy()\n",
    "idx = V_sort.argsort()\n",
    "idx_c0 = np.array(range(np.sum((y_homophily==0)+0)))\n",
    "idx_c1 = np.array(range(np.sum((y_homophily==1)+0))) + len(idx_c0)\n",
    "idx1 = sorted(list(idx_c0), key=lambda x: list(idx).index(x))\n",
    "idx2 = sorted(list(idx_c1), key=lambda x: list(idx).index(x))\n",
    "\n",
    "#nodes_year_ordered = [node for gender_ER_lists in gender_ER_listss for node in gender_ER_lists]\n",
    "#pyplot.clf()\n",
    "G = nx.from_numpy_matrix(adj_homophily)\n",
    "draw_adjacency_matrix(G, np.concatenate([idx1,idx2]), [gender_homophily_lists],[\"red\"],axarr[0,0])\n",
    "axarr[0,0].set_xticklabels([])\n",
    "axarr[0,0].set_yticklabels([])\n",
    "\n",
    "\n",
    "\n",
    "(V,vect)=np.linalg.eig(adj_homophily2)\n",
    "V_sort = V.copy()\n",
    "idx = V_sort.argsort()\n",
    "\n",
    "idx_c0 = np.array(range(np.sum((y_homophily==0)+0)))\n",
    "idx_c1 = np.array(range(np.sum((y_homophily==1)+0))) + len(idx_c0)\n",
    "idx1 = sorted(list(idx_c0), key=lambda x: list(idx).index(x))\n",
    "idx2 = sorted(list(idx_c1), key=lambda x: list(idx).index(x))\n",
    "#pyplot.clf()\n",
    "G = nx.from_numpy_matrix(adj_homophily2)\n",
    "draw_adjacency_matrix(G, np.concatenate([idx1,idx2]), \n",
    "                      [gender_homophily_lists],[\"red\"], axarr[0,1])\n",
    "\n",
    "axarr[0,1].set_xticklabels([])\n",
    "axarr[0,1].set_yticklabels([])\n",
    "\n",
    "\n",
    "\n",
    "## Monophily-Only\n",
    "(V,vect)=np.linalg.eig(adj_monophily)\n",
    "V_sort = V.copy()\n",
    "idx = V_sort.argsort()\n",
    "idx_c0 = np.array(range(np.sum((y_monophily==0)+0)))\n",
    "idx_c1 = np.array(range(np.sum((y_monophily==1)+0))) + len(idx_c0)\n",
    "idx1 = sorted(list(idx_c0), key=lambda x: list(idx).index(x))\n",
    "idx2 = sorted(list(idx_c1), key=lambda x: list(idx).index(x))\n",
    "\n",
    "#nodes_year_ordered = [node for gender_ER_lists in gender_ER_listss for node in gender_ER_lists]\n",
    "#pyplot.clf()\n",
    "G = nx.from_numpy_matrix(adj_monophily)\n",
    "draw_adjacency_matrix(G, np.concatenate([idx1,idx2]), [gender_monophily_lists],[\"red\"],axarr[1,0])\n",
    "axarr[1,0].set_xticklabels([])\n",
    "axarr[1,0].set_yticklabels([])\n",
    "\n",
    "\n",
    "\n",
    "(V,vect)=np.linalg.eig(adj_monophily2)\n",
    "V_sort = V.copy()\n",
    "idx = V_sort.argsort()\n",
    "\n",
    "idx_c0 = np.array(range(np.sum((y_monophily==0)+0)))\n",
    "idx_c1 = np.array(range(np.sum((y_monophily==1)+0))) + len(idx_c0)\n",
    "idx1 = sorted(list(idx_c0), key=lambda x: list(idx).index(x))\n",
    "idx2 = sorted(list(idx_c1), key=lambda x: list(idx).index(x))\n",
    "#pyplot.clf()\n",
    "G = nx.from_numpy_matrix(adj_monophily2)\n",
    "draw_adjacency_matrix(G, np.concatenate([idx1,idx2]), \n",
    "                      [gender_monophily_lists],[\"red\"], axarr[1,1])\n",
    "axarr[1,1].set_xticklabels([])\n",
    "axarr[1,1].set_yticklabels([])\n",
    "axarr[0,0].set_title('$A$', size = 8)\n",
    "axarr[0,1].set_title('binary($A^2$)', size = 8)\n",
    "\n",
    "#axarr[0,0].set_ylabel('ER Graph', size = 8)\n",
    "axarr[0,0].set_ylabel('Homophily-Only',size = 8)\n",
    "axarr[1,0].set_ylabel('Monophily-Only',size = 8)\n",
    "plt.subplots_adjust(wspace=0.02, hspace=0.02)\n",
    "plt.tight_layout()\n",
    "#plt.show()\n",
    "pp = PdfPages('../../figures/figure1bb.pdf')\n",
    "pp.savefig(dpi = 300)\n",
    "pp.close()"
   ]
  },
  {
   "cell_type": "code",
   "execution_count": 77,
   "metadata": {
    "collapsed": false
   },
   "outputs": [
    {
     "data": {
      "image/png": "[encoded data removed]",
      "text/plain": [
       "<matplotlib.figure.Figure at 0x11a9b9050>"
      ]
     },
     "metadata": {},
     "output_type": "display_data"
    }
   ],
   "source": [
    "%matplotlib inline\n",
    "f, axarr = plt.subplots(1, 3, \n",
    "                             sharey=False, sharex=False,\n",
    "                            figsize=(6.69291/2,6.69291/2))\n",
    "\n",
    "## ER graph\n",
    "(V,vect)=np.linalg.eig(adj_ER2)\n",
    "V_sort = V.copy()\n",
    "idx = V_sort.argsort()\n",
    "\n",
    "idx_c0 = np.array(range(np.sum((y_ER==0)+0)))\n",
    "idx_c1 = np.array(range(np.sum((y_ER==1)+0))) + len(idx_c0)\n",
    "idx1 = sorted(list(idx_c0), key=lambda x: list(idx).index(x))\n",
    "idx2 = sorted(list(idx_c1), key=lambda x: list(idx).index(x))\n",
    "#pyplot.clf()\n",
    "G = nx.from_numpy_matrix(adj_ER2)\n",
    "draw_adjacency_matrix(G, np.concatenate([idx1,idx2]), \n",
    "                      [gender_ER_lists],[\"red\"], axarr[0])\n",
    "\n",
    "axarr[0].set_xticklabels([])\n",
    "axarr[0].set_yticklabels([])\n",
    "\n",
    "\n",
    "## Homophily-Only\n",
    "(V,vect)=np.linalg.eig(adj_homophily2)\n",
    "V_sort = V.copy()\n",
    "idx = V_sort.argsort()\n",
    "\n",
    "idx_c0 = np.array(range(np.sum((y_homophily==0)+0)))\n",
    "idx_c1 = np.array(range(np.sum((y_homophily==1)+0))) + len(idx_c0)\n",
    "idx1 = sorted(list(idx_c0), key=lambda x: list(idx).index(x))\n",
    "idx2 = sorted(list(idx_c1), key=lambda x: list(idx).index(x))\n",
    "#pyplot.clf()\n",
    "G = nx.from_numpy_matrix(adj_homophily2)\n",
    "draw_adjacency_matrix(G, np.concatenate([idx1,idx2]), \n",
    "                      [gender_homophily_lists],[\"red\"], axarr[1])\n",
    "\n",
    "axarr[1].set_xticklabels([])\n",
    "axarr[1].set_yticklabels([])\n",
    "\n",
    "\n",
    "\n",
    "## Monophily-Only\n",
    "(V,vect)=np.linalg.eig(adj_monophily2)\n",
    "V_sort = V.copy()\n",
    "idx = V_sort.argsort()\n",
    "\n",
    "idx_c0 = np.array(range(np.sum((y_monophily==0)+0)))\n",
    "idx_c1 = np.array(range(np.sum((y_monophily==1)+0))) + len(idx_c0)\n",
    "idx1 = sorted(list(idx_c0), key=lambda x: list(idx).index(x))\n",
    "idx2 = sorted(list(idx_c1), key=lambda x: list(idx).index(x))\n",
    "#pyplot.clf()\n",
    "G = nx.from_numpy_matrix(adj_monophily2)\n",
    "draw_adjacency_matrix(G, np.concatenate([idx1,idx2]), \n",
    "                      [gender_monophily_lists],[\"red\"], axarr[2])\n",
    "axarr[2].set_xticklabels([])\n",
    "axarr[2].set_yticklabels([])\n",
    "axarr[0].set_title('ER Graph', size = 8)\n",
    "axarr[1].set_title('Homophily-Only', size = 8)\n",
    "axarr[2].set_title('Monophily-Only', size = 8)\n",
    "\n",
    "\n",
    "\n",
    "#axarr[0,1].set_title('binary($A^2$)', size = 8)\n",
    "\n",
    "#axarr[0,0].set_ylabel('ER Graph', size = 8)\n",
    "#axarr[1,0].set_ylabel('Homophily-Only',size = 8)\n",
    "#axarr[2,0].set_ylabel('Monophily-Only',size = 8)\n",
    "plt.subplots_adjust(wspace=0, hspace=0)\n",
    "plt.tight_layout()\n",
    "#plt.show()\n",
    "pp = PdfPages('../../figures/figure1b_alternative.pdf')\n",
    "pp.savefig()\n",
    "pp.close()"
   ]
  },
  {
   "cell_type": "code",
   "execution_count": null,
   "metadata": {
    "collapsed": true
   },
   "outputs": [],
   "source": []
  },
  {
   "cell_type": "code",
   "execution_count": null,
   "metadata": {
    "collapsed": true
   },
   "outputs": [],
   "source": []
  }
 ],
 "metadata": {
  "kernelspec": {
   "display_name": "Python 2",
   "language": "python",
   "name": "python2"
  },
  "language_info": {
   "codemirror_mode": {
    "name": "ipython",
    "version": 2
   },
   "file_extension": ".py",
   "mimetype": "text/x-python",
   "name": "python",
   "nbconvert_exporter": "python",
   "pygments_lexer": "ipython2",
   "version": "2.7.12"
  }
 },
 "nbformat": 4,
 "nbformat_minor": 2
}
