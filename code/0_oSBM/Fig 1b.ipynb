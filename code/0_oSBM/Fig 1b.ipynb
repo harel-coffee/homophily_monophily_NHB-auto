{
 "cells": [
  {
   "cell_type": "code",
   "execution_count": 1,
   "metadata": {
    "collapsed": true
   },
   "outputs": [],
   "source": [
    "## Figures adapted from: http://sociograph.blogspot.com/2012/11/visualizing-adjacency-matrices-in-python.html"
   ]
  },
  {
   "cell_type": "code",
   "execution_count": 2,
   "metadata": {
    "collapsed": false
   },
   "outputs": [
    {
     "name": "stderr",
     "output_type": "stream",
     "text": [
      "/usr/local/lib/python2.7/site-packages/matplotlib/__init__.py:872: UserWarning: axes.color_cycle is deprecated and replaced with axes.prop_cycle; please use the latter.\n",
      "  warnings.warn(self.msg_depr % (key, alt_key))\n",
      "/Users/kristen/anaconda/lib/python2.7/site-packages/statsmodels/compat/pandas.py:56: FutureWarning: The pandas.core.datetools module is deprecated and will be removed in a future version. Please use the pandas.tseries module instead.\n",
      "  from pandas.core import datetools\n",
      "/Users/kristen/anaconda/lib/python2.7/site-packages/sklearn/cross_validation.py:44: DeprecationWarning: This module was deprecated in version 0.18 in favor of the model_selection module into which all the refactored classes and functions are moved. Also note that the interface of the new CV iterators are different from that of this module. This module will be removed in 0.20.\n",
      "  \"This module will be removed in 0.20.\", DeprecationWarning)\n"
     ]
    }
   ],
   "source": [
    "from __future__ import division\n",
    "import os\n",
    "import igraph\n",
    "import numpy as np\n",
    "import pandas as pd\n",
    "from matplotlib.backends.backend_pdf import PdfPages\n",
    "from scipy.stats.kde import gaussian_kde\n",
    "from matplotlib.ticker import FixedLocator,LinearLocator,MultipleLocator, FormatStrFormatter\n",
    "from mpl_toolkits.axes_grid1 import Grid\n",
    "import networkx as nx\n",
    "from matplotlib import pyplot, patches\n",
    "import numpy as np\n",
    "from collections import defaultdict\n",
    "\n",
    "# relevant python libraries\n",
    "execfile('../functions/python_libraries.py')\n",
    "execfile('../functions/create_oSBM_class_specific_alternative.py')\n",
    "execfile('../functions/compute_homophily.py')\n",
    "execfile('../functions/compute_monophily.py')"
   ]
  },
  {
   "cell_type": "code",
   "execution_count": 3,
   "metadata": {
    "collapsed": false
   },
   "outputs": [],
   "source": [
    "def draw_adjacency_matrix_modified(adjacency_matrix, plt_name=None, \n",
    "                                   partitions=[], colors=[],\n",
    "                                  partition_indicator = False):\n",
    "    plt_name.imshow(adjacency_matrix,\n",
    "                  cmap=\"binary\",\n",
    "                  interpolation=\"nearest\")\n",
    "    plt_name.spines[\"right\"].set_linewidth(0.5)\n",
    "    plt_name.spines[\"left\"].set_linewidth(0.5)\n",
    "    plt_name.spines[\"bottom\"].set_linewidth(0.5)\n",
    "    plt_name.spines[\"top\"].set_linewidth(0.5)\n",
    "    plt_name.spines[\"right\"].set_color('lightgray')\n",
    "    plt_name.spines[\"left\"].set_color('lightgray')\n",
    "    plt_name.spines[\"bottom\"].set_color('lightgray')\n",
    "    plt_name.spines[\"top\"].set_color('lightgray')\n",
    "    \n",
    "    if partition_indicator:\n",
    "        assert len(partitions) == len(colors)\n",
    "        for partition, color in zip(partitions, colors):\n",
    "            current_idx = 0\n",
    "            for module in partition:\n",
    "                plt_name.add_patch(patches.Rectangle((current_idx, current_idx),\n",
    "                                              len(module), # Width\n",
    "                                              len(module), # Height\n",
    "                                              facecolor=\"none\",\n",
    "                                              edgecolor=color,\n",
    "                                              linewidth=\"1\"))\n",
    "                current_idx += len(module)"
   ]
  },
  {
   "cell_type": "code",
   "execution_count": 4,
   "metadata": {
    "collapsed": false
   },
   "outputs": [],
   "source": [
    "def assignmentArray_to_lists(assignment_array):\n",
    "    by_attribute_value = defaultdict(list)\n",
    "    for node_index, attribute_value in enumerate(assignment_array):\n",
    "        by_attribute_value[attribute_value].append(node_index)\n",
    "    return by_attribute_value.values()\n",
    "\n"
   ]
  },
  {
   "cell_type": "code",
   "execution_count": 5,
   "metadata": {
    "collapsed": false
   },
   "outputs": [
    {
     "data": {
      "text/html": [
       "<div>\n",
       "<style>\n",
       "    .dataframe thead tr:only-child th {\n",
       "        text-align: right;\n",
       "    }\n",
       "\n",
       "    .dataframe thead th {\n",
       "        text-align: left;\n",
       "    }\n",
       "\n",
       "    .dataframe tbody tr th {\n",
       "        vertical-align: top;\n",
       "    }\n",
       "</style>\n",
       "<table border=\"1\" class=\"dataframe\">\n",
       "  <thead>\n",
       "    <tr style=\"text-align: right;\">\n",
       "      <th></th>\n",
       "      <th>0</th>\n",
       "      <th>1</th>\n",
       "      <th>2</th>\n",
       "      <th>3</th>\n",
       "      <th>4</th>\n",
       "      <th>5</th>\n",
       "      <th>6</th>\n",
       "      <th>7</th>\n",
       "      <th>8</th>\n",
       "      <th>9</th>\n",
       "      <th>10</th>\n",
       "      <th>11</th>\n",
       "    </tr>\n",
       "  </thead>\n",
       "  <tbody>\n",
       "    <tr>\n",
       "      <th>0</th>\n",
       "      <td>NaN</td>\n",
       "      <td>1.0</td>\n",
       "      <td>NaN</td>\n",
       "      <td>NaN</td>\n",
       "      <td>NaN</td>\n",
       "      <td>NaN</td>\n",
       "      <td>NaN</td>\n",
       "      <td>NaN</td>\n",
       "      <td>1.0</td>\n",
       "      <td>NaN</td>\n",
       "      <td>1.0</td>\n",
       "      <td>NaN</td>\n",
       "    </tr>\n",
       "    <tr>\n",
       "      <th>1</th>\n",
       "      <td>1.0</td>\n",
       "      <td>NaN</td>\n",
       "      <td>NaN</td>\n",
       "      <td>1.0</td>\n",
       "      <td>NaN</td>\n",
       "      <td>1.0</td>\n",
       "      <td>NaN</td>\n",
       "      <td>NaN</td>\n",
       "      <td>NaN</td>\n",
       "      <td>NaN</td>\n",
       "      <td>NaN</td>\n",
       "      <td>NaN</td>\n",
       "    </tr>\n",
       "    <tr>\n",
       "      <th>2</th>\n",
       "      <td>NaN</td>\n",
       "      <td>NaN</td>\n",
       "      <td>NaN</td>\n",
       "      <td>NaN</td>\n",
       "      <td>NaN</td>\n",
       "      <td>NaN</td>\n",
       "      <td>1.0</td>\n",
       "      <td>NaN</td>\n",
       "      <td>NaN</td>\n",
       "      <td>1.0</td>\n",
       "      <td>1.0</td>\n",
       "      <td>NaN</td>\n",
       "    </tr>\n",
       "    <tr>\n",
       "      <th>3</th>\n",
       "      <td>NaN</td>\n",
       "      <td>1.0</td>\n",
       "      <td>NaN</td>\n",
       "      <td>NaN</td>\n",
       "      <td>NaN</td>\n",
       "      <td>1.0</td>\n",
       "      <td>NaN</td>\n",
       "      <td>NaN</td>\n",
       "      <td>1.0</td>\n",
       "      <td>NaN</td>\n",
       "      <td>NaN</td>\n",
       "      <td>NaN</td>\n",
       "    </tr>\n",
       "    <tr>\n",
       "      <th>4</th>\n",
       "      <td>NaN</td>\n",
       "      <td>NaN</td>\n",
       "      <td>NaN</td>\n",
       "      <td>NaN</td>\n",
       "      <td>NaN</td>\n",
       "      <td>NaN</td>\n",
       "      <td>1.0</td>\n",
       "      <td>NaN</td>\n",
       "      <td>1.0</td>\n",
       "      <td>NaN</td>\n",
       "      <td>NaN</td>\n",
       "      <td>NaN</td>\n",
       "    </tr>\n",
       "  </tbody>\n",
       "</table>\n",
       "</div>"
      ],
      "text/plain": [
       "    0    1   2    3   4    5    6   7    8    9    10  11\n",
       "0  NaN  1.0 NaN  NaN NaN  NaN  NaN NaN  1.0  NaN  1.0 NaN\n",
       "1  1.0  NaN NaN  1.0 NaN  1.0  NaN NaN  NaN  NaN  NaN NaN\n",
       "2  NaN  NaN NaN  NaN NaN  NaN  1.0 NaN  NaN  1.0  1.0 NaN\n",
       "3  NaN  1.0 NaN  NaN NaN  1.0  NaN NaN  1.0  NaN  NaN NaN\n",
       "4  NaN  NaN NaN  NaN NaN  NaN  1.0 NaN  1.0  NaN  NaN NaN"
      ]
     },
     "execution_count": 5,
     "metadata": {},
     "output_type": "execute_result"
    }
   ],
   "source": [
    "test = pd.read_csv('../../figures/toyA.csv', header=-1)\n",
    "test.head()"
   ]
  },
  {
   "cell_type": "code",
   "execution_count": 6,
   "metadata": {
    "collapsed": false
   },
   "outputs": [
    {
     "data": {
      "text/plain": [
       "(12, 12)"
      ]
     },
     "execution_count": 6,
     "metadata": {},
     "output_type": "execute_result"
    }
   ],
   "source": [
    "adj = np.matrix(np.nan_to_num(test))\n",
    "np.shape(adj)"
   ]
  },
  {
   "cell_type": "code",
   "execution_count": 7,
   "metadata": {
    "collapsed": false
   },
   "outputs": [
    {
     "name": "stdout",
     "output_type": "stream",
     "text": [
      "0.0\n"
     ]
    }
   ],
   "source": [
    "print np.mean(adj!=adj.T)"
   ]
  },
  {
   "cell_type": "code",
   "execution_count": 8,
   "metadata": {
    "collapsed": false
   },
   "outputs": [],
   "source": [
    "y_toy = np.array([1,1,1,1,1,1,2,2,2,2,2,2])\n",
    "from __future__ import division"
   ]
  },
  {
   "cell_type": "code",
   "execution_count": 9,
   "metadata": {
    "collapsed": false
   },
   "outputs": [
    {
     "name": "stdout",
     "output_type": "stream",
     "text": [
      "12\n",
      "(12, 12)\n"
     ]
    }
   ],
   "source": [
    "print len(y_toy)\n",
    "print np.shape(adj)"
   ]
  },
  {
   "cell_type": "code",
   "execution_count": 10,
   "metadata": {
    "collapsed": false
   },
   "outputs": [
    {
     "data": {
      "image/png": "[encoded data removed]",
      "text/plain": [
       "<matplotlib.figure.Figure at 0x1187ce590>"
      ]
     },
     "metadata": {},
     "output_type": "display_data"
    }
   ],
   "source": [
    "%matplotlib inline\n",
    "plt.hist(adj[y_toy==1,:] * np.matrix(y_toy==1).T/(np.sum(adj[y_toy==1],1)),\n",
    "        normed=True)\n",
    "plt.hist(adj[y_toy==2,:] * np.matrix(y_toy==2).T/(np.sum(adj[y_toy==2],1)),\n",
    "        normed=True)\n",
    "plt.show()"
   ]
  },
  {
   "cell_type": "code",
   "execution_count": 11,
   "metadata": {
    "collapsed": false
   },
   "outputs": [
    {
     "data": {
      "text/plain": [
       "[0.5, 0.5]"
      ]
     },
     "execution_count": 11,
     "metadata": {},
     "output_type": "execute_result"
    }
   ],
   "source": [
    "homophily_index_Jackson_alternative(adj, y_toy)"
   ]
  },
  {
   "cell_type": "code",
   "execution_count": 12,
   "metadata": {
    "collapsed": false
   },
   "outputs": [
    {
     "data": {
      "text/plain": [
       "[0.7362904663334469, 0.7362904663334471]"
      ]
     },
     "execution_count": 12,
     "metadata": {},
     "output_type": "execute_result"
    }
   ],
   "source": [
    "monophily_index_overdispersion_Williams(adj, y_toy)"
   ]
  },
  {
   "cell_type": "code",
   "execution_count": 13,
   "metadata": {
    "collapsed": true
   },
   "outputs": [],
   "source": [
    "adj2 = np.matrix(adj)**2\n",
    "adj2[range(adj2.shape[0]),range(adj2.shape[0])]=0\n",
    "adj2 = (adj2 >=1)+0"
   ]
  },
  {
   "cell_type": "code",
   "execution_count": 14,
   "metadata": {
    "collapsed": true
   },
   "outputs": [],
   "source": [
    "y_toy_assignment = y_toy.copy()\n",
    "y_toy_lists = assignmentArray_to_lists(y_toy_assignment)"
   ]
  },
  {
   "cell_type": "code",
   "execution_count": 15,
   "metadata": {
    "collapsed": false
   },
   "outputs": [
    {
     "data": {
      "image/png": "[encoded data removed]",
      "text/plain": [
       "<matplotlib.figure.Figure at 0x1191c9c10>"
      ]
     },
     "metadata": {},
     "output_type": "display_data"
    }
   ],
   "source": [
    "%matplotlib inline\n",
    "f, (ax1, ax2) = plt.subplots(1, 2, \n",
    "                             sharey=False, sharex=False,\n",
    "                            figsize=(8, 3))\n",
    "\n",
    "\n",
    "\n",
    "\n",
    "draw_adjacency_matrix_modified(adj,#[idx_amherst,:][idx_amherst,:], #np.concatenate([idx1,idx2]), \n",
    "                      partitions=[y_toy_lists],\n",
    "                      colors=[\"red\"],\n",
    "                      plt_name=ax1,\n",
    "                               partition_indicator=False)\n",
    "\n",
    "ax1.set_xticklabels([])\n",
    "ax1.set_yticklabels([])\n",
    "ax1.set_title('$A$')\n",
    "ax1.axvline(5.5, color='red')\n",
    "ax1.axhline(5.5, color='red')\n",
    "\n",
    "draw_adjacency_matrix_modified(adj2,#[idx_amherst,:][:,idx_amherst], #np.concatenate([idx1,idx2]), \n",
    "                      partitions=[y_toy_lists],\n",
    "                      colors=[\"red\"],\n",
    "                      plt_name=ax2,\n",
    "                              partition_indicator=False)\n",
    "ax2.set_xticklabels([])\n",
    "ax2.set_yticklabels([])\n",
    "ax2.axvline(5.5, color='red')\n",
    "ax2.axhline(5.5, color='red')\n",
    "\n",
    "ax2.set_title('$A^2$')\n",
    "plt.tight_layout()\n",
    "#plt.show()\n",
    "pp = PdfPages('../../figures/figure1b_toy_example.pdf')\n",
    "pp.savefig(dpi = 300)\n",
    "pp.close()"
   ]
  },
  {
   "cell_type": "code",
   "execution_count": 16,
   "metadata": {
    "collapsed": false
   },
   "outputs": [
    {
     "name": "stdout",
     "output_type": "stream",
     "text": [
      "1\n",
      "2\n",
      "3\n",
      "4\n",
      "5\n",
      "[0.5, 0.66666666666666663, 0.5, 0.66666666666666663, 0.5]\n"
     ]
    }
   ],
   "source": [
    "## khop spot-check\n",
    "k_hop = np.array([1,2,3,4,5])\n",
    "class_values = np.unique(y_toy)\n",
    "\n",
    "prop_same_array = []\n",
    "for k in k_hop:  \n",
    "    print k\n",
    "    adj_amherst_k= np.matrix(adj)**k\n",
    "    adj_amherst_k[range(adj_amherst_k.shape[0]),range(adj_amherst_k.shape[0])]=0 ## remove self-loops\n",
    "                              \n",
    "    mv_g1 = (adj_amherst_k[y_toy==class_values[0],:] * np.matrix((y_toy==class_values[0])+0).T)/np.sum(adj_amherst_k[y_toy==class_values[0],:],1)\n",
    "    mv_g2 = (adj_amherst_k[y_toy==class_values[1],:] * np.matrix((y_toy==class_values[1])+0).T)/np.sum(adj_amherst_k[y_toy==class_values[1],:],1)\n",
    "    proportion_majority_same = np.mean(np.concatenate((np.array(mv_g1).T[0]>np.mean(y_toy==class_values[0]),\n",
    "                                                        np.array(mv_g2).T[0]>np.mean(y_toy==class_values[1]))))\n",
    "    prop_same_array.append( proportion_majority_same)\n",
    "\n",
    "print prop_same_array"
   ]
  },
  {
   "cell_type": "code",
   "execution_count": null,
   "metadata": {
    "collapsed": true
   },
   "outputs": [],
   "source": []
  },
  {
   "cell_type": "code",
   "execution_count": null,
   "metadata": {
    "collapsed": true
   },
   "outputs": [],
   "source": []
  }
 ],
 "metadata": {
  "kernelspec": {
   "display_name": "Python 2",
   "language": "python",
   "name": "python2"
  },
  "language_info": {
   "codemirror_mode": {
    "name": "ipython",
    "version": 2
   },
   "file_extension": ".py",
   "mimetype": "text/x-python",
   "name": "python",
   "nbconvert_exporter": "python",
   "pygments_lexer": "ipython2",
   "version": "2.7.12"
  }
 },
 "nbformat": 4,
 "nbformat_minor": 2
}
