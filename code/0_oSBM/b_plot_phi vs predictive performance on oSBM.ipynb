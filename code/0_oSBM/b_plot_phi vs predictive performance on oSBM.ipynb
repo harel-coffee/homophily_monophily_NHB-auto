{
 "cells": [
  {
   "cell_type": "markdown",
   "metadata": {},
   "source": [
    "12/26/2017\n",
    "\n",
    "# Summary\n",
    "Goal of this notebook is to compare the predictive performance of oSBM as we vary overdispersion -- without any block structure. Code organization assumes working directory is notebook folder location."
   ]
  },
  {
   "cell_type": "code",
   "execution_count": 2,
   "metadata": {},
   "outputs": [
    {
     "name": "stderr",
     "output_type": "stream",
     "text": [
      "/Users/jugander/anaconda3/envs/ipykernel_py2/lib/python2.7/site-packages/statsmodels/compat/pandas.py:56: FutureWarning: The pandas.core.datetools module is deprecated and will be removed in a future version. Please use the pandas.tseries module instead.\n",
      "  from pandas.core import datetools\n",
      "/Users/jugander/anaconda3/envs/ipykernel_py2/lib/python2.7/site-packages/sklearn/cross_validation.py:41: DeprecationWarning: This module was deprecated in version 0.18 in favor of the model_selection module into which all the refactored classes and functions are moved. Also note that the interface of the new CV iterators are different from that of this module. This module will be removed in 0.20.\n",
      "  \"This module will be removed in 0.20.\", DeprecationWarning)\n"
     ]
    }
   ],
   "source": [
    "from __future__ import division\n",
    "import os\n",
    "#import igraph\n",
    "import numpy as np\n",
    "import pandas as pd\n",
    "from matplotlib.backends.backend_pdf import PdfPages\n",
    "from scipy.stats.kde import gaussian_kde\n",
    "from matplotlib.ticker import FixedLocator,LinearLocator,MultipleLocator, FormatStrFormatter\n",
    "from mpl_toolkits.axes_grid1 import Grid\n",
    "\n",
    "# relevant python libraries\n",
    "execfile('../functions/python_libraries.py')\n",
    "\n",
    "# oSBM code\n",
    "execfile('../functions/create_oSBM_class_specific_alternative.py')\n",
    "\n",
    "# compute homophily + monophily\n",
    "execfile('../functions/compute_homophily.py')\n",
    "execfile('../functions/compute_homophily_p_value.py')\n",
    "execfile('../functions/compute_monophily.py')\n",
    "execfile('../functions/compute_chi_square.py')\n",
    "\n",
    "\n",
    "\n",
    "# code for attribute prediction\n",
    "execfile('../functions/benchmark_classifier.py')\n",
    "execfile('../functions/LINK_finalized.py')\n",
    "execfile('../functions/majority_vote.py')\n",
    "execfile('../functions/ZGL.py')"
   ]
  },
  {
   "cell_type": "markdown",
   "metadata": {},
   "source": [
    "## [possibly delete] set folder directory paths"
   ]
  },
  {
   "cell_type": "code",
   "execution_count": null,
   "metadata": {
    "collapsed": true
   },
   "outputs": [],
   "source": [
    "#dir_osbm = '/Users/kristen/Dropbox/gender_graph_data/manuscript/nature_hb/gender_graph_final_code_NatureHB/figures/'"
   ]
  },
  {
   "cell_type": "markdown",
   "metadata": {},
   "source": [
    "## Vary $\\phi$ on oSBM without block structure"
   ]
  },
  {
   "cell_type": "code",
   "execution_count": 7,
   "metadata": {},
   "outputs": [],
   "source": [
    "percent_initially_unlabelled = [0.99, 0.9, 0.5, 0.1]\n",
    "percent_initially_labelled = np.subtract(1, percent_initially_unlabelled)\n",
    "disp_oSBM_array = np.linspace(0,0.004,20)"
   ]
  },
  {
   "cell_type": "code",
   "execution_count": 8,
   "metadata": {},
   "outputs": [
    {
     "name": "stdout",
     "output_type": "stream",
     "text": [
      "0: disp 0.0\n",
      "('p_in: ', 0.042)\n",
      "('p_out: ', 0.042)\n",
      "\n",
      "spot-check average degree: \n",
      "84.044\n",
      "\n",
      "spot-check homophily: \n",
      "[0.49994641772739723, 0.5006717793234647]\n",
      "\n",
      "spot-check monophily: \n",
      "[0.0, 0.0]\n",
      "\n",
      "0.99\n",
      "0.9\n"
     ]
    },
    {
     "name": "stderr",
     "output_type": "stream",
     "text": [
      "/Users/jugander/anaconda3/envs/ipykernel_py2/lib/python2.7/site-packages/ipykernel_launcher.py:44: RuntimeWarning: invalid value encountered in true_divide\n"
     ]
    },
    {
     "name": "stdout",
     "output_type": "stream",
     "text": [
      "0.5\n",
      "0.1\n",
      "0.99\n",
      "0.9\n",
      "0.5\n",
      "0.1\n",
      "1: disp 0.0002105263157894737\n",
      "('p_in: ', 0.042)\n",
      "('p_out: ', 0.042)\n",
      "\n",
      "spot-check average degree: \n",
      "83.9815\n",
      "\n",
      "spot-check homophily: \n",
      "[0.4997617516022205, 0.5001844864729758]\n",
      "\n",
      "spot-check monophily: \n",
      "[0.0022313079848943727, 0.0013250621766239725]\n",
      "\n",
      "0.99\n",
      "0.9\n",
      "0.5\n",
      "0.1\n",
      "0.99\n",
      "0.9\n",
      "0.5\n",
      "0.1\n",
      "2: disp 0.0004210526315789474\n",
      "('p_in: ', 0.042)\n",
      "('p_out: ', 0.042)\n",
      "\n",
      "spot-check average degree: \n",
      "83.3665\n",
      "\n",
      "spot-check homophily: \n",
      "[0.4997248803827752, 0.4969145826567068]\n",
      "\n",
      "spot-check monophily: \n",
      "[0.005210386614999961, 0.0047113649498395915]\n",
      "\n",
      "0.99\n",
      "0.9\n",
      "0.5\n",
      "0.1\n",
      "0.99\n",
      "0.9\n",
      "0.5\n",
      "0.1\n",
      "3: disp 0.0006315789473684211\n",
      "('p_in: ', 0.042)\n",
      "('p_out: ', 0.042)\n",
      "\n",
      "spot-check average degree: \n",
      "84.0085\n",
      "\n",
      "spot-check homophily: \n",
      "[0.5012238816559651, 0.4945476333133613]\n",
      "\n",
      "spot-check monophily: \n",
      "[0.007676275127673052, 0.0066749989962905844]\n",
      "\n",
      "0.99\n",
      "0.9\n",
      "0.5\n",
      "0.1\n"
     ]
    },
    {
     "ename": "KeyboardInterrupt",
     "evalue": "",
     "output_type": "error",
     "traceback": [
      "\u001b[0;31m---------------------------------------------------------------------------\u001b[0m",
      "\u001b[0;31mKeyboardInterrupt\u001b[0m                         Traceback (most recent call last)",
      "\u001b[0;32m<ipython-input-8-3958fddba13d>\u001b[0m in \u001b[0;36m<module>\u001b[0;34m()\u001b[0m\n\u001b[1;32m     26\u001b[0m \u001b[0;34m\u001b[0m\u001b[0m\n\u001b[1;32m     27\u001b[0m     \u001b[0;31m## 2-hop MV\u001b[0m\u001b[0;34m\u001b[0m\u001b[0;34m\u001b[0m\u001b[0m\n\u001b[0;32m---> 28\u001b[0;31m     \u001b[0madj_noByesO_osbm2\u001b[0m\u001b[0;34m=\u001b[0m \u001b[0mnp\u001b[0m\u001b[0;34m.\u001b[0m\u001b[0mmatrix\u001b[0m\u001b[0;34m(\u001b[0m\u001b[0madj_noByesO_osbm\u001b[0m\u001b[0;34m)\u001b[0m\u001b[0;34m**\u001b[0m\u001b[0;36m2\u001b[0m\u001b[0;34m\u001b[0m\u001b[0m\n\u001b[0m\u001b[1;32m     29\u001b[0m     \u001b[0madj_noByesO_osbm2\u001b[0m\u001b[0;34m[\u001b[0m\u001b[0mrange\u001b[0m\u001b[0;34m(\u001b[0m\u001b[0madj_noByesO_osbm\u001b[0m\u001b[0;34m.\u001b[0m\u001b[0mshape\u001b[0m\u001b[0;34m[\u001b[0m\u001b[0;36m0\u001b[0m\u001b[0;34m]\u001b[0m\u001b[0;34m)\u001b[0m\u001b[0;34m,\u001b[0m\u001b[0mrange\u001b[0m\u001b[0;34m(\u001b[0m\u001b[0madj_noByesO_osbm\u001b[0m\u001b[0;34m.\u001b[0m\u001b[0mshape\u001b[0m\u001b[0;34m[\u001b[0m\u001b[0;36m0\u001b[0m\u001b[0;34m]\u001b[0m\u001b[0;34m)\u001b[0m\u001b[0;34m]\u001b[0m\u001b[0;34m=\u001b[0m\u001b[0;36m0\u001b[0m\u001b[0;34m\u001b[0m\u001b[0m\n\u001b[1;32m     30\u001b[0m \u001b[0;34m\u001b[0m\u001b[0m\n",
      "\u001b[0;32m/Users/jugander/anaconda3/envs/ipykernel_py2/lib/python2.7/site-packages/numpy/matrixlib/defmatrix.pyc\u001b[0m in \u001b[0;36m__pow__\u001b[0;34m(self, other)\u001b[0m\n\u001b[1;32m    320\u001b[0m \u001b[0;34m\u001b[0m\u001b[0m\n\u001b[1;32m    321\u001b[0m     \u001b[0;32mdef\u001b[0m \u001b[0m__pow__\u001b[0m\u001b[0;34m(\u001b[0m\u001b[0mself\u001b[0m\u001b[0;34m,\u001b[0m \u001b[0mother\u001b[0m\u001b[0;34m)\u001b[0m\u001b[0;34m:\u001b[0m\u001b[0;34m\u001b[0m\u001b[0m\n\u001b[0;32m--> 322\u001b[0;31m         \u001b[0;32mreturn\u001b[0m \u001b[0mmatrix_power\u001b[0m\u001b[0;34m(\u001b[0m\u001b[0mself\u001b[0m\u001b[0;34m,\u001b[0m \u001b[0mother\u001b[0m\u001b[0;34m)\u001b[0m\u001b[0;34m\u001b[0m\u001b[0m\n\u001b[0m\u001b[1;32m    323\u001b[0m \u001b[0;34m\u001b[0m\u001b[0m\n\u001b[1;32m    324\u001b[0m     \u001b[0;32mdef\u001b[0m \u001b[0m__ipow__\u001b[0m\u001b[0;34m(\u001b[0m\u001b[0mself\u001b[0m\u001b[0;34m,\u001b[0m \u001b[0mother\u001b[0m\u001b[0;34m)\u001b[0m\u001b[0;34m:\u001b[0m\u001b[0;34m\u001b[0m\u001b[0m\n",
      "\u001b[0;32m/Users/jugander/anaconda3/envs/ipykernel_py2/lib/python2.7/site-packages/numpy/matrixlib/defmatrix.pyc\u001b[0m in \u001b[0;36mmatrix_power\u001b[0;34m(M, n)\u001b[0m\n\u001b[1;32m    154\u001b[0m     \u001b[0;32mif\u001b[0m \u001b[0mn\u001b[0m \u001b[0;34m<=\u001b[0m \u001b[0;36m3\u001b[0m\u001b[0;34m:\u001b[0m\u001b[0;34m\u001b[0m\u001b[0m\n\u001b[1;32m    155\u001b[0m         \u001b[0;32mfor\u001b[0m \u001b[0m_\u001b[0m \u001b[0;32min\u001b[0m \u001b[0mrange\u001b[0m\u001b[0;34m(\u001b[0m\u001b[0mn\u001b[0m\u001b[0;34m-\u001b[0m\u001b[0;36m1\u001b[0m\u001b[0;34m)\u001b[0m\u001b[0;34m:\u001b[0m\u001b[0;34m\u001b[0m\u001b[0m\n\u001b[0;32m--> 156\u001b[0;31m             \u001b[0mresult\u001b[0m\u001b[0;34m=\u001b[0m\u001b[0mN\u001b[0m\u001b[0;34m.\u001b[0m\u001b[0mdot\u001b[0m\u001b[0;34m(\u001b[0m\u001b[0mresult\u001b[0m\u001b[0;34m,\u001b[0m \u001b[0mM\u001b[0m\u001b[0;34m)\u001b[0m\u001b[0;34m\u001b[0m\u001b[0m\n\u001b[0m\u001b[1;32m    157\u001b[0m         \u001b[0;32mreturn\u001b[0m \u001b[0mresult\u001b[0m\u001b[0;34m\u001b[0m\u001b[0m\n\u001b[1;32m    158\u001b[0m \u001b[0;34m\u001b[0m\u001b[0m\n",
      "\u001b[0;31mKeyboardInterrupt\u001b[0m: "
     ]
    }
   ],
   "source": [
    "MV1_results = []\n",
    "MV2_results = []\n",
    "MV1_se_results = []\n",
    "MV2_se_results = []\n",
    "\n",
    "for j in range(len(disp_oSBM_array)):\n",
    "    print(str(j) + \": disp \" + str(disp_oSBM_array[j]))\n",
    "    ## create 1 realization from oSBM\n",
    "    (adj_noByesO_osbm, y_noByesO_osbm) = create_affiliation_model_temp(84,\n",
    "                                  lambda_block_parameter = 1,\n",
    "                                           dispersion_parameter_vect = np.array([np.array([disp_oSBM_array[j], disp_oSBM_array[j]]),\n",
    "                                            np.array([disp_oSBM_array[j], disp_oSBM_array[j]])]),\n",
    "                                  class_size_vect = np.array([1000,1000]))\n",
    "\n",
    "    \n",
    "    ## 1-hop MV\n",
    "    (mean_accuracy_mv_noByesO, se_accuracy_mv_noByesO, \n",
    "     mean_micro_auc_mv_noByesO,se_micro_auc_mv_noByesO, \n",
    "     mean_wt_auc_mv_noByesO,se_wt_auc_mv_noByesO) =majority_vote_finalized(percent_initially_unlabelled,  \n",
    "                                                                    np.array(y_noByesO_osbm), \n",
    "                                                                    np.array(adj_noByesO_osbm), \n",
    "                                                                    num_iter=10) \n",
    "    MV1_results.append(mean_wt_auc_mv_noByesO)\n",
    "    MV1_se_results.append(se_wt_auc_mv_noByesO)\n",
    "\n",
    "\n",
    "    ## 2-hop MV\n",
    "    # Squaring the matrix here is computationally expensive; this could probably be done faster.\n",
    "    adj_noByesO_osbm2= np.matrix(adj_noByesO_osbm)**2\n",
    "    adj_noByesO_osbm2[range(adj_noByesO_osbm.shape[0]),range(adj_noByesO_osbm.shape[0])]=0\n",
    "\n",
    "    (mean_accuracy_mv2_noByesO, se_accuracy_m2v_noByesO, \n",
    "     mean_micro_auc_mv2_noByesO,se_micro_auc_mv2_noByesO, \n",
    "     mean_wt_auc_mv2_noByesO,se_wt_auc_mv2_noByesO) = majority_vote_finalized(percent_initially_unlabelled,  \n",
    "                                                                    np.array(y_noByesO_osbm), \n",
    "                                                                    np.array(adj_noByesO_osbm2), \n",
    "                                                                    num_iter=10) \n",
    "    MV2_results.append(mean_wt_auc_mv2_noByesO)\n",
    "    MV2_se_results.append(se_wt_auc_mv2_noByesO)"
   ]
  },
  {
   "cell_type": "code",
   "execution_count": null,
   "metadata": {},
   "outputs": [],
   "source": [
    "import matplotlib.font_manager as font_manager\n",
    "font_prop = font_manager.FontProperties(size=15)\n",
    "font = {\n",
    "        'size': 13,\n",
    "        }"
   ]
  },
  {
   "cell_type": "code",
   "execution_count": null,
   "metadata": {},
   "outputs": [],
   "source": [
    "for i in range(len(percent_initially_unlabelled)):\n",
    "    %matplotlib inline\n",
    "    plt.errorbar(disp_oSBM_array,\n",
    "               [j[i] for j in MV1_results],\n",
    "                 yerr=[j[i] for j in MV1_se_results], \n",
    "                 fmt='--o', capthick=2,\n",
    "            #alpha=0.6, \n",
    "                 elinewidth=3, color='red')\n",
    "    plt.text(0.000001, 0.95, '1hop MV', color = 'red',  fontdict=font)\n",
    "    plt.text(0.000001, 0.89, '2hop MV', color = 'maroon', fontdict=font)\n",
    "\n",
    "\n",
    "    plt.errorbar(disp_oSBM_array,\n",
    "               [j[i] for j in MV2_results], \n",
    "                 yerr=[j[i] for j in MV2_se_results], \n",
    "                 fmt='--o', capthick=2,\n",
    "            #alpha=0.6, \n",
    "                 elinewidth=3, color = 'maroon') \n",
    "    #plt.xlabel('dispersion')\n",
    "    #plt.xlabel('$\\phi^*_{in}$, $\\phi^*_{out}$')\n",
    "    #plt.text(0.0016, -0.15, '$\\phi^*_{in}$, $\\phi^*_{out}$', fontproperties=font_prop)\n",
    "    plt.text(0.0013, -0.14, 'overdispersion', fontproperties=font_prop)\n",
    "\n",
    "\n",
    "    plt.ylabel('AUC')\n",
    "    plt.ylim(0,1.01)\n",
    "    plt.xlim(np.min(disp_oSBM_array)-0.0001,np.max(disp_oSBM_array)+0.0001)\n",
    "    #plt.set_spines[\"right\"].set_visible(False)\n",
    "    #plt.set_spines[\"top\"].set_visible(False)\n",
    "    plt.title(np.str((percent_initially_labelled[i] * 100)) + '% initially labeled')\n",
    "    #plt.tight_layout()\n",
    "    pp = PdfPages('../../figures/' + np.str((percent_initially_labelled[i] * 100)) + '_with_bars_initially_labeled.pdf')\n",
    "    pp.savefig()\n",
    "    pp.close()\n",
    "    #plt.show()"
   ]
  }
 ],
 "metadata": {
  "kernelspec": {
   "display_name": "Python 2",
   "language": "python",
   "name": "python2"
  },
  "language_info": {
   "codemirror_mode": {
    "name": "ipython",
    "version": 2
   },
   "file_extension": ".py",
   "mimetype": "text/x-python",
   "name": "python",
   "nbconvert_exporter": "python",
   "pygments_lexer": "ipython2",
   "version": "2.7.13"
  }
 },
 "nbformat": 4,
 "nbformat_minor": 1
}
