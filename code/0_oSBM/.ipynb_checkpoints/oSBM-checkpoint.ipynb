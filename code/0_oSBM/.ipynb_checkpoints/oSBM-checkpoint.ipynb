{
 "cells": [
  {
   "cell_type": "markdown",
   "metadata": {},
   "source": [
    "11/29/2017\n",
    "# Summary\n",
    "All related code/figures for oSBM."
   ]
  },
  {
   "cell_type": "code",
   "execution_count": 124,
   "metadata": {
    "collapsed": false
   },
   "outputs": [],
   "source": [
    "from __future__ import division\n",
    "import os\n",
    "import igraph\n",
    "import numpy as np\n",
    "import pandas as pd\n",
    "from matplotlib.backends.backend_pdf import PdfPages\n",
    "from scipy.stats.kde import gaussian_kde\n",
    "from matplotlib.ticker import FixedLocator,LinearLocator,MultipleLocator, FormatStrFormatter\n",
    "from mpl_toolkits.axes_grid1 import Grid\n",
    "\n",
    "# relevant python libraries\n",
    "execfile('../functions/python_libraries.py')\n",
    "\n",
    "# oSBM code\n",
    "execfile('../functions/create_oSBM_class_specific_alternative.py')\n",
    "\n",
    "# compute homophily + monophily\n",
    "execfile('../functions/compute_homophily.py')\n",
    "execfile('../functions/compute_monophily.py')\n",
    "execfile('../functions/SI_functions/LINK_finalized_coeff.py')\n",
    "\n",
    "# code for attribute prediction\n",
    "execfile('../functions/benchmark_classifier.py')\n",
    "execfile('../functions/LINK_finalized.py')\n",
    "execfile('../functions/majority_vote.py')\n",
    "execfile('../functions/majority_vote_modified.py')\n",
    "\n",
    "execfile('../functions/ZGL.py')"
   ]
  },
  {
   "cell_type": "code",
   "execution_count": 125,
   "metadata": {
    "collapsed": false
   },
   "outputs": [
    {
     "data": {
      "text/plain": [
       "'/Users/kristen/Dropbox/gender_graph_data/manuscript/nature_hb/gender_graph_final_code_NatureHB/code/0_oSBM'"
      ]
     },
     "execution_count": 125,
     "metadata": {},
     "output_type": "execute_result"
    }
   ],
   "source": [
    "os.getcwd()"
   ]
  },
  {
   "cell_type": "markdown",
   "metadata": {},
   "source": [
    "### create 4 graph instances: noB-noO, yesB-noO, noB-yesO, yesB-yesO"
   ]
  },
  {
   "cell_type": "code",
   "execution_count": 126,
   "metadata": {
    "collapsed": false
   },
   "outputs": [],
   "source": [
    "disp_val = 0.004"
   ]
  },
  {
   "cell_type": "code",
   "execution_count": 127,
   "metadata": {
    "collapsed": false
   },
   "outputs": [
    {
     "name": "stdout",
     "output_type": "stream",
     "text": [
      "p_in:  0.042\n",
      "p_out:  0.042\n",
      "\n",
      "spot-check average degree: \n",
      "83.8095\n",
      "\n",
      "spot-check homophily: \n",
      "[0.49824561403508771, 0.49505649717514127]\n",
      "\n",
      "spot-check monophily: \n",
      "[0.0, 0.0]\n",
      "\n",
      "p_in:  0.0504\n",
      "p_out:  0.0336\n",
      "\n",
      "spot-check average degree: \n",
      "83.965\n",
      "\n",
      "spot-check homophily: \n",
      "[0.60358414431521479, 0.60078881319469346]\n",
      "\n",
      "spot-check monophily: \n",
      "[0.0, 0.0]\n",
      "\n",
      "p_in:  0.042\n",
      "p_out:  0.042\n",
      "\n",
      "spot-check average degree: \n",
      "84.0135\n",
      "\n",
      "spot-check homophily: \n",
      "[0.49428157024989894, 0.493070203663318]\n",
      "\n",
      "spot-check monophily: \n",
      "[0.04267854845459662, 0.04276816689621591]\n",
      "\n",
      "p_in:  0.0504\n",
      "p_out:  0.0336\n",
      "\n",
      "spot-check average degree: \n",
      "83.451\n",
      "\n",
      "spot-check homophily: \n",
      "[0.59274815183481222, 0.60307845201897703]\n",
      "\n",
      "spot-check monophily: \n",
      "[0.04688973187225591, 0.046805533794418964]\n",
      "\n"
     ]
    }
   ],
   "source": [
    "(adj_noBnoO_osbm, y_noBnoO_osbm) =  create_affiliation_model_temp(84,\n",
    "                                          lambda_block_parameter =1,\n",
    "                                           dispersion_parameter_vect = np.array([np.array([0, 0]),\n",
    "                                            np.array([0, 0])]),\n",
    "                                  class_size_vect = np.array([1000,1000]))\n",
    "\n",
    "\n",
    "( adj_yesBnoO_osbm, y_yesBnoO_osbm) = create_affiliation_model_temp(84,\n",
    "                                          lambda_block_parameter =1.2,\n",
    "                                           dispersion_parameter_vect = np.array([np.array([0, 0]),\n",
    "                                            np.array([0, 0])]),\n",
    "                                  class_size_vect = np.array([1000,1000]))\n",
    "\n",
    "(adj_noByesO_osbm, y_noByesO_osbm) = create_affiliation_model_temp(84,\n",
    "                                  lambda_block_parameter =1,\n",
    "                                           dispersion_parameter_vect = np.array([np.array([disp_val, disp_val]),\n",
    "                                            np.array([disp_val, disp_val])]),\n",
    "                                  class_size_vect = np.array([1000,1000]))\n",
    "\n",
    "\n",
    "(adj_yesByesO_osbm, y_yesByesO_osbm) = create_affiliation_model_temp(84,\n",
    "                                  lambda_block_parameter =1.2,\n",
    "                                           dispersion_parameter_vect = np.array([np.array([disp_val, disp_val]),\n",
    "                                            np.array([disp_val, disp_val])]),\n",
    "                                  class_size_vect = np.array([1000,1000]))"
   ]
  },
  {
   "cell_type": "code",
   "execution_count": 128,
   "metadata": {
    "collapsed": false
   },
   "outputs": [
    {
     "name": "stdout",
     "output_type": "stream",
     "text": [
      "[0.49824561403508771, 0.49505649717514127]\n",
      "[0.0, 0.0]\n",
      "\n",
      "[0.60358414431521479, 0.60078881319469346]\n",
      "[0.0, 0.0]\n",
      "\n",
      "[0.49428157024989894, 0.493070203663318]\n",
      "[0.04267854845459662, 0.04276816689621591]\n",
      "\n",
      "[0.59274815183481222, 0.60307845201897703]\n",
      "[0.04688973187225591, 0.046805533794418964]\n",
      "\n"
     ]
    }
   ],
   "source": [
    "## 2/9/2017\n",
    "## spotcheck homophily / phi values\n",
    "\n",
    "## noBnoO\n",
    "print homophily_index_Jackson_alternative(adj_noBnoO_osbm, y_noBnoO_osbm)\n",
    "print monophily_index_overdispersion_Williams(adj_noBnoO_osbm, y_noBnoO_osbm)\n",
    "print ''\n",
    "## yesBnoO\n",
    "print homophily_index_Jackson_alternative(adj_yesBnoO_osbm, y_yesBnoO_osbm)\n",
    "print monophily_index_overdispersion_Williams(adj_yesBnoO_osbm, y_yesBnoO_osbm)\n",
    "print ''\n",
    "## noByesO\n",
    "print homophily_index_Jackson_alternative(adj_noByesO_osbm, y_noByesO_osbm)\n",
    "print monophily_index_overdispersion_Williams(adj_noByesO_osbm, y_noByesO_osbm)\n",
    "print ''\n",
    "##yesByesO\n",
    "print homophily_index_Jackson_alternative(adj_yesByesO_osbm, y_yesByesO_osbm)\n",
    "print monophily_index_overdispersion_Williams(adj_yesByesO_osbm, y_yesByesO_osbm)\n",
    "print ''"
   ]
  },
  {
   "cell_type": "code",
   "execution_count": 129,
   "metadata": {
    "collapsed": false
   },
   "outputs": [],
   "source": [
    "# create proportion F\n",
    "\n",
    "# noB-noO\n",
    "degree_noBnoO = np.sum(adj_noBnoO_osbm,1)\n",
    "degree_F_noBnoO = adj_noBnoO_osbm * np.matrix((y_noBnoO_osbm==1)+0).T\n",
    "\n",
    "prop_F_noBnoO = degree_F_noBnoO/degree_noBnoO\n",
    "\n",
    "# noB-yesO\n",
    "degree_noByesO = np.sum(adj_noByesO_osbm,1)\n",
    "degree_F_noByesO = adj_noByesO_osbm * np.matrix((y_noByesO_osbm==1)+0).T\n",
    "\n",
    "prop_F_noByesO = degree_F_noByesO/degree_noByesO\n",
    "\n",
    "# yesB-noO\n",
    "degree_yesBnoO = np.sum(adj_yesBnoO_osbm,1)\n",
    "degree_F_yesBnoO = adj_yesBnoO_osbm * np.matrix((y_yesBnoO_osbm==1)+0).T\n",
    "\n",
    "prop_F_yesBnoO = degree_F_yesBnoO/degree_yesBnoO\n",
    "\n",
    "\n",
    "# yesB-yesO\n",
    "degree_yesByesO = np.sum(adj_yesByesO_osbm,1)\n",
    "degree_F_yesByesO = adj_yesByesO_osbm * np.matrix((y_yesByesO_osbm==1)+0).T\n",
    "\n",
    "prop_F_yesByesO = degree_F_yesByesO/degree_yesByesO"
   ]
  },
  {
   "cell_type": "markdown",
   "metadata": {},
   "source": [
    "### null distribution on oSBM and class preference distribution"
   ]
  },
  {
   "cell_type": "code",
   "execution_count": 130,
   "metadata": {
    "collapsed": false
   },
   "outputs": [],
   "source": [
    "n_iter = 100000\n",
    "\n",
    "## noBnoO\n",
    "d_iF_noBnoO = map(np.int,np.array(degree_noBnoO[y_noBnoO_osbm==1].T)[0])\n",
    "mc_F = []\n",
    "for j in range(n_iter):\n",
    "    mc_F.append( np.random.binomial(n=map(np.int,np.array(d_iF_noBnoO)), p=np.mean(prop_F_noBnoO[y_noBnoO_osbm==1]))/d_iF_noBnoO)\n",
    "mc_F_final_noBnoO = np.array(mc_F).flatten()\n",
    "\n",
    "d_iM_noBnoO = map(np.int,np.array(degree_noBnoO[y_noBnoO_osbm==0].T)[0])\n",
    "mc_M = []\n",
    "for j in range(n_iter):\n",
    "    mc_M.append( np.random.binomial(n=map(np.int,np.array(d_iM_noBnoO)), p=np.mean(1-prop_F_noBnoO[y_noBnoO_osbm==0]))/d_iM_noBnoO)\n",
    "mc_M_final_noBnoO = np.array(mc_M).flatten()"
   ]
  },
  {
   "cell_type": "code",
   "execution_count": 131,
   "metadata": {
    "collapsed": false
   },
   "outputs": [],
   "source": [
    "## yesBnoO\n",
    "d_iF_yesBnoO = map(np.int,np.array(degree_yesBnoO[y_yesBnoO_osbm==1].T)[0])\n",
    "mc_F = []\n",
    "for j in range(n_iter):\n",
    "    mc_F.append( np.random.binomial(n=map(np.int,np.array(d_iF_yesBnoO)), p=np.mean(prop_F_yesBnoO[y_yesBnoO_osbm==1]))/d_iF_yesBnoO)\n",
    "mc_F_final_yesBnoO = np.array(mc_F).flatten()\n",
    "\n",
    "d_iM_yesBnoO = map(np.int,np.array(degree_yesBnoO[y_yesBnoO_osbm==0].T)[0])\n",
    "mc_M = []\n",
    "for j in range(n_iter):\n",
    "    mc_M.append( np.random.binomial(n=map(np.int,np.array(d_iM_yesBnoO)), p=np.mean(1-prop_F_yesBnoO[y_yesBnoO_osbm==0]))/d_iM_yesBnoO)\n",
    "mc_M_final_yesBnoO = np.array(mc_M).flatten()"
   ]
  },
  {
   "cell_type": "code",
   "execution_count": 132,
   "metadata": {
    "collapsed": true
   },
   "outputs": [],
   "source": [
    "## noByesO\n",
    "d_iF_noByesO = map(np.int,np.array(degree_noByesO[y_noByesO_osbm==1].T)[0])\n",
    "mc_F = []\n",
    "for j in range(n_iter):\n",
    "    mc_F.append( np.random.binomial(n=map(np.int,np.array(d_iF_noByesO)), p=np.mean(prop_F_noByesO[y_noByesO_osbm==1]))/d_iF_noByesO)\n",
    "mc_F_final_noByesO = np.array(mc_F).flatten()\n",
    "\n",
    "d_iM_noByesO = map(np.int,np.array(degree_noByesO[y_noByesO_osbm==0].T)[0])\n",
    "mc_M = []\n",
    "for j in range(n_iter):\n",
    "    mc_M.append( np.random.binomial(n=map(np.int,np.array(d_iM_noByesO)), p=np.mean(1-prop_F_noByesO[y_noByesO_osbm==0]))/d_iM_noByesO)\n",
    "mc_M_final_noByesO = np.array(mc_M).flatten()"
   ]
  },
  {
   "cell_type": "code",
   "execution_count": 133,
   "metadata": {
    "collapsed": true
   },
   "outputs": [],
   "source": [
    "## yesByesO\n",
    "d_iF_yesByesO = map(np.int,np.array(degree_yesByesO[y_yesByesO_osbm==1].T)[0])\n",
    "mc_F = []\n",
    "for j in range(n_iter):\n",
    "    mc_F.append( np.random.binomial(n=map(np.int,np.array(d_iF_yesByesO)), p=np.mean(prop_F_yesByesO[y_yesByesO_osbm==1]))/d_iF_yesByesO)\n",
    "mc_F_final_yesByesO = np.array(mc_F).flatten()\n",
    "\n",
    "d_iM_yesByesO = map(np.int,np.array(degree_yesByesO[y_yesByesO_osbm==0].T)[0])\n",
    "mc_M = []\n",
    "for j in range(n_iter):\n",
    "    mc_M.append( np.random.binomial(n=map(np.int,np.array(d_iM_yesByesO)), p=np.mean(1-prop_F_yesByesO[y_yesByesO_osbm==0]))/d_iM_yesByesO)\n",
    "mc_M_final_yesByesO = np.array(mc_M).flatten()"
   ]
  },
  {
   "cell_type": "code",
   "execution_count": null,
   "metadata": {
    "collapsed": true
   },
   "outputs": [],
   "source": []
  },
  {
   "cell_type": "markdown",
   "metadata": {
    "collapsed": true
   },
   "source": [
    "## oSBM paper Figure -- overdispersion versus bias"
   ]
  },
  {
   "cell_type": "code",
   "execution_count": 134,
   "metadata": {
    "collapsed": false
   },
   "outputs": [
    {
     "data": {
      "image/png": "[encoded data removed]",
      "text/plain": [
       "<matplotlib.figure.Figure at 0x11ccaf390>"
      ]
     },
     "metadata": {},
     "output_type": "display_data"
    }
   ],
   "source": [
    "%matplotlib inline\n",
    "\n",
    "alpha_parameter = 0.25\n",
    "fig = plt.figure()\n",
    "binBoundaries=np.linspace(0,1,num=35)\n",
    "grid = Grid(fig, rect=111, nrows_ncols=(2,2),\n",
    "            axes_pad=0.6, label_mode='all'\n",
    "            )\n",
    "y_min = 0\n",
    "y_max = 8\n",
    "xlabel_block = 0.69 #*100\n",
    "label_loc1 = 6\n",
    "label_loc2 = 5\n",
    "for i in range(4):\n",
    "\n",
    "    if i == 0: \n",
    "        grid[i].tick_params('both', length=4, width=1, which='major', left=1, bottom=1, top=0, right=0)\n",
    "        grid[i].annotate('Class 2', xy=(0.05, label_loc2), \n",
    "             color='black',\n",
    "                         size=12)\n",
    "        grid[i].annotate('Class 1', xy=(0.05, label_loc1), \n",
    "             color='red', \n",
    "                         size=12)\n",
    "        grid[i].annotate('$p_{\\\\mathrm{in}} = p_{\\\\mathrm{out}}$', xy=(xlabel_block, label_loc1), \n",
    "             color='black', alpha=1, size=10)\n",
    "        grid[i].annotate('$\\phi_r = 0$', xy=(xlabel_block, label_loc2), \n",
    "             color='black', alpha=1, size=10)\n",
    "        \n",
    "        grid[i].hist(mc_F_final_noBnoO,\n",
    "         bins = binBoundaries,\n",
    "         normed = True,\n",
    "         edgecolor = 'red',histtype='step',\n",
    "        color='white',alpha=1,lw=1.5)\n",
    "        \n",
    "        grid[i].hist(1-mc_M_final_noBnoO,\n",
    "         bins = binBoundaries,\n",
    "         normed = True,\n",
    "         edgecolor = 'black',histtype='step',\n",
    "        color='white',alpha=1,lw=1.5)\n",
    "        \n",
    "        \n",
    "        grid[i].xaxis.set_major_locator(FixedLocator([0,0.25,0.50,0.75,1]))\n",
    "        grid[i].yaxis.set_major_locator(FixedLocator([0,1,2,3,4,5,6,7,8]))\n",
    "\n",
    "        grid[i].hist(prop_F_noBnoO[y_noBnoO_osbm==1], \n",
    "                    bins=binBoundaries, \n",
    "                    normed = True,\n",
    "                     alpha = alpha_parameter, label='empirical',\n",
    "                    edgecolor = 'white',color='red')\n",
    "        \n",
    "        grid[i].hist(prop_F_noBnoO[y_noBnoO_osbm==0], \n",
    "                    bins=binBoundaries,\n",
    "                     normed = True,\n",
    "                     alpha = alpha_parameter, label='empirical',\n",
    "                    edgecolor = 'white', color='black')\n",
    "        \n",
    "        grid[i].spines['right'].set_visible(False)\n",
    "        grid[i].spines['top'].set_visible(False)\n",
    "        grid[i].set_ylabel('Normalized Frequency', size = 10)\n",
    "        grid[i].set_ylim(y_min,y_max)\n",
    "        grid[i].set_xlabel('Proportion of Class 1 neighbors', size = 10)\n",
    "\n",
    "\n",
    "    if i == 1:\n",
    "        grid[i].xaxis.set_major_locator(FixedLocator([0,.25,.50,.75,1.00]))\n",
    "        grid[i].yaxis.set_major_locator(FixedLocator([0,1,2,3,4,5,6,7,8]))\n",
    "\n",
    "        grid[i].tick_params('both', length=4, width=1, which='major', left=1, bottom=1, top=0, right=0)\n",
    "\n",
    "\n",
    "        grid[i].annotate('$p_{\\\\mathrm{in}} = p_{\\\\mathrm{out}}$', xy=(xlabel_block, label_loc1), \n",
    "             color='black', alpha=1, size=10)\n",
    "        grid[i].annotate('$\\phi_r > 0$ ', xy=(xlabel_block, label_loc2), \n",
    "             color='black', alpha=1, size=10)\n",
    "\n",
    "        grid[i].hist(mc_F_final_noByesO,\n",
    "         bins = binBoundaries,\n",
    "         normed = True,\n",
    "         edgecolor = 'red',histtype='step',\n",
    "        color='white',alpha=1,lw=1.5)\n",
    "        \n",
    "        grid[i].hist(1-mc_M_final_noByesO,\n",
    "         bins = binBoundaries,\n",
    "         normed = True,\n",
    "         edgecolor = 'black',histtype='step',\n",
    "        color='white',alpha=1,lw=1.5)\n",
    "\n",
    "        grid[i].hist(prop_F_noByesO[y_noByesO_osbm==1], \n",
    "                    bins=binBoundaries, \n",
    "                     normed = True,\n",
    "                     alpha = alpha_parameter, label='empirical',\n",
    "                    edgecolor = 'white',color='red')\n",
    "        \n",
    "        grid[i].hist(prop_F_noByesO[y_noByesO_osbm==0], \n",
    "                    bins=binBoundaries, \n",
    "                     normed = True,\n",
    "                     alpha = alpha_parameter, label='empirical',\n",
    "                    edgecolor = 'white', color='black')\n",
    "        grid[i].spines['right'].set_visible(False)\n",
    "        grid[i].spines['top'].set_visible(False)\n",
    "        grid[i].set_ylim(y_min,y_max)\n",
    "        grid[i].set_ylabel('Normalized Frequency', size = 10)\n",
    "        grid[i].set_xlabel('Proportion of Class 1 neighbors', size = 10)\n",
    "\n",
    "    if i == 2:\n",
    "        grid[i].xaxis.set_major_locator(FixedLocator([0,.25,.50,.75,1.00]))\n",
    "        grid[i].yaxis.set_major_locator(FixedLocator([0,1,2,3,4,5,6,7,8]))\n",
    "\n",
    "        grid[i].tick_params('both', length=4, width=1, which='major', left=1, bottom=1, top=0, right=0)\n",
    "\n",
    "\n",
    "        grid[i].annotate('$p_{\\\\mathrm{in}} > p_{\\\\mathrm{out}}$', xy=(xlabel_block, label_loc1), \n",
    "             color='black', alpha=1, size=10)\n",
    "        grid[i].annotate('$\\phi_r = 0$', xy=(xlabel_block, label_loc2), \n",
    "             color='black', alpha=1, size=10)\n",
    "        \n",
    "        grid[i].hist(mc_F_final_yesBnoO,\n",
    "         bins = binBoundaries,\n",
    "         normed = True,\n",
    "         edgecolor = 'red',histtype='step',\n",
    "        color='white',alpha=1,lw=1.5)\n",
    "        \n",
    "        grid[i].hist(1-mc_M_final_yesBnoO,\n",
    "         bins = binBoundaries,\n",
    "         normed = True,\n",
    "         edgecolor = 'black',histtype='step',\n",
    "        color='white',alpha=1,lw=1.5)\n",
    "        \n",
    "        grid[i].hist(prop_F_yesBnoO[y_yesBnoO_osbm==1], \n",
    "                    bins=binBoundaries, \n",
    "                     normed = True,\n",
    "                     alpha = alpha_parameter, label='empirical',\n",
    "                   edgecolor = 'white', color='red')\n",
    "        \n",
    "        grid[i].hist(prop_F_yesBnoO[y_yesBnoO_osbm==0], \n",
    "                    bins=binBoundaries, \n",
    "                     normed = True,\n",
    "                     alpha = alpha_parameter, label='empirical',\n",
    "                    edgecolor = 'white', color='black')\n",
    "\n",
    "        grid[i].set_ylim(y_min,y_max)\n",
    "        grid[i].spines['right'].set_visible(False)\n",
    "        grid[i].spines['top'].set_visible(False)\n",
    "        grid[i].set_ylabel('Normalized Frequency', size = 10)\n",
    "        grid[i].set_xlabel('Proportion of Class 1 neighbors', size = 10)\n",
    "\n",
    "\n",
    "\n",
    "    if i == 3:\n",
    "        grid[i].xaxis.set_major_locator(FixedLocator([0,.25,.50,.75,1.00]))\n",
    "        grid[i].yaxis.set_major_locator(FixedLocator([0,1,2,3,4,5,6,7,8]))\n",
    "\n",
    "        grid[i].hist(prop_F_yesByesO[y_yesByesO_osbm==1], \n",
    "                    bins=binBoundaries, \n",
    "                     normed = True,\n",
    "                     alpha = alpha_parameter, label='empirical',\n",
    "                   edgecolor = 'white', color='red')\n",
    "        grid[i].tick_params('both', length=4, width=1, which='major', left=1, bottom=1, top=0, right=0)\n",
    "        \n",
    "        grid[i].hist(prop_F_yesByesO[y_yesByesO_osbm==0], \n",
    "                    bins=binBoundaries, \n",
    "                     normed = True,\n",
    "                     alpha = alpha_parameter, label='empirical',\n",
    "                    edgecolor = 'white', color='black')\n",
    "        grid[i].annotate('$p_{\\\\mathrm{in}} > p_{\\\\mathrm{out}}$', xy=(xlabel_block, label_loc1), \n",
    "             color='black', alpha=1, size=10)\n",
    "        grid[i].annotate('$\\phi_r > 0$', xy=(xlabel_block, label_loc2), \n",
    "             color='black', alpha=1, size=10)\n",
    "\n",
    "        grid[i].hist(mc_F_final_yesByesO,\n",
    "         bins = binBoundaries,\n",
    "         normed = True,\n",
    "         edgecolor = 'red',histtype='step',\n",
    "        color='white',alpha=1,lw=1.5)\n",
    "        \n",
    "        grid[i].hist(1-mc_M_final_yesByesO,\n",
    "         bins = binBoundaries,\n",
    "         normed = True,\n",
    "         edgecolor = 'black',histtype='step',\n",
    "        color='white',alpha=1,lw=1.5)\n",
    "        \n",
    "        grid[i].spines['right'].set_visible(False)\n",
    "        grid[i].spines['top'].set_visible(False)\n",
    "        grid[i].set_ylim(y_min,y_max)\n",
    "        grid[i].set_ylabel('Normalized Frequency', size = 10)\n",
    "        grid[i].set_xlabel('Proportion of Class 1 neighbors', size = 10)\n",
    "\n",
    "plt.tight_layout()\n",
    "pp = PdfPages('../../figures/oSBM_overdispersion_consolidated.pdf')\n",
    "pp.savefig()\n",
    "pp.close()"
   ]
  },
  {
   "cell_type": "code",
   "execution_count": 135,
   "metadata": {
    "collapsed": false
   },
   "outputs": [
    {
     "data": {
      "image/png": "[encoded data removed]",
      "text/plain": [
       "<matplotlib.figure.Figure at 0x124dbf550>"
      ]
     },
     "metadata": {},
     "output_type": "display_data"
    }
   ],
   "source": [
    "%matplotlib inline\n",
    "\n",
    "alpha_parameter = 0.25\n",
    "fig = plt.figure()\n",
    "binBoundaries=np.linspace(0,1,num=35)\n",
    "grid = Grid(fig, rect=111, nrows_ncols=(2,2),\n",
    "            axes_pad=0.6, label_mode='all'\n",
    "            )\n",
    "y_min = 0\n",
    "y_max = 8\n",
    "xlabel_block = 0.69 #*100\n",
    "label_loc1 = 6\n",
    "label_loc2 = 5\n",
    "label_loc3 = 6\n",
    "label_loc4 = 5\n",
    "label_loc5 = 4\n",
    "\n",
    "\n",
    "\n",
    "for i in range(4):\n",
    "\n",
    "    if i == 0: \n",
    "        grid[i].tick_params('both', length=4, width=1, which='major', left=1, bottom=1, top=0, right=0)\n",
    "        grid[i].annotate('Class 2', xy=(0.05, label_loc2), \n",
    "             color='black',\n",
    "                         size=12)\n",
    "        grid[i].annotate('Class 1', xy=(0.05, label_loc1), \n",
    "             color='red', \n",
    "                         size=12)\n",
    "        #grid[i].annotate('$p_{\\\\mathrm{in}} = p_{\\\\mathrm{out}}$', xy=(xlabel_block, label_loc1), \n",
    "        #     color='black', alpha=1, size=10)\n",
    "        #grid[i].annotate('$\\phi_r = 0$', xy=(xlabel_block, label_loc2), \n",
    "         #    color='black', alpha=1, size=10)\n",
    "        grid[i].annotate('no-homophily', xy=(xlabel_block, label_loc3), \n",
    "             color='black', alpha=1, size=10)\n",
    "        grid[i].annotate('no-monophily', xy=(xlabel_block, label_loc4), \n",
    "             color='black', alpha=1, size=10)\n",
    "        \n",
    "        grid[i].hist(mc_F_final_noBnoO,\n",
    "         bins = binBoundaries,\n",
    "         normed = True,\n",
    "         edgecolor = 'red',histtype='step',\n",
    "        color='white',alpha=1,lw=1.5)\n",
    "        \n",
    "        grid[i].hist(1-mc_M_final_noBnoO,\n",
    "         bins = binBoundaries,\n",
    "         normed = True,\n",
    "         edgecolor = 'black',histtype='step',\n",
    "        color='white',alpha=1,lw=1.5)\n",
    "        \n",
    "        \n",
    "        grid[i].xaxis.set_major_locator(FixedLocator([0,0.25,0.50,0.75,1]))\n",
    "        grid[i].yaxis.set_major_locator(FixedLocator([0,1,2,3,4,5,6,7,8]))\n",
    "\n",
    "        grid[i].hist(prop_F_noBnoO[y_noBnoO_osbm==1], \n",
    "                    bins=binBoundaries, \n",
    "                    normed = True,\n",
    "                     alpha = alpha_parameter, label='empirical',\n",
    "                    edgecolor = 'white',color='red')\n",
    "        \n",
    "        grid[i].hist(prop_F_noBnoO[y_noBnoO_osbm==0], \n",
    "                    bins=binBoundaries,\n",
    "                     normed = True,\n",
    "                     alpha = alpha_parameter, label='empirical',\n",
    "                    edgecolor = 'white', color='black')\n",
    "        \n",
    "        grid[i].spines['right'].set_visible(False)\n",
    "        grid[i].spines['top'].set_visible(False)\n",
    "        grid[i].set_ylabel('Normalized Frequency', size = 10)\n",
    "        grid[i].set_ylim(y_min,y_max)\n",
    "        grid[i].set_xlabel('Proportion of Class 1 neighbors', size = 10)\n",
    "\n",
    "\n",
    "    if i == 1:\n",
    "        grid[i].xaxis.set_major_locator(FixedLocator([0,.25,.50,.75,1.00]))\n",
    "        grid[i].yaxis.set_major_locator(FixedLocator([0,1,2,3,4,5,6,7,8]))\n",
    "\n",
    "        grid[i].tick_params('both', length=4, width=1, which='major', left=1, bottom=1, top=0, right=0)\n",
    "\n",
    "\n",
    "        #grid[i].annotate('$p_{\\\\mathrm{in}} = p_{\\\\mathrm{out}}$', xy=(xlabel_block, label_loc1), \n",
    "        #     color='black', alpha=1, size=10)\n",
    "        #grid[i].annotate('$\\phi_r > 0$ ', xy=(xlabel_block, label_loc2), \n",
    "        #     color='black', alpha=1, size=10)\n",
    "        grid[i].annotate('no-homophily', xy=(xlabel_block, label_loc3), \n",
    "             color='black', alpha=1, size=10)\n",
    "        grid[i].annotate('yes-monophily', xy=(xlabel_block, label_loc4), \n",
    "             color='black', alpha=1, size=10)\n",
    "        \n",
    "        grid[i].hist(mc_F_final_noByesO,\n",
    "         bins = binBoundaries,\n",
    "         normed = True,\n",
    "         edgecolor = 'red',histtype='step',\n",
    "        color='white',alpha=1,lw=1.5)\n",
    "        \n",
    "        grid[i].hist(1-mc_M_final_noByesO,\n",
    "         bins = binBoundaries,\n",
    "         normed = True,\n",
    "         edgecolor = 'black',histtype='step',\n",
    "        color='white',alpha=1,lw=1.5)\n",
    "\n",
    "        grid[i].hist(prop_F_noByesO[y_noByesO_osbm==1], \n",
    "                    bins=binBoundaries, \n",
    "                     normed = True,\n",
    "                     alpha = alpha_parameter, label='empirical',\n",
    "                    edgecolor = 'white',color='red')\n",
    "        \n",
    "        grid[i].hist(prop_F_noByesO[y_noByesO_osbm==0], \n",
    "                    bins=binBoundaries, \n",
    "                     normed = True,\n",
    "                     alpha = alpha_parameter, label='empirical',\n",
    "                    edgecolor = 'white', color='black')\n",
    "        grid[i].spines['right'].set_visible(False)\n",
    "        grid[i].spines['top'].set_visible(False)\n",
    "        grid[i].set_ylim(y_min,y_max)\n",
    "        grid[i].set_ylabel('Normalized Frequency', size = 10)\n",
    "        grid[i].set_xlabel('Proportion of Class 1 neighbors', size = 10)\n",
    "\n",
    "    if i == 2:\n",
    "        grid[i].xaxis.set_major_locator(FixedLocator([0,.25,.50,.75,1.00]))\n",
    "        grid[i].yaxis.set_major_locator(FixedLocator([0,1,2,3,4,5,6,7,8]))\n",
    "\n",
    "        grid[i].tick_params('both', length=4, width=1, which='major', left=1, bottom=1, top=0, right=0)\n",
    "\n",
    "\n",
    "        #grid[i].annotate('$p_{\\\\mathrm{in}} > p_{\\\\mathrm{out}}$', xy=(xlabel_block, label_loc1), \n",
    "        #     color='black', alpha=1, size=10)\n",
    "        #grid[i].annotate('$\\phi_r = 0$', xy=(xlabel_block, label_loc2), \n",
    "        #     color='black', alpha=1, size=10)\n",
    "        grid[i].annotate('yes-homophily', xy=(xlabel_block, label_loc3), \n",
    "             color='black', alpha=1, size=10)\n",
    "        grid[i].annotate('no-monophily', xy=(xlabel_block, label_loc4), \n",
    "             color='black', alpha=1, size=10)\n",
    "        grid[i].annotate('(*current thinking*)', xy=(xlabel_block, label_loc5), \n",
    "             color='black', alpha=1, size=8)\n",
    "        grid[i].hist(mc_F_final_yesBnoO,\n",
    "         bins = binBoundaries,\n",
    "         normed = True,\n",
    "         edgecolor = 'red',histtype='step',\n",
    "        color='white',alpha=1,lw=1.5)\n",
    "        \n",
    "        grid[i].hist(1-mc_M_final_yesBnoO,\n",
    "         bins = binBoundaries,\n",
    "         normed = True,\n",
    "         edgecolor = 'black',histtype='step',\n",
    "        color='white',alpha=1,lw=1.5)\n",
    "        \n",
    "        grid[i].hist(prop_F_yesBnoO[y_yesBnoO_osbm==1], \n",
    "                    bins=binBoundaries, \n",
    "                     normed = True,\n",
    "                     alpha = alpha_parameter, label='empirical',\n",
    "                   edgecolor = 'white', color='red')\n",
    "        \n",
    "        grid[i].hist(prop_F_yesBnoO[y_yesBnoO_osbm==0], \n",
    "                    bins=binBoundaries, \n",
    "                     normed = True,\n",
    "                     alpha = alpha_parameter, label='empirical',\n",
    "                    edgecolor = 'white', color='black')\n",
    "\n",
    "        grid[i].set_ylim(y_min,y_max)\n",
    "        grid[i].spines['right'].set_visible(False)\n",
    "        grid[i].spines['top'].set_visible(False)\n",
    "        grid[i].set_ylabel('Normalized Frequency', size = 10)\n",
    "        grid[i].set_xlabel('Proportion of Class 1 neighbors', size = 10)\n",
    "\n",
    "\n",
    "\n",
    "    if i == 3:\n",
    "        grid[i].xaxis.set_major_locator(FixedLocator([0,.25,.50,.75,1.00]))\n",
    "        grid[i].yaxis.set_major_locator(FixedLocator([0,1,2,3,4,5,6,7,8]))\n",
    "\n",
    "        grid[i].hist(prop_F_yesByesO[y_yesByesO_osbm==1], \n",
    "                    bins=binBoundaries, \n",
    "                     normed = True,\n",
    "                     alpha = alpha_parameter, label='empirical',\n",
    "                   edgecolor = 'white', color='red')\n",
    "        grid[i].tick_params('both', length=4, width=1, which='major', left=1, bottom=1, top=0, right=0)\n",
    "        \n",
    "        grid[i].hist(prop_F_yesByesO[y_yesByesO_osbm==0], \n",
    "                    bins=binBoundaries, \n",
    "                     normed = True,\n",
    "                     alpha = alpha_parameter, label='empirical',\n",
    "                    edgecolor = 'white', color='black')\n",
    "        #grid[i].annotate('$p_{\\\\mathrm{in}} > p_{\\\\mathrm{out}}$', xy=(xlabel_block, label_loc1), \n",
    "        #     color='black', alpha=1, size=10)\n",
    "        #grid[i].annotate('$\\phi_r > 0$', xy=(xlabel_block, label_loc2), \n",
    "        #     color='black', alpha=1, size=10)\n",
    "        grid[i].annotate('yes-homophily', xy=(xlabel_block, label_loc3), \n",
    "             color='black', alpha=1, size=10)\n",
    "        grid[i].annotate('yes-monophily', xy=(xlabel_block, label_loc4), \n",
    "             color='black', alpha=1, size=10)\n",
    "        grid[i].annotate('(*this paper*)', xy=(xlabel_block, label_loc5), \n",
    "             color='black', alpha=1, size=8)\n",
    "        grid[i].hist(mc_F_final_yesByesO,\n",
    "         bins = binBoundaries,\n",
    "         normed = True,\n",
    "         edgecolor = 'red',histtype='step',\n",
    "        color='white',alpha=1,lw=1.5)\n",
    "        \n",
    "        grid[i].hist(1-mc_M_final_yesByesO,\n",
    "         bins = binBoundaries,\n",
    "         normed = True,\n",
    "         edgecolor = 'black',histtype='step',\n",
    "        color='white',alpha=1,lw=1.5)\n",
    "        \n",
    "        grid[i].spines['right'].set_visible(False)\n",
    "        grid[i].spines['top'].set_visible(False)\n",
    "        grid[i].set_ylim(y_min,y_max)\n",
    "        grid[i].set_ylabel('Normalized Frequency', size = 10)\n",
    "        grid[i].set_xlabel('Proportion of Class 1 neighbors', size = 10)\n",
    "\n",
    "plt.tight_layout()\n",
    "pp = PdfPages('../../figures/oSBM_overdispersion_consolidated_comments.pdf')\n",
    "pp.savefig()\n",
    "pp.close()"
   ]
  },
  {
   "cell_type": "code",
   "execution_count": null,
   "metadata": {
    "collapsed": true
   },
   "outputs": [],
   "source": []
  },
  {
   "cell_type": "code",
   "execution_count": 169,
   "metadata": {
    "collapsed": false
   },
   "outputs": [],
   "source": [
    "percent_initially_unlabelled = [0.1]#[0.99,0.95,0.9,0.8,0.7,0.6,0.5,0.4,0.3,0.2,0.1,0.05,0.01]\n",
    "percent_initially_labelled = np.subtract(1, percent_initially_unlabelled)"
   ]
  },
  {
   "cell_type": "code",
   "execution_count": 170,
   "metadata": {
    "collapsed": true
   },
   "outputs": [],
   "source": [
    "n_iter = 1"
   ]
  },
  {
   "cell_type": "code",
   "execution_count": 171,
   "metadata": {
    "collapsed": false
   },
   "outputs": [
    {
     "name": "stdout",
     "output_type": "stream",
     "text": [
      "0.1\n"
     ]
    }
   ],
   "source": [
    "coef= LINK_coeff(percent_initially_unlabelled, ## note: mean_se_model assumes a vector of x% initially labeled\n",
    "                                                              np.array(y_yesBnoO_osbm), ## gender labels \n",
    "                                                              np.matrix(adj_yesBnoO_osbm), ## adjacency matrix\n",
    "                                                              clf = linear_model.LogisticRegression(penalty='l2',C=10e20,\n",
    "                                                                                                   solver='lbfgs'),num_iter=n_iter) \n",
    "\n",
    "\n"
   ]
  },
  {
   "cell_type": "code",
   "execution_count": 172,
   "metadata": {
    "collapsed": true
   },
   "outputs": [],
   "source": [
    "from __future__ import division\n",
    "prop_class_1 =(adj_yesBnoO_osbm * np.matrix(y_yesBnoO_osbm==1).T)/(np.sum(adj_yesBnoO_osbm,1))"
   ]
  },
  {
   "cell_type": "code",
   "execution_count": 173,
   "metadata": {
    "collapsed": false
   },
   "outputs": [
    {
     "data": {
      "text/plain": [
       "matrix([[ 0.375     ],\n",
       "        [ 0.3908046 ],\n",
       "        [ 0.3625    ],\n",
       "        ..., \n",
       "        [ 0.5974026 ],\n",
       "        [ 0.63529412],\n",
       "        [ 0.67105263]])"
      ]
     },
     "execution_count": 173,
     "metadata": {},
     "output_type": "execute_result"
    }
   ],
   "source": [
    "prop_class_1"
   ]
  },
  {
   "cell_type": "code",
   "execution_count": 174,
   "metadata": {
    "collapsed": false
   },
   "outputs": [
    {
     "data": {
      "image/png": "[encoded data removed]",
      "text/plain": [
       "<matplotlib.figure.Figure at 0x11cca4a50>"
      ]
     },
     "metadata": {},
     "output_type": "display_data"
    }
   ],
   "source": [
    "%matplotlib inline\n",
    "plt.scatter(coef[y_yesBnoO_osbm==1],\n",
    "           prop_class_1[y_yesBnoO_osbm==1], color='blue', alpha=0.5)\n",
    "plt.scatter(coef[y_yesBnoO_osbm==0],\n",
    "           1-prop_class_1[y_yesBnoO_osbm==0], color='red', alpha=0.5)\n",
    "plt.xlabel('beta coefficient')\n",
    "plt.ylabel('Proportion Same Class')\n",
    "plt.title('yesB-noO')\n",
    "#plt.show()\n",
    "plt.ylim(-0.05,1.05)\n",
    "plt.annotate('Class 1', xy=(-3.5, 0.98), \n",
    "                 color='red', alpha=1, size=12)\n",
    "plt.annotate('Class 2', xy=(-3.5, 0.9), \n",
    "                 color='blue', alpha=1, size=12)\n",
    "\n",
    "pp = PdfPages('../../figures/yesB_noO_Butterfly.pdf')\n",
    "pp.savefig()\n",
    "pp.close()"
   ]
  },
  {
   "cell_type": "code",
   "execution_count": 195,
   "metadata": {
    "collapsed": false
   },
   "outputs": [
    {
     "data": {
      "image/png": "[encoded data removed]",
      "text/plain": [
       "<matplotlib.figure.Figure at 0x12a22ffd0>"
      ]
     },
     "metadata": {},
     "output_type": "display_data"
    }
   ],
   "source": [
    "%matplotlib inline\n",
    "ax = plt.subplot(111)\n",
    "alpha_parameter = 0.5\n",
    "binBoundaries=np.linspace(-4,4,num=35)\n",
    "\n",
    "ax.hist(coef[y_noByesO_osbm==1], color='black', #alpha=0.1,\n",
    "        bins=binBoundaries, \n",
    "                     normed = True,\n",
    "                     alpha = alpha_parameter, label='empirical',\n",
    "                    edgecolor = 'white')\n",
    "\n",
    "ax.hist(coef[y_yesBnoO_osbm==0], color='red', #alpha=0.1,\n",
    "        bins=binBoundaries, \n",
    "                     normed = True,\n",
    "                     alpha = alpha_parameter, label='empirical',\n",
    "                    edgecolor = 'white')\n",
    "plt.xlabel(r'$\\beta_j$ coefficient')\n",
    "plt.ylabel('Normalized Frequency')\n",
    "plt.title('yesB-noO')\n",
    "ax.spines['top'].set_visible(False)\n",
    "ax.spines['right'].set_visible(False)\n",
    "ax.annotate('Class 1', xy=(-3.7, 0.57), \n",
    "                 color='red', alpha=1, size=12)\n",
    "\n",
    "ax.annotate('Class 2', xy=(-3.7, 0.54), \n",
    "                 color='black', alpha=1, size=12)\n",
    "\n",
    "\n",
    "pp = PdfPages('../../figures/yesB_noO_Butterfly_actual_class_histogram.pdf')\n",
    "pp.savefig()\n",
    "pp.close()"
   ]
  },
  {
   "cell_type": "code",
   "execution_count": null,
   "metadata": {
    "collapsed": true
   },
   "outputs": [],
   "source": []
  },
  {
   "cell_type": "code",
   "execution_count": null,
   "metadata": {
    "collapsed": true
   },
   "outputs": [],
   "source": []
  },
  {
   "cell_type": "code",
   "execution_count": 168,
   "metadata": {
    "collapsed": false
   },
   "outputs": [
    {
     "data": {
      "image/png": "[encoded data removed]",
      "text/plain": [
       "<matplotlib.figure.Figure at 0x12a2e8c50>"
      ]
     },
     "metadata": {},
     "output_type": "display_data"
    }
   ],
   "source": [
    "%matplotlib inline\n",
    "plt.scatter(coef[y_noByesO_osbm==1],\n",
    "           y_noByesO_osbm[y_noByesO_osbm==1], color='blue', alpha=0.1)\n",
    "plt.scatter(coef[y_yesBnoO_osbm==0],\n",
    "           y_noByesO_osbm[y_noByesO_osbm==0], color='red', alpha=0.1)\n",
    "plt.xlabel('beta coefficient')\n",
    "plt.ylabel('Class Label')\n",
    "plt.title('yesB-noO')\n",
    "\n",
    "pp = PdfPages('../../figures/yesB_noO_Butterfly_actual_class.pdf')\n",
    "pp.savefig()\n",
    "pp.close()\n",
    "#plt.show()"
   ]
  },
  {
   "cell_type": "code",
   "execution_count": null,
   "metadata": {
    "collapsed": true
   },
   "outputs": [],
   "source": []
  },
  {
   "cell_type": "code",
   "execution_count": null,
   "metadata": {
    "collapsed": true
   },
   "outputs": [],
   "source": []
  },
  {
   "cell_type": "code",
   "execution_count": 202,
   "metadata": {
    "collapsed": false
   },
   "outputs": [
    {
     "name": "stdout",
     "output_type": "stream",
     "text": [
      "0.1\n"
     ]
    }
   ],
   "source": [
    "coef= LINK_coeff(percent_initially_unlabelled, ## note: mean_se_model assumes a vector of x% initially labeled\n",
    "                                                              np.array(y_noByesO_osbm), ## gender labels \n",
    "                                                              np.matrix(adj_noByesO_osbm), ## adjacency matrix\n",
    "                                                              clf = linear_model.LogisticRegression(penalty='l2',C=10e20,\n",
    "                                                                                                   solver='lbfgs'),num_iter=n_iter) \n",
    "\n",
    "\n"
   ]
  },
  {
   "cell_type": "code",
   "execution_count": 203,
   "metadata": {
    "collapsed": true
   },
   "outputs": [],
   "source": [
    "prop_class_1 =(adj_noByesO_osbm * np.matrix(y_noByesO_osbm==1).T)/(np.sum(adj_noByesO_osbm,1))"
   ]
  },
  {
   "cell_type": "code",
   "execution_count": 204,
   "metadata": {
    "collapsed": false
   },
   "outputs": [
    {
     "data": {
      "image/png": "[encoded data removed]",
      "text/plain": [
       "<matplotlib.figure.Figure at 0x12a0ec490>"
      ]
     },
     "metadata": {},
     "output_type": "display_data"
    }
   ],
   "source": [
    "%matplotlib inline\n",
    "plt.annotate('Class 1', xy=(-5.5, 0.98), \n",
    "                 color='red', alpha=1, size=12)\n",
    "plt.annotate('Class 2', xy=(-5.5, 0.9), \n",
    "                 color='blue', alpha=1, size=12)\n",
    "\n",
    "plt.scatter(coef[y_noByesO_osbm==1],\n",
    "           prop_class_1[y_noByesO_osbm==1], color='blue', alpha=0.5)\n",
    "plt.scatter(coef[y_noByesO_osbm==0],\n",
    "           1-prop_class_1[y_noByesO_osbm==0], color='red', alpha=0.5)\n",
    "plt.xlabel('beta coefficient')\n",
    "plt.ylabel('Proportion Same Class')\n",
    "plt.title('noB-yesO')\n",
    "#plt.show()\n",
    "plt.ylim(-0.05,1.05)\n",
    "\n",
    "pp = PdfPages('../../figures/noB_yesO_Butterfly.pdf')\n",
    "pp.savefig()\n",
    "pp.close()"
   ]
  },
  {
   "cell_type": "code",
   "execution_count": 206,
   "metadata": {
    "collapsed": false
   },
   "outputs": [
    {
     "data": {
      "image/png": "[encoded data removed]",
      "text/plain": [
       "<matplotlib.figure.Figure at 0x12caf1bd0>"
      ]
     },
     "metadata": {},
     "output_type": "display_data"
    }
   ],
   "source": [
    "%matplotlib inline\n",
    "ax = plt.subplot(111)\n",
    "alpha_parameter = 0.5\n",
    "binBoundaries=np.linspace(-4,4,num=35)\n",
    "\n",
    "ax.hist(coef[y_noByesO_osbm==1], color='black', #alpha=0.1,\n",
    "        bins=binBoundaries, \n",
    "                     normed = True,\n",
    "                     alpha = alpha_parameter, label='empirical',\n",
    "                    edgecolor = 'white')\n",
    "\n",
    "ax.hist(coef[y_yesBnoO_osbm==0], color='red', #alpha=0.1,\n",
    "        bins=binBoundaries, \n",
    "                     normed = True,\n",
    "                     alpha = alpha_parameter, label='empirical',\n",
    "                    edgecolor = 'white')\n",
    "plt.xlabel(r'$\\beta_j$ coefficient')\n",
    "plt.ylabel('Normalized Frequency')\n",
    "plt.title('noB-yesO')\n",
    "ax.spines['top'].set_visible(False)\n",
    "ax.spines['right'].set_visible(False)\n",
    "ax.annotate('Class 1', xy=(-3.7, 0.57), \n",
    "                 color='red', alpha=1, size=12)\n",
    "\n",
    "ax.annotate('Class 2', xy=(-3.7, 0.54), \n",
    "                 color='black', alpha=1, size=12)\n",
    "\n",
    "\n",
    "pp = PdfPages('../../figures/noB_yesO_Butterfly_actual_class_histogram.pdf')\n",
    "pp.savefig()\n",
    "pp.close()"
   ]
  },
  {
   "cell_type": "code",
   "execution_count": 207,
   "metadata": {
    "collapsed": false
   },
   "outputs": [
    {
     "name": "stdout",
     "output_type": "stream",
     "text": [
      "0.1\n"
     ]
    }
   ],
   "source": [
    "coef= LINK_coeff(percent_initially_unlabelled, ## note: mean_se_model assumes a vector of x% initially labeled\n",
    "                                                              np.array(y_yesByesO_osbm), ## gender labels \n",
    "                                                              np.matrix(adj_yesByesO_osbm), ## adjacency matrix\n",
    "                                                              clf = linear_model.LogisticRegression(penalty='l2',C=10e20,\n",
    "                                                                                                   solver='lbfgs'),num_iter=n_iter) \n",
    "\n",
    "\n"
   ]
  },
  {
   "cell_type": "code",
   "execution_count": null,
   "metadata": {
    "collapsed": true
   },
   "outputs": [],
   "source": [
    "%matplotlib inline\n",
    "ax = plt.subplot(111)\n",
    "alpha_parameter = 0.5\n",
    "binBoundaries=np.linspace(-4,4,num=35)\n",
    "\n",
    "ax.hist(coef[y_yesByesO_osbm==1], color='black', #alpha=0.1,\n",
    "        bins=binBoundaries, \n",
    "                     normed = True,\n",
    "                     alpha = alpha_parameter, label='empirical',\n",
    "                    edgecolor = 'white')\n",
    "\n",
    "ax.hist(coef[y_yesByesO_osbm==0], color='red', #alpha=0.1,\n",
    "        bins=binBoundaries, \n",
    "                     normed = True,\n",
    "                     alpha = alpha_parameter, label='empirical',\n",
    "                    edgecolor = 'white')\n",
    "plt.xlabel(r'$\\beta_j$ coefficient')\n",
    "plt.ylabel('Normalized Frequency')\n",
    "plt.title('yesB-yesO')\n",
    "ax.spines['top'].set_visible(False)\n",
    "ax.spines['right'].set_visible(False)\n",
    "ax.annotate('Class 1', xy=(-3.7, 0.57), \n",
    "                 color='red', alpha=1, size=12)\n",
    "\n",
    "ax.annotate('Class 2', xy=(-3.7, 0.54), \n",
    "                 color='black', alpha=1, size=12)\n",
    "\n",
    "\n",
    "pp = PdfPages('../../figures/yesB_yesO_Butterfly_actual_class_histogram.pdf')\n",
    "pp.savefig()\n",
    "pp.close()"
   ]
  },
  {
   "cell_type": "code",
   "execution_count": null,
   "metadata": {
    "collapsed": true
   },
   "outputs": [],
   "source": []
  },
  {
   "cell_type": "code",
   "execution_count": null,
   "metadata": {
    "collapsed": true
   },
   "outputs": [],
   "source": []
  },
  {
   "cell_type": "code",
   "execution_count": null,
   "metadata": {
    "collapsed": true
   },
   "outputs": [],
   "source": []
  },
  {
   "cell_type": "code",
   "execution_count": null,
   "metadata": {
    "collapsed": true
   },
   "outputs": [],
   "source": []
  },
  {
   "cell_type": "code",
   "execution_count": null,
   "metadata": {
    "collapsed": true
   },
   "outputs": [],
   "source": []
  },
  {
   "cell_type": "code",
   "execution_count": 146,
   "metadata": {
    "collapsed": false
   },
   "outputs": [
    {
     "data": {
      "image/png": "[encoded data removed]",
      "text/plain": [
       "<matplotlib.figure.Figure at 0x11bb6ecd0>"
      ]
     },
     "metadata": {},
     "output_type": "display_data"
    }
   ],
   "source": [
    "%matplotlib inline\n",
    "plt.scatter(coef[y_noByesO_osbm==1],\n",
    "           y_noByesO_osbm[y_noByesO_osbm==1], color='blue', alpha=0.1)\n",
    "plt.scatter(coef[y_yesBnoO_osbm==0],\n",
    "           y_noByesO_osbm[y_noByesO_osbm==0], color='red', alpha=0.1)\n",
    "plt.xlabel('beta coefficient')\n",
    "plt.ylabel('Class Label')\n",
    "plt.title('noB-yesO')\n",
    "\n",
    "pp = PdfPages('../../figures/noB_yesO_Butterfly_actual_class.pdf')\n",
    "pp.savefig()\n",
    "pp.close()"
   ]
  },
  {
   "cell_type": "code",
   "execution_count": null,
   "metadata": {
    "collapsed": true
   },
   "outputs": [],
   "source": []
  },
  {
   "cell_type": "markdown",
   "metadata": {},
   "source": [
    "## Predictions on oSBM"
   ]
  },
  {
   "cell_type": "code",
   "execution_count": 147,
   "metadata": {
    "collapsed": true
   },
   "outputs": [],
   "source": [
    "percent_initially_unlabelled = [0.99,0.95,0.9,0.8,0.7,0.6,0.5,0.4,0.3,0.2,0.1,0.05,0.01]\n",
    "percent_initially_labelled = np.subtract(1, percent_initially_unlabelled)"
   ]
  },
  {
   "cell_type": "code",
   "execution_count": null,
   "metadata": {
    "collapsed": true
   },
   "outputs": [],
   "source": []
  },
  {
   "cell_type": "code",
   "execution_count": null,
   "metadata": {
    "collapsed": true
   },
   "outputs": [],
   "source": []
  },
  {
   "cell_type": "markdown",
   "metadata": {},
   "source": [
    "### LINK"
   ]
  },
  {
   "cell_type": "code",
   "execution_count": 148,
   "metadata": {
    "collapsed": false
   },
   "outputs": [
    {
     "name": "stdout",
     "output_type": "stream",
     "text": [
      "0.99\n",
      "0.95\n",
      "0.9\n",
      "0.8\n",
      "0.7\n",
      "0.6\n",
      "0.5\n",
      "0.4\n",
      "0.3\n",
      "0.2\n",
      "0.1\n",
      "0.05\n",
      "0.01\n",
      "0.99\n",
      "0.95\n",
      "0.9\n",
      "0.8\n",
      "0.7\n",
      "0.6\n",
      "0.5\n",
      "0.4\n",
      "0.3\n",
      "0.2\n",
      "0.1\n",
      "0.05\n",
      "0.01\n",
      "0.99\n",
      "0.95\n",
      "0.9\n",
      "0.8\n",
      "0.7\n",
      "0.6\n",
      "0.5\n",
      "0.4\n",
      "0.3\n",
      "0.2\n",
      "0.1\n",
      "0.05\n",
      "0.01\n",
      "0.99\n",
      "0.95\n",
      "0.9\n",
      "0.8\n",
      "0.7\n",
      "0.6\n",
      "0.5\n",
      "0.4\n",
      "0.3\n",
      "0.2\n",
      "0.1\n",
      "0.05\n",
      "0.01\n"
     ]
    }
   ],
   "source": [
    "#noBnoO\n",
    "(mean_accuracy_noBnoO, se_accuracy_noBnoO, mean_micro_auc_noBnoO,se_micro_auc_noBnoO, mean_wt_auc_noBnoO,se_wt_auc_noBnoO)= LINK(percent_initially_unlabelled, ## note: mean_se_model assumes a vector of x% initially labeled\n",
    "                                                              np.array(y_noBnoO_osbm), ## gender labels \n",
    "                                                              adj_noBnoO_osbm, ## adjacency matrix\n",
    "                                                              clf = linear_model.LogisticRegression(penalty='l2',C=10e20,\n",
    "                                                                                                   solver='lbfgs'),num_iter=10) \n",
    "#yesBnoO\n",
    "(mean_accuracy_yesBnoO, se_accuracy_yesBnoO, mean_micro_auc_yesBnoO,se_micro_auc_yesBnoO, mean_wt_auc_yesBnoO,se_wt_auc_yesBnoO)= LINK(percent_initially_unlabelled, ## note: mean_se_model assumes a vector of x% initially labeled\n",
    "                                                              np.array(y_yesBnoO_osbm), ## gender labels \n",
    "                                                              adj_yesBnoO_osbm, ## adjacency matrix\n",
    "                                                              clf = linear_model.LogisticRegression(penalty='l2',C=10e20,\n",
    "                                                                                                   solver='lbfgs'),num_iter=10) \n",
    "#noByesO\n",
    "(mean_accuracy_noByesO, se_accuracy_noByesO, mean_micro_auc_noByesO,se_micro_auc_noByesO, mean_wt_auc_noByesO,se_wt_auc_noByesO)= LINK(percent_initially_unlabelled, ## note: mean_se_model assumes a vector of x% initially labeled\n",
    "                                                              np.array(y_noByesO_osbm), ## gender labels \n",
    "                                                              adj_noByesO_osbm, ## adjacency matrix\n",
    "                                                              clf = linear_model.LogisticRegression(penalty='l2',C=10e20,\n",
    "                                                                                                   solver='lbfgs'),num_iter=10) \n",
    "\n",
    "\n",
    "\n",
    "#yesByesO\n",
    "(mean_accuracy_yesByesO, se_accuracy_yesByesO, mean_micro_auc_yesByesO,se_micro_auc_yesByesO, mean_wt_auc_yesByesO,se_wt_auc_yesByesO)= LINK(percent_initially_unlabelled, ## note: mean_se_model assumes a vector of x% initially labeled\n",
    "                                                              np.array(y_yesByesO_osbm), ## gender labels \n",
    "                                                              adj_yesByesO_osbm, ## adjacency matrix\n",
    "                                                              clf = linear_model.LogisticRegression(penalty='l2',C=10e20,\n",
    "                                                                                                   solver='lbfgs'),num_iter=10) "
   ]
  },
  {
   "cell_type": "code",
   "execution_count": null,
   "metadata": {
    "collapsed": true
   },
   "outputs": [],
   "source": []
  },
  {
   "cell_type": "code",
   "execution_count": null,
   "metadata": {
    "collapsed": true
   },
   "outputs": [],
   "source": []
  },
  {
   "cell_type": "markdown",
   "metadata": {},
   "source": [
    "### Majority Vote - 1-hop, 2-hop"
   ]
  },
  {
   "cell_type": "markdown",
   "metadata": {},
   "source": [
    "### 1-hop"
   ]
  },
  {
   "cell_type": "code",
   "execution_count": 149,
   "metadata": {
    "collapsed": true
   },
   "outputs": [],
   "source": [
    "n_iter = 10"
   ]
  },
  {
   "cell_type": "code",
   "execution_count": 150,
   "metadata": {
    "collapsed": false
   },
   "outputs": [
    {
     "name": "stdout",
     "output_type": "stream",
     "text": [
      "0.99\n",
      "0.95\n",
      "0.9\n",
      "0.8\n",
      "0.7\n",
      "0.6\n",
      "0.5\n",
      "0.4\n",
      "0.3\n",
      "0.2\n",
      "0.1\n",
      "0.05\n",
      "0.01\n",
      "0.99\n",
      "0.95\n",
      "0.9\n",
      "0.8\n",
      "0.7\n",
      "0.6\n",
      "0.5\n",
      "0.4\n",
      "0.3\n",
      "0.2\n",
      "0.1\n",
      "0.05\n",
      "0.01\n",
      "0.99\n",
      "0.95\n",
      "0.9\n",
      "0.8\n",
      "0.7\n",
      "0.6\n",
      "0.5\n",
      "0.4\n",
      "0.3\n",
      "0.2\n",
      "0.1\n",
      "0.05\n",
      "0.01\n",
      "0.99\n",
      "0.95\n",
      "0.9\n",
      "0.8\n",
      "0.7\n",
      "0.6\n",
      "0.5\n",
      "0.4\n",
      "0.3\n",
      "0.2\n",
      "0.1\n",
      "0.05\n",
      "0.01\n"
     ]
    },
    {
     "name": "stderr",
     "output_type": "stream",
     "text": [
      "/Users/kristen/anaconda/lib/python2.7/site-packages/ipykernel/__main__.py:41: RuntimeWarning: invalid value encountered in true_divide\n"
     ]
    }
   ],
   "source": [
    "#noBnoO\n",
    "(mean_accuracy_mv_noBnoO, se_accuracy_mv_noBnoO, \n",
    " mean_micro_auc_mv_noBnoO,se_micro_auc_mv_noBnoO, \n",
    " mean_wt_auc_mv_noBnoO,se_wt_auc_mv_noBnoO) =majority_vote_modified(percent_initially_unlabelled,  \n",
    "                                                                np.array(y_noBnoO_osbm), \n",
    "                                                                np.array(adj_noBnoO_osbm), \n",
    "                                                                num_iter=n_iter) \n",
    "#yesBnoO\n",
    "(mean_accuracy_mv_yesBnoO, se_accuracy_mv_yesBnoO, \n",
    " mean_micro_auc_mv_yesBnoO,se_micro_auc_mv_yesBnoO, \n",
    " mean_wt_auc_mv_yesBnoO,se_wt_auc_mv_yesBnoO) =majority_vote_modified(percent_initially_unlabelled,  \n",
    "                                                                np.array(y_yesBnoO_osbm), \n",
    "                                                                np.array(adj_yesBnoO_osbm), \n",
    "                                                                num_iter=n_iter) \n",
    "#noByesO\n",
    "(mean_accuracy_mv_noByesO, se_accuracy_mv_noByesO, \n",
    " mean_micro_auc_mv_noByesO,se_micro_auc_mv_noByesO, \n",
    " mean_wt_auc_mv_noByesO,se_wt_auc_mv_noByesO) =majority_vote_modified(percent_initially_unlabelled,  \n",
    "                                                                np.array(y_noByesO_osbm), \n",
    "                                                                np.array(adj_noByesO_osbm), \n",
    "                                                                num_iter=n_iter) \n",
    "\n",
    "\n",
    "\n",
    "#yesByesO\n",
    "(mean_accuracy_mv_yesByesO, se_accuracy_mv_yesByesO, \n",
    " mean_micro_auc_mv_yesByesO,se_micro_auc_mv_yesByesO, \n",
    " mean_wt_auc_mv_yesByesO,se_wt_auc_mv_yesByesO) =majority_vote_modified(percent_initially_unlabelled,  \n",
    "                                                                np.array(y_yesByesO_osbm), \n",
    "                                                                np.array(adj_yesByesO_osbm), \n",
    "                                                                num_iter=n_iter) \n",
    "\n",
    "\n"
   ]
  },
  {
   "cell_type": "code",
   "execution_count": null,
   "metadata": {
    "collapsed": true
   },
   "outputs": [],
   "source": []
  },
  {
   "cell_type": "markdown",
   "metadata": {},
   "source": [
    "### 2-hop"
   ]
  },
  {
   "cell_type": "code",
   "execution_count": 151,
   "metadata": {
    "collapsed": true
   },
   "outputs": [],
   "source": [
    "adj_noBnoO_osbm2= np.matrix(adj_noBnoO_osbm)**2\n",
    "adj_noBnoO_osbm2[range(adj_noBnoO_osbm2.shape[0]),range(adj_noBnoO_osbm2.shape[0])]=0\n",
    "\n",
    "\n",
    "adj_yesBnoO_osbm2= np.matrix(adj_yesBnoO_osbm)**2\n",
    "adj_yesBnoO_osbm[range(adj_yesBnoO_osbm.shape[0]),range(adj_yesBnoO_osbm.shape[0])]=0\n",
    "\n",
    "adj_noByesO_osbm2= np.matrix(adj_noByesO_osbm)**2\n",
    "adj_noByesO_osbm2[range(adj_noByesO_osbm.shape[0]),range(adj_noByesO_osbm.shape[0])]=0\n",
    "\n",
    "\n",
    "adj_yesByesO_osbm2= np.matrix(adj_yesByesO_osbm)**2\n",
    "adj_yesByesO_osbm2[range(adj_noByesO_osbm.shape[0]),range(adj_yesByesO_osbm.shape[0])]=0"
   ]
  },
  {
   "cell_type": "code",
   "execution_count": 152,
   "metadata": {
    "collapsed": false
   },
   "outputs": [
    {
     "name": "stdout",
     "output_type": "stream",
     "text": [
      "0.99\n",
      "0.95\n",
      "0.9\n",
      "0.8\n",
      "0.7\n",
      "0.6\n",
      "0.5\n",
      "0.4\n",
      "0.3\n",
      "0.2\n",
      "0.1\n",
      "0.05\n",
      "0.01\n",
      "0.99\n",
      "0.95\n",
      "0.9\n",
      "0.8\n",
      "0.7\n",
      "0.6\n",
      "0.5\n",
      "0.4\n",
      "0.3\n",
      "0.2\n",
      "0.1\n",
      "0.05\n",
      "0.01\n",
      "0.99\n",
      "0.95\n",
      "0.9\n",
      "0.8\n",
      "0.7\n",
      "0.6\n",
      "0.5\n",
      "0.4\n",
      "0.3\n",
      "0.2\n",
      "0.1\n",
      "0.05\n",
      "0.01\n",
      "0.99\n",
      "0.95\n",
      "0.9\n",
      "0.8\n",
      "0.7\n",
      "0.6\n",
      "0.5\n",
      "0.4\n",
      "0.3\n",
      "0.2\n",
      "0.1\n",
      "0.05\n",
      "0.01\n"
     ]
    }
   ],
   "source": [
    "#noBnoO\n",
    "(mean_accuracy_mv2_noBnoO, se_accuracy_mv2_noBnoO, \n",
    " mean_micro_auc_mv2_noBnoO,se_micro_auc_mv2_noBnoO, \n",
    " mean_wt_auc_mv2_noBnoO,se_wt_auc_mv2_noBnoO) =majority_vote_modified(percent_initially_unlabelled,  \n",
    "                                                                np.array(y_noBnoO_osbm), \n",
    "                                                                np.array(adj_noBnoO_osbm2), \n",
    "                                                                num_iter=n_iter) \n",
    "#yesBnoO\n",
    "(mean_accuracy_mv2_yesBnoO, se_accuracy_mv2_yesBnoO, \n",
    " mean_micro_auc_mv2_yesBnoO,se_micro_auc_mv2_yesBnoO, \n",
    " mean_wt_auc_mv2_yesBnoO,se_wt_auc_mv2_yesBnoO) =majority_vote_modified(percent_initially_unlabelled,  \n",
    "                                                                np.array(y_yesBnoO_osbm), \n",
    "                                                                np.array(adj_yesBnoO_osbm2), \n",
    "                                                                num_iter=n_iter) \n",
    "#noByesO\n",
    "(mean_accuracy_mv2_noByesO, se_accuracy_m2v_noByesO, \n",
    " mean_micro_auc_mv2_noByesO,se_micro_auc_mv2_noByesO, \n",
    " mean_wt_auc_mv2_noByesO,se_wt_auc_mv2_noByesO) =majority_vote_modified(percent_initially_unlabelled,  \n",
    "                                                                np.array(y_noByesO_osbm), \n",
    "                                                                np.array(adj_noByesO_osbm2), \n",
    "                                                                num_iter=n_iter) \n",
    "#yesByesO\n",
    "(mean_accuracy_mv2_yesByesO, se_accuracy_mv2_yesByesO, \n",
    " mean_micro_auc_mv2_yesByesO,se_micro_auc_mv2_yesByesO, \n",
    " mean_wt_auc_mv2_yesByesO,se_wt_auc_mv2_yesByesO) =majority_vote_modified(percent_initially_unlabelled,  \n",
    "                                                                np.array(y_yesByesO_osbm), \n",
    "                                                                np.array(adj_yesByesO_osbm2),\n",
    "                                                                num_iter=n_iter) "
   ]
  },
  {
   "cell_type": "code",
   "execution_count": null,
   "metadata": {
    "collapsed": true
   },
   "outputs": [],
   "source": []
  },
  {
   "cell_type": "code",
   "execution_count": null,
   "metadata": {
    "collapsed": true
   },
   "outputs": [],
   "source": []
  },
  {
   "cell_type": "markdown",
   "metadata": {},
   "source": [
    "### ZGL"
   ]
  },
  {
   "cell_type": "code",
   "execution_count": 153,
   "metadata": {
    "collapsed": false
   },
   "outputs": [
    {
     "name": "stdout",
     "output_type": "stream",
     "text": [
      "0.99\n",
      "0.95\n",
      "0.9\n",
      "0.8\n",
      "0.7\n",
      "0.6\n",
      "0.5\n",
      "0.4\n",
      "0.3\n",
      "0.2\n",
      "0.1\n",
      "0.05\n",
      "0.01\n"
     ]
    },
    {
     "name": "stderr",
     "output_type": "stream",
     "text": [
      "/Users/kristen/anaconda/lib/python2.7/site-packages/sklearn/metrics/classification.py:1113: UndefinedMetricWarning: F-score is ill-defined and being set to 0.0 in labels with no predicted samples.\n",
      "  'precision', 'predicted', average, warn_for)\n"
     ]
    }
   ],
   "source": [
    "(mean_accuracy_zgl_noBnoO, se_accuracy_zgl_noBnoO, \n",
    "mean_micro_auc_zgl_noBnoO,se_micro_auc_zgl_noBnoO, \n",
    "mean_wt_auc_zgl_noBnoO,se_wt_auc_zgl_noBnoO) =ZGL_finalized(np.array(adj_noBnoO_osbm),\n",
    "                                    np.array(y_noBnoO_osbm),percent_initially_unlabelled, \n",
    "                                    num_iter=10)"
   ]
  },
  {
   "cell_type": "code",
   "execution_count": 154,
   "metadata": {
    "collapsed": false
   },
   "outputs": [
    {
     "name": "stdout",
     "output_type": "stream",
     "text": [
      "0.99\n",
      "0.95\n",
      "0.9\n",
      "0.8\n",
      "0.7\n",
      "0.6\n",
      "0.5\n",
      "0.4\n",
      "0.3\n",
      "0.2\n",
      "0.1\n",
      "0.05\n",
      "0.01\n"
     ]
    }
   ],
   "source": [
    "(mean_accuracy_zgl_noByesO, se_accuracy_zgl_noByesO, \n",
    "mean_micro_auc_zgl_noByesO,se_micro_auc_zgl_noByesO, \n",
    "mean_wt_auc_zgl_noByesO,se_wt_auc_zgl_noByesO) =ZGL_finalized(np.array(adj_noByesO_osbm),\n",
    "                                    np.array(y_noByesO_osbm),percent_initially_unlabelled, \n",
    "                                    num_iter=10)"
   ]
  },
  {
   "cell_type": "code",
   "execution_count": 155,
   "metadata": {
    "collapsed": false
   },
   "outputs": [
    {
     "name": "stdout",
     "output_type": "stream",
     "text": [
      "0.99\n",
      "0.95\n",
      "0.9\n",
      "0.8\n",
      "0.7\n",
      "0.6\n",
      "0.5\n",
      "0.4\n",
      "0.3\n",
      "0.2\n",
      "0.1\n",
      "0.05\n",
      "0.01\n"
     ]
    }
   ],
   "source": [
    "(mean_accuracy_zgl_yesBnoO, se_accuracy_zgl_yesBnoO, \n",
    "mean_micro_auc_zgl_yesBnoO,se_micro_auc_zgl_yesBnoO, \n",
    "mean_wt_auc_zgl_yesBnoO,se_wt_auc_zgl_yesBnoO) =ZGL_finalized(np.array(adj_yesBnoO_osbm),\n",
    "                                    np.array(y_yesBnoO_osbm),percent_initially_unlabelled, \n",
    "                                    num_iter=10)"
   ]
  },
  {
   "cell_type": "code",
   "execution_count": 156,
   "metadata": {
    "collapsed": false
   },
   "outputs": [
    {
     "name": "stdout",
     "output_type": "stream",
     "text": [
      "0.99\n",
      "0.95\n",
      "0.9\n",
      "0.8\n",
      "0.7\n",
      "0.6\n",
      "0.5\n",
      "0.4\n",
      "0.3\n",
      "0.2\n",
      "0.1\n",
      "0.05\n",
      "0.01\n"
     ]
    }
   ],
   "source": [
    "(mean_accuracy_zgl_yesByesO, se_accuracy_zgl_yesByesO, \n",
    "mean_micro_auc_zgl_yesBnoO,se_micro_auc_zgl_yesByesO, \n",
    "mean_wt_auc_zgl_yesByesO,se_wt_auc_zgl_yesByesO) =ZGL_finalized(np.array(adj_yesByesO_osbm),\n",
    "                                    np.array(y_yesByesO_osbm),percent_initially_unlabelled, \n",
    "                                    num_iter=10)"
   ]
  },
  {
   "cell_type": "markdown",
   "metadata": {},
   "source": [
    "## Baseline"
   ]
  },
  {
   "cell_type": "code",
   "execution_count": 157,
   "metadata": {
    "collapsed": false
   },
   "outputs": [
    {
     "name": "stdout",
     "output_type": "stream",
     "text": [
      "0.99\n",
      "0.95\n",
      "0.9\n",
      "0.8\n",
      "0.7\n",
      "0.6\n",
      "0.5\n",
      "0.4\n",
      "0.3\n",
      "0.2\n",
      "0.1\n",
      "0.05\n",
      "0.01\n",
      "0.99\n",
      "0.95\n",
      "0.9\n",
      "0.8\n",
      "0.7\n",
      "0.6\n",
      "0.5\n",
      "0.4\n",
      "0.3\n",
      "0.2\n",
      "0.1\n",
      "0.05\n",
      "0.01\n",
      "0.99\n",
      "0.95\n",
      "0.9\n",
      "0.8\n",
      "0.7\n",
      "0.6\n",
      "0.5\n",
      "0.4\n",
      "0.3\n",
      "0.2\n",
      "0.1\n",
      "0.05\n",
      "0.01\n",
      "0.99\n",
      "0.95\n",
      "0.9\n",
      "0.8\n",
      "0.7\n",
      "0.6\n",
      "0.5\n",
      "0.4\n",
      "0.3\n",
      "0.2\n",
      "0.1\n",
      "0.05\n",
      "0.01\n"
     ]
    }
   ],
   "source": [
    "(mean_wt_auc_baseline_noBnoO,se_wt_auc_baseline_noBnoO) = random_classifier(np.array(adj_noBnoO_osbm),\n",
    "                                                                             np.array(y_noBnoO_osbm),\n",
    "                                                                            percent_initially_unlabelled,\n",
    "                                                                             num_iter=10)\n",
    "\n",
    "(mean_wt_auc_baseline_yesBnoO,se_wt_auc_baseline_yesBnoO) = random_classifier(np.array(adj_yesBnoO_osbm),\n",
    "                                                                             np.array(y_yesBnoO_osbm),\n",
    "                                                                            percent_initially_unlabelled,\n",
    "                                                                             num_iter=10)\n",
    "\n",
    "(mean_wt_auc_baseline_noByesO,se_wt_auc_baseline_noByesO) = random_classifier(np.array(adj_noByesO_osbm),\n",
    "                                                                             np.array(y_noByesO_osbm),\n",
    "                                                                            percent_initially_unlabelled,\n",
    "                                                                             num_iter=10)\n",
    "\n",
    "(mean_wt_auc_baseline_yesByesO,se_wt_auc_baseline_yesByesO) = random_classifier(np.array(adj_yesByesO_osbm),\n",
    "                                                                             np.array(y_yesByesO_osbm),\n",
    "                                                                            percent_initially_unlabelled,\n",
    "                                                                             num_iter=10)"
   ]
  },
  {
   "cell_type": "code",
   "execution_count": null,
   "metadata": {
    "collapsed": true
   },
   "outputs": [],
   "source": []
  },
  {
   "cell_type": "code",
   "execution_count": null,
   "metadata": {
    "collapsed": true
   },
   "outputs": [],
   "source": []
  },
  {
   "cell_type": "markdown",
   "metadata": {
    "collapsed": true
   },
   "source": [
    "## Figure 4"
   ]
  },
  {
   "cell_type": "code",
   "execution_count": 160,
   "metadata": {
    "collapsed": false
   },
   "outputs": [
    {
     "data": {
      "image/png": "[encoded data removed]",
      "text/plain": [
       "<matplotlib.figure.Figure at 0x120918c50>"
      ]
     },
     "metadata": {},
     "output_type": "display_data"
    }
   ],
   "source": [
    "from matplotlib.ticker import FixedLocator,LinearLocator,MultipleLocator, FormatStrFormatter\n",
    "\n",
    "fig = plt.figure()\n",
    "seaborn.set_style(style='white')\n",
    "from mpl_toolkits.axes_grid1 import Grid\n",
    "grid = Grid(fig, rect=111, nrows_ncols=(2,2),\n",
    "            axes_pad=0.6, label_mode='all')\n",
    "\n",
    "y_max = 1.05\n",
    "y_min = 0.3\n",
    "x_max = 102\n",
    "label_loc1 = 0.75\n",
    "label_loc2 = 0.65\n",
    "\n",
    "\n",
    "for i in range(4):\n",
    "    if i == 0:\n",
    "        grid[i].tick_params('both', length=4, width=1, which='major', left=1, bottom=1, top=0, right=0)\n",
    "        grid[i].xaxis.set_major_locator(FixedLocator([0,25,50,75,100]))\n",
    "        grid[i].yaxis.set_major_locator(FixedLocator([0.2,0.3,0.4,0.5,0.6,0.7,0.8,0.9,1]))\n",
    "\n",
    "        grid[i].errorbar(percent_initially_labelled*100, mean_wt_auc_baseline_noBnoO, \n",
    "            yerr=se_wt_auc_baseline_noBnoO, fmt='--o', capthick=2,\n",
    "                alpha=1, elinewidth=3, color='gray')\n",
    "        grid[i].errorbar(percent_initially_labelled*100, mean_wt_auc_noBnoO, \n",
    "            yerr=se_wt_auc_noBnoO, fmt='--o', capthick=2,\n",
    "            alpha=1, elinewidth=3, color='black')\n",
    "        grid[i].errorbar(percent_initially_labelled*100, mean_wt_auc_zgl_noBnoO,\n",
    "            yerr=se_wt_auc_zgl_noBnoO, fmt='--o', capthick=2,\n",
    "            alpha=1, elinewidth=3, color='orange')\n",
    "        grid[i].errorbar(percent_initially_labelled*100, mean_wt_auc_mv_noBnoO,\n",
    "            yerr=se_wt_auc_mv_noBnoO, fmt='--o', capthick=2,\n",
    "            alpha=1, elinewidth=3, color='red')\n",
    "        grid[i].errorbar(percent_initially_labelled*100, mean_wt_auc_mv2_noBnoO, \n",
    "            yerr=se_wt_auc_mv2_noBnoO, fmt='--o', capthick=2,\n",
    "                alpha=1, elinewidth=3, color='maroon')\n",
    "        grid[i].set_xlim(0,x_max)\n",
    "        grid[i].annotate('LINK', xy=(3, 0.99), \n",
    "                 color='black', alpha=1, size=12)\n",
    "        grid[i].annotate('2-hop MV', xy=(3, 0.9), \n",
    "                 color='maroon', alpha=1, size=12)\n",
    "        grid[i].annotate('1-hop MV', xy=(3, 0.9-0.09), \n",
    "                 color='red', alpha=1, size=12)\n",
    "        grid[i].annotate('ZGL', xy=(3, 0.9-2*0.09), \n",
    "                 color='orange', alpha=1, size=12)\n",
    "        grid[i].annotate('Baseline', xy=(3, 0.9-3*0.09), \n",
    "                 color='gray', alpha=1, size=12)\n",
    "        grid[i].set_ylim(y_min,y_max)\n",
    "        grid[i].spines['right'].set_visible(False)\n",
    "        grid[i].spines['top'].set_visible(False)\n",
    "        grid[i].tick_params(axis='both', which='major', labelsize=9)\n",
    "        grid[i].tick_params(axis='both', which='minor', labelsize=9)\n",
    "        grid[i].annotate('$p_{\\\\mathrm{in}} = p_{\\\\mathrm{out}}$', xy=(xlabel_block*100, label_loc1), \n",
    "             color='black', alpha=1, size=10)\n",
    "        grid[i].annotate('$\\phi_r = 0$', xy=(xlabel_block*100, label_loc2), \n",
    "             color='black', alpha=1, size=10)\n",
    "        grid[i].set_xlabel('Percent of Nodes Initially Labeled', size = 10)\n",
    "        grid[i].set_ylabel('AUC', size = 10)\n",
    "\n",
    "\n",
    "    if i == 1:\n",
    "        grid[i].tick_params('both', length=4, width=1, which='major', left=1, bottom=1, top=0, right=0)\n",
    "        grid[i].xaxis.set_major_locator(FixedLocator([0,25,50,75,100]))\n",
    "        grid[i].yaxis.set_major_locator(FixedLocator([0.2,0.3,0.4,0.5,0.6,0.7,0.8,0.9,1]))\n",
    "        grid[i].errorbar(percent_initially_labelled*100, mean_wt_auc_baseline_noByesO, \n",
    "            yerr=se_wt_auc_baseline_noByesO, fmt='--o', capthick=2,\n",
    "                alpha=1, elinewidth=3, color='gray')\n",
    "        grid[i].errorbar(percent_initially_labelled*100, mean_wt_auc_noByesO, \n",
    "            yerr=se_wt_auc_noByesO, fmt='--o', capthick=2,\n",
    "            alpha=1, elinewidth=3, color='black')\n",
    "        grid[i].errorbar(percent_initially_labelled*100, mean_wt_auc_zgl_noByesO,\n",
    "            yerr=se_wt_auc_zgl_noByesO, fmt='--o', capthick=2,\n",
    "            alpha=1, elinewidth=3, color='orange')\n",
    "        grid[i].errorbar(percent_initially_labelled*100, mean_wt_auc_mv_noByesO,\n",
    "            yerr=se_wt_auc_mv_noByesO, fmt='--o', capthick=2,\n",
    "            alpha=1, elinewidth=3, color='red')\n",
    "        grid[i].errorbar(percent_initially_labelled*100, mean_wt_auc_mv2_noByesO, \n",
    "            yerr=se_wt_auc_mv2_noByesO, fmt='--o', capthick=2,\n",
    "                alpha=1, elinewidth=3, color='maroon')\n",
    "        grid[i].annotate('$p_{\\\\mathrm{in}} = p_{\\\\mathrm{out}}$', xy=(xlabel_block*100, label_loc1), \n",
    "             color='black', alpha=1, size=10)\n",
    "        grid[i].annotate('$\\phi_r > 0$', xy=(xlabel_block*100, label_loc2), \n",
    "             color='black', alpha=1, size=10)\n",
    "        grid[i].set_ylim(y_min,y_max)\n",
    "        grid[i].set_xlim(0,x_max)\n",
    "        grid[i].spines['right'].set_visible(False)\n",
    "        grid[i].spines['top'].set_visible(False)\n",
    "        grid[i].set_ylabel('AUC', size = 10)\n",
    "        grid[i].set_xlabel('Percent of Nodes Initially Labeled', size = 10)\n",
    "\n",
    "\n",
    "    if i == 2:\n",
    "        grid[i].tick_params('both', length=4, width=1, which='major', left=1, bottom=1, top=0, right=0)\n",
    "        grid[i].xaxis.set_major_locator(FixedLocator([0,25,50,75,100]))\n",
    "        grid[i].yaxis.set_major_locator(FixedLocator([0.2,0.3,0.4,0.5,0.6,0.7,0.8,0.9,1]))\n",
    "        grid[i].errorbar(percent_initially_labelled*100, mean_wt_auc_baseline_yesBnoO, \n",
    "            yerr=se_wt_auc_baseline_yesBnoO, fmt='--o', capthick=2,\n",
    "                alpha=1, elinewidth=3, color='gray')\n",
    "        grid[i].errorbar(percent_initially_labelled*100, mean_wt_auc_yesBnoO, \n",
    "            yerr=se_wt_auc_yesBnoO, fmt='--o', capthick=2,\n",
    "            alpha=1, elinewidth=3, color='black')\n",
    "        grid[i].errorbar(percent_initially_labelled*100, mean_wt_auc_zgl_yesBnoO,\n",
    "            yerr=se_wt_auc_zgl_yesBnoO, fmt='--o', capthick=2,\n",
    "            alpha=1, elinewidth=3, color='orange')\n",
    "        grid[i].errorbar(percent_initially_labelled*100, mean_wt_auc_mv_yesBnoO,\n",
    "            yerr=se_wt_auc_mv_yesBnoO, fmt='--o', capthick=2,\n",
    "            alpha=1, elinewidth=3, color='red')\n",
    "        grid[i].errorbar(percent_initially_labelled*100, mean_wt_auc_mv2_yesBnoO, \n",
    "            yerr=se_wt_auc_mv2_yesBnoO, fmt='--o', capthick=2,\n",
    "                alpha=1, elinewidth=3, color='maroon')\n",
    "        grid[i].annotate('$p_{\\\\mathrm{in}} > p_{\\\\mathrm{out}}$', xy=(xlabel_block*100, label_loc1), \n",
    "             color='black', alpha=1, size=10)\n",
    "        grid[i].annotate('$\\phi_r = 0$', xy=(xlabel_block*100, label_loc2), \n",
    "             color='black', alpha=1, size=10)\n",
    "        grid[i].set_ylim(y_min,y_max)\n",
    "        grid[i].set_xlim(0,x_max)\n",
    "        grid[i].spines['right'].set_visible(False)\n",
    "        grid[i].spines['top'].set_visible(False)\n",
    "        grid[i].set_ylabel('AUC', size = 10)\n",
    "        grid[i].set_xlabel('Percent of Nodes Initially Labeled', size = 10)\n",
    "\n",
    "\n",
    "\n",
    "    if i == 3:\n",
    "        grid[i].tick_params('both', length=4, width=1, which='major', left=1, bottom=1, top=0, right=0)\n",
    "        grid[i].xaxis.set_major_locator(FixedLocator([0,25,50,75,100]))\n",
    "        grid[i].yaxis.set_major_locator(FixedLocator([0.2,0.3,0.4,0.5,0.6,0.7,0.8,0.9,1]))\n",
    "        grid[i].errorbar(percent_initially_labelled*100, mean_wt_auc_baseline_yesByesO, \n",
    "            yerr=se_wt_auc_baseline_yesByesO, fmt='--o', capthick=2,\n",
    "                alpha=1, elinewidth=3, color='gray')\n",
    "        grid[i].errorbar(percent_initially_labelled*100, mean_wt_auc_yesByesO, \n",
    "            yerr=se_wt_auc_yesByesO, fmt='--o', capthick=2,\n",
    "            alpha=1, elinewidth=3, color='black')\n",
    "        grid[i].errorbar(percent_initially_labelled*100, mean_wt_auc_zgl_yesByesO,\n",
    "            yerr=se_wt_auc_zgl_yesByesO, fmt='--o', capthick=2,\n",
    "            alpha=1, elinewidth=3, color='orange')\n",
    "        grid[i].errorbar(percent_initially_labelled*100, mean_wt_auc_mv_yesByesO,\n",
    "            yerr=se_wt_auc_mv_yesByesO, fmt='--o', capthick=2,\n",
    "            alpha=1, elinewidth=3, color='red')\n",
    "        grid[i].errorbar(percent_initially_labelled*100, mean_wt_auc_mv2_yesByesO, \n",
    "            yerr=se_wt_auc_mv2_yesByesO, fmt='--o', capthick=2,\n",
    "                alpha=1, elinewidth=3, color='maroon')\n",
    "        grid[i].set_ylim(y_min,y_max)\n",
    "        grid[i].set_xlim(0,x_max)\n",
    "        grid[i].spines['right'].set_visible(False)\n",
    "        grid[i].spines['top'].set_visible(False)\n",
    "        grid[i].annotate('$p_{\\\\mathrm{in}} > p_{\\\\mathrm{out}}$', xy=(xlabel_block*100, label_loc1), \n",
    "             color='black', alpha=1, size=10)\n",
    "        grid[i].annotate('$\\phi_r > 0$', xy=(xlabel_block*100, label_loc2), \n",
    "             color='black', alpha=1, size=10)\n",
    "        grid[i].set_ylabel('AUC', size = 10)\n",
    "        grid[i].set_xlabel('Percent of Nodes Initially Labeled', size = 10)\n",
    "\n",
    "pp = PdfPages('../../figures/oSBM_predictions.pdf')\n",
    "pp.savefig()\n",
    "pp.close()"
   ]
  },
  {
   "cell_type": "code",
   "execution_count": 31,
   "metadata": {
    "collapsed": false
   },
   "outputs": [
    {
     "data": {
      "image/png": "[encoded data removed]",
      "text/plain": [
       "<matplotlib.figure.Figure at 0x120c9bd90>"
      ]
     },
     "metadata": {},
     "output_type": "display_data"
    }
   ],
   "source": [
    "from matplotlib.ticker import FixedLocator,LinearLocator,MultipleLocator, FormatStrFormatter\n",
    "\n",
    "fig = plt.figure()\n",
    "seaborn.set_style(style='white')\n",
    "from mpl_toolkits.axes_grid1 import Grid\n",
    "grid = Grid(fig, rect=111, nrows_ncols=(2,2),\n",
    "            axes_pad=0.6, label_mode='all')\n",
    "\n",
    "y_max = 1.05\n",
    "y_min = 0.2\n",
    "x_max = 102\n",
    "label_loc1 = 0.65\n",
    "label_loc2 = 0.55\n",
    "alpha_val = 1\n",
    "\n",
    "for i in range(4):\n",
    "    if i == 0:\n",
    "        grid[i].tick_params('both', length=4, width=1, which='major', left=1, bottom=1, top=0, right=0)\n",
    "        grid[i].xaxis.set_major_locator(FixedLocator([0,25,50,75,100]))\n",
    "        grid[i].yaxis.set_major_locator(FixedLocator([0.4,0.5,0.6,0.7,0.8,0.9,1]))\n",
    "\n",
    "        #grid[i].errorbar(percent_initially_labelled*100, mean_wt_auc_baseline_noBnoO, \n",
    "        #    yerr=se_wt_auc_baseline_noBnoO, fmt='--o', capthick=2,\n",
    "        #        alpha=0.6, elinewidth=3, color='gray')\n",
    "        grid[i].errorbar(percent_initially_labelled*100, mean_accuracy_noBnoO, \n",
    "            yerr=se_wt_auc_noBnoO, fmt='--o', capthick=2,\n",
    "            alpha=0.6, elinewidth=3, color='black')\n",
    "        #grid[i].errorbar(percent_initially_labelled*100, mean_wt_auc_zgl_noBnoO,\n",
    "        #    yerr=se_wt_auc_zgl_noBnoO, fmt='--o', capthick=2,\n",
    "        #    alpha=0.6, elinewidth=3, color='orange')\n",
    "        grid[i].errorbar(percent_initially_labelled*100, mean_accuracy_mv_noBnoO,\n",
    "            yerr=se_accuracy_mv_noBnoO, fmt='--o', capthick=2,\n",
    "            alpha=alpha_val, elinewidth=3, color='red')\n",
    "        grid[i].errorbar(percent_initially_labelled*100, mean_accuracy_mv2_noBnoO, \n",
    "            yerr=se_accuracy_mv2_noBnoO, fmt='--o', capthick=2,\n",
    "                alpha=alpha_val, elinewidth=3, color='maroon')\n",
    "        grid[i].set_xlim(0,x_max)\n",
    "        grid[i].annotate('LINK', xy=(3, 0.99), \n",
    "                 color='black', alpha=1, size=12)\n",
    "        grid[i].annotate('2-hop MV', xy=(3, 0.9), \n",
    "                 color='maroon', alpha=alpha_val, size=12)\n",
    "        grid[i].annotate('1-hop MV', xy=(3, 0.9-0.09), \n",
    "                 color='red', alpha=alpha_val, size=12)\n",
    "        #grid[i].annotate('ZGL', xy=(3, 0.9-2*0.09), \n",
    "        #         color='orange', alpha=1, size=12)\n",
    "        #grid[i].annotate('Baseline', xy=(3, 0.9-3*0.09), \n",
    "        #         color='gray', alpha=1, size=12)\n",
    "        grid[i].set_ylim(y_min,y_max)\n",
    "        grid[i].spines['right'].set_visible(False)\n",
    "        grid[i].spines['top'].set_visible(False)\n",
    "        grid[i].tick_params(axis='both', which='major', labelsize=9)\n",
    "        grid[i].tick_params(axis='both', which='minor', labelsize=9)\n",
    "        grid[i].annotate('$p_{\\\\mathrm{in}} = p_{\\\\mathrm{out}}$', xy=(xlabel_block*100, label_loc1), \n",
    "             color='black', alpha=alpha_val, size=10)\n",
    "        grid[i].annotate('$\\phi_r = 0$', xy=(xlabel_block*100, label_loc2), \n",
    "             color='black', alpha=alpha_val, size=10)\n",
    "        grid[i].set_xlabel('Percent of Nodes Initially Labeled', size = 10)\n",
    "        grid[i].set_ylabel('Accuracy', size = 10)\n",
    "\n",
    "\n",
    "    if i == 1:\n",
    "        grid[i].tick_params('both', length=4, width=1, which='major', left=1, bottom=1, top=0, right=0)\n",
    "        grid[i].xaxis.set_major_locator(FixedLocator([0,25,50,75,100]))\n",
    "        grid[i].yaxis.set_major_locator(FixedLocator([0.4,0.5,0.6,0.7,0.8,0.9,1]))\n",
    "        #grid[i].errorbar(percent_initially_labelled*100, mean_wt_auc_baseline_noByesO, \n",
    "        #    yerr=se_wt_auc_baseline_noByesO, fmt='--o', capthick=2,\n",
    "        #        alpha=0.6, elinewidth=3, color='gray')\n",
    "        grid[i].errorbar(percent_initially_labelled*100, mean_accuracy_noByesO, \n",
    "            yerr=se_accuracy_noByesO, fmt='--o', capthick=2,\n",
    "            alpha=0.6, elinewidth=3, color='black')\n",
    "        #grid[i].errorbar(percent_initially_labelled*100, mean_wt_auc_zgl_noByesO,\n",
    "        #    yerr=se_wt_auc_zgl_noByesO, fmt='--o', capthick=2,\n",
    "        #    alpha=0.6, elinewidth=3, color='orange')\n",
    "        grid[i].errorbar(percent_initially_labelled*100, mean_accuracy_mv_noByesO,\n",
    "            yerr=se_accuracy_mv_noByesO, fmt='--o', capthick=2,\n",
    "            alpha=alpha_val, elinewidth=3, color='red')\n",
    "        grid[i].errorbar(percent_initially_labelled*100, mean_accuracy_mv2_noByesO, \n",
    "            yerr=se_accuracy_m2v_noByesO, fmt='--o', capthick=2,\n",
    "                alpha=alpha_val, elinewidth=3, color='maroon')\n",
    "        grid[i].annotate('$p_{\\\\mathrm{in}} = p_{\\\\mathrm{out}}$', xy=(xlabel_block*100, label_loc1), \n",
    "             color='black', alpha=1, size=10)\n",
    "        grid[i].annotate('$\\phi_r > 0$', xy=(xlabel_block*100, label_loc2), \n",
    "             color='black', alpha=1, size=10)\n",
    "        grid[i].set_ylim(y_min,y_max)\n",
    "        grid[i].set_xlim(0,x_max)\n",
    "        grid[i].spines['right'].set_visible(False)\n",
    "        grid[i].spines['top'].set_visible(False)\n",
    "        grid[i].set_ylabel('Accuracy', size = 10)\n",
    "        grid[i].set_xlabel('Percent of Nodes Initially Labeled', size = 10)\n",
    "\n",
    "\n",
    "    if i == 2:\n",
    "        grid[i].tick_params('both', length=4, width=1, which='major', left=1, bottom=1, top=0, right=0)\n",
    "        grid[i].xaxis.set_major_locator(FixedLocator([0,25,50,75,100]))\n",
    "        grid[i].yaxis.set_major_locator(FixedLocator([0.4,0.5,0.6,0.7,0.8,0.9,1]))\n",
    "        #grid[i].errorbar(percent_initially_labelled*100, mean_wt_auc_baseline_yesBnoO, \n",
    "        #    yerr=se_wt_auc_baseline_yesBnoO, fmt='--o', capthick=2,\n",
    "        #        alpha=0.6, elinewidth=3, color='gray')\n",
    "        grid[i].errorbar(percent_initially_labelled*100, mean_accuracy_yesBnoO, \n",
    "            yerr=se_accuracy_yesBnoO, fmt='--o', capthick=2,\n",
    "            alpha=0.6, elinewidth=3, color='black')\n",
    "        #grid[i].errorbar(percent_initially_labelled*100, mean_wt_auc_zgl_yesBnoO,\n",
    "        #    yerr=se_wt_auc_zgl_yesBnoO, fmt='--o', capthick=2,\n",
    "        #    alpha=0.6, elinewidth=3, color='orange')\n",
    "        grid[i].errorbar(percent_initially_labelled*100, mean_accuracy_mv_yesBnoO,\n",
    "            yerr=se_accuracy_mv_yesBnoO, fmt='--o', capthick=2,\n",
    "            alpha=alpha_val, elinewidth=3, color='red')\n",
    "        grid[i].errorbar(percent_initially_labelled*100, mean_accuracy_mv2_yesBnoO, \n",
    "            yerr=se_accuracy_mv2_yesBnoO, fmt='--o', capthick=2,\n",
    "                alpha=alpha_val, elinewidth=3, color='maroon')\n",
    "        grid[i].annotate('$p_{\\\\mathrm{in}} > p_{\\\\mathrm{out}}$', xy=(xlabel_block*100, label_loc1), \n",
    "             color='black', alpha=1, size=10)\n",
    "        grid[i].annotate('$\\phi_r = 0$', xy=(xlabel_block*100, label_loc2), \n",
    "             color='black', alpha=1, size=10)\n",
    "        grid[i].set_ylim(y_min,y_max)\n",
    "        grid[i].set_xlim(0,x_max)\n",
    "        grid[i].spines['right'].set_visible(False)\n",
    "        grid[i].spines['top'].set_visible(False)\n",
    "        grid[i].set_ylabel('Accuracy', size = 10)\n",
    "        grid[i].set_xlabel('Percent of Nodes Initially Labeled', size = 10)\n",
    "\n",
    "\n",
    "\n",
    "    if i == 3:\n",
    "        grid[i].tick_params('both', length=4, width=1, which='major', left=1, bottom=1, top=0, right=0)\n",
    "        grid[i].xaxis.set_major_locator(FixedLocator([0,25,50,75,100]))\n",
    "        grid[i].yaxis.set_major_locator(FixedLocator([0.4,0.5,0.6,0.7,0.8,0.9,1]))\n",
    "        #grid[i].errorbar(percent_initially_labelled*100, mean_wt_auc_baseline_yesByesO, \n",
    "        #    yerr=se_wt_auc_baseline_yesByesO, fmt='--o', capthick=2,\n",
    "        #        alpha=0.6, elinewidth=3, color='gray')\n",
    "        grid[i].errorbar(percent_initially_labelled*100, mean_accuracy_yesByesO, \n",
    "            yerr=se_accuracy_yesByesO, fmt='--o', capthick=2,\n",
    "            alpha=0.6, elinewidth=3, color='black')\n",
    "        #grid[i].errorbar(percent_initially_labelled*100, mean_wt_auc_zgl_yesByesO,\n",
    "        #    yerr=se_wt_auc_zgl_yesByesO, fmt='--o', capthick=2,\n",
    "        #    alpha=0.6, elinewidth=3, color='orange')\n",
    "        grid[i].errorbar(percent_initially_labelled*100, mean_accuracy_mv_yesByesO,\n",
    "            yerr=se_accuracy_mv_yesByesO, fmt='--o', capthick=2,\n",
    "            alpha=alpha_val, elinewidth=3, color='red')\n",
    "        grid[i].errorbar(percent_initially_labelled*100, mean_accuracy_mv2_yesByesO, \n",
    "            yerr=se_accuracy_mv2_yesByesO, fmt='--o', capthick=2,\n",
    "                alpha=alpha_val, elinewidth=3, color='maroon')\n",
    "        grid[i].set_ylim(y_min,y_max)\n",
    "        grid[i].set_xlim(0,x_max)\n",
    "        grid[i].spines['right'].set_visible(False)\n",
    "        grid[i].spines['top'].set_visible(False)\n",
    "        grid[i].annotate('$p_{\\\\mathrm{in}} > p_{\\\\mathrm{out}}$', xy=(xlabel_block*100, label_loc1), \n",
    "             color='black', alpha=1, size=10)\n",
    "        grid[i].annotate('$\\phi_r > 0$', xy=(xlabel_block*100, label_loc2), \n",
    "             color='black', alpha=1, size=10)\n",
    "        grid[i].set_ylabel('Accuracy', size = 10)\n",
    "        grid[i].set_xlabel('Percent of Nodes Initially Labeled', size = 10)\n",
    "\n",
    "plt.show()\n",
    "#pp = PdfPages('../../figures/oSBM_predictions_accuracy.pdf')\n",
    "\n",
    "\n",
    "#pp.savefig()\n",
    "#pp.close()"
   ]
  },
  {
   "cell_type": "code",
   "execution_count": null,
   "metadata": {
    "collapsed": true
   },
   "outputs": [],
   "source": []
  },
  {
   "cell_type": "code",
   "execution_count": null,
   "metadata": {
    "collapsed": true
   },
   "outputs": [],
   "source": []
  }
 ],
 "metadata": {
  "kernelspec": {
   "display_name": "Python 2",
   "language": "python",
   "name": "python2"
  },
  "language_info": {
   "codemirror_mode": {
    "name": "ipython",
    "version": 2
   },
   "file_extension": ".py",
   "mimetype": "text/x-python",
   "name": "python",
   "nbconvert_exporter": "python",
   "pygments_lexer": "ipython2",
   "version": "2.7.12"
  }
 },
 "nbformat": 4,
 "nbformat_minor": 0
}
